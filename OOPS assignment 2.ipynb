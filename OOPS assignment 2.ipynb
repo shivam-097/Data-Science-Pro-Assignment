{
 "cells": [
  {
   "cell_type": "markdown",
   "id": "8f253200-8f3a-43e4-b586-6de81707c12a",
   "metadata": {},
   "source": [
    "# Constructor"
   ]
  },
  {
   "cell_type": "markdown",
   "id": "16ac402c-ab06-488a-b9ce-6c107029684c",
   "metadata": {},
   "source": [
    "#### 1. What is a constructor in Python? Explain its purpose and usage."
   ]
  },
  {
   "cell_type": "markdown",
   "id": "71c1d8c2-50d0-4dda-9528-2f7426f7e530",
   "metadata": {},
   "source": [
    "Ans. In Python, a constructor is a special method that is automatically called when an object of a class is created. The purpose of a constructor is to initialize the attributes of the object, allowing you to set up the initial state of the object.\n",
    "\n",
    "It is used as following:\n",
    "\n",
    "class Student:\n",
    "    def __init__(self, name, age):\n",
    "        self.name = name\n",
    "        self.age = age"
   ]
  },
  {
   "cell_type": "markdown",
   "id": "430b70a5-20d7-4be6-832d-9ff9f28af8be",
   "metadata": {},
   "source": [
    "#### 2. Differentiate between a parameterless constructor and a parameterized constructor in Python."
   ]
  },
  {
   "cell_type": "markdown",
   "id": "1e0ba503-8c86-4eb6-8c5f-83f30777b410",
   "metadata": {},
   "source": [
    "Ans. There are two types of constructor parameterless also known as default and parameterized.\n",
    "\n",
    "1. Parameterless Constructor: A parameterless constructor, also known as a default constructor, is a constructor that takes no parameters.\n",
    "It is defined using the __init__ method without any additional parameters, except the required self parameter which refers to the instance of the class. This constructor is automatically called when an object of the class is created, and it is used to perform any default initialization or setup.\n",
    "\n",
    "class MyClass:\n",
    "    def __init__(self):\n",
    "        # Code for parameterless constructor\n",
    "        print(\"Parameterless constructor called.\")\n",
    "\n",
    "2. Parameterized Constructor: A parameterized constructor is a constructor that takes one or more parameters in addition to the self parameter. It allows you to pass values to the constructor when creating an object, and these values can be used to initialize the attributes of the object. The __init__ method is defined with additional parameters to receive the values passed during object creation.\n",
    "\n",
    "class MyClass:\n",
    "    def __init__(self, value1, value2):\n",
    "        # Code for parameterized constructor\n",
    "        self.attribute1 = value1\n",
    "        self.attribute2 = value2"
   ]
  },
  {
   "cell_type": "markdown",
   "id": "70c50d4f-32b4-4e2c-8fc6-d25dfba82bde",
   "metadata": {},
   "source": [
    "#### 3. How do you define a constructor in a Python class? Provide an example."
   ]
  },
  {
   "cell_type": "markdown",
   "id": "9cc6042a-4379-467f-9176-f854ce605a94",
   "metadata": {},
   "source": [
    "Ans. In Python, a constructor is defined using a special method called __init__. The __init__ method is automatically called when an object of the class is created. Here's an example of how you can define a constructor in a Python class:\n",
    "\n",
    "class Car:\n",
    "    def __init__(self, make, model, year):\n",
    "        self.make  = make\n",
    "        self.model = model\n",
    "        self.year  = year\n",
    "\n",
    "In the above example a class named as Car is created with constructor to accept make, model and year as argument of class"
   ]
  },
  {
   "cell_type": "markdown",
   "id": "633862a6-f1b8-4e00-a385-acdaa19daec0",
   "metadata": {},
   "source": [
    "#### 4. Explain the `__init__` method in Python and its role in constructors."
   ]
  },
  {
   "cell_type": "markdown",
   "id": "3ee58909-8470-4663-93b5-50b7f26ec90f",
   "metadata": {},
   "source": [
    "Ans. In Python, the __init__ method is a special method that plays a crucial role in constructors. The name \"init\" is short for \"initialize.\" The __init__ method is automatically called when an object of a class is created, and its primary purpose is to initialize the attributes of the object. This method is commonly referred to as the constructor.\n",
    "\n",
    "Here are key points about the __init__ method and its role in constructors:\n",
    "\n",
    "1. Initialization: The primary role of the __init__ method is to initialize the attributes of the object. Inside this method, you can set up the initial state of the object by assigning values to its attributes.\n",
    "\n",
    "2. Automatic Invocation: When an instance of a class is created, the __init__ method is automatically invoked. This ensures that any necessary setup or initialization is performed when the object comes into existence.\n",
    "\n",
    "3. Parameters: The __init__ method takes the self parameter (which refers to the instance of the class) along with any additional parameters you want to use for initialization. The additional parameters allow you to pass values to the constructor when creating an object.\n",
    "\n",
    "4. Attribute Assignment: Inside the __init__ method, you typically use the passed parameters to assign values to the object's attributes. These attributes represent the characteristics or properties of the object."
   ]
  },
  {
   "cell_type": "markdown",
   "id": "eaabb256-e8e9-4a12-9ae1-f03c7b46ce87",
   "metadata": {},
   "source": [
    "#### 5. In a class named `Person`, create a constructor that initializes the `name` and `age` attributes. Provide an example of creating an object of this class."
   ]
  },
  {
   "cell_type": "code",
   "execution_count": 1,
   "id": "72595709-43a7-4f86-9dc9-d860d9fb892c",
   "metadata": {},
   "outputs": [
    {
     "name": "stdout",
     "output_type": "stream",
     "text": [
      "Shivam is 33 years old.\n"
     ]
    }
   ],
   "source": [
    "class Person:\n",
    "    def __init__(self, name, age):\n",
    "        self.name = name\n",
    "        self.age = age\n",
    "\n",
    "# Creating an instance of the class\n",
    "person1 = Person(name=\"Shivam\", age=33)\n",
    "\n",
    "# Accessing attributes of the object\n",
    "print(f\"{person1.name} is {person1.age} years old.\")"
   ]
  },
  {
   "cell_type": "markdown",
   "id": "08776f75-6d36-4ae9-930d-1154d30ab4f6",
   "metadata": {},
   "source": [
    "#### 6. How can you call a constructor explicitly in Python? Give an example.\n",
    "\n",
    "Ans. In Python, constructors are typically called implicitly when an object is created. However, you can also call a constructor explicitly if needed. To do this, you can use the class name followed by parentheses, passing the required parameters. It's important to note that explicitly calling the constructor is not a common practice, and it's usually done in specific scenarios."
   ]
  },
  {
   "cell_type": "markdown",
   "id": "2866bd45-d03e-4244-a878-5ade8f237e7b",
   "metadata": {},
   "source": [
    "#### 7. What is the significance of the `self` parameter in Python constructors? Explain with an example.\n",
    "\n",
    "Ans. In Python, the self parameter in constructors (and other methods within a class) refers to the instance of the class itself. It is a convention, and the name self is not mandatory; you can use any name you prefer, but self is widely adopted and considered good practice. The self parameter allows you to access and modify the attributes and methods of the instance within the class.\n",
    "\n",
    "class Student:\n",
    "    def __init__(self, name):\n",
    "        self.name = name\n",
    "        self.age = age\n",
    "\n",
    "    def introduce(self):\n",
    "        print(f\"Hi, I'm {self.name} and I am {self.age} years old.\")\n",
    "\n",
    "student1 = Student('Shivam')\n",
    "\n",
    "student1.introduce()"
   ]
  },
  {
   "cell_type": "markdown",
   "id": "128df2e4-d541-40d6-a5a8-54b8945dbf68",
   "metadata": {},
   "source": [
    "#### 8. Discuss the concept of default constructors in Python. When are they used?\n",
    "\n",
    "Ans. In Python, a default constructor is a constructor that takes no parameters or, more precisely, a constructor with only the self parameter. When a class does not explicitly define a constructor, Python provides a default constructor for it. The default constructor initializes the object but doesn't perform any additional actions since it has no parameters to work with."
   ]
  },
  {
   "cell_type": "markdown",
   "id": "10501945-b947-4d48-9de8-5a75c82a6d2c",
   "metadata": {},
   "source": [
    "#### 9. Create a Python class called `Rectangle` with a constructor that initializes the `width` and `height` attributes. Provide a method to calculate the area of the rectangle."
   ]
  },
  {
   "cell_type": "code",
   "execution_count": 3,
   "id": "3ae196f3-316a-472a-8d12-c268b952b406",
   "metadata": {},
   "outputs": [
    {
     "name": "stdout",
     "output_type": "stream",
     "text": [
      "The area of the rectangle is: 48 square units.\n"
     ]
    }
   ],
   "source": [
    "class Rectangle:\n",
    "    def __init__(self, width, height):\n",
    "        # Initializing attributes\n",
    "        self.width = width\n",
    "        self.height = height\n",
    "\n",
    "    def calculate_area(self):\n",
    "        # Method to calculate the area\n",
    "        return self.width * self.height\n",
    "\n",
    "# Creating an instance of the class\n",
    "rectangle1 = Rectangle(width=6, height=8)\n",
    "\n",
    "# Calculating the area of the rectangle\n",
    "area = rectangle1.calculate_area()\n",
    "print(f\"The area of the rectangle is: {area} square units.\")"
   ]
  },
  {
   "cell_type": "markdown",
   "id": "55570c79-4a47-4373-984c-7519f6fbedd6",
   "metadata": {},
   "source": [
    "#### 10. How can you have multiple constructors in a Python class? Explain with an example.\n",
    "\n",
    "Ans. In Python, a class can only have one __init__ method, which serves as the constructor. However, you can achieve a similar effect of having multiple constructors by using default parameter values or class methods.\n",
    "\n",
    "1. Using Default Parameter Values:\n",
    "\n",
    "class MyClass:\n",
    "    def __init__(self, value1, value2=0):\n",
    "        self.attribute1 = value1\n",
    "        self.attribute2 = value2\n",
    "\n",
    "\n",
    "obj1 = MyClass(value1=10)\n",
    "obj2 = MyClass(value1=20, value2=30)\n",
    "\n",
    "print(obj1.attribute1, obj1.attribute2)  # Outputs: 10 0\n",
    "print(obj2.attribute1, obj2.attribute2)  # Outputs: 20 30\n",
    "   \n",
    "2. Using Class method:\n",
    "\n",
    "class MyClass:\n",
    "    def __init__(self, value1, value2):\n",
    "        self.attribute1 = value1\n",
    "        self.attribute2 = value2\n",
    "\n",
    "    @classmethod\n",
    "    def from_single_value(cls, value):\n",
    "        # Use this class method to create an instance with default values\n",
    "        return cls(value1=value, value2=0)\n",
    "\n",
    "obj1 = MyClass(value1=10, value2=20)\n",
    "obj2 = MyClass.from_single_value(value=5)\n",
    "\n",
    "print(obj1.attribute1, obj1.attribute2)  # Outputs: 10 20\n",
    "print(obj2.attribute1, obj2.attribute2)  # Outputs: 5 0"
   ]
  },
  {
   "cell_type": "markdown",
   "id": "adff95a1-b2f9-49eb-8b8b-babca64d00bd",
   "metadata": {},
   "source": [
    "#### 11. What is method overloading, and how is it related to constructors in Python?\n",
    "\n",
    "Ans. Method overloading is a concept in object-oriented programming where a class can have multiple methods with the same name but different parameters. The behavior of the method depends on the type or number of parameters passed to it. In some programming languages, like Java or C++, method overloading is supported explicitly. However, in Python, method overloading is achieved in a different way due to the language's dynamic and flexible nature.\n",
    "\n",
    "The concept of method overloading can be related to constructors in Python in the sense that you might want to create a class with multiple ways to initialize its objects. In Python, method overloading is not supported in the traditional sense. Instead, you can achieve similar functionality by using default parameter values and variable-length argument lists."
   ]
  },
  {
   "cell_type": "markdown",
   "id": "32a60dee-fc61-4f7e-82d2-16fdd655bc23",
   "metadata": {},
   "source": [
    "#### 12. Explain the use of the `super()` function in Python constructors. Provide an example."
   ]
  },
  {
   "cell_type": "code",
   "execution_count": 4,
   "id": "e2f4bb8e-2010-4624-9843-b32f40c3e649",
   "metadata": {},
   "outputs": [
    {
     "name": "stdout",
     "output_type": "stream",
     "text": [
      "Animal constructor called for Canine\n",
      "Dog constructor called for Canine of breed Beagle\n"
     ]
    }
   ],
   "source": [
    "'''In Python, the super() function is used in a constructor to call the constructor of the parent (or superclass) class. \n",
    "It allows you to invoke the constructor of the superclass and initialize the attributes that are defined in the superclass \n",
    "before performing any additional initialization specific to the subclass.'''\n",
    "\n",
    "# Here's an example to illustrate the use of super() in Python constructors:\n",
    "\n",
    "class Animal:\n",
    "    def __init__(self, species):\n",
    "        self.species = species\n",
    "        print(f\"Animal constructor called for {self.species}\")\n",
    "\n",
    "class Dog(Animal):\n",
    "    def __init__(self, species, breed):\n",
    "        # Calling the constructor of the superclass using super()\n",
    "        super().__init__(species)\n",
    "        self.breed = breed\n",
    "        print(f\"Dog constructor called for {self.species} of breed {self.breed}\")\n",
    "\n",
    "# Creating an instance of the Dog class\n",
    "my_dog = Dog(species=\"Canine\", breed=\"Beagle\")"
   ]
  },
  {
   "cell_type": "markdown",
   "id": "2453597f-b739-4fff-a201-e53f09c318cb",
   "metadata": {},
   "source": [
    "#### 13. Create a class called `Book` with a constructor that initializes the `title`, `author`, and `published_year` attributes. Provide a method to display book details."
   ]
  },
  {
   "cell_type": "code",
   "execution_count": 6,
   "id": "130cd4d4-7caa-420c-9190-bdb6c7031ce3",
   "metadata": {},
   "outputs": [
    {
     "name": "stdout",
     "output_type": "stream",
     "text": [
      "Title: Ramayana\n",
      "Author: Maharishi Valmiki\n",
      "Published Year: Treta Yug\n"
     ]
    }
   ],
   "source": [
    "class Book:\n",
    "    def __init__(self, title, author, published_year):\n",
    "        # Initializing attributes\n",
    "        self.title = title\n",
    "        self.author = author\n",
    "        self.published_year = published_year\n",
    "\n",
    "    def display_details(self):\n",
    "        # Method to display book details\n",
    "        print(f\"Title: {self.title}\")\n",
    "        print(f\"Author: {self.author}\")\n",
    "        print(f\"Published Year: {self.published_year}\")\n",
    "\n",
    "# Creating an instance of the Book class\n",
    "book1 = Book(title=\"Ramayana\", author=\"Maharishi Valmiki\", published_year='Treta Yug')\n",
    "\n",
    "# Calling the method to display book details\n",
    "book1.display_details()"
   ]
  },
  {
   "cell_type": "markdown",
   "id": "f78770cd-1926-4870-87f7-45cd7cd5ed6c",
   "metadata": {},
   "source": [
    "#### 14. Discuss the differences between constructors and regular methods in Python classes.\n",
    "\n",
    "Ans.  The constructors are special methods used for initializing object attributes during creation, while regular methods provide functionality that can be applied to an already initialized object."
   ]
  },
  {
   "cell_type": "markdown",
   "id": "2224d559-e5ac-4d75-aa66-917d7ce8b2fc",
   "metadata": {},
   "source": [
    "#### 15. Explain the role of the `self` parameter in instance variable initialization within a constructor.\n",
    "\n",
    "Ans. In Python, the self parameter in a constructor plays a crucial role in instance variable initialization. The self parameter represents the instance of the class and is used to refer to the object being created. It allows you to access and manipulate the attributes (instance variables) of the object within the constructor. Here's a breakdown of the role of the self parameter in instance variable initialization within a constructor:\n",
    "\n",
    "1. Instance Variable Initialization: The primary purpose of a constructor is to initialize the attributes (instance variables) of an object with specific values. The self parameter serves as a reference to the instance being created, allowing you to access and assign values to its attributes.\n",
    "\n",
    "2. Accessing Object Attributes: Inside the constructor, you use self followed by a dot (.) to access attributes of the object. For example, self.attribute_name refers to an attribute of the object, allowing you to read or modify its value.\n",
    "\n",
    "3. Differentiating Attributes: When a constructor is called during object creation, the self parameter helps differentiate the attributes of one instance from another. Each instance of the class has its own set of attributes, and self ensures that the correct instance is being referred to.\n",
    "\n",
    "4. Setting Initial State: The self parameter allows you to set up the initial state of the object by assigning values to its attributes based on the parameters passed to the constructor."
   ]
  },
  {
   "cell_type": "markdown",
   "id": "a8d851e3-eb40-4bdb-849d-ed30834599f1",
   "metadata": {},
   "source": [
    "#### 16. How do you prevent a class from having multiple instances by using constructors in Python? Provide an example.\n",
    "\n",
    "Ans. In Python, it's not common to prevent a class from having multiple instances using constructors, as the language is designed to be flexible, and multiple instances are generally allowed. However, you can implement a pattern known as a Singleton to ensure that a class has only one instance. The Singleton pattern restricts the instantiation of a class to a single object and provides a global point of access to that instance."
   ]
  },
  {
   "cell_type": "code",
   "execution_count": 8,
   "id": "e4b9e7e9-2f83-452e-a9f1-19420179cb27",
   "metadata": {},
   "outputs": [
    {
     "name": "stdout",
     "output_type": "stream",
     "text": [
      "SingletonClass instance created.\n",
      "True\n"
     ]
    }
   ],
   "source": [
    "# Here's an example of implementing a Singleton pattern in Python:\n",
    "\n",
    "class SingletonClass:\n",
    "    _instance = None  # Class variable to store the instance\n",
    "\n",
    "    def __new__(cls):\n",
    "        # Override the __new__ method to control instance creation\n",
    "        if cls._instance is None:\n",
    "            cls._instance = super(SingletonClass, cls).__new__(cls)\n",
    "        return cls._instance\n",
    "\n",
    "    def __init__(self):\n",
    "        # Initialization logic (only executed if a new instance is created)\n",
    "        if not hasattr(self, 'initialized'):\n",
    "            self.initialized = True\n",
    "            print(\"SingletonClass instance created.\")\n",
    "\n",
    "# Creating instances of the SingletonClass\n",
    "singleton1 = SingletonClass()\n",
    "singleton2 = SingletonClass()\n",
    "\n",
    "# Checking if both variables reference the same instance\n",
    "print(singleton1 is singleton2)  # Outputs: True"
   ]
  },
  {
   "cell_type": "markdown",
   "id": "68c7c2a7-1f51-41c3-98d3-1178a0ec400b",
   "metadata": {},
   "source": [
    "#### 17. Create a Python class called `Student` with a constructor that takes a list of subjects as a parameter and initializes the `subjects` attribute."
   ]
  },
  {
   "cell_type": "code",
   "execution_count": 9,
   "id": "a32cf6e9-e497-4f0b-a610-4ac38950aae0",
   "metadata": {},
   "outputs": [
    {
     "name": "stdout",
     "output_type": "stream",
     "text": [
      "List of subjects:\n",
      "Math\n",
      "Science\n",
      "History\n",
      "English\n"
     ]
    }
   ],
   "source": [
    "class Student:\n",
    "    def __init__(self, subjects):\n",
    "        # Initializing the 'subjects' attribute\n",
    "        self.subjects = subjects\n",
    "\n",
    "    def display_subjects(self):\n",
    "        # Method to display the list of subjects\n",
    "        print(\"List of subjects:\")\n",
    "        for subject in self.subjects:\n",
    "            print(subject)\n",
    "\n",
    "# Creating an instance of the Student class\n",
    "student1 = Student(subjects=[\"Math\", \"Science\", \"History\", \"English\"])\n",
    "\n",
    "# Calling the method to display subjects\n",
    "student1.display_subjects()"
   ]
  },
  {
   "cell_type": "markdown",
   "id": "c7e1bafb-6c4f-4bc5-8a98-b61df924d187",
   "metadata": {},
   "source": [
    "#### 18. What is the purpose of the `__del__` method in Python classes, and how does it relate to constructors?\n",
    "\n",
    "Ans.  In Python, the __del__ method is a special method that is part of the object's lifecycle. It is called when an object is about to be destroyed or garbage collected. The __del__ method is the counterpart to the __init__ constructor, which is called when an object is created.\n",
    "The primary purpose of the __del__ method is to perform cleanup or finalization tasks before an object is removed from memory. It is not recommended to rely on __del__ for critical cleanup, as the timing of garbage collection is not guaranteed.\n",
    "\n",
    "Relationship to Constructors:\n",
    "\n",
    "Initialization vs. Cleanup: The __init__ constructor is used for initializing the object and setting up its initial state. It is called automatically when an object is created.\n",
    "\n",
    "Finalization: The __del__ method, on the other hand, is called just before the object is destroyed. It provides an opportunity to perform cleanup tasks before the memory occupied by the object is reclaimed."
   ]
  },
  {
   "cell_type": "markdown",
   "id": "62623493-40a3-4ef2-9529-e4e0ebfd11cc",
   "metadata": {},
   "source": [
    "#### 19. Explain the use of constructor chaining in Python. Provide a practical example."
   ]
  },
  {
   "cell_type": "code",
   "execution_count": 11,
   "id": "bb898ced-ab5b-454e-b97f-735c1f87ee41",
   "metadata": {},
   "outputs": [
    {
     "name": "stdout",
     "output_type": "stream",
     "text": [
      "Vehicle initialized with color: Blue\n",
      "Car initialized with color: Blue and brand: Volkswagon\n"
     ]
    }
   ],
   "source": [
    "'''Constructor chaining in Python refers to the ability to call one constructor from another within the same class hierarchy. \n",
    "This allows you to reuse the initialization logic defined in one constructor when another constructor is called. \n",
    "In Python, constructor chaining is achieved using the super() function.'''\n",
    "\n",
    "class Vehicle:\n",
    "    def __init__(self, color):\n",
    "        self.color = color\n",
    "        print(f\"Vehicle initialized with color: {self.color}\")\n",
    "\n",
    "class Car(Vehicle):\n",
    "    def __init__(self, color, brand):\n",
    "        # Call the constructor of the parent class using super()\n",
    "        super().__init__(color)\n",
    "        self.brand = brand\n",
    "        print(f\"Car initialized with color: {self.color} and brand: {self.brand}\")\n",
    "\n",
    "# Creating an instance of the Car class\n",
    "my_car = Car(color=\"Blue\", brand=\"Volkswagon\")"
   ]
  },
  {
   "cell_type": "markdown",
   "id": "9119813a-6465-4992-85c8-0529a7bb6a4c",
   "metadata": {},
   "source": [
    "#### 20. Create a Python class called `Car` with a default constructor that initializes the `make` and `model` attributes. Provide a method to display car information."
   ]
  },
  {
   "cell_type": "code",
   "execution_count": 12,
   "id": "4e2858c8-9907-4c96-a3e7-2f323e57390c",
   "metadata": {},
   "outputs": [
    {
     "name": "stdout",
     "output_type": "stream",
     "text": [
      "Car Make: Unknown Make\n",
      "Car Model: Unknown Model\n",
      "\n",
      "Car Make: Volkswagon\n",
      "Car Model: Polo\n"
     ]
    }
   ],
   "source": [
    "class Car:\n",
    "    def __init__(self, make=\"Unknown Make\", model=\"Unknown Model\"):\n",
    "        # Initializing attributes with default values\n",
    "        self.make = make\n",
    "        self.model = model\n",
    "\n",
    "    def display_info(self):\n",
    "        # Method to display car information\n",
    "        print(f\"Car Make: {self.make}\")\n",
    "        print(f\"Car Model: {self.model}\")\n",
    "\n",
    "# Creating an instance of the Car class with default values\n",
    "default_car = Car()\n",
    "\n",
    "# Creating an instance of the Car class with specific values\n",
    "custom_car = Car(make=\"Volkswagon\", model=\"Polo\")\n",
    "\n",
    "# Calling the method to display car information for both instances\n",
    "default_car.display_info()\n",
    "print()  # Add a newline for better readability\n",
    "custom_car.display_info()"
   ]
  },
  {
   "cell_type": "markdown",
   "id": "34767a37-9c44-4154-9317-8b261135c06a",
   "metadata": {},
   "source": [
    "# Inheritance:"
   ]
  },
  {
   "cell_type": "markdown",
   "id": "1f9c2fdd-35ea-4b6b-a508-fc8b824ddd86",
   "metadata": {},
   "source": [
    "#### 1. What is inheritance in Python? Explain its significance in object-oriented programming.\n",
    "\n",
    "Ans. Inheritance is a fundamental concept in object-oriented programming (OOP) that allows a class (subclass or derived class) to inherit properties and behaviors from another class (superclass or base class). Inheritance facilitates code reuse, promotes modularity, and enables the creation of a hierarchy of classes."
   ]
  },
  {
   "cell_type": "markdown",
   "id": "162d34af-9c5a-4723-b44a-ca29f9017480",
   "metadata": {},
   "source": [
    "#### 2. Differentiate between single inheritance and multiple inheritance in Python. Provide examples for each."
   ]
  },
  {
   "cell_type": "code",
   "execution_count": 13,
   "id": "a22edeea-55b6-4961-b372-d4c8d169b720",
   "metadata": {},
   "outputs": [
    {
     "name": "stdout",
     "output_type": "stream",
     "text": [
      "Generic animal sound\n",
      "Woof! Woof!\n",
      "I can fly\n",
      "I can swim\n",
      "Chirp chirp!\n"
     ]
    }
   ],
   "source": [
    "'''In Python, inheritance can take two main forms: single inheritance and multiple inheritance. \n",
    "Here's an explanation of each along with examples:\n",
    "\n",
    "Single Inheritance:\n",
    "In single inheritance, a class inherits from only one base class (superclass). \n",
    "The derived class (subclass) inherits the attributes and methods of the single base class.\n",
    "'''\n",
    "class Animal:\n",
    "    def speak(self):\n",
    "        print(\"Generic animal sound\")\n",
    "\n",
    "class Dog(Animal):\n",
    "    def bark(self):\n",
    "        print(\"Woof! Woof!\")\n",
    "\n",
    "# Creating an instance of the Dog class\n",
    "my_dog = Dog()\n",
    "\n",
    "# Accessing methods from both classes\n",
    "my_dog.speak()  # Outputs: Generic animal sound\n",
    "my_dog.bark()   # Outputs: Woof! Woof!\n",
    "\n",
    "'''\n",
    "Multiple Inheritance:\n",
    "In multiple inheritance, a class can inherit from more than one base class. \n",
    "This allows the derived class to inherit attributes and methods from multiple sources.\n",
    "'''\n",
    "\n",
    "class Flyer:\n",
    "    def fly(self):\n",
    "        print(\"I can fly\")\n",
    "\n",
    "class Swimmer:\n",
    "    def swim(self):\n",
    "        print(\"I can swim\")\n",
    "\n",
    "class Bird(Flyer, Swimmer):\n",
    "    def chirp(self):\n",
    "        print(\"Chirp chirp!\")\n",
    "\n",
    "# Creating an instance of the Bird class\n",
    "my_bird = Bird()\n",
    "\n",
    "# Accessing methods from both base classes and the derived class\n",
    "my_bird.fly()   # Outputs: I can fly\n",
    "my_bird.swim()  # Outputs: I can swim\n",
    "my_bird.chirp() # Outputs: Chirp chirp!"
   ]
  },
  {
   "cell_type": "markdown",
   "id": "7f35e406-22f2-417d-a82a-07b7875c9160",
   "metadata": {},
   "source": [
    "#### 3. Create a Python class called `Vehicle` with attributes `color` and `speed`. Then, create a child class called `Car` that inherits from `Vehicle` and adds a `brand` attribute. Provide an example of creating a `Car` object."
   ]
  },
  {
   "cell_type": "code",
   "execution_count": 15,
   "id": "9f4bf629-af7b-4cdd-b11d-b3380a46d16d",
   "metadata": {},
   "outputs": [
    {
     "name": "stdout",
     "output_type": "stream",
     "text": [
      "Car Color: Blue\n",
      "Car Speed: 60\n",
      "Car Brand: Volkswagon\n"
     ]
    }
   ],
   "source": [
    "class Vehicle:\n",
    "    def __init__(self, color, speed):\n",
    "        self.color = color\n",
    "        self.speed = speed\n",
    "\n",
    "class Car(Vehicle):\n",
    "    def __init__(self, color, speed, brand):\n",
    "        # Calling the constructor of the base class using super()\n",
    "        super().__init__(color=color, speed=speed)\n",
    "        self.brand = brand\n",
    "\n",
    "# Creating a Car object\n",
    "my_car = Car(color=\"Blue\", speed=60, brand=\"Volkswagon\")\n",
    "\n",
    "# Accessing attributes of the Car object\n",
    "print(f\"Car Color: {my_car.color}\")\n",
    "print(f\"Car Speed: {my_car.speed}\")\n",
    "print(f\"Car Brand: {my_car.brand}\")"
   ]
  },
  {
   "cell_type": "markdown",
   "id": "01b6bfe7-1744-4182-b52c-19e3f9b49518",
   "metadata": {},
   "source": [
    "#### 4. Explain the concept of method overriding in inheritance. Provide a practical example.\n",
    "\n",
    "Ans. Method overriding is a feature in object-oriented programming that allows a subclass to provide a specific implementation for a method that is already defined in its superclass. When a method is overridden in the subclass, it replaces the implementation of the same method in the superclass. This enables the subclass to tailor or extend the behavior of the inherited method."
   ]
  },
  {
   "cell_type": "code",
   "execution_count": 16,
   "id": "b7a663e1-6710-4679-be89-7e67a7861cbc",
   "metadata": {},
   "outputs": [
    {
     "name": "stdout",
     "output_type": "stream",
     "text": [
      "Generic animal sound\n",
      "Woof! Woof!\n"
     ]
    }
   ],
   "source": [
    "class Animal:\n",
    "    def speak(self):\n",
    "        print(\"Generic animal sound\")\n",
    "\n",
    "class Dog(Animal):\n",
    "    def speak(self):\n",
    "        print(\"Woof! Woof!\")\n",
    "\n",
    "# Creating instances of the classes\n",
    "generic_animal = Animal()\n",
    "my_dog = Dog()\n",
    "\n",
    "# Calling the speak method on both instances\n",
    "generic_animal.speak()  # Outputs: Generic animal sound\n",
    "my_dog.speak()          # Outputs: Woof! Woof!"
   ]
  },
  {
   "cell_type": "markdown",
   "id": "e2d78ef4-f003-4212-8862-e7cc4345ae5f",
   "metadata": {},
   "source": [
    "#### 5. How can you access the methods and attributes of a parent class from a child class in Python? Give an example.\n",
    "\n",
    "Ans. In Python, you can access the methods and attributes of a parent class from a child class using the super() function. The super() function returns a temporary object of the superclass, allowing you to call its methods and access its attributes. This is particularly useful when you want to extend the behavior of the parent class in the child class.\n",
    "\n",
    "Here's an example to illustrate how to access the methods and attributes of a parent class from a child class:"
   ]
  },
  {
   "cell_type": "code",
   "execution_count": 29,
   "id": "34473fe4-d603-4764-9f7a-7807719a37c4",
   "metadata": {},
   "outputs": [
    {
     "name": "stdout",
     "output_type": "stream",
     "text": [
      "Generic animal sound\n",
      "Woof! Woof!\n",
      "Species: Canine\n",
      "Breed: Golden Retriever\n"
     ]
    }
   ],
   "source": [
    "class Animal:\n",
    "    def __init__(self, species):\n",
    "        self.species = species\n",
    "\n",
    "    def make_sound(self):\n",
    "        print(\"Generic animal sound\")\n",
    "\n",
    "class Dog(Animal):\n",
    "    def __init__(self, species, breed):\n",
    "        # Calling the constructor of the parent class using super()\n",
    "        super().__init__(species)\n",
    "        self.breed = breed\n",
    "\n",
    "    def make_sound(self):\n",
    "        # Calling the overridden method of the parent class using super()\n",
    "        super().make_sound()\n",
    "        print(\"Woof! Woof!\")\n",
    "\n",
    "    def display_info(self):\n",
    "        # Accessing the attribute of the current class (not super())\n",
    "        print(f\"Species: {self.species}\")\n",
    "        print(f\"Breed: {self.breed}\")\n",
    "\n",
    "# Creating an instance of the Dog class\n",
    "my_dog = Dog(species=\"Canine\", breed=\"Golden Retriever\")\n",
    "\n",
    "# Calling methods and accessing attributes\n",
    "my_dog.make_sound()    # Outputs: Generic animal sound\\nWoof! Woof!\n",
    "my_dog.display_info()  # Outputs: Species: Canine\\nBreed: Golden Retriever\n"
   ]
  },
  {
   "cell_type": "markdown",
   "id": "67291a58-36f5-4730-9f07-cec58cb3fae7",
   "metadata": {},
   "source": [
    "#### 6. Discuss the use of the `super()` function in Python inheritance. When and why is it used? Provide an example.\n",
    "\n",
    "Ans. The super() function in Python is used in the context of inheritance to call methods and access attributes from the superclass (parent class). It provides a way to invoke methods and properties of the superclass within the subclass. The primary purpose of super() is to support cooperative multiple inheritance and ensure that classes in a hierarchy work together seamlessly."
   ]
  },
  {
   "cell_type": "code",
   "execution_count": 30,
   "id": "101cfaaa-1d3f-42f9-884b-b285b162f704",
   "metadata": {},
   "outputs": [
    {
     "name": "stdout",
     "output_type": "stream",
     "text": [
      "Generic animal sound\n",
      "Woof! Woof!\n",
      "Species: Canine\n",
      "Breed: Golden Retriever\n"
     ]
    }
   ],
   "source": [
    "class Animal:\n",
    "    def __init__(self, species):\n",
    "        self.species = species\n",
    "\n",
    "    def make_sound(self):\n",
    "        print(\"Generic animal sound\")\n",
    "\n",
    "class Dog(Animal):\n",
    "    def __init__(self, species, breed):\n",
    "        # Calling the constructor of the parent class using super()\n",
    "        super().__init__(species)\n",
    "        self.breed = breed\n",
    "\n",
    "    def make_sound(self):\n",
    "        # Calling the overridden method of the parent class using super()\n",
    "        super().make_sound()\n",
    "        print(\"Woof! Woof!\")\n",
    "\n",
    "    def display_info(self):\n",
    "        # Accessing the attribute of the current class (not super())\n",
    "        print(f\"Species: {self.species}\")\n",
    "        print(f\"Breed: {self.breed}\")\n",
    "\n",
    "# Creating an instance of the Dog class\n",
    "my_dog = Dog(species=\"Canine\", breed=\"Golden Retriever\")\n",
    "\n",
    "# Calling methods and accessing attributes\n",
    "my_dog.make_sound()    # Outputs: Generic animal sound\\nWoof! Woof!\n",
    "my_dog.display_info()  # Outputs: Species: Canine\\nBreed: Golden Retriever\n"
   ]
  },
  {
   "cell_type": "markdown",
   "id": "8ad527a1-c9f3-403a-bcec-35c59af78be9",
   "metadata": {},
   "source": [
    "#### 7. Create a Python class called `Animal` with a method `speak()`. Then, create child classes `Dog` and `Cat` that inherit from `Animal` and override the `speak()` method. Provide an example of using these classes."
   ]
  },
  {
   "cell_type": "code",
   "execution_count": 31,
   "id": "1e0e0d29-a6ba-4ee9-9c00-bfdde0fe7199",
   "metadata": {},
   "outputs": [
    {
     "name": "stdout",
     "output_type": "stream",
     "text": [
      "Generic animal sound\n",
      "Woof! Woof!\n",
      "Meow!\n"
     ]
    }
   ],
   "source": [
    "class Animal:\n",
    "    def speak(self):\n",
    "        print(\"Generic animal sound\")\n",
    "\n",
    "class Dog(Animal):\n",
    "    def speak(self):\n",
    "        print(\"Woof! Woof!\")\n",
    "\n",
    "class Cat(Animal):\n",
    "    def speak(self):\n",
    "        print(\"Meow!\")\n",
    "\n",
    "# Creating instances of the classes\n",
    "animal1 = Animal()\n",
    "my_dog = Dog()\n",
    "my_cat = Cat()\n",
    "\n",
    "# Calling the speak method on each instance\n",
    "animal1.speak()  # Outputs: Generic animal sound\n",
    "my_dog.speak()          # Outputs: Woof! Woof!\n",
    "my_cat.speak()          # Outputs: Meow!\n"
   ]
  },
  {
   "cell_type": "markdown",
   "id": "920a569e-07e8-4bc6-8c8b-5b30404a43af",
   "metadata": {},
   "source": [
    "#### 8. Explain the role of the `isinstance()` function in Python and how it relates to inheritance.\n",
    "\n",
    "Ans. The isinstance() function in Python is used to check whether an object belongs to a particular class or a tuple of classes. It returns True if the object is an instance of the specified class or any of the specified classes in the tuple; otherwise, it returns False. The isinstance() function is particularly useful in scenarios involving inheritance, where you want to determine the type of an object or check if it's an instance of a specific class or its subclasses.\n",
    "\n",
    "Role in Inheritance:\n",
    "1.  Type Checking in Polymorphism: isinstance() is commonly used in polymorphic scenarios, where different classes share a common interface (e.g., a method name) through inheritance. It allows you to check the type of an object dynamically.\n",
    "\n",
    "2. Handling Objects of Different Types: In scenarios where you have objects of different types but with a common base class, isinstance() helps you ensure that an object can be treated as an instance of the expected class or its subclasses.\n",
    "\n",
    "3. Conditional Execution Based on Object Type: It allows you to conditionally execute code based on the type of an object, providing flexibility in handling objects of different classes."
   ]
  },
  {
   "cell_type": "markdown",
   "id": "74d64032-9306-4b2c-b1c2-9b5df573017a",
   "metadata": {},
   "source": [
    "#### 9. What is the purpose of the `issubclass()` function in Python? Provide an example.\n",
    "\n",
    "Ans. The issubclass() function in Python is used to check whether a class is a subclass of another class. It returns True if the class is a subclass of the specified class or a tuple of classes; otherwise, it returns False. This function is helpful when you want to determine the relationship between two classes in terms of inheritance."
   ]
  },
  {
   "cell_type": "code",
   "execution_count": 32,
   "id": "d9edfb37-2913-457a-a416-4b88d66c8b63",
   "metadata": {},
   "outputs": [
    {
     "name": "stdout",
     "output_type": "stream",
     "text": [
      "True\n",
      "True\n",
      "True\n",
      "False\n"
     ]
    }
   ],
   "source": [
    "class Animal:\n",
    "    pass\n",
    "\n",
    "class Mammal(Animal):\n",
    "    pass\n",
    "\n",
    "class Dog(Mammal):\n",
    "    pass\n",
    "\n",
    "# Using issubclass() to check class relationships\n",
    "print(issubclass(Mammal, Animal))  # True (Mammal is a subclass of Animal)\n",
    "print(issubclass(Dog, Animal))      # True (Dog is a subclass of Animal)\n",
    "print(issubclass(Dog, Mammal))      # True (Dog is a subclass of Mammal)\n",
    "print(issubclass(Animal, Dog))      # False (Animal is not a subclass of Dog)\n"
   ]
  },
  {
   "cell_type": "markdown",
   "id": "13199005-d3f6-41e6-9bef-c942260cb9d0",
   "metadata": {},
   "source": [
    "#### 10. Discuss the concept of constructor inheritance in Python. How are constructors inherited in child classes?\n",
    "\n",
    "Ans. In Python, constructors are inherited in child classes through the process of constructor inheritance. Constructor inheritance ensures that when a child class is created, the constructor of its parent class (superclass) is also executed, allowing for proper initialization of inherited attributes and other setup operations.\n",
    "\n",
    "Key points about constructor inheritance:\n",
    "\n",
    "1. Automatic Inheritance: By default, if a child class does not define its own constructor (__init__ method), it automatically inherits the constructor of its parent class.\n",
    "\n",
    "2. Calling the Parent Constructor: If a child class defines its own constructor, it can explicitly call the constructor of the parent class using the super() function. This ensures that the initialization code in the parent class is executed.\n",
    "\n",
    "3. Initialization Order: Constructors are inherited and executed in the order of the class hierarchy. The constructor of the top-level parent class is executed first, followed by constructors of intermediate classes, and finally, the constructor of the child class."
   ]
  },
  {
   "cell_type": "code",
   "execution_count": 33,
   "id": "955e9fa3-a911-48f6-abda-bc63e77a8691",
   "metadata": {},
   "outputs": [
    {
     "name": "stdout",
     "output_type": "stream",
     "text": [
      "Initializing Dog: Canine, Golden Retriever\n",
      "Initializing Mammal: Canine\n",
      "Initializing Animal: Canine\n"
     ]
    }
   ],
   "source": [
    "class Animal:\n",
    "    def __init__(self, species):\n",
    "        print(f\"Initializing Animal: {species}\")\n",
    "        self.species = species\n",
    "\n",
    "class Mammal(Animal):\n",
    "    def __init__(self, species, sound):\n",
    "        print(f\"Initializing Mammal: {species}\")\n",
    "        super().__init__(species)\n",
    "        self.sound = sound\n",
    "\n",
    "class Dog(Mammal):\n",
    "    def __init__(self, species, sound, breed):\n",
    "        print(f\"Initializing Dog: {species}, {breed}\")\n",
    "        super().__init__(species, sound)\n",
    "        self.breed = breed\n",
    "\n",
    "# Creating an instance of the Dog class\n",
    "my_dog = Dog(species=\"Canine\", sound=\"Woof! Woof!\", breed=\"Golden Retriever\")"
   ]
  },
  {
   "cell_type": "markdown",
   "id": "4dc8a07c-49b9-4631-8802-7540f34e8a3e",
   "metadata": {},
   "source": [
    "#### 11. Create a Python class called `Shape` with a method `area()` that calculates the area of a shape. Then, create child classes `Circle` and `Rectangle` that inherit from `Shape` and implement the `area()` method accordingly. Provide an example."
   ]
  },
  {
   "cell_type": "code",
   "execution_count": 34,
   "id": "b2b2344d-96ac-4dee-abbb-8277e05d87db",
   "metadata": {},
   "outputs": [
    {
     "name": "stdout",
     "output_type": "stream",
     "text": [
      "Area of Circle: 78.54\n",
      "Area of Rectangle: 24\n"
     ]
    }
   ],
   "source": [
    "import math\n",
    "\n",
    "class Shape:\n",
    "    def area(self):\n",
    "        pass  # Abstract method to be implemented by subclasses\n",
    "\n",
    "class Circle(Shape):\n",
    "    def __init__(self, radius):\n",
    "        self.radius = radius\n",
    "\n",
    "    def area(self):\n",
    "        return math.pi * self.radius ** 2\n",
    "\n",
    "class Rectangle(Shape):\n",
    "    def __init__(self, width, height):\n",
    "        self.width = width\n",
    "        self.height = height\n",
    "\n",
    "    def area(self):\n",
    "        return self.width * self.height\n",
    "\n",
    "# Example usage\n",
    "circle = Circle(radius=5)\n",
    "rectangle = Rectangle(width=4, height=6)\n",
    "\n",
    "print(f\"Area of Circle: {circle.area():.2f}\")\n",
    "print(f\"Area of Rectangle: {rectangle.area()}\")"
   ]
  },
  {
   "cell_type": "markdown",
   "id": "6b98512b-b76b-493f-99ab-667a4b40326f",
   "metadata": {},
   "source": [
    "#### 12. Explain the use of abstract base classes (ABCs) in Python and how they relate to inheritance. Provide an example using the `abc` module.\n",
    "\n",
    "Ans. Abstract Base Classes (ABCs) in Python provide a way to define abstract classes and abstract methods, enforcing that specific methods must be implemented by concrete (non-abstract) subclasses. ABCs are part of the abc module in Python and are useful for enforcing a common interface across a group of related classes."
   ]
  },
  {
   "cell_type": "code",
   "execution_count": 35,
   "id": "5b3f539f-a189-4d5f-aa61-bcd51bba0f87",
   "metadata": {},
   "outputs": [
    {
     "name": "stdout",
     "output_type": "stream",
     "text": [
      "Area of Circle: 78.54\n",
      "Area of Rectangle: 24\n"
     ]
    }
   ],
   "source": [
    "from abc import ABC, abstractmethod\n",
    "import math\n",
    "\n",
    "class Shape(ABC):\n",
    "    @abstractmethod\n",
    "    def area(self):\n",
    "        pass  # Abstract method to be implemented by subclasses\n",
    "\n",
    "class Circle(Shape):\n",
    "    def __init__(self, radius):\n",
    "        self.radius = radius\n",
    "\n",
    "    def area(self):\n",
    "        return math.pi * self.radius ** 2\n",
    "\n",
    "class Rectangle(Shape):\n",
    "    def __init__(self, width, height):\n",
    "        self.width = width\n",
    "        self.height = height\n",
    "\n",
    "    def area(self):\n",
    "        return self.width * self.height\n",
    "\n",
    "# Example usage\n",
    "circle = Circle(radius=5)\n",
    "rectangle = Rectangle(width=4, height=6)\n",
    "\n",
    "print(f\"Area of Circle: {circle.area():.2f}\")\n",
    "print(f\"Area of Rectangle: {rectangle.area()}\")"
   ]
  },
  {
   "cell_type": "markdown",
   "id": "674a9289-6307-4175-b956-a801678db718",
   "metadata": {},
   "source": [
    "#### 13. How can you prevent a child class from modifying certain attributes or methods inherited from a parent class in Python?\n",
    "\n",
    "Ans. In Python, you can control access to attributes and methods in a class by using access modifiers. The two main access modifiers are:\n",
    "\n",
    "Public (default): Attributes and methods are accessible from outside the class.\n",
    "Private: Attributes and methods are not accessible from outside the class.\n",
    "\n",
    "You can make attributes and methods private by prefixing their names with a double underscore (__). This convention indicates that the attribute or method is intended for internal use within the class and should not be modified or accessed from outside.\n",
    "\n",
    "Here's an example demonstrating how to use private attributes to prevent a child class from modifying certain attributes or methods inherited from a parent class:"
   ]
  },
  {
   "cell_type": "code",
   "execution_count": 37,
   "id": "ce27125b-61db-4123-b080-7c289a0e0546",
   "metadata": {},
   "outputs": [
    {
     "name": "stdout",
     "output_type": "stream",
     "text": [
      "Child accessing public attribute: I am public\n",
      "Public method in Child class\n"
     ]
    }
   ],
   "source": [
    "class Parent:\n",
    "    def __init__(self):\n",
    "        self.public_attribute = \"I am public\"\n",
    "        self.__private_attribute = \"I am private\"\n",
    "\n",
    "    def public_method(self):\n",
    "        print(\"Public method in Parent class\")\n",
    "\n",
    "    def __private_method(self):\n",
    "        print(\"Private method in Parent class\")\n",
    "\n",
    "class Child(Parent):\n",
    "    def __init__(self):\n",
    "        super().__init__()\n",
    "\n",
    "        # Accessing public attribute from the parent class\n",
    "        print(f\"Child accessing public attribute: {self.public_attribute}\")\n",
    "\n",
    "    def public_method_override(self):\n",
    "        print(\"Public method in Child class\")\n",
    "\n",
    "# Example usage\n",
    "child_instance = Child()\n",
    "child_instance.public_method_override()"
   ]
  },
  {
   "cell_type": "markdown",
   "id": "65f18610-d43c-4462-967a-a25da9f256db",
   "metadata": {},
   "source": [
    "#### 14. Create a Python class called `Employee` with attributes `name` and `salary`. Then, create a child class `Manager` that inherits from `Employee` and adds an attribute `department`. Provide an example."
   ]
  },
  {
   "cell_type": "code",
   "execution_count": 38,
   "id": "72736678-95f4-4909-b60e-69a436169b4a",
   "metadata": {},
   "outputs": [
    {
     "name": "stdout",
     "output_type": "stream",
     "text": [
      "Employee: John Doe, Salary: 50000\n",
      "Manager: Alice Smith, Salary: 70000, Department: Sales\n"
     ]
    }
   ],
   "source": [
    "class Employee:\n",
    "    def __init__(self, name, salary):\n",
    "        self.name = name\n",
    "        self.salary = salary\n",
    "\n",
    "class Manager(Employee):\n",
    "    def __init__(self, name, salary, department):\n",
    "        # Calling the constructor of the parent class using super()\n",
    "        super().__init__(name, salary)\n",
    "        self.department = department\n",
    "\n",
    "# Example usage\n",
    "employee = Employee(name=\"John Doe\", salary=50000)\n",
    "manager = Manager(name=\"Alice Smith\", salary=70000, department=\"Sales\")\n",
    "\n",
    "print(f\"Employee: {employee.name}, Salary: {employee.salary}\")\n",
    "print(f\"Manager: {manager.name}, Salary: {manager.salary}, Department: {manager.department}\")"
   ]
  },
  {
   "cell_type": "markdown",
   "id": "1b395572-84e1-4f92-a8af-e2884e2587ea",
   "metadata": {},
   "source": [
    "#### 15. Discuss the concept of method overloading in Python inheritance. How does it differ from method overriding?\n",
    "\n",
    "Ans. n Python, method overloading and method overriding are two concepts related to polymorphism and inheritance, but they serve different purposes.\n",
    "\n",
    "Method Overloading: Method overloading refers to defining multiple methods in the same class with the same name but different parameter lists. Python does not support true method overloading like some other languages (e.g., Java), where you can have multiple methods with the same name but different parameter types or a different number of parameters. In Python, method overloading can be achieved in a limited way by using default values for parameters or variable-length argument lists (*args and **kwargs).\n",
    "\n",
    "Method Overriding: Method overriding occurs when a subclass provides a specific implementation for a method that is already defined in its superclass. The overridden method in the subclass has the same name and signature as the method in the parent class.\n",
    "\n",
    "Differences:\n",
    "1. Parameter Lists: Method overloading involves defining multiple methods with the same name but different parameter lists.\n",
    "Method overriding involves providing a specific implementation for a method with the same name and parameter list as in the superclass.\n",
    "\n",
    "2. Support in Python: Python does not support traditional method overloading with different parameter types or counts.\n",
    "Python supports method overriding, where a subclass can provide its own implementation for a method defined in the superclass.\n",
    "\n",
    "3. Use Cases: Method overloading is used when you want a method to perform different operations based on the number or type of arguments provided. Method overriding is used when you want a subclass to provide a specific implementation for a method defined in its superclass."
   ]
  },
  {
   "cell_type": "markdown",
   "id": "6d234c90-73b6-4cda-9743-92e84f5e7190",
   "metadata": {},
   "source": [
    "#### 16. Explain the purpose of the `__init__()` method in Python inheritance and how it is utilized in child classes.\n",
    "\n",
    "Ans. In the context of inheritance, the __init__() method is utilized to ensure that the initialization process includes both the attributes of the child class and those inherited from the parent class.\n",
    "\n",
    "Key points about the __init__() method in inheritance:\n",
    "\n",
    "1. Initialization of Parent Class Attributes: When a child class is created, its __init__() method can explicitly call the __init__() method of the parent class using super().__init__(). This ensures that the attributes of the parent class are properly initialized.\n",
    "\n",
    "2. Adding Child Class Attributes: The __init__() method of the child class can include additional parameters and initialization logic specific to the child class. This allows for the inclusion of attributes unique to the child class.\n",
    "\n",
    "3. Inheritance of Attributes: Attributes defined in the parent class are inherited by the child class. By calling super().__init__(), the child class can leverage the initialization logic of the parent class.\n",
    "\n",
    "Here's an example illustrating the use of __init__() in inheritance:"
   ]
  },
  {
   "cell_type": "code",
   "execution_count": 39,
   "id": "56ad87c2-702f-42b3-a909-4effce606c88",
   "metadata": {},
   "outputs": [
    {
     "name": "stdout",
     "output_type": "stream",
     "text": [
      "Initializing Dog: Canine, Golden Retriever\n",
      "Initializing Mammal: Canine\n",
      "Initializing Animal: Canine\n"
     ]
    }
   ],
   "source": [
    "class Animal:\n",
    "    def __init__(self, species):\n",
    "        print(f\"Initializing Animal: {species}\")\n",
    "        self.species = species\n",
    "\n",
    "class Mammal(Animal):\n",
    "    def __init__(self, species, sound):\n",
    "        print(f\"Initializing Mammal: {species}\")\n",
    "        super().__init__(species)\n",
    "        self.sound = sound\n",
    "\n",
    "class Dog(Mammal):\n",
    "    def __init__(self, species, sound, breed):\n",
    "        print(f\"Initializing Dog: {species}, {breed}\")\n",
    "        super().__init__(species, sound)\n",
    "        self.breed = breed\n",
    "\n",
    "# Example usage\n",
    "my_dog = Dog(species=\"Canine\", sound=\"Woof! Woof!\", breed=\"Golden Retriever\")"
   ]
  },
  {
   "cell_type": "markdown",
   "id": "51032126-a405-45f4-9d58-938337b529b8",
   "metadata": {},
   "source": [
    "#### 17. Create a Python class called `Bird` with a method `fly()`. Then, create child classes `Eagle` and `Sparrow` that inherit from `Bird` and implement the `fly()` method differently. Provide an example of using these classes."
   ]
  },
  {
   "cell_type": "code",
   "execution_count": 40,
   "id": "345fadc4-008c-4b44-b270-51ce0fee8809",
   "metadata": {},
   "outputs": [
    {
     "name": "stdout",
     "output_type": "stream",
     "text": [
      "Generic Flying\n",
      "Eagle Flying high\n",
      "Sparrow flying low\n"
     ]
    }
   ],
   "source": [
    "class Bird:\n",
    "    def fly(self):\n",
    "        print('Generic Flying')\n",
    "\n",
    "class Eagle(Bird):\n",
    "    def fly(self):\n",
    "        print('Eagle Flying high')\n",
    "\n",
    "class Sparrow(Bird):\n",
    "    def fly(self):\n",
    "        print('Sparrow flying low')\n",
    "\n",
    "bird = Bird()\n",
    "eagle = Eagle()\n",
    "sparrow = Sparrow()\n",
    "\n",
    "bird.fly()\n",
    "eagle.fly()\n",
    "sparrow.fly()"
   ]
  },
  {
   "cell_type": "markdown",
   "id": "7d3397ad-f2d5-4911-8dd2-c24f1a4c2fba",
   "metadata": {},
   "source": [
    "#### 18. What is the \"diamond problem\" in multiple inheritance, and how does Python address it?\n",
    "\n",
    "Ans. The \"diamond problem\" is a term used in the context of multiple inheritance in object-oriented programming, and it refers to a particular issue that arises when a class inherits from two classes that have a common ancestor. This situation creates an ambiguity in the method resolution order (MRO) when trying to access a method or attribute of the common ancestor.\n",
    "\n",
    "Let's illustrate the diamond problem with an example:"
   ]
  },
  {
   "cell_type": "code",
   "execution_count": 43,
   "id": "8178ba8d-d73a-49da-977f-7cca32c59242",
   "metadata": {},
   "outputs": [
    {
     "name": "stdout",
     "output_type": "stream",
     "text": [
      "Method in class B\n"
     ]
    }
   ],
   "source": [
    "class A:\n",
    "    def method(self):\n",
    "        print(\"Method in class A\")\n",
    "\n",
    "class B(A):\n",
    "    def method(self):\n",
    "        print(\"Method in class B\")\n",
    "\n",
    "class C(A):\n",
    "    def method(self):\n",
    "        print(\"Method in class C\")\n",
    "\n",
    "class D(B, C):\n",
    "    pass\n",
    "\n",
    "# Example usage\n",
    "instance_d = D()\n",
    "instance_d.method()"
   ]
  },
  {
   "cell_type": "markdown",
   "id": "48d419db-96d5-4166-bf86-aea65cfb0889",
   "metadata": {},
   "source": [
    "In Python, this issue is addressed using the C3 linearization algorithm to determine the method resolution order. The C3 linearization algorithm ensures a consistent and predictable order for method resolution, avoiding the ambiguity of the diamond problem."
   ]
  },
  {
   "cell_type": "markdown",
   "id": "9211c5c1-2a2e-4ec2-9807-823fe0bdd772",
   "metadata": {},
   "source": [
    "#### 19. Discuss the concept of \"is-a\" and \"has-a\" relationships in inheritance, and provide examples of each.\n",
    "\n",
    "Ans. In object-oriented programming, \"is-a\" and \"has-a\" relationships are concepts related to inheritance and composition, respectively. These relationships help model the relationships between classes and objects in a system.\n",
    "\n",
    "\"Is-a\" Relationship:\n",
    "Definition: In an \"is-a\" relationship, one class is considered a subtype or a specialization of another class. This relationship is typically expressed through inheritance, where a subclass inherits from a superclass.\n",
    "\n",
    "Usage: An object of the subclass \"is-a\" type of the superclass, and it can be used wherever an object of the superclass is expected."
   ]
  },
  {
   "cell_type": "code",
   "execution_count": 44,
   "id": "a2aeafe3-5cec-4244-8d9b-702e9e757605",
   "metadata": {},
   "outputs": [
    {
     "name": "stdout",
     "output_type": "stream",
     "text": [
      "Generic animal sound\n",
      "Woof! Woof!\n"
     ]
    }
   ],
   "source": [
    "class Animal:\n",
    "    def speak(self):\n",
    "        print(\"Generic animal sound\")\n",
    "\n",
    "class Dog(Animal):\n",
    "    def bark(self):\n",
    "        print(\"Woof! Woof!\")\n",
    "\n",
    "# Example usage\n",
    "my_dog = Dog()\n",
    "my_dog.speak()  # Inherits from Animal, so it \"is-a\" Animal\n",
    "my_dog.bark()   # Specific behavior of Dog"
   ]
  },
  {
   "cell_type": "markdown",
   "id": "627ff84e-e489-4885-a3b7-a7fb4793b640",
   "metadata": {},
   "source": [
    "\"Has-a\" Relationship:\n",
    "Definition: In a \"has-a\" relationship, one class contains an instance of another class as a member. This is often referred to as composition or aggregation.\n",
    "\n",
    "Usage: The class that \"has-a\" relationship with another class contains an object of that class as an attribute. It delegates functionality to the contained object."
   ]
  },
  {
   "cell_type": "code",
   "execution_count": 45,
   "id": "8e96569e-38c6-4e6f-b3c8-8cfb2cd8c5bc",
   "metadata": {},
   "outputs": [
    {
     "name": "stdout",
     "output_type": "stream",
     "text": [
      "Car is moving\n",
      "Engine started\n"
     ]
    }
   ],
   "source": [
    "class Engine:\n",
    "    def start(self):\n",
    "        print(\"Engine started\")\n",
    "\n",
    "class Car:\n",
    "    def __init__(self):\n",
    "        self.engine = Engine()\n",
    "\n",
    "    def drive(self):\n",
    "        print(\"Car is moving\")\n",
    "\n",
    "# Example usage\n",
    "my_car = Car()\n",
    "my_car.drive()       # Uses the functionality of Car\n",
    "my_car.engine.start()  # Uses the functionality of Engine through composition"
   ]
  },
  {
   "cell_type": "markdown",
   "id": "0cbed928-12e1-4036-af6d-75b06e135584",
   "metadata": {},
   "source": [
    "#### 20. Create a Python class hierarchy for a university system. Start with a base class `Person` and create child classes `Student` and `Professor`, each with their own attributes and methods. Provide an example of using these classes in a university context."
   ]
  },
  {
   "cell_type": "code",
   "execution_count": 48,
   "id": "a8e04759-82d3-4195-a32b-202b9d08a25d",
   "metadata": {},
   "outputs": [
    {
     "name": "stdout",
     "output_type": "stream",
     "text": [
      "Hi, I'm Shivam, and I'm 33 years old.\n",
      "Hi, I'm Dr. Jackal, and I'm 45 years old.\n",
      "Student Shivam is studying.\n",
      "Professor Dr. Jackal is teaching.\n"
     ]
    }
   ],
   "source": [
    "class Person:\n",
    "    def __init__(self, name, age):\n",
    "        self.name = name\n",
    "        self.age = age\n",
    "\n",
    "    def introduce(self):\n",
    "        print(f\"Hi, I'm {self.name}, and I'm {self.age} years old.\")\n",
    "\n",
    "class Student(Person):\n",
    "    def __init__(self, name, age, student_id):\n",
    "        super().__init__(name, age)\n",
    "        self.student_id = student_id\n",
    "\n",
    "    def study(self):\n",
    "        print(f\"Student {self.name} is studying.\")\n",
    "\n",
    "class Professor(Person):\n",
    "    def __init__(self, name, age, employee_id):\n",
    "        super().__init__(name, age)\n",
    "        self.employee_id = employee_id\n",
    "\n",
    "    def teach(self):\n",
    "        print(f\"Professor {self.name} is teaching.\")\n",
    "\n",
    "# Example usage\n",
    "student1 = Student(name=\"Shivam\", age=33, student_id=\"S12345\")\n",
    "professor1 = Professor(name=\"Dr. Jackal\", age=45, employee_id=\"P98765\")\n",
    "\n",
    "# Introduce themselves\n",
    "student1.introduce()\n",
    "professor1.introduce()\n",
    "\n",
    "# Student studying and Professor teaching\n",
    "student1.study()\n",
    "professor1.teach()"
   ]
  },
  {
   "cell_type": "markdown",
   "id": "3d55049d-7958-4bbf-a0c3-2b30e9384d42",
   "metadata": {},
   "source": [
    "# Encapsulation:"
   ]
  },
  {
   "cell_type": "markdown",
   "id": "9c65bdbf-c1c2-4c30-ad83-aaade7fdd5ca",
   "metadata": {},
   "source": [
    "#### 1. Explain the concept of encapsulation in Python. What is its role in object-oriented programming?\n",
    "\n",
    "Ans. Encapsulation is one of the four fundamental principles of object-oriented programming (OOP), along with inheritance, polymorphism, and abstraction. It refers to the bundling of data (attributes) and methods (functions) that operate on the data into a single unit, known as a class. Encapsulation helps in hiding the internal implementation details of a class and exposing only the necessary functionalities through a well-defined interface."
   ]
  },
  {
   "cell_type": "code",
   "execution_count": 49,
   "id": "bb986fdd-c4cd-4c87-9015-623ce30cedd8",
   "metadata": {},
   "outputs": [
    {
     "name": "stdout",
     "output_type": "stream",
     "text": [
      "Initial Balance: 1000\n",
      "Balance after deposit: 1500\n",
      "Balance after withdrawal: 1300\n"
     ]
    }
   ],
   "source": [
    "class BankAccount:\n",
    "    def __init__(self, account_number, balance):\n",
    "        self._account_number = account_number  # Encapsulation: Using a single leading underscore\n",
    "        self._balance = balance\n",
    "\n",
    "    def get_balance(self):\n",
    "        return self._balance\n",
    "\n",
    "    def deposit(self, amount):\n",
    "        if amount > 0:\n",
    "            self._balance += amount\n",
    "\n",
    "    def withdraw(self, amount):\n",
    "        if amount > 0 and amount <= self._balance:\n",
    "            self._balance -= amount\n",
    "\n",
    "# Example usage\n",
    "account1 = BankAccount(account_number=\"123456\", balance=1000)\n",
    "print(\"Initial Balance:\", account1.get_balance())\n",
    "\n",
    "account1.deposit(500)\n",
    "print(\"Balance after deposit:\", account1.get_balance())\n",
    "\n",
    "account1.withdraw(200)\n",
    "print(\"Balance after withdrawal:\", account1.get_balance())"
   ]
  },
  {
   "cell_type": "markdown",
   "id": "55bf3dd5-2f81-4df9-b4c0-6d1702715e64",
   "metadata": {},
   "source": [
    "#### 2. Describe the key principles of encapsulation, including access control and data hiding.\n",
    "\n",
    "Ans. \n",
    "\n",
    "1. Access Control: Access control involves regulating the visibility and accessibility of the attributes and methods of a class. It ensures that the internal details of a class are hidden from external code, and interactions with the class are performed through well-defined interfaces. In Python, access control is achieved through access specifiers:\n",
    "\n",
    "Public (public): Attributes and methods marked as public are accessible from outside the class. In Python, members without any leading underscores are considered public by convention.\n",
    "\n",
    "Private (private): Attributes and methods marked as private are intended for internal use within the class and should not be accessed directly from outside the class. In Python, members with a single leading underscore (_) are considered private by convention.\n",
    "\n",
    "Protected (protected): Attributes and methods marked as protected have limited accessibility, allowing access within the class and its subclasses. In Python, members with a double leading underscore (__) followed by at most one trailing underscore are considered protected by convention.\n",
    "\n",
    "2. Data Hiding:\n",
    "Data hiding involves restricting direct access to the internal attributes of a class. It helps prevent unintended modifications to the internal state of an object and ensures that access is controlled through methods, allowing for validation and encapsulation of the implementation details.\n",
    "\n",
    "In Python, data hiding is often achieved by using private attributes and providing public methods (getters and setters) for accessing and modifying those attributes."
   ]
  },
  {
   "cell_type": "markdown",
   "id": "5ec14beb-b4d0-41a0-8e86-16ce672be71d",
   "metadata": {},
   "source": [
    "#### 3. How can you achieve encapsulation in Python classes? Provide an example.\n",
    "\n",
    "Ans. Encapsulation in Python classes can be achieved by using access specifiers and adhering to certain naming conventions. Here's a simple example to demonstrate encapsulation:"
   ]
  },
  {
   "cell_type": "code",
   "execution_count": 1,
   "id": "45709691-93de-45d7-9060-7604c43a19f4",
   "metadata": {},
   "outputs": [
    {
     "name": "stdout",
     "output_type": "stream",
     "text": [
      "Make: Volkswagon\n",
      "Model: Polo\n",
      "Year: 2019\n",
      "Modified Model: Polo\n",
      "Modified Year: 2020\n"
     ]
    }
   ],
   "source": [
    "class Car:\n",
    "    def __init__(self, make, model, year):\n",
    "        self._make = make    # Protected attribute\n",
    "        self._model = model  # Protected attribute\n",
    "        self.__year = year    # Private attribute\n",
    "\n",
    "    # Getter methods for accessing protected and private attributes\n",
    "    def get_make(self):\n",
    "        return self._make\n",
    "\n",
    "    def get_model(self):\n",
    "        return self._model\n",
    "\n",
    "    def get_year(self):\n",
    "        return self.__year\n",
    "\n",
    "    # Setter method for modifying a protected attribute\n",
    "    def set_model(self, new_model):\n",
    "        self._model = new_model\n",
    "\n",
    "    # Setter method for modifying a private attribute\n",
    "    def set_year(self, new_year):\n",
    "        self.__year = new_year\n",
    "\n",
    "# Example usage\n",
    "my_car = Car(make=\"Volkswagon\", model=\"Polo\", year=2019)\n",
    "\n",
    "# Accessing attributes using getter methods\n",
    "print(f\"Make: {my_car.get_make()}\")\n",
    "print(f\"Model: {my_car.get_model()}\")\n",
    "print(f\"Year: {my_car.get_year()}\")\n",
    "\n",
    "# Modifying attributes using setter methods\n",
    "my_car.set_model(\"Polo\")\n",
    "my_car.set_year(2020)\n",
    "\n",
    "# Accessing attributes after modification\n",
    "print(f\"Modified Model: {my_car.get_model()}\")\n",
    "print(f\"Modified Year: {my_car.get_year()}\")"
   ]
  },
  {
   "cell_type": "markdown",
   "id": "e14cbbc4-d908-4378-8207-0e150c88fbcf",
   "metadata": {},
   "source": [
    "#### 4. Discuss the difference between public, private, and protected access modifiers in Python.\n",
    "\n",
    "Ans. In Python, access modifiers are used to control the visibility of class members (attributes and methods) from outside the class. The three main access modifiers are:\n",
    "\n",
    "Public (default): In Python, all members of a class are public by default. Public members can be accessed from outside the class without any restrictions. Example:"
   ]
  },
  {
   "cell_type": "code",
   "execution_count": 1,
   "id": "442d7f6e-2a32-4811-adcd-9298f5f14c36",
   "metadata": {},
   "outputs": [
    {
     "name": "stdout",
     "output_type": "stream",
     "text": [
      "10\n"
     ]
    }
   ],
   "source": [
    "class MyClass:\n",
    "    def __init__(self):\n",
    "        self.public_variable = 10\n",
    "\n",
    "obj = MyClass()\n",
    "print(obj.public_variable)  # Accessing public member\n"
   ]
  },
  {
   "cell_type": "markdown",
   "id": "2fd3dd86-0bd6-4387-b06c-755b23e08f0d",
   "metadata": {},
   "source": [
    "Private: Members marked as private are denoted by a double underscore (__) prefix. Private members can only be accessed within the class. Attempts to access them from outside the class will result in an AttributeError."
   ]
  },
  {
   "cell_type": "code",
   "execution_count": 3,
   "id": "83606436-9183-48fc-aecb-7f32a3f83cfe",
   "metadata": {},
   "outputs": [
    {
     "ename": "AttributeError",
     "evalue": "'MyClass' object has no attribute '__private_variable'",
     "output_type": "error",
     "traceback": [
      "\u001b[0;31m---------------------------------------------------------------------------\u001b[0m",
      "\u001b[0;31mAttributeError\u001b[0m                            Traceback (most recent call last)",
      "Cell \u001b[0;32mIn[3], line 7\u001b[0m\n\u001b[1;32m      5\u001b[0m obj \u001b[38;5;241m=\u001b[39m MyClass()\n\u001b[1;32m      6\u001b[0m \u001b[38;5;66;03m# Accessing private member outside the class will raise an AttributeError\u001b[39;00m\n\u001b[0;32m----> 7\u001b[0m \u001b[38;5;28mprint\u001b[39m(\u001b[43mobj\u001b[49m\u001b[38;5;241;43m.\u001b[39;49m\u001b[43m__private_variable\u001b[49m)\n",
      "\u001b[0;31mAttributeError\u001b[0m: 'MyClass' object has no attribute '__private_variable'"
     ]
    }
   ],
   "source": [
    "class MyClass:\n",
    "    def __init__(self):\n",
    "        self.__private_variable = 20\n",
    "\n",
    "obj = MyClass()\n",
    "# Accessing private member outside the class will raise an AttributeError\n",
    "print(obj.__private_variable)\n"
   ]
  },
  {
   "cell_type": "markdown",
   "id": "43a1fea3-1092-4128-bd02-e24d5091afd3",
   "metadata": {},
   "source": [
    "Protected: Members marked as protected are denoted by a single underscore (_) prefix. Protected members can be accessed within the class and its subclasses (inherited classes). Unlike some other languages, there is no strict enforcement of protected access in Python, and it relies on naming conventions to signal intent."
   ]
  },
  {
   "cell_type": "code",
   "execution_count": 4,
   "id": "d107081c-dbf6-4be5-a0d8-da00ccf23c44",
   "metadata": {},
   "outputs": [
    {
     "name": "stdout",
     "output_type": "stream",
     "text": [
      "30\n"
     ]
    }
   ],
   "source": [
    "class MyClass:\n",
    "    def __init__(self):\n",
    "        self._protected_variable = 30\n",
    "\n",
    "class MyDerivedClass(MyClass):\n",
    "    def display_protected(self):\n",
    "        # Protected member can be accessed in a subclass\n",
    "        print(self._protected_variable)\n",
    "\n",
    "obj = MyDerivedClass()\n",
    "obj.display_protected()  # Accessing protected member from a subclass"
   ]
  },
  {
   "cell_type": "markdown",
   "id": "a45a1ad2-e481-4f2d-8776-a4f789b139a1",
   "metadata": {},
   "source": [
    "#### 5. Create a Python class called `Person` with a private attribute `__name`. Provide methods to get and set the name attribute."
   ]
  },
  {
   "cell_type": "code",
   "execution_count": 6,
   "id": "c6db88aa-4838-41d3-822d-36cb172382b5",
   "metadata": {},
   "outputs": [
    {
     "name": "stdout",
     "output_type": "stream",
     "text": [
      "Current name: Shivam\n",
      "New name: Shivam Sharma\n"
     ]
    }
   ],
   "source": [
    "class Person:\n",
    "    def __init__(self, name):\n",
    "        # Private attribute with a double underscore prefix\n",
    "        self.__name = name\n",
    "\n",
    "    def get_name(self):\n",
    "        # Getter method for the private attribute\n",
    "        return self.__name\n",
    "\n",
    "    def set_name(self, new_name):\n",
    "        # Setter method for the private attribute\n",
    "        self.__name = new_name\n",
    "\n",
    "# Example usage:\n",
    "person = Person(\"Shivam\")\n",
    "\n",
    "# Accessing the private attribute using the getter method\n",
    "current_name = person.get_name()\n",
    "print(\"Current name:\", current_name)\n",
    "\n",
    "# Using the setter method to change the name\n",
    "person.set_name(\"Shivam Sharma\")\n",
    "\n",
    "# Accessing the private attribute again after modification\n",
    "new_name = person.get_name()\n",
    "print(\"New name:\", new_name)"
   ]
  },
  {
   "cell_type": "markdown",
   "id": "9691e1b7-f466-4f01-ae30-349319f5d60d",
   "metadata": {},
   "source": [
    "#### 6. Explain the purpose of getter and setter methods in encapsulation. Provide examples."
   ]
  },
  {
   "cell_type": "code",
   "execution_count": 7,
   "id": "c94ca317-24c1-4df0-9089-8d825c697199",
   "metadata": {},
   "outputs": [
    {
     "name": "stdout",
     "output_type": "stream",
     "text": [
      "Name: Shivam\n"
     ]
    }
   ],
   "source": [
    "'''\n",
    "Getter Methods:\n",
    "Purpose: Provide controlled access to the private attributes of a class. Allow external code to retrieve the values of attributes without directly accessing them.\n",
    "Example:\n",
    "'''\n",
    "class Person:\n",
    "    def __init__(self, name):\n",
    "        self.__name = name  # Private attribute\n",
    "\n",
    "    def get_name(self):\n",
    "        return self.__name  # Getter method\n",
    "\n",
    "# Usage:\n",
    "person = Person(\"Shivam\")\n",
    "name = person.get_name()  # Accessing the private attribute using the getter method\n",
    "print(\"Name:\", name)"
   ]
  },
  {
   "cell_type": "code",
   "execution_count": 8,
   "id": "0c481058-f5df-4e98-a56c-696a0e140046",
   "metadata": {},
   "outputs": [],
   "source": [
    "'''\n",
    "Setter Methods:\n",
    "Purpose: Provide controlled modification of the private attributes of a class. Allow external code to update the values of attributes with additional checks or validations.\n",
    "'''\n",
    "\n",
    "class Person:\n",
    "    def __init__(self, name):\n",
    "        self.__name = name  # Private attribute\n",
    "\n",
    "    def set_name(self, new_name):\n",
    "        if isinstance(new_name, str):\n",
    "            self.__name = new_name  # Setter method with validation\n",
    "\n",
    "# Usage:\n",
    "person = Person(\"Shivam\")\n",
    "person.set_name(\"Shivam Sharma\")  # Updating the private attribute using the setter method"
   ]
  },
  {
   "cell_type": "markdown",
   "id": "43d1c4f9-feed-4877-ae9c-0df04becb3e5",
   "metadata": {},
   "source": [
    "#### 7. What is name mangling in Python, and how does it affect encapsulation?\n",
    "\n",
    "Ans. Name mangling in Python is a mechanism used to make the names of attributes in a class more unique by adding a prefix to them. This is done by the interpreter to avoid naming conflicts between attributes in different classes. Name mangling is achieved by adding a double underscore (__) as a prefix to an attribute name.\n",
    "\n",
    "The primary purpose of name mangling is to make it less likely that a name used in a subclass will accidentally override the name of an attribute in a parent class. It's not meant to provide true encapsulation or security; rather, it serves as a convention to signal that an attribute is intended to be private and should not be accessed directly from outside the class."
   ]
  },
  {
   "cell_type": "code",
   "execution_count": 9,
   "id": "0e3af90f-ffb6-420b-a773-c6fba0745a52",
   "metadata": {},
   "outputs": [
    {
     "name": "stdout",
     "output_type": "stream",
     "text": [
      "99\n"
     ]
    },
    {
     "ename": "AttributeError",
     "evalue": "'MyDerivedClass' object has no attribute '__private_variable'",
     "output_type": "error",
     "traceback": [
      "\u001b[0;31m---------------------------------------------------------------------------\u001b[0m",
      "\u001b[0;31mAttributeError\u001b[0m                            Traceback (most recent call last)",
      "Cell \u001b[0;32mIn[9], line 26\u001b[0m\n\u001b[1;32m     22\u001b[0m \u001b[38;5;28mprint\u001b[39m(obj\u001b[38;5;241m.\u001b[39mget_private_variable())  \u001b[38;5;66;03m# Output: 99\u001b[39;00m\n\u001b[1;32m     24\u001b[0m \u001b[38;5;66;03m# Attempting to access the private variable directly\u001b[39;00m\n\u001b[1;32m     25\u001b[0m \u001b[38;5;66;03m# This will raise an AttributeError since name mangling changes the actual attribute name\u001b[39;00m\n\u001b[0;32m---> 26\u001b[0m \u001b[38;5;28mprint\u001b[39m(\u001b[43mobj\u001b[49m\u001b[38;5;241;43m.\u001b[39;49m\u001b[43m__private_variable\u001b[49m)\n",
      "\u001b[0;31mAttributeError\u001b[0m: 'MyDerivedClass' object has no attribute '__private_variable'"
     ]
    }
   ],
   "source": [
    "class MyClass:\n",
    "    def __init__(self):\n",
    "        self.__private_variable = 42\n",
    "\n",
    "    def get_private_variable(self):\n",
    "        return self.__private_variable\n",
    "\n",
    "\n",
    "class MyDerivedClass(MyClass):\n",
    "    def __init__(self):\n",
    "        super().__init__()\n",
    "        self.__private_variable = 99  # This is a different variable than in the parent class\n",
    "\n",
    "    def get_private_variable(self):\n",
    "        return self.__private_variable  # This does not override the parent's method\n",
    "\n",
    "\n",
    "# Usage\n",
    "obj = MyDerivedClass()\n",
    "\n",
    "# Accessing the private variable through the getter method\n",
    "print(obj.get_private_variable())  # Output: 99\n",
    "\n",
    "# Attempting to access the private variable directly\n",
    "# This will raise an AttributeError since name mangling changes the actual attribute name\n",
    "print(obj.__private_variable)"
   ]
  },
  {
   "cell_type": "markdown",
   "id": "35774bd7-59f5-4e61-a37a-b416dc2ae354",
   "metadata": {},
   "source": [
    "#### 8. Create a Python class called `BankAccount` with private attributes for the account balance (`__balance`)"
   ]
  },
  {
   "cell_type": "code",
   "execution_count": 12,
   "id": "18cf8bce-477f-4e55-b6f0-d34c9cdfc597",
   "metadata": {},
   "outputs": [
    {
     "name": "stdout",
     "output_type": "stream",
     "text": [
      "Current balance: 1000.0\n",
      "Deposited Rs.50.0. New balance: Rs. 1050.0\n",
      "Withdrew Rs.30.0. New balance: Rs.1020.0\n"
     ]
    }
   ],
   "source": [
    "class BankAccount:\n",
    "    def __init__(self, initial_balance=0.0):\n",
    "        # Private attribute for account balance with double underscore prefix\n",
    "        self.__balance = initial_balance\n",
    "\n",
    "    def get_balance(self):\n",
    "        # Getter method for the private attribute\n",
    "        return self.__balance\n",
    "\n",
    "    def deposit(self, amount):\n",
    "        # Method to deposit money into the account\n",
    "        if amount > 0:\n",
    "            self.__balance += amount\n",
    "            print(f\"Deposited Rs.{amount}. New balance: Rs. {self.__balance}\")\n",
    "        else:\n",
    "            print(\"Invalid deposit amount. Please deposit a positive amount.\")\n",
    "\n",
    "    def withdraw(self, amount):\n",
    "        # Method to withdraw money from the account\n",
    "        if 0 < amount <= self.__balance:\n",
    "            self.__balance -= amount\n",
    "            print(f\"Withdrew Rs.{amount}. New balance: Rs.{self.__balance}\")\n",
    "        elif amount <= 0:\n",
    "            print(\"Invalid withdrawal amount. Please withdraw a positive amount.\")\n",
    "        else:\n",
    "            print(\"Insufficient funds. Withdrawal amount exceeds the account balance.\")\n",
    "\n",
    "# Example usage:\n",
    "account = BankAccount(1000.0)\n",
    "\n",
    "# Accessing the private attribute using the getter method\n",
    "current_balance = account.get_balance()\n",
    "print(\"Current balance:\", current_balance)\n",
    "\n",
    "# Depositing money into the account\n",
    "account.deposit(50.0)\n",
    "\n",
    "# Withdrawing money from the account\n",
    "account.withdraw(30.0)"
   ]
  },
  {
   "cell_type": "markdown",
   "id": "02784fc8-116a-4497-8e8f-e0effbf4571a",
   "metadata": {},
   "source": [
    "#### 9. Discuss the advantages of encapsulation in terms of code maintainability and security.\n",
    "\n",
    "Ans. Code Maintainability:\n",
    "\n",
    "1. Modularity: Encapsulation promotes modularity by grouping related data (attributes) and behavior (methods) together within a class. This makes it easier to understand and maintain code, as each class represents a self-contained unit.\n",
    "2. Abstraction: Encapsulation allows you to hide the implementation details of a class and expose only the necessary functionalities through well-defined interfaces (methods). This abstraction simplifies the usage of a class, making it easier for developers to work with and reducing the impact of changes to the internal implementation.\n",
    "3. Readability and Understandability: By encapsulating data and behavior within a class, code becomes more readable and understandable. Class names, method names, and the structure of the class provide a clear and organized way to represent the functionality of the system.\n",
    "4. Code Reusability: Encapsulation promotes code reusability by encapsulating commonly used functionalities into classes. These classes can then be reused in different parts of the code or even in different projects, reducing redundancy and making maintenance more efficient.\n",
    "\n",
    "Security:\n",
    "1. Access Control: Encapsulation allows you to control access to the internal state of an object. By using access modifiers (e.g., private, protected), you can restrict direct access to certain attributes or methods. This prevents unintended interference and manipulation of critical data, enhancing the security of the code.\n",
    "2. Prevention of Unintended Modifications: Encapsulation prevents unintended modifications to the internal state of an object by providing controlled access through methods. This helps prevent bugs and errors that could arise from accidentally altering the state in unexpected ways.\n",
    "3. Encapsulation as a Barrier: Encapsulation creates a barrier between the internal implementation of a class and the external code that uses it. This separation reduces the likelihood of unintended side effects when making changes to the internal details of a class.\n",
    "4. Facilitates Secure Coding Practices: Encapsulation encourages the use of getter and setter methods, allowing for additional logic or checks during the access or modification of attributes. This facilitates the implementation of secure coding practices, such as input validation and error handling."
   ]
  },
  {
   "cell_type": "markdown",
   "id": "47159948-cddb-495e-b559-9a1b70797b38",
   "metadata": {},
   "source": [
    "#### 10. How can you access private attributes in Python? Provide an example demonstrating the use of name mangling.\n",
    "\n",
    "Ans. In Python, private attributes are typically marked by a double underscore prefix (e.g., __attribute). While access to private attributes from outside the class is not encouraged, it is still possible to access them using a technique called name mangling. Name mangling involves modifying the name of the private attribute by adding a prefix that includes the class name.\n",
    "\n",
    "Here's an example demonstrating the use of name mangling to access a private attribute:"
   ]
  },
  {
   "cell_type": "code",
   "execution_count": 13,
   "id": "a827a5c2-7c2f-40e5-aefd-1cae03a95ace",
   "metadata": {},
   "outputs": [
    {
     "name": "stdout",
     "output_type": "stream",
     "text": [
      "I am private!\n"
     ]
    }
   ],
   "source": [
    "class MyClass:\n",
    "    def __init__(self):\n",
    "        # Private attribute with double underscore prefix\n",
    "        self.__private_attribute = \"I am private!\"\n",
    "\n",
    "# Creating an instance of the class\n",
    "obj = MyClass()\n",
    "\n",
    "# Attempting to access the private attribute directly will result in an AttributeError\n",
    "# print(obj.__private_attribute)  # This line would raise an AttributeError\n",
    "\n",
    "# Accessing the private attribute using name mangling\n",
    "# The actual name of the private attribute is modified to include the class name: _MyClass__private_attribute\n",
    "mangled_name = obj._MyClass__private_attribute\n",
    "print(mangled_name)  # Output: I am private!"
   ]
  },
  {
   "cell_type": "markdown",
   "id": "dd21e0cf-4542-432e-9859-405a0b593e50",
   "metadata": {},
   "source": [
    "#### 11. Create a Python class hierarchy for a school system, including classes for students, teachers, and courses, and implement encapsulation principles to protect sensitive information."
   ]
  },
  {
   "cell_type": "code",
   "execution_count": 14,
   "id": "822aa426-2516-47f2-9e58-8fb87e42c522",
   "metadata": {},
   "outputs": [
    {
     "name": "stdout",
     "output_type": "stream",
     "text": [
      "Course: MATH101 - Introduction to Math\n",
      "Teacher: John Smith (T123)\n",
      "Students:\n",
      "  Alice Johnson (S001)\n",
      "  Bob Williams (S002)\n",
      "\n",
      "After modifications:\n",
      "Teacher's name: John Doe\n",
      "Modified course name: Mathematics 101\n",
      "Updated list of students:\n",
      "  Alice Johnson (S001)\n",
      "  Bob Williams (S002)\n",
      "  Charlie Brown (S003)\n"
     ]
    }
   ],
   "source": [
    "class Person:\n",
    "    def __init__(self, name, age):\n",
    "        self.__name = name\n",
    "        self.__age = age\n",
    "\n",
    "    def get_name(self):\n",
    "        return self.__name\n",
    "\n",
    "    def set_name(self, new_name):\n",
    "        self.__name = new_name\n",
    "\n",
    "    def get_age(self):\n",
    "        return self.__age\n",
    "\n",
    "    def set_age(self, new_age):\n",
    "        if 0 <= new_age <= 150:  # Assuming a reasonable age range\n",
    "            self.__age = new_age\n",
    "        else:\n",
    "            print(\"Invalid age. Please provide a valid age.\")\n",
    "\n",
    "class Student(Person):\n",
    "    def __init__(self, name, age, student_id):\n",
    "        super().__init__(name, age)\n",
    "        self.__student_id = student_id\n",
    "\n",
    "    def get_student_id(self):\n",
    "        return self.__student_id\n",
    "\n",
    "    def set_student_id(self, new_student_id):\n",
    "        self.__student_id = new_student_id\n",
    "\n",
    "class Teacher(Person):\n",
    "    def __init__(self, name, age, employee_id):\n",
    "        super().__init__(name, age)\n",
    "        self.__employee_id = employee_id\n",
    "\n",
    "    def get_employee_id(self):\n",
    "        return self.__employee_id\n",
    "\n",
    "    def set_employee_id(self, new_employee_id):\n",
    "        self.__employee_id = new_employee_id\n",
    "\n",
    "class Course:\n",
    "    def __init__(self, course_code, course_name, teacher, students=None):\n",
    "        self.__course_code = course_code\n",
    "        self.__course_name = course_name\n",
    "        self.__teacher = teacher\n",
    "        self.__students = students if students else []\n",
    "\n",
    "    def get_course_code(self):\n",
    "        return self.__course_code\n",
    "\n",
    "    def set_course_code(self, new_course_code):\n",
    "        self.__course_code = new_course_code\n",
    "\n",
    "    def get_course_name(self):\n",
    "        return self.__course_name\n",
    "\n",
    "    def set_course_name(self, new_course_name):\n",
    "        self.__course_name = new_course_name\n",
    "\n",
    "    def get_teacher(self):\n",
    "        return self.__teacher\n",
    "\n",
    "    def set_teacher(self, new_teacher):\n",
    "        self.__teacher = new_teacher\n",
    "\n",
    "    def get_students(self):\n",
    "        return self.__students\n",
    "\n",
    "    def add_student(self, student):\n",
    "        self.__students.append(student)\n",
    "\n",
    "    def remove_student(self, student):\n",
    "        self.__students.remove(student)\n",
    "\n",
    "# Example usage:\n",
    "teacher = Teacher(\"John Smith\", 35, \"T123\")\n",
    "student1 = Student(\"Alice Johnson\", 18, \"S001\")\n",
    "student2 = Student(\"Bob Williams\", 17, \"S002\")\n",
    "\n",
    "math_course = Course(\"MATH101\", \"Introduction to Math\", teacher, [student1, student2])\n",
    "\n",
    "print(f\"Course: {math_course.get_course_code()} - {math_course.get_course_name()}\")\n",
    "print(f\"Teacher: {math_course.get_teacher().get_name()} ({math_course.get_teacher().get_employee_id()})\")\n",
    "\n",
    "print(\"Students:\")\n",
    "for student in math_course.get_students():\n",
    "    print(f\"  {student.get_name()} ({student.get_student_id()})\")\n",
    "\n",
    "# Modifying attributes using setter methods\n",
    "teacher.set_name(\"John Doe\")\n",
    "math_course.set_course_name(\"Mathematics 101\")\n",
    "\n",
    "# Adding a new student\n",
    "new_student = Student(\"Charlie Brown\", 19, \"S003\")\n",
    "math_course.add_student(new_student)\n",
    "\n",
    "print(\"\\nAfter modifications:\")\n",
    "print(f\"Teacher's name: {teacher.get_name()}\")\n",
    "print(f\"Modified course name: {math_course.get_course_name()}\")\n",
    "print(\"Updated list of students:\")\n",
    "for student in math_course.get_students():\n",
    "    print(f\"  {student.get_name()} ({student.get_student_id()})\")"
   ]
  },
  {
   "cell_type": "markdown",
   "id": "4763bd88-aab2-4d39-a1d7-3c5e5b32f724",
   "metadata": {},
   "source": [
    "#### 12. Explain the concept of property decorators in Python and how they relate to encapsulation.\n",
    "\n",
    "Ans.  In Python, property decorators are a way to implement getter, setter, and deleter methods for class attributes. They provide a more elegant and Pythonic way to encapsulate the access and modification of class attributes by allowing you to define methods that act like attributes. The property decorator is used to define a property in a class. It consists of three parts:\n",
    "\n",
    "1. Getter Method: Retrieves the value of the property.\n",
    "2. Setter Method: Allows you to modify the value of the property.\n",
    "3. Deleter Method (optional): Allows you to delete the property.\n",
    "\n",
    "Here's an example to illustrate the use of property decorators and how they relate to encapsulation:"
   ]
  },
  {
   "cell_type": "code",
   "execution_count": 15,
   "id": "4ab06987-1771-48af-b72c-ebfa8bda7951",
   "metadata": {},
   "outputs": [
    {
     "name": "stdout",
     "output_type": "stream",
     "text": [
      "Name: John Doe\n",
      "Age: 30\n",
      "Invalid age. Please provide a valid age.\n",
      "Age attribute deleted.\n"
     ]
    }
   ],
   "source": [
    "class Person:\n",
    "    def __init__(self, name, age):\n",
    "        self._name = name  # Protected attribute\n",
    "        self._age = age    # Protected attribute\n",
    "\n",
    "    @property\n",
    "    def name(self):\n",
    "        return self._name\n",
    "\n",
    "    @name.setter\n",
    "    def name(self, new_name):\n",
    "        if isinstance(new_name, str):\n",
    "            self._name = new_name\n",
    "        else:\n",
    "            print(\"Invalid name. Please provide a valid string.\")\n",
    "\n",
    "    @property\n",
    "    def age(self):\n",
    "        return self._age\n",
    "\n",
    "    @age.setter\n",
    "    def age(self, new_age):\n",
    "        if 0 <= new_age <= 150:  # Assuming a reasonable age range\n",
    "            self._age = new_age\n",
    "        else:\n",
    "            print(\"Invalid age. Please provide a valid age.\")\n",
    "\n",
    "    @age.deleter\n",
    "    def age(self):\n",
    "        print(\"Age attribute deleted.\")\n",
    "        del self._age\n",
    "\n",
    "# Example usage:\n",
    "person = Person(\"John Doe\", 30)\n",
    "\n",
    "# Using the getter methods\n",
    "print(f\"Name: {person.name}\")\n",
    "print(f\"Age: {person.age}\")\n",
    "\n",
    "# Using the setter methods\n",
    "person.name = \"Jane Doe\"\n",
    "person.age = 35\n",
    "\n",
    "# Attempting to set an invalid age\n",
    "person.age = 200  # This will print an error message\n",
    "\n",
    "# Deleting the 'age' attribute\n",
    "del person.age  # This will print \"Age attribute deleted.\""
   ]
  },
  {
   "cell_type": "markdown",
   "id": "02771a5c-f9ab-48bb-b246-f87fac5423b2",
   "metadata": {},
   "source": [
    "#### 13. What is data hiding, and why is it important in encapsulation? Provide examples.\n",
    "\n",
    "Ans. Data hiding is a concept in programming that refers to the practice of restricting access to certain details of an object and preventing the direct manipulation of its internal state by external code. The goal is to hide the implementation details of a class and expose only the necessary functionalities through well-defined interfaces. In other words, data hiding is a key aspect of encapsulation, one of the fundamental principles of object-oriented programming (OOP)."
   ]
  },
  {
   "cell_type": "code",
   "execution_count": 17,
   "id": "3a4fe984-5f45-45dc-a89c-92d52429ab43",
   "metadata": {},
   "outputs": [
    {
     "name": "stdout",
     "output_type": "stream",
     "text": [
      "123456\n",
      "Current balance: 1000.0\n",
      "Withdrew Rs.500. New balance: Rs.500.0\n"
     ]
    }
   ],
   "source": [
    "class BankAccount:\n",
    "    def __init__(self, account_number, balance):\n",
    "        self._account_number = account_number  # Protected attribute\n",
    "        self._balance = balance  # Protected attribute\n",
    "\n",
    "    def get_balance(self):\n",
    "        return self._balance\n",
    "\n",
    "    def deposit(self, amount):\n",
    "        if amount > 0:\n",
    "            self._balance += amount\n",
    "            print(f\"Deposited Rs.{amount}. New balance: Rs.{self._balance}\")\n",
    "        else:\n",
    "            print(\"Invalid deposit amount. Please deposit a positive amount.\")\n",
    "\n",
    "    def withdraw(self, amount):\n",
    "        if 0 < amount <= self._balance:\n",
    "            self._balance -= amount\n",
    "            print(f\"Withdrew Rs.{amount}. New balance: Rs.{self._balance}\")\n",
    "        elif amount <= 0:\n",
    "            print(\"Invalid withdrawal amount. Please withdraw a positive amount.\")\n",
    "        else:\n",
    "            print(\"Insufficient funds. Withdrawal amount exceeds the account balance.\")\n",
    "\n",
    "# Example usage:\n",
    "account = BankAccount(\"123456\", 1000.0)\n",
    "\n",
    "# Direct access to protected attributes is possible but discouraged\n",
    "print(account._account_number)  # Discouraged direct access\n",
    "\n",
    "# Using methods to interact with the internal state of the object\n",
    "balance = account.get_balance()\n",
    "print(\"Current balance:\", balance)\n",
    "\n",
    "account.withdraw(500)"
   ]
  },
  {
   "cell_type": "markdown",
   "id": "390af2ec-8740-42f9-ac1b-0747934eab55",
   "metadata": {},
   "source": [
    "#### 14. Create a Python class called `Employee` with private attributes for salary (`__salary`) and employee ID (`__employee_id`). Provide a method to calculate yearly bonuses."
   ]
  },
  {
   "cell_type": "code",
   "execution_count": 18,
   "id": "1f3c1a4a-1487-4f7a-a79b-7621c130ea97",
   "metadata": {},
   "outputs": [
    {
     "name": "stdout",
     "output_type": "stream",
     "text": [
      "Employee ID: E12345\n",
      "Current Salary: 50000.0\n",
      "Yearly Bonus (10%): $5500.0\n"
     ]
    }
   ],
   "source": [
    "class Employee:\n",
    "    def __init__(self, employee_id, salary):\n",
    "        self.__employee_id = employee_id\n",
    "        self.__salary = salary\n",
    "\n",
    "    def get_employee_id(self):\n",
    "        return self.__employee_id\n",
    "\n",
    "    def get_salary(self):\n",
    "        return self.__salary\n",
    "\n",
    "    def set_salary(self, new_salary):\n",
    "        if new_salary >= 0:\n",
    "            self.__salary = new_salary\n",
    "        else:\n",
    "            print(\"Invalid salary. Please provide a non-negative value.\")\n",
    "\n",
    "    def calculate_yearly_bonus(self, bonus_percentage):\n",
    "        if 0 <= bonus_percentage <= 100:\n",
    "            bonus_amount = (bonus_percentage / 100) * self.__salary\n",
    "            return bonus_amount\n",
    "        else:\n",
    "            print(\"Invalid bonus percentage. Please provide a value between 0 and 100.\")\n",
    "\n",
    "# Example usage:\n",
    "employee = Employee(\"E12345\", 50000.0)\n",
    "\n",
    "# Accessing private attributes using getter methods\n",
    "print(\"Employee ID:\", employee.get_employee_id())\n",
    "print(\"Current Salary:\", employee.get_salary())\n",
    "\n",
    "# Using the setter method to update the salary\n",
    "employee.set_salary(55000.0)\n",
    "\n",
    "# Calculating yearly bonus\n",
    "bonus_percentage = 10\n",
    "yearly_bonus = employee.calculate_yearly_bonus(bonus_percentage)\n",
    "print(f\"Yearly Bonus ({bonus_percentage}%): ${yearly_bonus}\")"
   ]
  },
  {
   "cell_type": "markdown",
   "id": "55113774-8871-4548-a57c-34e1270c61f1",
   "metadata": {},
   "source": [
    "#### 15. Discuss the use of accessors and mutators in encapsulation. How do they help maintain control over attribute access?\n",
    "\n",
    "Ans. Accessors and mutators, also known as getters and setters, are methods used in object-oriented programming to control access to the attributes of a class. They play a crucial role in encapsulation by providing a controlled interface for accessing and modifying the internal state of an object.\n",
    "\n",
    "Accessors (Getters):\n",
    "\n",
    "1. Purpose: Getters are methods that retrieve the values of private attributes.\n",
    "Example: If you have a private attribute __salary in a Person class, a getter method named get_salary would allow external code to retrieve the salary.\n",
    "2. Advantages: Controlled Access: Getters enable controlled access to the internal state, ensuring that external code can only view the attribute values.\n",
    "3. Abstraction: Getters abstract away the implementation details of the attribute, providing a clean and high-level interface for accessing data.\n",
    "\n",
    "Mutators (Setters):\n",
    "\n",
    "1. Purpose: Setters are methods that modify the values of private attributes.\n",
    "Example: If you have a private attribute __age in a Person class, a setter method named set_age would allow external code to update the age while enforcing certain rules or validations.\n",
    "2. Advantages: Controlled Modification: Setters enable controlled modification of the internal state, allowing you to apply rules or validations before allowing changes.\n",
    "3. Encapsulation: Setters encapsulate the logic associated with attribute modification within the class, preventing direct access and manipulation from external code."
   ]
  },
  {
   "cell_type": "markdown",
   "id": "55acc6b0-11b8-4b25-b050-8e5a10d56038",
   "metadata": {},
   "source": [
    "#### 16. What are the potential drawbacks or disadvantages of using encapsulation in Python?\n",
    "\n",
    "Ans. While encapsulation is a fundamental principle in object-oriented programming and brings several benefits, there are also potential drawbacks or considerations associated with its use in Python. It's essential to be aware of these aspects to make informed decisions when designing and implementing your code:\n",
    "\n",
    "1. Overhead and Complexity: Encapsulation can introduce additional code complexity, especially when using getter and setter methods for many attributes. This can lead to longer and more complex class definitions.\n",
    "\n",
    "2. Performance Concerns: In some cases, the use of getter and setter methods might incur a slight performance overhead compared to direct attribute access. However, this overhead is generally minimal in most applications and is often outweighed by the benefits of encapsulation.\n",
    "\n",
    "3. Verbosity: Encapsulation can make the code more verbose, particularly when creating numerous getter and setter methods for each attribute. This verbosity may reduce code readability in some cases.\n",
    "\n",
    "4. Potential Misuse: While encapsulation provides a convention for restricting access to attributes, it doesn't prevent direct access if a developer chooses to ignore conventions. Developers might still access private attributes using name mangling or other techniques, potentially leading to unintended consequences.\n",
    "\n",
    "5. Design Overhead: Over-encapsulation, where every attribute has getter and setter methods, can result in unnecessary design overhead. Not every attribute requires encapsulation, and applying it universally may lead to an overly complex and less readable codebase.\n",
    "\n",
    "6. Learning Curve: For newcomers to the codebase or programming language, encapsulation may introduce a learning curve. Understanding the purpose of getter and setter methods and when to use them might be challenging for beginners.\n",
    "\n",
    "7. Testing Challenges: Encapsulation can make testing more challenging, especially when using unit testing frameworks. Testing private methods and attributes may require additional strategies, such as using testing conventions or techniques like reflection.\n",
    "\n",
    "8. Flexibility Trade-offs: Overly strict encapsulation might reduce the flexibility to extend or modify a class in the future. For example, changing an attribute's visibility from private to protected or public might require modifying client code.\n",
    "\n",
    "9. Increased Memory Usage: While the memory impact is generally minimal, using getter and setter methods can result in a slight increase in memory usage compared to direct attribute access."
   ]
  },
  {
   "cell_type": "markdown",
   "id": "72073086-051b-4de5-bc31-194be161c990",
   "metadata": {},
   "source": [
    "#### 17. Create a Python class for a library system that encapsulates book information, including titles, authors, and availability status."
   ]
  },
  {
   "cell_type": "code",
   "execution_count": 19,
   "id": "fbab6987-41b0-4c87-95dd-6b035b9b1978",
   "metadata": {},
   "outputs": [
    {
     "name": "stdout",
     "output_type": "stream",
     "text": [
      "Book 1:\n",
      "Title: The Great Gatsby\n",
      "Author: F. Scott Fitzgerald\n",
      "Available: True\n",
      "Book 'The Great Gatsby' by F. Scott Fitzgerald has been borrowed.\n",
      "Book 'The Great Gatsby' by F. Scott Fitzgerald has been returned.\n",
      "The book 'The Great Gatsby' was not borrowed. Cannot be returned.\n",
      "Book 'To Kill a Mockingbird' by Harper Lee has been borrowed.\n",
      "Sorry, the book 'To Kill a Mockingbird' is currently not available.\n",
      "Book 'To Kill a Mockingbird' by Harper Lee has been returned.\n"
     ]
    }
   ],
   "source": [
    "class Book:\n",
    "    def __init__(self, title, author):\n",
    "        self.__title = title\n",
    "        self.__author = author\n",
    "        self.__available = True\n",
    "\n",
    "    def get_title(self):\n",
    "        return self.__title\n",
    "\n",
    "    def get_author(self):\n",
    "        return self.__author\n",
    "\n",
    "    def is_available(self):\n",
    "        return self.__available\n",
    "\n",
    "    def borrow_book(self):\n",
    "        if self.__available:\n",
    "            print(f\"Book '{self.__title}' by {self.__author} has been borrowed.\")\n",
    "            self.__available = False\n",
    "        else:\n",
    "            print(f\"Sorry, the book '{self.__title}' is currently not available.\")\n",
    "\n",
    "    def return_book(self):\n",
    "        if not self.__available:\n",
    "            print(f\"Book '{self.__title}' by {self.__author} has been returned.\")\n",
    "            self.__available = True\n",
    "        else:\n",
    "            print(f\"The book '{self.__title}' was not borrowed. Cannot be returned.\")\n",
    "\n",
    "# Example usage:\n",
    "book1 = Book(\"The Great Gatsby\", \"F. Scott Fitzgerald\")\n",
    "book2 = Book(\"To Kill a Mockingbird\", \"Harper Lee\")\n",
    "\n",
    "# Accessing book information using getters\n",
    "print(\"Book 1:\")\n",
    "print(\"Title:\", book1.get_title())\n",
    "print(\"Author:\", book1.get_author())\n",
    "print(\"Available:\", book1.is_available())\n",
    "\n",
    "# Borrowing and returning books\n",
    "book1.borrow_book()\n",
    "book1.return_book()\n",
    "book1.return_book()  # Attempting to return an already available book\n",
    "\n",
    "book2.borrow_book()\n",
    "book2.borrow_book()  # Attempting to borrow an already borrowed book\n",
    "book2.return_book()"
   ]
  },
  {
   "cell_type": "markdown",
   "id": "16f36e51-9cb8-4c3f-a6b0-0d90fd13c906",
   "metadata": {},
   "source": [
    "#### 18. Explain how encapsulation enhances code reusability and modularity in Python programs.\n",
    "\n",
    "Ans. Encapsulation enhances code reusability and modularity in Python programs by promoting a clean separation between the internal implementation details of a class and its external interface. This separation allows for more modular, maintainable, and reusable code. Here's how encapsulation contributes to these aspects:\n",
    "\n",
    "1. Modularity:\n",
    "\n",
    ". Organization of Code: Encapsulation encourages bundling related data (attributes) and behavior (methods) together within a class. This organization creates modular units that are easier to understand, manage, and maintain.\n",
    ". Isolation of Concerns: Each class represents a specific concern or functionality, and encapsulation helps isolate these concerns. Changes to one class are less likely to impact other parts of the codebase, promoting a modular and compartmentalized design.\n",
    "\n",
    "2. Code Reusability:\n",
    "\n",
    ". Defined Interfaces: Encapsulation provides well-defined interfaces to interact with a class. By exposing methods (getters, setters) instead of direct attribute access, classes communicate how they should be used, promoting code reuse.\n",
    ". Plug-and-Play Components: Encapsulated classes become reusable components that can be easily integrated into different parts of a program or even different projects. Developers can reuse classes without needing to understand their internal details.\n",
    "\n",
    "3. Encapsulation of Complexity:\n",
    "\n",
    ". Abstraction: Encapsulation allows for the abstraction of complex implementation details. External code interacts with a class through a simplified interface, reducing cognitive load and making it easier to use and reuse the class.\n",
    ". Hidden Implementation Details: The internal workings of a class are hidden from external code, and only the necessary details are exposed through methods. This reduces the complexity seen by external code, making it more straightforward to work with.\n",
    "\n",
    "4. Maintenance Benefits:\n",
    "\n",
    ". Reduced Impact of Changes: When internal details of a class need to be modified, encapsulation reduces the impact on external code. As long as the public interface remains unchanged, other parts of the program using the class don't need to be updated.\n",
    ". Easier Debugging and Updates: Encapsulation makes it easier to locate and fix issues because the scope of investigation is limited to the class and its interactions. Updates to a class can be done more safely since the external code relies on a well-defined interface.\n",
    "\n",
    "5. Improved Readability and Understandability:\n",
    "\n",
    ". Clear Contracts: Encapsulation defines clear contracts between classes and the rest of the program. By using getter and setter methods, developers know how to interact with the class, improving code readability and understandability.\n",
    ". Encourages Good Documentation: Encapsulation naturally encourages the creation of clear and concise documentation for classes. This documentation serves as a guide for developers using the classes, further supporting code reuse."
   ]
  },
  {
   "cell_type": "markdown",
   "id": "733a36c5-3e7f-4b87-916b-24f488f26ba9",
   "metadata": {},
   "source": [
    "#### 19. Describe the concept of information hiding in encapsulation. Why is it essential in software development?\n",
    "\n",
    "Ans. Information hiding is a crucial aspect of encapsulation in software development. It refers to the practice of restricting access to certain details of a class or module, keeping the internal implementation hidden from external code. The goal is to hide the complexity and inner workings of a component, exposing only the necessary functionalities through well-defined interfaces."
   ]
  },
  {
   "cell_type": "markdown",
   "id": "e20104be-d8a9-4cb3-addd-118d2f12b997",
   "metadata": {},
   "source": [
    "#### 20. Create a Python class called `Customer` with private attributes for customer details like name, address, and contact information. Implement encapsulation to ensure data integrity and security."
   ]
  },
  {
   "cell_type": "code",
   "execution_count": 20,
   "id": "3ea53869-c8d4-41a5-bd25-5b597aa045d1",
   "metadata": {},
   "outputs": [
    {
     "name": "stdout",
     "output_type": "stream",
     "text": [
      "Customer ID: C12345\n",
      "Name: John Doe\n",
      "Address: 123 Main St\n",
      "Contact Number: 555-1234\n",
      "Invalid name. Please provide a valid string.\n",
      "Invalid address. Please provide a valid string.\n",
      "Invalid contact number. Please provide a valid string.\n"
     ]
    }
   ],
   "source": [
    "class Customer:\n",
    "    def __init__(self, customer_id, name, address, contact_number):\n",
    "        self.__customer_id = customer_id\n",
    "        self.__name = name\n",
    "        self.__address = address\n",
    "        self.__contact_number = contact_number\n",
    "\n",
    "    def get_customer_id(self):\n",
    "        return self.__customer_id\n",
    "\n",
    "    def get_name(self):\n",
    "        return self.__name\n",
    "\n",
    "    def set_name(self, new_name):\n",
    "        if isinstance(new_name, str):\n",
    "            self.__name = new_name\n",
    "        else:\n",
    "            print(\"Invalid name. Please provide a valid string.\")\n",
    "\n",
    "    def get_address(self):\n",
    "        return self.__address\n",
    "\n",
    "    def set_address(self, new_address):\n",
    "        if isinstance(new_address, str):\n",
    "            self.__address = new_address\n",
    "        else:\n",
    "            print(\"Invalid address. Please provide a valid string.\")\n",
    "\n",
    "    def get_contact_number(self):\n",
    "        return self.__contact_number\n",
    "\n",
    "    def set_contact_number(self, new_contact_number):\n",
    "        if isinstance(new_contact_number, str):\n",
    "            self.__contact_number = new_contact_number\n",
    "        else:\n",
    "            print(\"Invalid contact number. Please provide a valid string.\")\n",
    "\n",
    "# Example usage:\n",
    "customer = Customer(\"C12345\", \"John Doe\", \"123 Main St\", \"555-1234\")\n",
    "\n",
    "# Accessing customer information using getters\n",
    "print(\"Customer ID:\", customer.get_customer_id())\n",
    "print(\"Name:\", customer.get_name())\n",
    "print(\"Address:\", customer.get_address())\n",
    "print(\"Contact Number:\", customer.get_contact_number())\n",
    "\n",
    "# Using setters to update customer information\n",
    "customer.set_name(\"Jane Doe\")\n",
    "customer.set_address(\"456 Oak St\")\n",
    "customer.set_contact_number(\"555-5678\")\n",
    "\n",
    "# Attempting to set invalid data\n",
    "customer.set_name(123)  # This will print an error message\n",
    "customer.set_address(456)  # This will print an error message\n",
    "customer.set_contact_number(789)  # This will print an error message"
   ]
  },
  {
   "cell_type": "markdown",
   "id": "a24c72b3-4f53-449d-8995-186ad5a35f47",
   "metadata": {},
   "source": [
    "# Polymorphism:"
   ]
  },
  {
   "cell_type": "markdown",
   "id": "f8560405-aee6-49af-b7df-cc5c45d5739b",
   "metadata": {},
   "source": [
    "#### 1. What is polymorphism in Python? Explain how it is related to object-oriented programming.\n",
    "\n",
    "Ans. Polymorphism is a concept in object-oriented programming (OOP) that allows objects of different types to be treated as objects of a common type. It enables a single interface to represent different underlying types and provides a way to use a single interface for a general class of actions. There are two main types of polymorphism: compile-time (static) polymorphism and runtime (dynamic) polymorphism."
   ]
  },
  {
   "cell_type": "markdown",
   "id": "a3af3813-4b16-4e72-bcf2-e41c3d38c8af",
   "metadata": {},
   "source": [
    "#### 2. Describe the difference between compile-time polymorphism and runtime polymorphism in Python.\n",
    "\n",
    "Compile-time Polymorphism (Method Overloading): This type of polymorphism is resolved during compile time. It involves defining multiple methods in the same class with the same name but different parameters. The compiler determines which method to invoke based on the number and types of arguments passed during the method call."
   ]
  },
  {
   "cell_type": "code",
   "execution_count": 23,
   "id": "7e87245b-a14d-4084-9d0c-5ef39688fbe6",
   "metadata": {},
   "outputs": [
    {
     "name": "stdout",
     "output_type": "stream",
     "text": [
      "5\n",
      "9\n"
     ]
    }
   ],
   "source": [
    "class Example:\n",
    "    def add(self, a, b, c=None):\n",
    "        if c is not None:\n",
    "            return a + b + c\n",
    "        else:\n",
    "            return a + b\n",
    "\n",
    "# Example of \"compile-time\" polymorphism using default parameters\n",
    "obj = Example()\n",
    "result1 = obj.add(2, 3)         # Calls the version without 'c'\n",
    "result2 = obj.add(2, 3, 4)      # Calls the version with 'c'\n",
    "\n",
    "print(result1)\n",
    "print(result2)"
   ]
  },
  {
   "cell_type": "markdown",
   "id": "8d40ab60-4f45-406f-819e-463c5cdc1cf4",
   "metadata": {},
   "source": [
    "Runtime Polymorphism (Method Overriding): Runtime polymorphism is achieved through method overriding, where a subclass provides a specific implementation of a method that is already defined in its superclass. This allows objects of the subclass to be treated as objects of the superclass."
   ]
  },
  {
   "cell_type": "code",
   "execution_count": 24,
   "id": "65cfd8cf-7549-429a-88f0-51fff63ca599",
   "metadata": {},
   "outputs": [
    {
     "name": "stdout",
     "output_type": "stream",
     "text": [
      "Woof!\n",
      "Meow!\n"
     ]
    }
   ],
   "source": [
    "class Animal:\n",
    "    def speak(self):\n",
    "        pass\n",
    "\n",
    "class Dog(Animal):\n",
    "    def speak(self):\n",
    "        return \"Woof!\"\n",
    "\n",
    "class Cat(Animal):\n",
    "    def speak(self):\n",
    "        return \"Meow!\"\n",
    "\n",
    "# Example of runtime polymorphism\n",
    "dog = Dog()\n",
    "cat = Cat()\n",
    "\n",
    "print(dog.speak())  # Outputs: \"Woof!\"\n",
    "print(cat.speak())  # Outputs: \"Meow!\""
   ]
  },
  {
   "cell_type": "markdown",
   "id": "4164a2c0-8def-486a-bfc4-a9dcac09d300",
   "metadata": {},
   "source": [
    "#### 3. Create a Python class hierarchy for shapes (e.g., circle, square, triangle) and demonstrate polymorphism through a common method, such as `calculate_area()`."
   ]
  },
  {
   "cell_type": "code",
   "execution_count": 25,
   "id": "1bcc6a93-d209-4e1c-9157-35559236a8ac",
   "metadata": {},
   "outputs": [
    {
     "name": "stdout",
     "output_type": "stream",
     "text": [
      "Area of Circle: 78.53981633974483\n",
      "Area of Square: 16\n",
      "Area of Triangle: 9.0\n"
     ]
    }
   ],
   "source": [
    "import math\n",
    "\n",
    "class Shape:\n",
    "    def calculate_area(self):\n",
    "        pass\n",
    "\n",
    "class Circle(Shape):\n",
    "    def __init__(self, radius):\n",
    "        self.radius = radius\n",
    "\n",
    "    def calculate_area(self):\n",
    "        return math.pi * self.radius**2\n",
    "\n",
    "class Square(Shape):\n",
    "    def __init__(self, side_length):\n",
    "        self.side_length = side_length\n",
    "\n",
    "    def calculate_area(self):\n",
    "        return self.side_length**2\n",
    "\n",
    "class Triangle(Shape):\n",
    "    def __init__(self, base, height):\n",
    "        self.base = base\n",
    "        self.height = height\n",
    "\n",
    "    def calculate_area(self):\n",
    "        return 0.5 * self.base * self.height\n",
    "\n",
    "# Example of polymorphism\n",
    "shapes = [Circle(5), Square(4), Triangle(3, 6)]\n",
    "\n",
    "for shape in shapes:\n",
    "    print(f\"Area of {shape.__class__.__name__}: {shape.calculate_area()}\")\n"
   ]
  },
  {
   "cell_type": "markdown",
   "id": "a2b8b95e-91c6-4280-beaa-7b1bf9fa95c6",
   "metadata": {},
   "source": [
    "#### 4. Explain the concept of method overriding in polymorphism. Provide an example.\n",
    "\n",
    "Ans. Method overriding is a concept in object-oriented programming (OOP) where a subclass provides a specific implementation for a method that is already defined in its superclass. The overriding method in the subclass has the same name, return type, and parameters as the method in the superclass. When an object of the subclass is created and the overridden method is called, the implementation in the subclass is executed instead of the one in the superclass."
   ]
  },
  {
   "cell_type": "code",
   "execution_count": 26,
   "id": "ca5fe925-d2c1-4aaf-be6c-9d6baec08c31",
   "metadata": {},
   "outputs": [
    {
     "name": "stdout",
     "output_type": "stream",
     "text": [
      "Woof!\n",
      "Meow!\n"
     ]
    }
   ],
   "source": [
    "class Animal:\n",
    "    def speak(self):\n",
    "        return \"Generic animal sound\"\n",
    "\n",
    "class Dog(Animal):\n",
    "    def speak(self):\n",
    "        return \"Woof!\"\n",
    "\n",
    "class Cat(Animal):\n",
    "    def speak(self):\n",
    "        return \"Meow!\"\n",
    "\n",
    "# Creating objects of the subclasses\n",
    "dog = Dog()\n",
    "cat = Cat()\n",
    "\n",
    "# Calling the overridden method\n",
    "print(dog.speak())  # Outputs: \"Woof!\"\n",
    "print(cat.speak())  # Outputs: \"Meow!\"\n"
   ]
  },
  {
   "cell_type": "markdown",
   "id": "d6a9c1a1-08e4-4147-8f3f-9ce21c88dc72",
   "metadata": {},
   "source": [
    "#### 5. How is polymorphism different from method overloading in Python? Provide examples for both.\n",
    "\n",
    "Key Differences:\n",
    "\n",
    "1. Compile-time vs. Runtime: Method overloading is resolved during compile-time based on the number and types of arguments.\n",
    "Polymorphism, especially method overriding, is resolved at runtime based on the actual type of the object.\n",
    "\n",
    "2. Number of Methods: Method overloading involves defining multiple methods with the same name in the same class.\n",
    "Polymorphism involves providing a specific implementation for a method in a subclass."
   ]
  },
  {
   "cell_type": "markdown",
   "id": "b28e3bf4-4a66-4b6e-bf90-2c91a03149d6",
   "metadata": {},
   "source": [
    "#### 6. Create a Python class called `Animal` with a method `speak()`. Then, create child classes like `Dog`, `Cat`, and `Bird`, each with their own `speak()` method. Demonstrate polymorphism by calling the `speak()` method on objects of different subclasses."
   ]
  },
  {
   "cell_type": "code",
   "execution_count": 27,
   "id": "15851d7e-a54d-46a1-b898-f324a99de03b",
   "metadata": {},
   "outputs": [
    {
     "name": "stdout",
     "output_type": "stream",
     "text": [
      "Dog says: Woof!\n",
      "Cat says: Meow!\n",
      "Bird says: Tweet!\n"
     ]
    }
   ],
   "source": [
    "class Animal:\n",
    "    def speak(self):\n",
    "        return \"Generic animal sound\"\n",
    "\n",
    "class Dog(Animal):\n",
    "    def speak(self):\n",
    "        return \"Woof!\"\n",
    "\n",
    "class Cat(Animal):\n",
    "    def speak(self):\n",
    "        return \"Meow!\"\n",
    "\n",
    "class Bird(Animal):\n",
    "    def speak(self):\n",
    "        return \"Tweet!\"\n",
    "\n",
    "# Demonstration of polymorphism\n",
    "animals = [Dog(), Cat(), Bird()]\n",
    "\n",
    "for animal in animals:\n",
    "    print(f\"{animal.__class__.__name__} says: {animal.speak()}\")\n"
   ]
  },
  {
   "cell_type": "markdown",
   "id": "bd573930-c3ba-483a-a366-77514da5fd88",
   "metadata": {},
   "source": [
    "#### 7. Discuss the use of abstract methods and classes in achieving polymorphism in Python. Provide an example using the `abc` module.\n",
    "\n",
    "Ans. Abstract methods and classes in Python are a way to enforce a common interface among subclasses, ensuring that certain methods must be implemented by the subclasses. The abc module (Abstract Base Classes) provides tools for defining abstract base classes. An abstract class cannot be instantiated, and any subclass must provide concrete implementations for its abstract methods.\n",
    "\n",
    "Here's an example using the abc module to create an abstract base class Animal with an abstract method speak():"
   ]
  },
  {
   "cell_type": "code",
   "execution_count": 28,
   "id": "ccaffa9f-15fe-4d3a-ab3c-0ad4c85614e9",
   "metadata": {},
   "outputs": [
    {
     "name": "stdout",
     "output_type": "stream",
     "text": [
      "Dog says: Woof!\n",
      "Cat says: Meow!\n",
      "Bird says: Tweet!\n"
     ]
    }
   ],
   "source": [
    "from abc import ABC, abstractmethod\n",
    "\n",
    "class Animal(ABC):\n",
    "    @abstractmethod\n",
    "    def speak(self):\n",
    "        pass\n",
    "\n",
    "class Dog(Animal):\n",
    "    def speak(self):\n",
    "        return \"Woof!\"\n",
    "\n",
    "class Cat(Animal):\n",
    "    def speak(self):\n",
    "        return \"Meow!\"\n",
    "\n",
    "class Bird(Animal):\n",
    "    def speak(self):\n",
    "        return \"Tweet!\"\n",
    "\n",
    "# Demonstration of polymorphism\n",
    "animals = [Dog(), Cat(), Bird()]\n",
    "\n",
    "for animal in animals:\n",
    "    print(f\"{animal.__class__.__name__} says: {animal.speak()}\")"
   ]
  },
  {
   "cell_type": "markdown",
   "id": "5c830d8e-3e14-4497-a8de-d9698287ab32",
   "metadata": {},
   "source": [
    "#### 8. Create a Python class hierarchy for a vehicle system (e.g., car, bicycle, boat) and implement a polymorphic `start()` method that prints a message specific to each vehicle type."
   ]
  },
  {
   "cell_type": "code",
   "execution_count": 29,
   "id": "8aa2a8f6-8922-4242-8fd5-8eb67d7aeb2e",
   "metadata": {},
   "outputs": [
    {
     "name": "stdout",
     "output_type": "stream",
     "text": [
      "Car: Car engine started. Vroom vroom!\n",
      "Bicycle: Bicycle pedaling started. Ring ring!\n",
      "Boat: Boat engine started. Splish splash!\n"
     ]
    }
   ],
   "source": [
    "class Vehicle:\n",
    "    def start(self):\n",
    "        pass\n",
    "\n",
    "class Car(Vehicle):\n",
    "    def start(self):\n",
    "        return \"Car engine started. Vroom vroom!\"\n",
    "\n",
    "class Bicycle(Vehicle):\n",
    "    def start(self):\n",
    "        return \"Bicycle pedaling started. Ring ring!\"\n",
    "\n",
    "class Boat(Vehicle):\n",
    "    def start(self):\n",
    "        return \"Boat engine started. Splish splash!\"\n",
    "\n",
    "# Demonstration of polymorphism\n",
    "vehicles = [Car(), Bicycle(), Boat()]\n",
    "\n",
    "for vehicle in vehicles:\n",
    "    print(f\"{vehicle.__class__.__name__}: {vehicle.start()}\")"
   ]
  },
  {
   "cell_type": "markdown",
   "id": "0d8fdba7-2169-4bf8-982d-7771891c5267",
   "metadata": {},
   "source": [
    "#### 9. Explain the significance of the `isinstance()` and `issubclass()` functions in Python polymorphism.\n",
    "\n",
    "Ans. Significance in Polymorphism:\n",
    "1. Type Checking in Polymorphism: isinstance() is often used to check the type of an object before performing operations. This is useful in polymorphism, where different types of objects may be passed to a common interface, and their behavior depends on their actual types.\n",
    "\n",
    "2. Ensuring Inheritance Relationships: issubclass() is used to ensure that a class is a subclass of another class. This is essential in polymorphism, where a common base class may define a set of methods, and it's important to verify that subclasses provide concrete implementations of those methods.\n"
   ]
  },
  {
   "cell_type": "markdown",
   "id": "26d0eebd-d6e7-44d8-92f7-a81fdba5c0e0",
   "metadata": {},
   "source": [
    "#### 10. What is the role of the `@abstractmethod` decorator in achieving polymorphism in Python? Provide an example.\n",
    "\n",
    "Ans. The @abstractmethod decorator is part of the abc module (Abstract Base Classes) in Python, and it plays a key role in achieving polymorphism by defining abstract methods in abstract base classes. Abstract methods are methods declared in the base class but have no implementation. Subclasses are then required to provide concrete implementations for these abstract methods. This ensures that all subclasses adhere to a common interface, allowing for polymorphic behavior."
   ]
  },
  {
   "cell_type": "code",
   "execution_count": 30,
   "id": "3f5b0add-a5cd-46ac-b246-d3877c305ffa",
   "metadata": {},
   "outputs": [
    {
     "name": "stdout",
     "output_type": "stream",
     "text": [
      "Area of Circle: 78.5\n",
      "Area of Square: 16\n",
      "Area of Triangle: 9.0\n"
     ]
    }
   ],
   "source": [
    "from abc import ABC, abstractmethod\n",
    "\n",
    "class Shape(ABC):\n",
    "    @abstractmethod\n",
    "    def calculate_area(self):\n",
    "        pass\n",
    "\n",
    "class Circle(Shape):\n",
    "    def __init__(self, radius):\n",
    "        self.radius = radius\n",
    "\n",
    "    def calculate_area(self):\n",
    "        return 3.14 * self.radius**2\n",
    "\n",
    "class Square(Shape):\n",
    "    def __init__(self, side_length):\n",
    "        self.side_length = side_length\n",
    "\n",
    "    def calculate_area(self):\n",
    "        return self.side_length**2\n",
    "\n",
    "class Triangle(Shape):\n",
    "    def __init__(self, base, height):\n",
    "        self.base = base\n",
    "        self.height = height\n",
    "\n",
    "    def calculate_area(self):\n",
    "        return 0.5 * self.base * self.height\n",
    "\n",
    "# Demonstration of polymorphism\n",
    "shapes = [Circle(5), Square(4), Triangle(3, 6)]\n",
    "\n",
    "for shape in shapes:\n",
    "    print(f\"Area of {shape.__class__.__name__}: {shape.calculate_area()}\")"
   ]
  },
  {
   "cell_type": "markdown",
   "id": "c3513730-c057-4f7d-8cac-2c2dc6e2c971",
   "metadata": {},
   "source": [
    "#### 11. Create a Python class called `Shape` with a polymorphic method `area()` that calculates the area of different shapes (e.g., circle, rectangle, triangle)."
   ]
  },
  {
   "cell_type": "code",
   "execution_count": 31,
   "id": "517162ce-578b-40a1-8dd5-c430231a9422",
   "metadata": {},
   "outputs": [
    {
     "name": "stdout",
     "output_type": "stream",
     "text": [
      "Area of Circle: 78.53981633974483\n",
      "Area of Rectangle: 24\n",
      "Area of Triangle: 12.0\n"
     ]
    }
   ],
   "source": [
    "import math\n",
    "\n",
    "class Shape:\n",
    "    def area(self):\n",
    "        pass\n",
    "\n",
    "class Circle(Shape):\n",
    "    def __init__(self, radius):\n",
    "        self.radius = radius\n",
    "\n",
    "    def area(self):\n",
    "        return math.pi * self.radius**2\n",
    "\n",
    "class Rectangle(Shape):\n",
    "    def __init__(self, length, width):\n",
    "        self.length = length\n",
    "        self.width = width\n",
    "\n",
    "    def area(self):\n",
    "        return self.length * self.width\n",
    "\n",
    "class Triangle(Shape):\n",
    "    def __init__(self, base, height):\n",
    "        self.base = base\n",
    "        self.height = height\n",
    "\n",
    "    def area(self):\n",
    "        return 0.5 * self.base * self.height\n",
    "\n",
    "# Demonstration of polymorphism\n",
    "shapes = [Circle(5), Rectangle(4, 6), Triangle(3, 8)]\n",
    "\n",
    "for shape in shapes:\n",
    "    print(f\"Area of {shape.__class__.__name__}: {shape.area()}\")"
   ]
  },
  {
   "cell_type": "markdown",
   "id": "f9f4700d-4bf3-4813-9b23-62c20777b0cb",
   "metadata": {},
   "source": [
    "#### 12. Discuss the benefits of polymorphism in terms of code reusability and flexibility in Python programs.\n",
    "\n",
    "Ans. In summary, polymorphism in Python promotes the creation of flexible, reusable, and maintainable code by providing a common interface for different types of objects. It allows for the implementation of complex systems in a modular and extensible manner, making it easier to adapt to changing requirements and improve code readability."
   ]
  },
  {
   "cell_type": "markdown",
   "id": "dbc44394-df7c-42ea-a141-b5c17936077e",
   "metadata": {},
   "source": [
    "#### 13. Explain the use of the `super()` function in Python polymorphism. How does it help call methods of parent classes?\n",
    "\n",
    "Ans. The super() function in Python is used to call methods and access attributes of a parent class within a subclass. It plays a crucial role in achieving polymorphism by allowing subclasses to extend or override methods defined in their parent classes while still utilizing the functionality provided by those parent class methods.\n",
    "\n",
    "The primary use of super() is to invoke the method of the superclass in the context of the subclass. This ensures that the overridden method in the subclass can call the original method from the parent class, promoting code reuse and maintaining a clear and structured hierarchy."
   ]
  },
  {
   "cell_type": "markdown",
   "id": "33a22407-ff13-44c6-8e4c-e6e549807eb5",
   "metadata": {},
   "source": [
    "#### 14. Create a Python class hierarchy for a banking system with various account types (e.g., savings, checking, credit card) and demonstrate polymorphism by implementing a common `withdraw()` method"
   ]
  },
  {
   "cell_type": "code",
   "execution_count": 32,
   "id": "4a458bf4-3ead-4f6a-9a4a-b4a0186eceea",
   "metadata": {},
   "outputs": [
    {
     "name": "stdout",
     "output_type": "stream",
     "text": [
      "Account SA001: Withdrawal of Rs.105 successful. Remaining balance: Rs.895. Penalty applied: Rs.5\n",
      "Account CA001: Withdrawal of Rs.110 successful. Remaining balance: Rs.1390. Overdraft fee applied: Rs.10\n",
      "Account CC001: Withdrawal of Rs.100 successful. Remaining balance: Rs.400\n"
     ]
    }
   ],
   "source": [
    "class BankAccount:\n",
    "    def __init__(self, account_number, balance):\n",
    "        self.account_number = account_number\n",
    "        self.balance = balance\n",
    "\n",
    "    def withdraw(self, amount):\n",
    "        if amount <= 0:\n",
    "            return \"Invalid withdrawal amount\"\n",
    "        elif amount > self.balance:\n",
    "            return \"Insufficient funds\"\n",
    "        else:\n",
    "            self.balance -= amount\n",
    "            return f\"Withdrawal of Rs.{amount} successful. Remaining balance: Rs.{self.balance}\"\n",
    "\n",
    "class SavingsAccount(BankAccount):\n",
    "    def __init__(self, account_number, balance, interest_rate):\n",
    "        super().__init__(account_number, balance)\n",
    "        self.interest_rate = interest_rate\n",
    "\n",
    "    def withdraw(self, amount):\n",
    "        # Applying a penalty for withdrawals from savings account\n",
    "        penalty = 5\n",
    "        withdrawal_result = super().withdraw(amount + penalty)\n",
    "        return f\"{withdrawal_result}. Penalty applied: Rs.{penalty}\"\n",
    "\n",
    "class CheckingAccount(BankAccount):\n",
    "    def __init__(self, account_number, balance, overdraft_limit):\n",
    "        super().__init__(account_number, balance)\n",
    "        self.overdraft_limit = overdraft_limit\n",
    "\n",
    "    def withdraw(self, amount):\n",
    "        # Allowing overdraft up to the specified limit\n",
    "        overdraft_fee = 10\n",
    "        if amount > self.balance + self.overdraft_limit:\n",
    "            return \"Withdrawal not allowed. Exceeds overdraft limit\"\n",
    "        else:\n",
    "            withdrawal_result = super().withdraw(amount + overdraft_fee)\n",
    "            return f\"{withdrawal_result}. Overdraft fee applied: Rs.{overdraft_fee}\"\n",
    "\n",
    "class CreditCardAccount(BankAccount):\n",
    "    def __init__(self, account_number, balance, credit_limit):\n",
    "        super().__init__(account_number, balance)\n",
    "        self.credit_limit = credit_limit\n",
    "\n",
    "    def withdraw(self, amount):\n",
    "        # Allowing withdrawals up to the credit limit\n",
    "        if amount > self.balance + self.credit_limit:\n",
    "            return \"Withdrawal not allowed. Exceeds credit limit\"\n",
    "        else:\n",
    "            return super().withdraw(amount)\n",
    "\n",
    "\n",
    "# Demonstration of polymorphism\n",
    "savings_account = SavingsAccount(\"SA001\", 1000, 0.02)\n",
    "checking_account = CheckingAccount(\"CA001\", 1500, 200)\n",
    "credit_card_account = CreditCardAccount(\"CC001\", 500, 1000)\n",
    "\n",
    "accounts = [savings_account, checking_account, credit_card_account]\n",
    "\n",
    "for account in accounts:\n",
    "    print(f\"Account {account.account_number}: {account.withdraw(100)}\")"
   ]
  },
  {
   "cell_type": "markdown",
   "id": "05457bbd-f121-492e-a205-f40aee4b9f4d",
   "metadata": {},
   "source": [
    "#### 15. Describe the concept of operator overloading in Python and how it relates to polymorphism. Provide examples using operators like `+` and `*`.\n",
    "Ans. Operator overloading in Python refers to the ability to define how operators behave for user-defined objects. When you overload an operator, you provide a specific implementation for that operator in your class, allowing objects of that class to use the operator in a custom way. This is particularly useful for achieving polymorphism, as it allows objects of different types to be used with operators in a natural and intuitive manner."
   ]
  },
  {
   "cell_type": "code",
   "execution_count": 33,
   "id": "9af3d936-1eb2-4830-9c5a-daaab706e40e",
   "metadata": {},
   "outputs": [
    {
     "name": "stdout",
     "output_type": "stream",
     "text": [
      "point1: (1, 2)\n",
      "point2: (3, 4)\n",
      "point1 + point2: (4, 6)\n"
     ]
    }
   ],
   "source": [
    "# Operator overloading using '+'\n",
    "class Point:\n",
    "    def __init__(self, x, y):\n",
    "        self.x = x\n",
    "        self.y = y\n",
    "\n",
    "    def __add__(self, other):\n",
    "        if isinstance(other, Point):\n",
    "            return Point(self.x + other.x, self.y + other.y)\n",
    "        else:\n",
    "            raise TypeError(\"Unsupported operand type. Must be Point\")\n",
    "\n",
    "# Demonstration of operator overloading and polymorphism\n",
    "point1 = Point(1, 2)\n",
    "point2 = Point(3, 4)\n",
    "point3 = point1 + point2\n",
    "\n",
    "print(f\"point1: ({point1.x}, {point1.y})\")\n",
    "print(f\"point2: ({point2.x}, {point2.y})\")\n",
    "print(f\"point1 + point2: ({point3.x}, {point3.y})\")"
   ]
  },
  {
   "cell_type": "code",
   "execution_count": 34,
   "id": "f97b7206-fa30-4350-b9ae-a801e416f7e5",
   "metadata": {},
   "outputs": [
    {
     "name": "stdout",
     "output_type": "stream",
     "text": [
      "vector1: [1, 2, 3]\n",
      "scalar: 2\n",
      "vector1 * scalar: [2, 4, 6]\n"
     ]
    }
   ],
   "source": [
    "# Operator overloading using '*'\n",
    "class Vector:\n",
    "    def __init__(self, values):\n",
    "        self.values = values\n",
    "\n",
    "    def __mul__(self, scalar):\n",
    "        if isinstance(scalar, (int, float)):\n",
    "            return Vector([value * scalar for value in self.values])\n",
    "        else:\n",
    "            raise TypeError(\"Unsupported operand type. Must be int or float\")\n",
    "\n",
    "# Demonstration of operator overloading and polymorphism\n",
    "vector1 = Vector([1, 2, 3])\n",
    "scalar = 2\n",
    "vector2 = vector1 * scalar\n",
    "\n",
    "print(f\"vector1: {vector1.values}\")\n",
    "print(f\"scalar: {scalar}\")\n",
    "print(f\"vector1 * scalar: {vector2.values}\")\n"
   ]
  },
  {
   "cell_type": "markdown",
   "id": "7ee42c90-1fbf-4a15-a0b1-10daa03faf79",
   "metadata": {},
   "source": [
    "#### 16. What is dynamic polymorphism, and how is it achieved in Python?\n",
    "\n",
    "Ans. Dynamic polymorphism, also known as runtime polymorphism or late binding, is a concept in object-oriented programming where the selection of a specific method or operation is determined at runtime. This allows objects of different types to be treated through a common interface, and the actual method that gets executed is based on the actual type of the object during runtime. Dynamic polymorphism is achieved through method overriding.\n",
    "\n",
    "In Python, dynamic polymorphism is primarily achieved through method overriding. Method overriding occurs when a subclass provides a specific implementation for a method that is already defined in its superclass. The decision of which method to execute is made at runtime based on the actual type of the object.\n",
    "\n",
    "Here's an example demonstrating dynamic polymorphism in Python:"
   ]
  },
  {
   "cell_type": "code",
   "execution_count": 35,
   "id": "883d4469-dd03-4b91-8ff2-55b7ecb86638",
   "metadata": {},
   "outputs": [
    {
     "name": "stdout",
     "output_type": "stream",
     "text": [
      "Generic animal sound\n",
      "Woof!\n",
      "Meow!\n"
     ]
    }
   ],
   "source": [
    "class Animal:\n",
    "    def speak(self):\n",
    "        return \"Generic animal sound\"\n",
    "\n",
    "class Dog(Animal):\n",
    "    def speak(self):\n",
    "        return \"Woof!\"\n",
    "\n",
    "class Cat(Animal):\n",
    "    def speak(self):\n",
    "        return \"Meow!\"\n",
    "\n",
    "# Demonstration of dynamic polymorphism\n",
    "def animal_sound(animal_object):\n",
    "    return animal_object.speak()\n",
    "\n",
    "# Creating objects of different types\n",
    "generic_animal = Animal()\n",
    "dog = Dog()\n",
    "cat = Cat()\n",
    "\n",
    "# Calling the common method with objects of different types\n",
    "print(animal_sound(generic_animal))  # Outputs: \"Generic animal sound\"\n",
    "print(animal_sound(dog))             # Outputs: \"Woof!\"\n",
    "print(animal_sound(cat))             # Outputs: \"Meow!\""
   ]
  },
  {
   "cell_type": "markdown",
   "id": "16f41716-26f3-477a-bd2a-cd7dd90d1bcb",
   "metadata": {},
   "source": [
    "#### 17. Create a Python class hierarchy for employees in a company (e.g., manager, developer, designer) and implement polymorphism through a common `calculate_salary()` method."
   ]
  },
  {
   "cell_type": "code",
   "execution_count": 38,
   "id": "113a452c-68fb-4a94-8cc3-9c16ae0254ee",
   "metadata": {},
   "outputs": [
    {
     "name": "stdout",
     "output_type": "stream",
     "text": [
      "John Manager's salary: Rs.60000\n",
      "Alice Developer's salary: Rs.48000\n",
      "Bob Designer's salary: Rs.60000\n"
     ]
    }
   ],
   "source": [
    "class Employee:\n",
    "    def __init__(self, employee_id, name):\n",
    "        self.employee_id = employee_id\n",
    "        self.name = name\n",
    "\n",
    "    def calculate_salary(self):\n",
    "        raise NotImplementedError(\"Subclasses must implement the calculate_salary method\")\n",
    "\n",
    "class Manager(Employee):\n",
    "    def __init__(self, employee_id, name, base_salary, bonus):\n",
    "        super().__init__(employee_id, name)\n",
    "        self.base_salary = base_salary\n",
    "        self.bonus = bonus\n",
    "\n",
    "    def calculate_salary(self):\n",
    "        return self.base_salary + self.bonus\n",
    "\n",
    "class Developer(Employee):\n",
    "    def __init__(self, employee_id, name, hourly_rate, hours_worked):\n",
    "        super().__init__(employee_id, name)\n",
    "        self.hourly_rate = hourly_rate\n",
    "        self.hours_worked = hours_worked\n",
    "\n",
    "    def calculate_salary(self):\n",
    "        return self.hourly_rate * self.hours_worked\n",
    "\n",
    "class Designer(Employee):\n",
    "    def __init__(self, employee_id, name, monthly_salary):\n",
    "        super().__init__(employee_id, name)\n",
    "        self.monthly_salary = monthly_salary\n",
    "\n",
    "    def calculate_salary(self):\n",
    "        return self.monthly_salary\n",
    "\n",
    "# Demonstration of polymorphism\n",
    "manager = Manager(1, \"John Manager\", 50000, 10000)\n",
    "developer = Developer(2, \"Alice Developer\", 30, 1600)\n",
    "designer = Designer(3, \"Bob Designer\", 60000)\n",
    "\n",
    "employees = [manager, developer, designer]\n",
    "\n",
    "for employee in employees:\n",
    "    print(f\"{employee.name}'s salary: Rs.{employee.calculate_salary()}\")"
   ]
  },
  {
   "cell_type": "markdown",
   "id": "a8b8a907-0bad-42e2-a122-68612bae1966",
   "metadata": {},
   "source": [
    "#### 18. Discuss the concept of function pointers and how they can be used to achieve polymorphism in Python.\n",
    "\n",
    "Ans. Function Pointers are a concept commonly found in languages like C and C++. They allow you to store the memory address of a function and call that function indirectlty through the pointer. This provides a way to dynamically select and call different functions at a runtime.\n",
    "\n",
    "In Python, you don't have explicit function pointer like in C or C++. Instead, python has first-class functions, which means that functions can be treated as objects, assigned to variables, passed an arguments, and returned as values. This enables a form of polymorphism known as \"duck typing\"."
   ]
  },
  {
   "cell_type": "markdown",
   "id": "35211c90-08ee-4500-a283-193b0169ad0f",
   "metadata": {},
   "source": [
    "#### 19. Explain the role of interfaces and abstract classes in polymorphism, drawing comparisons between them.\n",
    "\n",
    "Ans. Interfaces and Abstract classes are both powerful tools that can be used to achieve polymorphism in object-oriented programming. However, they have some key differences.\n",
    "\n",
    "Interfaces are declarations of behavior, but they do not provide any implementation. This means that any class that implements an interface must provide its own implementation of all of the interface's methods.\n",
    "\n",
    "Interfaces are used to define a contract that a class must adhere to. Any class that implements an interface must provide implementations for all the methods defined in the interface.\n",
    "\n",
    "Abstract classes are similar to interfaces in that they can declare abstract methods. However, abstract classes can provide concrete implementations of methods. This means that classes that subclass an abstract class can choose to inherit the concrete implementations or provide their own implementations.\n",
    "\n",
    "Abstract classes are used when you want to define a common structure or behavior that multiple subclasses share, but each subclass might have its own implementation of some methods."
   ]
  },
  {
   "cell_type": "markdown",
   "id": "0707f613-bfc7-4f6b-b361-007352afbe41",
   "metadata": {},
   "source": [
    "#### 20. Create a Python class for a zoo simulation, demonstrating polymorphism with different animal types (e.g., mammals, birds, reptiles) and their behavior (e.g., eating, sleeping, making sounds)."
   ]
  },
  {
   "cell_type": "code",
   "execution_count": 39,
   "id": "acf89df2-93a2-4ef7-b537-8990299cbc6b",
   "metadata": {},
   "outputs": [
    {
     "name": "stdout",
     "output_type": "stream",
     "text": [
      "Simba:\n",
      "Sound: Roar!\n",
      "Eating: Simba is eating meat.\n",
      "Sleeping: Simba is sleeping.\n",
      "\n",
      "Dumbo:\n",
      "Sound: Trumpet!\n",
      "Eating: Dumbo is eating grass.\n",
      "Sleeping: Dumbo is sleeping.\n",
      "\n",
      "Chilly:\n",
      "Sound: Honk!\n",
      "Eating: Chilly is eating fish.\n",
      "Sleeping: Chilly is sleeping.\n",
      "\n"
     ]
    }
   ],
   "source": [
    "class Animal:\n",
    "    def __init__(self, name):\n",
    "        self.name = name\n",
    "\n",
    "    def make_sound(self):\n",
    "        raise NotImplementedError(\"Subclasses must implement the make_sound method\")\n",
    "\n",
    "    def eat(self):\n",
    "        raise NotImplementedError(\"Subclasses must implement the eat method\")\n",
    "\n",
    "    def sleep(self):\n",
    "        return f\"{self.name} is sleeping.\"\n",
    "\n",
    "class Lion(Animal):\n",
    "    def make_sound(self):\n",
    "        return \"Roar!\"\n",
    "\n",
    "    def eat(self):\n",
    "        return f\"{self.name} is eating meat.\"\n",
    "\n",
    "class Elephant(Animal):\n",
    "    def make_sound(self):\n",
    "        return \"Trumpet!\"\n",
    "\n",
    "    def eat(self):\n",
    "        return f\"{self.name} is eating grass.\"\n",
    "\n",
    "class Penguin(Animal):\n",
    "    def make_sound(self):\n",
    "        return \"Honk!\"\n",
    "\n",
    "    def eat(self):\n",
    "        return f\"{self.name} is eating fish.\"\n",
    "\n",
    "# Zoo simulation\n",
    "lion = Lion(\"Simba\")\n",
    "elephant = Elephant(\"Dumbo\")\n",
    "penguin = Penguin(\"Chilly\")\n",
    "\n",
    "zoo_animals = [lion, elephant, penguin]\n",
    "\n",
    "for animal in zoo_animals:\n",
    "    print(f\"{animal.name}:\")\n",
    "    print(f\"Sound: {animal.make_sound()}\")\n",
    "    print(f\"Eating: {animal.eat()}\")\n",
    "    print(f\"Sleeping: {animal.sleep()}\")\n",
    "    print()"
   ]
  },
  {
   "cell_type": "markdown",
   "id": "98412a6a-8eae-4dc0-9340-f954b066ce61",
   "metadata": {},
   "source": [
    "# Abstraction:"
   ]
  },
  {
   "cell_type": "markdown",
   "id": "3108ef1b-377a-4465-b8ee-e50fc7e601d6",
   "metadata": {},
   "source": [
    "#### 1. What is abstraction in Python, and how does it relate to object-oriented programming?\n",
    "\n",
    "Ans. Abstraction is a fundamental concept in object-oriented programming (OOP) and refers to the process of simplifying complex systems by modeling classes based on the essential properties and behaviors they share. It involves focusing on the essential features of an object while ignoring the irrelevant details. Abstraction allows developers to create models that represent real-world entities in a more understandable and manageable way.\n",
    "\n",
    "In Python, abstraction is closely related to the principles of OOP, which include encapsulation, inheritance, and polymorphism."
   ]
  },
  {
   "cell_type": "markdown",
   "id": "42b87930-7af9-4c2d-ad0d-1406ead25383",
   "metadata": {},
   "source": [
    "#### 2. Describe the benefits of abstraction in terms of code organization and complexity reduction.\n",
    "Ans. Abstraction plays a crucial role in enhancing code organization and reducing complexity by providing a way to model complex systems with a focus on essential features, promoting code reuse, facilitating modularization, easing maintenance, and supporting collaboration among developers. It is a key principle in object-oriented programming and contributes to the creation of more maintainable, scalable, and understandable software."
   ]
  },
  {
   "cell_type": "markdown",
   "id": "23730056-bc78-4631-8f03-4ef0a4072015",
   "metadata": {},
   "source": [
    "#### 3. Create a Python class called `Shape` with an abstract method `calculate_area()`. Then, create child classes (e.g., `Circle`, `Rectangle`) that implement the `calculate_area()` method. Provide an example of using these classes."
   ]
  },
  {
   "cell_type": "code",
   "execution_count": 1,
   "id": "10146503-56f1-4165-a430-ac4f7689a205",
   "metadata": {},
   "outputs": [
    {
     "name": "stdout",
     "output_type": "stream",
     "text": [
      "Area of Circle: 78.54 square units\n",
      "Area of Rectangle: 24 square units\n"
     ]
    }
   ],
   "source": [
    "from abc import ABC, abstractmethod\n",
    "from math import pi\n",
    "\n",
    "class Shape(ABC):\n",
    "    @abstractmethod\n",
    "    def calculate_area(self):\n",
    "        pass\n",
    "\n",
    "class Circle(Shape):\n",
    "    def __init__(self, radius):\n",
    "        self.radius = radius\n",
    "\n",
    "    def calculate_area(self):\n",
    "        return pi * self.radius ** 2\n",
    "\n",
    "class Rectangle(Shape):\n",
    "    def __init__(self, width, height):\n",
    "        self.width = width\n",
    "        self.height = height\n",
    "\n",
    "    def calculate_area(self):\n",
    "        return self.width * self.height\n",
    "\n",
    "# Example Usage\n",
    "circle = Circle(radius=5)\n",
    "rectangle = Rectangle(width=4, height=6)\n",
    "\n",
    "# Calculate and print areas\n",
    "print(f\"Area of Circle: {circle.calculate_area():.2f} square units\")\n",
    "print(f\"Area of Rectangle: {rectangle.calculate_area()} square units\")"
   ]
  },
  {
   "cell_type": "markdown",
   "id": "d94f29a8-c0fb-49e5-9930-c9153d825cd2",
   "metadata": {},
   "source": [
    "#### 4. Explain the concept of abstract classes in Python and how they are defined using the `abc` module. Provide an example.\n",
    "\n",
    "Ans. In Python, an abstract class is a class that cannot be instantiated on its own and is meant to be subclassed by other classes. Abstract classes serve as a blueprint for other classes, defining a common interface that their subclasses must implement. Abstract classes may contain abstract methods, which are methods without an implementation in the abstract class but must be implemented by any concrete (non-abstract) subclasses.\n",
    "\n",
    "The abc module in Python provides the ABC (Abstract Base Class) metaclass and the abstractmethod decorator, which can be used to define abstract classes and abstract methods, respectively."
   ]
  },
  {
   "cell_type": "code",
   "execution_count": 2,
   "id": "47ad1a43-cd6b-4871-b75d-977593a668d6",
   "metadata": {},
   "outputs": [
    {
     "name": "stdout",
     "output_type": "stream",
     "text": [
      "Circle with radius 5\n",
      "Area of Circle: 78.50 square units\n",
      "Rectangle with width 4 and height 6\n",
      "Area of Rectangle: 24 square units\n"
     ]
    }
   ],
   "source": [
    "from abc import ABC, abstractmethod\n",
    "\n",
    "class Shape(ABC):  # Shape is an abstract class\n",
    "    @abstractmethod\n",
    "    def calculate_area(self):\n",
    "        pass\n",
    "\n",
    "    @abstractmethod\n",
    "    def display_info(self):\n",
    "        pass\n",
    "\n",
    "class Circle(Shape):\n",
    "    def __init__(self, radius):\n",
    "        self.radius = radius\n",
    "\n",
    "    def calculate_area(self):\n",
    "        return 3.14 * self.radius ** 2\n",
    "\n",
    "    def display_info(self):\n",
    "        print(f\"Circle with radius {self.radius}\")\n",
    "\n",
    "class Rectangle(Shape):\n",
    "    def __init__(self, width, height):\n",
    "        self.width = width\n",
    "        self.height = height\n",
    "\n",
    "    def calculate_area(self):\n",
    "        return self.width * self.height\n",
    "\n",
    "    def display_info(self):\n",
    "        print(f\"Rectangle with width {self.width} and height {self.height}\")\n",
    "\n",
    "# Example Usage\n",
    "circle = Circle(radius=5)\n",
    "rectangle = Rectangle(width=4, height=6)\n",
    "\n",
    "# Calling abstract methods on instances\n",
    "circle.display_info()\n",
    "print(f\"Area of Circle: {circle.calculate_area():.2f} square units\")\n",
    "\n",
    "rectangle.display_info()\n",
    "print(f\"Area of Rectangle: {rectangle.calculate_area()} square units\")\n"
   ]
  },
  {
   "cell_type": "markdown",
   "id": "623f1697-d17c-45c0-9d3c-c8d21ed05989",
   "metadata": {},
   "source": [
    "#### 5. How do abstract classes differ from regular classes in Python? Discuss their use cases.\n",
    "\n",
    "Ans. Regular classes are used when you want to provide concrete implementations and instances can be created directly. Abstract classes, on the other hand, are used to define a common interface and ensure that subclasses implement specific methods. They are useful for creating a hierarchy of related classes with shared behaviors."
   ]
  },
  {
   "cell_type": "markdown",
   "id": "ea039c14-c0f6-4d0e-a612-49d119dba436",
   "metadata": {},
   "source": [
    "#### 6. Create a Python class for a bank account and demonstrate abstraction by hiding the account balance and providing methods to deposit and withdraw funds."
   ]
  },
  {
   "cell_type": "code",
   "execution_count": 3,
   "id": "e207ef00-bbc4-4252-9daf-45f3afe072bc",
   "metadata": {},
   "outputs": [
    {
     "name": "stdout",
     "output_type": "stream",
     "text": [
      "Account Holder: John Doe\n",
      "Account Number: 123456789\n",
      "Savings Balance: Rs.0\n",
      "Deposited Rs.1000. New balance: Rs.1000\n",
      "Withdrew Rs.500. New balance: Rs.500\n",
      "Account Holder: John Doe\n",
      "Account Number: 123456789\n",
      "Savings Balance: Rs.500\n"
     ]
    }
   ],
   "source": [
    "from abc import ABC, abstractmethod\n",
    "\n",
    "class BankAccount(ABC):\n",
    "    def __init__(self, account_holder, account_number):\n",
    "        self.account_holder = account_holder\n",
    "        self.account_number = account_number\n",
    "        self._balance = 0  # Using a protected variable to represent the account balance\n",
    "\n",
    "    @abstractmethod\n",
    "    def display_balance(self):\n",
    "        pass\n",
    "\n",
    "    def deposit(self, amount):\n",
    "        if amount > 0:\n",
    "            self._balance += amount\n",
    "            print(f\"Deposited Rs.{amount}. New balance: Rs.{self._balance}\")\n",
    "        else:\n",
    "            print(\"Invalid deposit amount. Please deposit a positive amount.\")\n",
    "\n",
    "    @abstractmethod\n",
    "    def withdraw(self, amount):\n",
    "        pass\n",
    "\n",
    "# Concrete implementation of BankAccount\n",
    "class SavingsAccount(BankAccount):\n",
    "    def display_balance(self):\n",
    "        print(f\"Account Holder: {self.account_holder}\\nAccount Number: {self.account_number}\\nSavings Balance: Rs.{self._balance}\")\n",
    "\n",
    "    def withdraw(self, amount):\n",
    "        if 0 < amount <= self._balance:\n",
    "            self._balance -= amount\n",
    "            print(f\"Withdrew Rs.{amount}. New balance: Rs.{self._balance}\")\n",
    "        else:\n",
    "            print(\"Invalid withdrawal amount or insufficient funds.\")\n",
    "\n",
    "# Example Usage\n",
    "savings_account = SavingsAccount(account_holder=\"John Doe\", account_number=\"123456789\")\n",
    "\n",
    "# Display initial balance\n",
    "savings_account.display_balance()\n",
    "\n",
    "# Deposit funds\n",
    "savings_account.deposit(1000)\n",
    "\n",
    "# Withdraw funds\n",
    "savings_account.withdraw(500)\n",
    "\n",
    "# Display final balance\n",
    "savings_account.display_balance()"
   ]
  },
  {
   "cell_type": "markdown",
   "id": "75014746-4a8c-4bbe-8709-587aba61c3ed",
   "metadata": {},
   "source": [
    "#### 7. Discuss the concept of interface classes in Python and their role in achieving abstraction.\n",
    "Ans. In Python, the term \"interface class\" is not as explicitly defined as it is in some other programming languages like Java. Python is a dynamically typed language and doesn't have a strict concept of interfaces like those found in statically typed languages. However, the concept of interfaces can still be achieved through a combination of abstract classes, abstract methods, and duck typing."
   ]
  },
  {
   "cell_type": "markdown",
   "id": "fdc9a314-576b-4839-8ce7-c90f72ad3e4a",
   "metadata": {},
   "source": [
    "#### 8. Create a Python class hierarchy for animals and implement abstraction by defining common methods (e.g., `eat()`, `sleep()`) in an abstract base class."
   ]
  },
  {
   "cell_type": "code",
   "execution_count": 4,
   "id": "354a7f82-5337-4579-9b45-06868c5ebd3c",
   "metadata": {},
   "outputs": [
    {
     "name": "stdout",
     "output_type": "stream",
     "text": [
      "Buddy says: Woof!\n",
      "Buddy is eating kibble.\n",
      "Buddy is sleeping in a cozy bed.\n",
      "Polly says: Squawk!\n",
      "Polly is eating seeds.\n",
      "Polly is roosting on a perch.\n"
     ]
    }
   ],
   "source": [
    "from abc import ABC, abstractmethod\n",
    "\n",
    "class Animal(ABC):\n",
    "    def __init__(self, name, age):\n",
    "        self.name = name\n",
    "        self.age = age\n",
    "\n",
    "    @abstractmethod\n",
    "    def make_sound(self):\n",
    "        pass\n",
    "\n",
    "    @abstractmethod\n",
    "    def eat(self):\n",
    "        pass\n",
    "\n",
    "    @abstractmethod\n",
    "    def sleep(self):\n",
    "        pass\n",
    "\n",
    "class Mammal(Animal):\n",
    "    def __init__(self, name, age, fur_color):\n",
    "        super().__init__(name, age)\n",
    "        self.fur_color = fur_color\n",
    "\n",
    "    def make_sound(self):\n",
    "        pass  # Specific sound implementation for mammals\n",
    "\n",
    "class Bird(Animal):\n",
    "    def __init__(self, name, age, feather_color):\n",
    "        super().__init__(name, age)\n",
    "        self.feather_color = feather_color\n",
    "\n",
    "    def make_sound(self):\n",
    "        pass  # Specific sound implementation for birds\n",
    "\n",
    "class Dog(Mammal):\n",
    "    def __init__(self, name, age, fur_color, breed):\n",
    "        super().__init__(name, age, fur_color)\n",
    "        self.breed = breed\n",
    "\n",
    "    def make_sound(self):\n",
    "        return \"Woof!\"\n",
    "\n",
    "    def eat(self):\n",
    "        return f\"{self.name} is eating kibble.\"\n",
    "\n",
    "    def sleep(self):\n",
    "        return f\"{self.name} is sleeping in a cozy bed.\"\n",
    "\n",
    "class Parrot(Bird):\n",
    "    def __init__(self, name, age, feather_color, species):\n",
    "        super().__init__(name, age, feather_color)\n",
    "        self.species = species\n",
    "\n",
    "    def make_sound(self):\n",
    "        return \"Squawk!\"\n",
    "\n",
    "    def eat(self):\n",
    "        return f\"{self.name} is eating seeds.\"\n",
    "\n",
    "    def sleep(self):\n",
    "        return f\"{self.name} is roosting on a perch.\"\n",
    "\n",
    "# Example Usage\n",
    "dog = Dog(name=\"Buddy\", age=3, fur_color=\"Brown\", breed=\"Golden Retriever\")\n",
    "parrot = Parrot(name=\"Polly\", age=2, feather_color=\"Green\", species=\"Amazon Parrot\")\n",
    "\n",
    "# Common methods\n",
    "print(f\"{dog.name} says: {dog.make_sound()}\")\n",
    "print(dog.eat())\n",
    "print(dog.sleep())\n",
    "\n",
    "print(f\"{parrot.name} says: {parrot.make_sound()}\")\n",
    "print(parrot.eat())\n",
    "print(parrot.sleep())\n"
   ]
  },
  {
   "cell_type": "markdown",
   "id": "345d31f6-52b0-4df1-8310-ac0f9f90be3f",
   "metadata": {},
   "source": [
    "#### 9. Explain the significance of encapsulation in achieving abstraction. Provide examples.\n",
    "Ans. Achieving Abstraction with Encapsulation:\n",
    "\n",
    "1. Encapsulation plays a crucial role in achieving abstraction by providing a clear separation between the external interface (public methods) and the internal implementation (private attributes and methods) of a class.\n",
    "\n",
    "2. External code interacts with the object through the public methods, abstracting away the complexity of the internal workings. This allows for changes to the internal implementation without affecting the external code that relies on the object."
   ]
  },
  {
   "cell_type": "code",
   "execution_count": 5,
   "id": "ea04dec7-2920-44ff-b0a1-2adb36a6668b",
   "metadata": {},
   "outputs": [
    {
     "name": "stdout",
     "output_type": "stream",
     "text": [
      "Account Holder: John Doe\n",
      "Balance: $1000\n",
      "Deposited $500. New balance: $1500\n",
      "Withdrew $200. New balance: $1300\n",
      "Account Holder: John Doe\n",
      "Balance: $1300\n"
     ]
    }
   ],
   "source": [
    "class BankAccount:\n",
    "    def __init__(self, account_holder, balance):\n",
    "        self._account_holder = account_holder  # Encapsulation: Private attribute\n",
    "        self._balance = balance                # Encapsulation: Private attribute\n",
    "\n",
    "    def deposit(self, amount):\n",
    "        # Encapsulation: Accessing and modifying the balance through a public method\n",
    "        if amount > 0:\n",
    "            self._balance += amount\n",
    "            print(f\"Deposited ${amount}. New balance: ${self._balance}\")\n",
    "        else:\n",
    "            print(\"Invalid deposit amount. Please deposit a positive amount.\")\n",
    "\n",
    "    def withdraw(self, amount):\n",
    "        # Encapsulation: Accessing and modifying the balance through a public method\n",
    "        if 0 < amount <= self._balance:\n",
    "            self._balance -= amount\n",
    "            print(f\"Withdrew ${amount}. New balance: ${self._balance}\")\n",
    "        else:\n",
    "            print(\"Invalid withdrawal amount or insufficient funds.\")\n",
    "\n",
    "    # Abstraction: The details of account holder and balance are abstracted away from external code\n",
    "    def display_balance(self):\n",
    "        print(f\"Account Holder: {self._account_holder}\\nBalance: ${self._balance}\")\n",
    "\n",
    "# Example Usage:\n",
    "account = BankAccount(account_holder=\"John Doe\", balance=1000)\n",
    "account.display_balance()   # Abstraction: External code interacts with the object through a public method\n",
    "account.deposit(500)        # Abstraction: External code doesn't directly access or modify internal attributes\n",
    "account.withdraw(200)\n",
    "account.display_balance()\n"
   ]
  },
  {
   "cell_type": "markdown",
   "id": "b6a65bfd-d100-4633-a7e6-a0ae5fcd8f01",
   "metadata": {},
   "source": [
    "#### 10. What is the purpose of abstract methods, and how do they enforce abstraction in Python classes?\n",
    "\n",
    "Ans. Abstract methods play a key role in achieving abstraction in Python classes. They are methods declared in an abstract base class (ABC) without providing an implementation. Instead, concrete subclasses are required to provide their own implementations for these abstract methods. Abstract methods serve several purposes in enforcing abstraction:\n",
    "\n",
    "1. Define a Common Interface:\n",
    "Abstract methods define a common interface that concrete subclasses must adhere to. This interface represents a set of methods that should be implemented by all subclasses, ensuring a consistent API.\n",
    "\n",
    "2. Ensure Method Implementation:\n",
    "Abstract methods ensure that specific methods are implemented by subclasses. If a subclass fails to provide an implementation for an abstract method, a TypeError is raised, making it explicit that the class is incomplete.\n",
    "\n",
    "3. Promote Consistency:\n",
    "Abstract methods promote consistency across a hierarchy of classes. By defining a set of common methods at the abstract level, you ensure that all derived classes share a common structure, making the code more predictable and maintainable.\n",
    "\n",
    "4. Guide Subclass Implementations:\n",
    "Abstract methods serve as guidelines for subclasses, indicating which methods they need to implement. This helps developers understand the expected behavior of each class and promotes a standardized approach to implementing specific functionalities."
   ]
  },
  {
   "cell_type": "markdown",
   "id": "91a3fc43-0567-4780-8c3e-a889605e9495",
   "metadata": {},
   "source": [
    "#### 11. Create a Python class for a vehicle system and demonstrate abstraction by defining common methods (e.g., `start()`, `stop()`) in an abstract base class."
   ]
  },
  {
   "cell_type": "code",
   "execution_count": 7,
   "id": "6062bd87-22d7-463d-8551-335ad6f1b43d",
   "metadata": {},
   "outputs": [
    {
     "name": "stdout",
     "output_type": "stream",
     "text": [
      "The 2022 Toyota Camry with 4 doors has started.\n",
      "The 2022 Toyota Camry with 4 doors is now driving.\n",
      "The 2022 Toyota Camry with 4 doors has stopped.\n"
     ]
    }
   ],
   "source": [
    "from abc import ABC, abstractmethod\n",
    "\n",
    "class Vehicle(ABC):\n",
    "    def __init__(self, make, model, year):\n",
    "        self.make = make\n",
    "        self.model = model\n",
    "        self.year = year\n",
    "        self.is_running = False\n",
    "\n",
    "    @abstractmethod\n",
    "    def start(self):\n",
    "        pass\n",
    "\n",
    "    @abstractmethod\n",
    "    def stop(self):\n",
    "        pass\n",
    "\n",
    "    @abstractmethod\n",
    "    def drive(self):\n",
    "        pass\n",
    "\n",
    "class Car(Vehicle):\n",
    "    def __init__(self, make, model, year, num_doors):\n",
    "        super().__init__(make, model, year)\n",
    "        self.num_doors = num_doors\n",
    "\n",
    "    def start(self):\n",
    "        if not self.is_running:\n",
    "            self.is_running = True\n",
    "            print(f\"The {self.year} {self.make} {self.model} with {self.num_doors} doors has started.\")\n",
    "        else:\n",
    "            print(\"The car is already running.\")\n",
    "\n",
    "    def stop(self):\n",
    "        if self.is_running:\n",
    "            self.is_running = False\n",
    "            print(f\"The {self.year} {self.make} {self.model} with {self.num_doors} doors has stopped.\")\n",
    "        else:\n",
    "            print(\"The car is already stopped.\")\n",
    "\n",
    "    def drive(self):\n",
    "        if self.is_running:\n",
    "            print(f\"The {self.year} {self.make} {self.model} with {self.num_doors} doors is now driving.\")\n",
    "        else:\n",
    "            print(\"Cannot drive. The car is not running.\")\n",
    "\n",
    "# Example Usage:\n",
    "car = Car(make=\"Toyota\", model=\"Camry\", year=2022, num_doors=4)\n",
    "\n",
    "# Common methods\n",
    "car.start()   # Abstraction: External code interacts with the object through a public method\n",
    "car.drive()\n",
    "car.stop()\n"
   ]
  },
  {
   "cell_type": "markdown",
   "id": "d4610adc-60ce-46ac-8a6e-d82232a0f642",
   "metadata": {},
   "source": [
    "#### 12. Describe the use of abstract properties in Python and how they can be employed in abstract classes.\n",
    "\n",
    "Ans. Abstract properties in Python are special attributes that are defined in abstract base classes(ABCs) using the @property decorator and the @attribute.setter decorator. They allow you to define a contract for attributes that must be implemented by subclasses, without specifying how they should be implemented.\n",
    "\n",
    "Here's how abstract properties work and how they can be employed in abstract classes:\n",
    "\n",
    "Defining Abstract Properties: To create an abstract property, you use the @property decorator on a method, and then create a setter method using @attribute.setter.\n",
    "\n",
    "Getter Method : The method with @property is known as the getter method. It defines the behavior for retrieving the value of the property.\n",
    "\n",
    "Setter Method: The method with @<attribute>.setter is used to define the behavior for setting the value of the property.\n",
    "\n",
    "Enforcing a Contract : Abstract properties define a contract that subclasses must adhere to. They specify that a certain attribute must be present in subclasses, but they don's specify how it should be implemented.\n",
    "\n",
    "Providing a Common Interface: Abstract properties allow you to create a common interface for attributes that multiple classes can implement. This promotes consistency in behavior across different subclasses.\n",
    "\n",
    "Hiding Implementation Details: Like abstract methods, abstract properties focus solely on what attributes should be available, not on how they are implemented. This helps in hiding the internal implementation details from the user."
   ]
  },
  {
   "cell_type": "markdown",
   "id": "8e265bc5-3f58-4ee6-884a-9f15b51a812c",
   "metadata": {},
   "source": [
    "#### 13. Create a Python class hierarchy for employees in a company (e.g., manager, developer, designer) and implement abstraction by defining a common `get_salary()` method."
   ]
  },
  {
   "cell_type": "code",
   "execution_count": 8,
   "id": "cabe7bb7-7a0e-401e-9351-5a65c16c8506",
   "metadata": {},
   "outputs": [
    {
     "name": "stdout",
     "output_type": "stream",
     "text": [
      "John Doe's salary: $80000\n",
      "Manager John Doe (ID: M001) in Marketing\n",
      "Alice Smith's salary: $60000\n",
      "Developer Alice Smith (ID: D001) proficient in Python\n",
      "Bob Johnson's salary: $55000\n",
      "Designer Bob Johnson (ID: DE001) skilled in Adobe Illustrator\n"
     ]
    }
   ],
   "source": [
    "from abc import ABC, abstractmethod\n",
    "\n",
    "class Employee(ABC):\n",
    "    def __init__(self, name, employee_id):\n",
    "        self.name = name\n",
    "        self.employee_id = employee_id\n",
    "\n",
    "    @abstractmethod\n",
    "    def get_salary(self):\n",
    "        pass\n",
    "\n",
    "    @abstractmethod\n",
    "    def display_info(self):\n",
    "        pass\n",
    "\n",
    "class Manager(Employee):\n",
    "    def __init__(self, name, employee_id, department):\n",
    "        super().__init__(name, employee_id)\n",
    "        self.department = department\n",
    "\n",
    "    def get_salary(self):\n",
    "        return 80000  # A fixed salary for managers\n",
    "\n",
    "    def display_info(self):\n",
    "        print(f\"Manager {self.name} (ID: {self.employee_id}) in {self.department}\")\n",
    "\n",
    "class Developer(Employee):\n",
    "    def __init__(self, name, employee_id, programming_language):\n",
    "        super().__init__(name, employee_id)\n",
    "        self.programming_language = programming_language\n",
    "\n",
    "    def get_salary(self):\n",
    "        return 60000  # A fixed salary for developers\n",
    "\n",
    "    def display_info(self):\n",
    "        print(f\"Developer {self.name} (ID: {self.employee_id}) proficient in {self.programming_language}\")\n",
    "\n",
    "class Designer(Employee):\n",
    "    def __init__(self, name, employee_id, design_tool):\n",
    "        super().__init__(name, employee_id)\n",
    "        self.design_tool = design_tool\n",
    "\n",
    "    def get_salary(self):\n",
    "        return 55000  # A fixed salary for designers\n",
    "\n",
    "    def display_info(self):\n",
    "        print(f\"Designer {self.name} (ID: {self.employee_id}) skilled in {self.design_tool}\")\n",
    "\n",
    "# Example Usage:\n",
    "manager = Manager(name=\"John Doe\", employee_id=\"M001\", department=\"Marketing\")\n",
    "developer = Developer(name=\"Alice Smith\", employee_id=\"D001\", programming_language=\"Python\")\n",
    "designer = Designer(name=\"Bob Johnson\", employee_id=\"DE001\", design_tool=\"Adobe Illustrator\")\n",
    "\n",
    "# Common method\n",
    "print(f\"{manager.name}'s salary: ${manager.get_salary()}\")\n",
    "manager.display_info()\n",
    "\n",
    "print(f\"{developer.name}'s salary: ${developer.get_salary()}\")\n",
    "developer.display_info()\n",
    "\n",
    "print(f\"{designer.name}'s salary: ${designer.get_salary()}\")\n",
    "designer.display_info()\n"
   ]
  },
  {
   "cell_type": "markdown",
   "id": "bc45561a-09df-4851-b883-d34f8fa9c824",
   "metadata": {},
   "source": [
    "#### 14. Discuss the differences between abstract classes and concrete classes in Python, including their instantiation.\n",
    "\n",
    "Ans. Abstract classes in Python provide a way to define a common interface and enforce certain method implementations in concrete subclasses. Concrete classes, on the other hand, are directly instantiated and provide complete implementations for all methods, including any abstract methods inherited from abstract classes."
   ]
  },
  {
   "cell_type": "markdown",
   "id": "36020a97-8098-47ac-9594-7c3056355de4",
   "metadata": {},
   "source": [
    "#### 15. Explain the concept of abstract data types (ADTs) and their role in achieving abstraction in Python.\n",
    "\n",
    "Ans. ADTs play a crucial role in achieving abstraction in Python by providing a high-level conceptual model for data structures. They allow developers to work with data at a conceptual level, focusing on what operations are available and what properties the data has, without getting bogged down in the implementation details. This abstraction enhances code clarity, modularity, and maintainability."
   ]
  },
  {
   "cell_type": "markdown",
   "id": "5f9e2d49-fddf-479b-936a-5341315ed855",
   "metadata": {},
   "source": [
    "#### 16. Create a Python class for a computer system, demonstrating abstraction by defining common methods (e.g., `power_on()`, `shutdown()`) in an abstract base class."
   ]
  },
  {
   "cell_type": "code",
   "execution_count": 9,
   "id": "833b474b-0275-4feb-badf-e86c745531ad",
   "metadata": {},
   "outputs": [
    {
     "name": "stdout",
     "output_type": "stream",
     "text": [
      "Dell XPS 13 laptop is powered on. Battery life: 10 hours.\n",
      "Web Browser is running on Dell XPS 13 laptop.\n",
      "Dell XPS 13 laptop is shutting down.\n",
      "HP Pavilion desktop is powered on.\n",
      "Code Editor is running on HP Pavilion desktop.\n",
      "HP Pavilion desktop is shutting down.\n"
     ]
    }
   ],
   "source": [
    "from abc import ABC, abstractmethod\n",
    "\n",
    "class Computer(ABC):\n",
    "    def __init__(self, brand, model):\n",
    "        self.brand = brand\n",
    "        self.model = model\n",
    "        self.is_powered_on = False\n",
    "\n",
    "    @abstractmethod\n",
    "    def power_on(self):\n",
    "        pass\n",
    "\n",
    "    @abstractmethod\n",
    "    def shutdown(self):\n",
    "        pass\n",
    "\n",
    "    @abstractmethod\n",
    "    def run_application(self, application):\n",
    "        pass\n",
    "\n",
    "class Laptop(Computer):\n",
    "    def __init__(self, brand, model, battery_life):\n",
    "        super().__init__(brand, model)\n",
    "        self.battery_life = battery_life\n",
    "\n",
    "    def power_on(self):\n",
    "        if not self.is_powered_on:\n",
    "            self.is_powered_on = True\n",
    "            print(f\"{self.brand} {self.model} laptop is powered on. Battery life: {self.battery_life} hours.\")\n",
    "        else:\n",
    "            print(\"Laptop is already powered on.\")\n",
    "\n",
    "    def shutdown(self):\n",
    "        if self.is_powered_on:\n",
    "            self.is_powered_on = False\n",
    "            print(f\"{self.brand} {self.model} laptop is shutting down.\")\n",
    "        else:\n",
    "            print(\"Laptop is already powered off.\")\n",
    "\n",
    "    def run_application(self, application):\n",
    "        if self.is_powered_on:\n",
    "            print(f\"{application} is running on {self.brand} {self.model} laptop.\")\n",
    "        else:\n",
    "            print(\"Cannot run application. Laptop is powered off.\")\n",
    "\n",
    "class Desktop(Computer):\n",
    "    def power_on(self):\n",
    "        if not self.is_powered_on:\n",
    "            self.is_powered_on = True\n",
    "            print(f\"{self.brand} {self.model} desktop is powered on.\")\n",
    "        else:\n",
    "            print(\"Desktop is already powered on.\")\n",
    "\n",
    "    def shutdown(self):\n",
    "        if self.is_powered_on:\n",
    "            self.is_powered_on = False\n",
    "            print(f\"{self.brand} {self.model} desktop is shutting down.\")\n",
    "        else:\n",
    "            print(\"Desktop is already powered off.\")\n",
    "\n",
    "    def run_application(self, application):\n",
    "        if self.is_powered_on:\n",
    "            print(f\"{application} is running on {self.brand} {self.model} desktop.\")\n",
    "        else:\n",
    "            print(\"Cannot run application. Desktop is powered off.\")\n",
    "\n",
    "# Example Usage:\n",
    "laptop = Laptop(brand=\"Dell\", model=\"XPS 13\", battery_life=10)\n",
    "desktop = Desktop(brand=\"HP\", model=\"Pavilion\")\n",
    "\n",
    "# Common methods\n",
    "laptop.power_on()         # Abstraction: External code interacts with the object through a public method\n",
    "laptop.run_application(\"Web Browser\")\n",
    "laptop.shutdown()\n",
    "\n",
    "desktop.power_on()\n",
    "desktop.run_application(\"Code Editor\")\n",
    "desktop.shutdown()"
   ]
  },
  {
   "cell_type": "markdown",
   "id": "795f61fd-111c-4181-ab53-15d038f77a74",
   "metadata": {},
   "source": [
    "#### 17. Discuss the benefits of using abstraction in large-scale software development projects.\n",
    "Ans. Using abstraction in large-scale software development projects offers several significant benefits:\n",
    "\n",
    "Complexity Management: Abstraction helps manage the complexity of large-scale projects by breaking them down into manageable, modular components. Each component can be developed and tested independently, reducing the cognitive load on individual developers.\n",
    "\n",
    "Code Organization: Abstraction promotes a structured and organized codebase. It allows developers to focus on individual components without being overwhelmed by the entire system's interface.\n",
    "\n",
    "Improved Readability and Maintainability: Abstracting away low-level details means that code is more readable and understandable. This makes it easier for developers to grasp the functionality of various parts of the system.\n",
    "\n",
    "Ease of Collaboration:Abstraction provide clear interfaces between different parts of the system. This facilitates teamwork, as developers can work on different components simultaneously knowing how they interact with one another.\n",
    "\n",
    "Reduced Coupling: Abstraction helps in reducing tight coupling between different modules or components. This allows for changes or updates to be made to one part of the system without affecting others, as long as the interface remains consistent.\n",
    "\n",
    "Error Isolation: With proper abstraction, errors are isolated to specific components, making it easier to identify the source of a problem and fix it without affecting other parts of the system.\n",
    "\n",
    "Security and Encapsulation: Abstraction can help enforce security by limiting access to sensitive information or operations. It allows you to encapsulate critical functionalities making it harder for unitended misuse."
   ]
  },
  {
   "cell_type": "markdown",
   "id": "5b66d0c3-d5ca-4e70-84ef-371665f74b54",
   "metadata": {},
   "source": [
    "#### 18. Explain how abstraction enhances code reusability and modularity in Python programs.\n",
    "\n",
    "Ans. Abstraction plays a crucial role in enchancing code resuability and modularity in Python programs. Here's how it achieves this:\n",
    "\n",
    "Seperation of Concerns: Abstraction allows you to seperate different concerns or functionalities in your code. Each component or module can focus on a specific aspect of the program functionality, making it easier to understand and maintain.\n",
    "\n",
    "Well-Defined Interfaces: Abstraction defines well-defined interfaces for components. These interfaces specify how different parts of the program can interact with each other. This promotes code reusability because you can use components without needing to understand their internal workings.\n",
    "\n",
    "Encapsulation: Abstraction encapsulates the implementation details of a component, hiding them from the outside world. This makes it easier to reuse components because you only need to know how to use them, not how they are implemented.\n",
    "\n",
    "Modular Design: Abstraction encourages a modular design, where different components are organized into separate modules or classes. These modules can be reused in other parts of the program or even in other projects.\n",
    "\n",
    "Reduced Dependencies: Abstraction reduces dependencies between components. This means that you can change or update one component without affecting others, as long as the interface remains consistent. This promotes code reusability and maintainability.\n",
    "\n",
    "Inheritance and Interfaces : Python supports inheritance and interfaces through abstract base classes(ABCs). This allows you to create abstract classes that define commong interfaces for subclasses. This promotes code reuse by ensuring adherence to a specified contract.\n",
    "\n",
    "Polymorphism: Abstraction, particularly in the context of polymorphism, allows different objects to be used interchangeably if they implement the same abstract interface. This enables reusing code that operates on abstracted interfaces rather than specific implementation."
   ]
  },
  {
   "cell_type": "markdown",
   "id": "5663e7a5-764e-4a48-94fb-24a759157158",
   "metadata": {},
   "source": [
    "#### 19. Create a Python class for a library system, implementing abstraction by defining common methods (e.g., `add_book()`, `borrow_book()`) in an abstract base class."
   ]
  },
  {
   "cell_type": "code",
   "execution_count": 6,
   "id": "3127a71e-009c-4d17-b55c-723bd0322d89",
   "metadata": {},
   "outputs": [
    {
     "name": "stdout",
     "output_type": "stream",
     "text": [
      "Book 'The Catcher in the Rye' added to the library catalog.\n",
      "Book Title: The Catcher in the Rye\n",
      "Author: J.D. Salinger\n",
      "Genre: Fiction\n",
      "Book 'The Catcher in the Rye' has been borrowed. Due date: 2023-12-16\n",
      "Book 'The Catcher in the Rye' has been returned.\n",
      "Book 'The Catcher in the Rye' has been borrowed. Due date: 2023-12-16\n",
      "Book 'The Catcher in the Rye' has been returned.\n"
     ]
    }
   ],
   "source": [
    "from abc import ABC, abstractmethod\n",
    "from datetime import datetime, timedelta\n",
    "\n",
    "class LibraryItem(ABC):\n",
    "    def __init__(self, title, author, item_id):\n",
    "        self.title = title\n",
    "        self.author = author\n",
    "        self.item_id = item_id\n",
    "        self.checked_out = False\n",
    "        self.due_date = None\n",
    "\n",
    "    @abstractmethod\n",
    "    def display_info(self):\n",
    "        pass\n",
    "\n",
    "    @abstractmethod\n",
    "    def add_item(self):\n",
    "        pass\n",
    "\n",
    "    @abstractmethod\n",
    "    def borrow_item(self):\n",
    "        pass\n",
    "\n",
    "    @abstractmethod\n",
    "    def return_item(self):\n",
    "        pass\n",
    "\n",
    "class Book(LibraryItem):\n",
    "    def __init__(self, title, author, item_id, genre):\n",
    "        super().__init__(title, author, item_id)\n",
    "        self.genre = genre\n",
    "\n",
    "    def display_info(self):\n",
    "        print(f\"Book Title: {self.title}\\nAuthor: {self.author}\\nGenre: {self.genre}\")\n",
    "\n",
    "    def add_item(self):\n",
    "        print(f\"Book '{self.title}' added to the library catalog.\")\n",
    "\n",
    "    def borrow_item(self):\n",
    "        if not self.checked_out:\n",
    "            self.checked_out = True\n",
    "            self.due_date = datetime.now() + timedelta(days=14)\n",
    "            print(f\"Book '{self.title}' has been borrowed. Due date: {self.due_date.strftime('%Y-%m-%d')}\")\n",
    "        else:\n",
    "            print(f\"Book '{self.title}' is already checked out.\")\n",
    "\n",
    "    def return_item(self):\n",
    "        if self.checked_out:\n",
    "            self.checked_out = False\n",
    "            self.due_date = None\n",
    "            print(f\"Book '{self.title}' has been returned.\")\n",
    "        else:\n",
    "            print(f\"Book '{self.title}' is not checked out.\")\n",
    "\n",
    "# Example Usage:\n",
    "book = Book(title=\"The Catcher in the Rye\", author=\"J.D. Salinger\", item_id=\"B001\", genre=\"Fiction\")\n",
    "\n",
    "# Common methods\n",
    "book.add_item()       # Abstraction: External code interacts with the object through a public method\n",
    "book.display_info()\n",
    "\n",
    "book.borrow_item()\n",
    "book.return_item()\n",
    "\n",
    "book.borrow_item()\n",
    "book.return_item()\n"
   ]
  },
  {
   "cell_type": "markdown",
   "id": "1e464854-4bdc-4298-9564-98449feaf75d",
   "metadata": {},
   "source": [
    "#### 20. Describe the concept of method abstraction in Python and how it relates to polymorphism.\n",
    "Ans. Method Abstraction in Python is a fundamental concept related to polymorphism and object-oriented pgoramming. It involves defining methods in abstract base classes or interfaces without specifying their concrete implementations. Instead, these abstract methods serve as placeholders for behavior that must be defined by concrete subclasses. Method abstraction allows different classes to share a commong method signature providing a way to achieve polymorphism.\n",
    "\n",
    "Here's how method abstraction relates to polymorphism:\n",
    "\n",
    "Abstraction through Abstract Methods: In Python, you can use abstract methods which are defined in abstract base classes using the @abstractmethod decorator from the abc module. These abstract methods have no implementation details and serve as a contract or specification for what a concrete subclass must implement.\n",
    "\n",
    "Polymorphism through Abstract Methods: Polymorphism is the ability of different objects to respond to the same method call in a way that is appropriate for their specific type. When you defined abstract methods in a abstract base class, you are effectively creating a shared method signature that multiple subclasses can implement in their own unique ways.\n",
    "\n",
    "Consistent Interfaces: Abstract methods establish consistent interfaces for different classes, enabling polymorphism. These abstract methods define how objects of different types should respond to method calls with the same name. This allows you to work with objects of various classes in a uniform manner.\n",
    "\n",
    "Code Reusability: Method abstraction and polymorphism promotes code reusability. You can write code that works with abstracted interfaces, allowing it to be reused with different objects that implements those interfaces. This is particularly useful when dealing with collection of objects of different types.\n",
    "\n",
    "Extensibility: As your code evolves, you can add new classes that implement the same abstract methods, thereby extending the behavior of your application without modifying existing code. This is a key aspect of polymorphism and method abstraction."
   ]
  },
  {
   "cell_type": "markdown",
   "id": "8e8a01a6-a5cd-4901-9663-70e5c79da3ed",
   "metadata": {},
   "source": [
    "# Composition:"
   ]
  },
  {
   "cell_type": "markdown",
   "id": "fd95cff1-1e54-4080-9ac5-0d67e5687a80",
   "metadata": {},
   "source": [
    "#### 1. Explain the concept of composition in Python and how it is used to build complex objects from simpler ones.\n",
    "\n",
    "Ans. Composition in Python involves building complex objects by combining simpler ones, establishing a \"has-a\" relationship. It enhances modularity, flexibility, and code reusability while supporting encapsulation and reduced coupling between classes. Composition is particularly useful in scenarios where flexibility and maintainability are priorities."
   ]
  },
  {
   "cell_type": "markdown",
   "id": "b0bddafa-20b7-410c-9c26-573fbcec516d",
   "metadata": {},
   "source": [
    "#### 2. Describe the difference between composition and inheritance in object-oriented programming.\n",
    "Ans. Composition and Inheritance are different approaches to building classes in OOP. Composition establishes a \"has-a\" relationship, providing flexibility and modularity, while inheritance establishes an \"is-a\" relationship, allowing for code reuse through class hierarchies. The choice between composition and inheritance depends on the specific requirements of the design and the relationships between classes in a given scenario."
   ]
  },
  {
   "cell_type": "markdown",
   "id": "869e29c2-fff9-4d9d-aef1-8a26c4a0db14",
   "metadata": {},
   "source": [
    "#### 3. Create a Python class called `Author` with attributes for name and birthdate. Then, create a `Book` class that contains an instance of `Author` as a composition. Provide an example of creating a `Book` object."
   ]
  },
  {
   "cell_type": "code",
   "execution_count": 10,
   "id": "a91e3178-c101-4981-abe5-5be3b4c58b70",
   "metadata": {},
   "outputs": [
    {
     "name": "stdout",
     "output_type": "stream",
     "text": [
      "Title: Python Programming\n",
      "Author: Jane Doe\n",
      "Author's Birthdate: January 1, 1980\n",
      "Publication Year: 2022\n",
      "\n",
      "\n",
      "Title: Data Science Essentials\n",
      "Author: John Smith\n",
      "Author's Birthdate: February 15, 1975\n",
      "Publication Year: 2021\n",
      "\n",
      "\n"
     ]
    }
   ],
   "source": [
    "class Author:\n",
    "    def __init__(self, name, birthdate):\n",
    "        self.name = name\n",
    "        self.birthdate = birthdate\n",
    "\n",
    "class Book:\n",
    "    def __init__(self, title, author, publication_year):\n",
    "        self.title = title\n",
    "        self.author = author  # Composition: Book has an Author\n",
    "        self.publication_year = publication_year\n",
    "\n",
    "    def display_info(self):\n",
    "        print(f\"Title: {self.title}\")\n",
    "        print(f\"Author: {self.author.name}\")\n",
    "        print(f\"Author's Birthdate: {self.author.birthdate}\")\n",
    "        print(f\"Publication Year: {self.publication_year}\")\n",
    "        print(\"\\n\")\n",
    "\n",
    "# Example Usage:\n",
    "author1 = Author(name=\"Jane Doe\", birthdate=\"January 1, 1980\")\n",
    "book1 = Book(title=\"Python Programming\", author=author1, publication_year=2022)\n",
    "\n",
    "author2 = Author(name=\"John Smith\", birthdate=\"February 15, 1975\")\n",
    "book2 = Book(title=\"Data Science Essentials\", author=author2, publication_year=2021)\n",
    "\n",
    "# Display information about the books\n",
    "book1.display_info()\n",
    "book2.display_info()\n"
   ]
  },
  {
   "cell_type": "markdown",
   "id": "007b0329-d606-4e84-8dd8-ea8cf7489ab2",
   "metadata": {},
   "source": [
    "#### 4. Discuss the benefits of using composition over inheritance in Python, especially in terms of code flexibility and reusability.\n",
    "Ans. Composition offers benefits such as flexibility, modularity, code reusability, and encapsulation, making it a valuable design choice in situations where a clear \"is-a\" relationship is not present or where a more flexible and adaptable code structure is desired. It helps avoid some of the challenges associated with deep class hierarchies and supports a modular and maintainable codebase."
   ]
  },
  {
   "cell_type": "markdown",
   "id": "6dfdfff4-a5f0-4724-87c8-71f8e4f4a02a",
   "metadata": {},
   "source": [
    "#### 5. How can you implement composition in Python classes? Provide examples of using composition to create complex objects.\n",
    "\n",
    "Ans. In Python, composition is implemented by including instances of other classes within a class. This involves creating objects of one class within another class to build more complex objects. Let's go through an example to illustrate how composition works."
   ]
  },
  {
   "cell_type": "code",
   "execution_count": 11,
   "id": "179f41eb-51b3-4bd1-b64b-ee671282b109",
   "metadata": {},
   "outputs": [
    {
     "name": "stdout",
     "output_type": "stream",
     "text": [
      "Zoo Show:\n",
      "Lion: Roar!\n",
      "Elephant: Trumpet!\n"
     ]
    }
   ],
   "source": [
    "class Animal:\n",
    "    def make_sound(self):\n",
    "        pass\n",
    "\n",
    "class Lion(Animal):\n",
    "    def make_sound(self):\n",
    "        return \"Roar!\"\n",
    "\n",
    "class Elephant(Animal):\n",
    "    def make_sound(self):\n",
    "        return \"Trumpet!\"\n",
    "\n",
    "class Zoo:\n",
    "    def __init__(self):\n",
    "        self.lion = Lion()         # Composition: Zoo has a Lion\n",
    "        self.elephant = Elephant() # Composition: Zoo has an Elephant\n",
    "\n",
    "    def perform_show(self):\n",
    "        print(\"Zoo Show:\")\n",
    "        print(\"Lion:\", self.lion.make_sound())\n",
    "        print(\"Elephant:\", self.elephant.make_sound())\n",
    "\n",
    "# Example Usage:\n",
    "zoo = Zoo()\n",
    "zoo.perform_show()"
   ]
  },
  {
   "cell_type": "markdown",
   "id": "3d95330b-48ea-414e-b32d-9b8ba0ae09c5",
   "metadata": {},
   "source": [
    "#### 6. Create a Python class hierarchy for a music player system, using composition to represent playlists and songs."
   ]
  },
  {
   "cell_type": "code",
   "execution_count": 12,
   "id": "fede7096-01c8-4e58-b571-7c24f0ac087d",
   "metadata": {},
   "outputs": [
    {
     "name": "stdout",
     "output_type": "stream",
     "text": [
      "Playlist: Top Hits\n",
      "Playing: Shape of You by Ed Sheeran\n",
      "Playing: Believer by Imagine Dragons\n",
      "Playing: Happy by Pharrell Williams\n",
      "\n",
      "\n",
      "Playlist: Favorites\n",
      "Playing: Bohemian Rhapsody by Queen\n",
      "Playing: Dance Monkey by Tones and I\n"
     ]
    }
   ],
   "source": [
    "class Song:\n",
    "    def __init__(self, title, artist, duration):\n",
    "        self.title = title\n",
    "        self.artist = artist\n",
    "        self.duration = duration\n",
    "\n",
    "    def play(self):\n",
    "        print(f\"Playing: {self.title} by {self.artist}\")\n",
    "\n",
    "class Playlist:\n",
    "    def __init__(self, name):\n",
    "        self.name = name\n",
    "        self.songs = []  # Composition: Playlist has a list of songs\n",
    "\n",
    "    def add_song(self, song):\n",
    "        self.songs.append(song)\n",
    "\n",
    "    def play_all(self):\n",
    "        print(f\"Playlist: {self.name}\")\n",
    "        for song in self.songs:\n",
    "            song.play()\n",
    "\n",
    "# Example Usage:\n",
    "song1 = Song(\"Shape of You\", \"Ed Sheeran\", \"4:23\")\n",
    "song2 = Song(\"Believer\", \"Imagine Dragons\", \"3:24\")\n",
    "song3 = Song(\"Happy\", \"Pharrell Williams\", \"3:53\")\n",
    "\n",
    "playlist1 = Playlist(\"Top Hits\")\n",
    "playlist1.add_song(song1)\n",
    "playlist1.add_song(song2)\n",
    "playlist1.add_song(song3)\n",
    "\n",
    "song4 = Song(\"Bohemian Rhapsody\", \"Queen\", \"6:07\")\n",
    "song5 = Song(\"Dance Monkey\", \"Tones and I\", \"3:30\")\n",
    "\n",
    "playlist2 = Playlist(\"Favorites\")\n",
    "playlist2.add_song(song4)\n",
    "playlist2.add_song(song5)\n",
    "\n",
    "# Play all songs in the playlists\n",
    "playlist1.play_all()\n",
    "print(\"\\n\")\n",
    "playlist2.play_all()"
   ]
  },
  {
   "cell_type": "markdown",
   "id": "17bd43a6-d75f-44cc-a2f1-7044a539ad54",
   "metadata": {},
   "source": [
    "#### 7. Explain the concept of \"has-a\" relationships in composition and how it helps design software systems.\n",
    "Ans. The \"has-a\" relationship in composition is a powerful design principle that enhances flexibility, modularity, and maintainability in software systems. It allows for the creation of more complex objects by combining simpler ones, contributing to a clear and organized codebase."
   ]
  },
  {
   "cell_type": "markdown",
   "id": "a306cccb-5f26-47e0-9b45-7d463f9bd120",
   "metadata": {},
   "source": [
    "#### 8. Create a Python class for a computer system, using composition to represent components like CPU, RAM, and storage devices."
   ]
  },
  {
   "cell_type": "code",
   "execution_count": 13,
   "id": "bd37e16b-f268-48dd-bee9-d3d7bc692c1c",
   "metadata": {},
   "outputs": [
    {
     "name": "stdout",
     "output_type": "stream",
     "text": [
      "Data processed by CPU and Data stored in RAM and Data read from storage\n"
     ]
    }
   ],
   "source": [
    "class CPU:\n",
    "    def __init__(self, model, cores):\n",
    "        self.model = model\n",
    "        self.cores = cores\n",
    "\n",
    "    def process_data(self):\n",
    "        return \"Data processed by CPU\"\n",
    "\n",
    "class RAM:\n",
    "    def __init__(self, size):\n",
    "        self.size = size\n",
    "\n",
    "    def store_data(self):\n",
    "        return \"Data stored in RAM\"\n",
    "\n",
    "class Storage:\n",
    "    def __init__(self, capacity):\n",
    "        self.capacity = capacity\n",
    "\n",
    "    def read_data(self):\n",
    "        return \"Data read from storage\"\n",
    "\n",
    "class Computer:\n",
    "    def __init__(self, cpu, ram, storage):\n",
    "        self.cpu = cpu              # Composition: Computer has a CPU\n",
    "        self.ram = ram              # Composition: Computer has RAM\n",
    "        self.storage = storage      # Composition: Computer has Storage\n",
    "\n",
    "    def perform_operation(self):\n",
    "        result = f\"{self.cpu.process_data()} and {self.ram.store_data()} and {self.storage.read_data()}\"\n",
    "        return result\n",
    "\n",
    "# Example Usage:\n",
    "my_cpu = CPU(model=\"Intel Core i7\", cores=8)\n",
    "my_ram = RAM(size=\"16GB\")\n",
    "my_storage = Storage(capacity=\"512GB SSD\")\n",
    "\n",
    "my_computer = Computer(cpu=my_cpu, ram=my_ram, storage=my_storage)\n",
    "\n",
    "result = my_computer.perform_operation()\n",
    "print(result)"
   ]
  },
  {
   "cell_type": "markdown",
   "id": "fc47957a-a1df-4363-9ab1-af7331cccff2",
   "metadata": {},
   "source": [
    "#### 9. Describe the concept of \"delegation\" in composition and how it simplifies the design of complex systems.\n",
    "\n",
    "Ans. Delegation in composition is a design principle where one class(or object) assigns a specific responsibility or task to another class, effectively using its behavior without inheriting from it. This is achieved by invoked methods or accessing attributes of the delegated class. It simplifies the design of complex systems in several ways:\n",
    "\n",
    "Separation of Concerns: Delegation allows classes to focus on specific tasks or responsibilites. Each class has a well-defined purpose, which leads to cleaner more understandable code.\n",
    "\n",
    "Code Reusability: By delegating tasks to specialized classes, you can reuse existing code. This promotes modularity as individual components can be used in various contexts.\n",
    "\n",
    "Flexibility and Customization: Delegation provides flexibility in behavior. You can dynamically choose which components to delegate to, or even switch them out at runtime. This enables customization of behavior based on specific requirements.\n",
    "\n",
    "Dynamic Behavior: Delegation enables dynamic behavior at runtime. You can change the behavior of an object by replacing its components, providing adaptability to during circumstances.\n",
    "\n",
    "Loose Coupling: Classes involved in delegation are loosely coupled. The delegating class doesn not depend on the internal implementation of the delegated class, which reduces dependencies and allows for easier maintenance.\n",
    "\n",
    "Testing and Debugging: Delegation simplifies testing and debugging. Components can be tested independently and issues can be isolated to specific areas of functionality. This makes it easier to identify and fix bugs.\n",
    "\n",
    "Support for Design Patterns: Delegation is a fundamental concept in many design patterns, such as the Strategy pattern or the decorator pattern. It allows these patterns to be implemented effectively, leading to more flexible an extensible code."
   ]
  },
  {
   "cell_type": "markdown",
   "id": "5d67b520-d033-4c20-ae5d-8ef855e2bbbb",
   "metadata": {},
   "source": [
    "#### 10. Create a Python class for a car, using composition to represent components like the engine, wheels, and transmission."
   ]
  },
  {
   "cell_type": "code",
   "execution_count": 14,
   "id": "651bf638-a8ce-4f19-993c-95278c7cd64f",
   "metadata": {},
   "outputs": [
    {
     "name": "stdout",
     "output_type": "stream",
     "text": [
      "Engine started and Gear shifted and Wheels rolling\n",
      "Engine stopped and Wheels rolling\n"
     ]
    }
   ],
   "source": [
    "class Engine:\n",
    "    def start(self):\n",
    "        return \"Engine started\"\n",
    "\n",
    "    def stop(self):\n",
    "        return \"Engine stopped\"\n",
    "\n",
    "class Wheels:\n",
    "    def roll(self):\n",
    "        return \"Wheels rolling\"\n",
    "\n",
    "class Transmission:\n",
    "    def shift_gear(self):\n",
    "        return \"Gear shifted\"\n",
    "\n",
    "class Car:\n",
    "    def __init__(self, engine, wheels, transmission):\n",
    "        self.engine = engine                # Composition: Car has an Engine\n",
    "        self.wheels = wheels                # Composition: Car has Wheels\n",
    "        self.transmission = transmission    # Composition: Car has Transmission\n",
    "\n",
    "    def drive(self):\n",
    "        return f\"{self.engine.start()} and {self.transmission.shift_gear()} and {self.wheels.roll()}\"\n",
    "\n",
    "    def park(self):\n",
    "        return f\"{self.engine.stop()} and {self.wheels.roll()}\"\n",
    "\n",
    "# Example Usage:\n",
    "my_engine = Engine()\n",
    "my_wheels = Wheels()\n",
    "my_transmission = Transmission()\n",
    "\n",
    "my_car = Car(engine=my_engine, wheels=my_wheels, transmission=my_transmission)\n",
    "\n",
    "# Drive the car\n",
    "result_drive = my_car.drive()\n",
    "print(result_drive)\n",
    "\n",
    "# Park the car\n",
    "result_park = my_car.park()\n",
    "print(result_park)"
   ]
  },
  {
   "cell_type": "markdown",
   "id": "d6d8dce6-5d63-425a-a8ce-93043929bb23",
   "metadata": {},
   "source": [
    "#### 11. How can you encapsulate and hide the details of composed objects in Python classes to maintain abstraction?\n",
    "\n",
    "Ans. To encapsulates and hide the details of composed objects in Python classes, you can follow these steps:\n",
    "\n",
    "Use Private Attributes: Make the attributes representing the composed objects private by adding a double underscore (__) prefix to their names. This convention signals that these attributes are intended for internal use only.\n",
    "\n",
    "Provide public Methods for Interaction: Defines public methods in the containing class that act as interfaces for interacting with the composed objects. These methods should handle communication with the composed objects, abstracting away their implementation.\n",
    "\n",
    "Delegate Method Calls: Inside the public methods, delegate method calls to the composed objects using their private attributes. This allows you to control how interactions with the composed objects are handled, ensuring that the details remain hidden."
   ]
  },
  {
   "cell_type": "markdown",
   "id": "3fe40a02-91ca-4028-a5a4-eb3cb88e83d6",
   "metadata": {},
   "source": [
    "#### 12. Create a Python class for a university course, using composition to represent students, instructors, and course materials."
   ]
  },
  {
   "cell_type": "code",
   "execution_count": 17,
   "id": "57b4b4a8-3da2-496a-91bf-baf60f267e09",
   "metadata": {},
   "outputs": [
    {
     "name": "stdout",
     "output_type": "stream",
     "text": [
      "Course: CS101 - Introduction to Computer Science\n",
      "Instructor: Instructor Dr. Smith (ID: 101)\n",
      "Students: Student Alice (ID: 1001), Student Bob (ID: 1002), Student Charlie (ID: 1003)\n",
      "Course Material: Introduction to Computer Science\n",
      "Topics: Algorithms, Data Structures, Programming\n"
     ]
    }
   ],
   "source": [
    "class Student:\n",
    "    def __init__(self, student_id, name):\n",
    "        self.student_id = student_id\n",
    "        self.name = name\n",
    "\n",
    "    def introduce(self):\n",
    "        return f\"Student {self.name} (ID: {self.student_id})\"\n",
    "\n",
    "class Instructor:\n",
    "    def __init__(self, instructor_id, name):\n",
    "        self.instructor_id = instructor_id\n",
    "        self.name = name\n",
    "\n",
    "    def introduce(self):\n",
    "        return f\"Instructor {self.name} (ID: {self.instructor_id})\"\n",
    "\n",
    "class CourseMaterial:\n",
    "    def __init__(self, title, content):\n",
    "        self.title = title\n",
    "        self.content = content\n",
    "\n",
    "    def display(self):\n",
    "        return f\"Course Material: {self.title}\\n{self.content}\"\n",
    "\n",
    "class UniversityCourse:\n",
    "    def __init__(self, course_code, course_name, instructor, students, course_material):\n",
    "        self.course_code = course_code\n",
    "        self.course_name = course_name\n",
    "        self.instructor = instructor                # Composition: Course has an Instructor\n",
    "        self.students = students                    # Composition: Course has a list of Students\n",
    "        self.course_material = course_material      # Composition: Course has CourseMaterial\n",
    "\n",
    "    def enroll_student(self, student):\n",
    "        self.students.append(student)\n",
    "\n",
    "    def display_course_info(self):\n",
    "        student_list = [student.introduce() for student in self.students]\n",
    "        course_info = f\"Course: {self.course_code} - {self.course_name}\\n\"\n",
    "        course_info += f\"Instructor: {self.instructor.introduce()}\\n\"\n",
    "        course_info += f\"Students: {', '.join(student_list)}\\n\"\n",
    "        course_info += self.course_material.display()\n",
    "        return course_info\n",
    "\n",
    "# Example Usage:\n",
    "instructor1 = Instructor(instructor_id=101, name=\"Dr. Smith\")\n",
    "student1 = Student(student_id=1001, name=\"Alice\")\n",
    "student2 = Student(student_id=1002, name=\"Bob\")\n",
    "\n",
    "course_material = CourseMaterial(title=\"Introduction to Computer Science\", content=\"Topics: Algorithms, Data Structures, Programming\")\n",
    "\n",
    "computer_science_course = UniversityCourse(\n",
    "    course_code=\"CS101\",\n",
    "    course_name=\"Introduction to Computer Science\",\n",
    "    instructor=instructor1,\n",
    "    students=[student1, student2],\n",
    "    course_material=course_material\n",
    ")\n",
    "\n",
    "# Enroll a new student\n",
    "new_student = Student(student_id=1003, name=\"Charlie\")\n",
    "computer_science_course.enroll_student(new_student)\n",
    "\n",
    "# Display course information\n",
    "print(computer_science_course.display_course_info())"
   ]
  },
  {
   "cell_type": "markdown",
   "id": "d7f3f75d-88a7-45c9-a5f4-b2ed399ca029",
   "metadata": {},
   "source": [
    "#### 13. Discuss the challenges and drawbacks of composition, such as increased complexity and potential for tight coupling between objects.\n",
    "\n",
    "Ans. While composition is a powerful design principle, it's important to be aware of its challenges and potential drawbacks:\n",
    "\n",
    "Increased Complexity: Managing multiple objects and their interactions can lead to increased code complexity. This complexity may make it harder to understand and maintain the codebase.\n",
    "\n",
    "Potential for Tight Coupling: If not implemented carefully, composition can lead to tight coupling between the containing class and its components. This means that changes to one component may have unitended consequences on other parts of the system.\n",
    "\n",
    "Managing Lifecycle Dependencies: When objects are composed, their lifecycle may become interwined. This can lead to challenges in managing object initialization, destrcution and cleanup.\n",
    "\n",
    "Propagation of Method Calls: Delegating method calls from the containing class to its components can introduce additional layers of indirection, making it more difficult to trace the flow of execution.\n",
    "\n",
    "Initialization Overhead: Properly initializing and configuring composed objects can introduce additional overhead, especially if there are complex initialization requirements.\n",
    "\n",
    "Testing Complexity: Testing composed objects may require additional setup and mocking of dependencies which can increase the complexity of unit tests.\n",
    "\n",
    "Potential for Over-Abstraction: In an attempt to achieve modularity, there's a risk of over-abstracting components, which can lead to a fragmented and hard-to-follow codebase.\n",
    "\n",
    "Performance Consideration: Depending on the context and the number of composed objects, there may be a performance overhead associated with the additional method calls and indirection."
   ]
  },
  {
   "cell_type": "markdown",
   "id": "fc923bc2-a421-4fc8-8835-0768414366dd",
   "metadata": {},
   "source": [
    "#### 14. Create a Python class hierarchy for a restaurant system, using composition to represent menus, dishes, and ingredients."
   ]
  },
  {
   "cell_type": "code",
   "execution_count": 18,
   "id": "1eea9589-32cf-4064-a78a-feecb41b9b66",
   "metadata": {},
   "outputs": [
    {
     "name": "stdout",
     "output_type": "stream",
     "text": [
      "Welcome to Tasty Bites! Here are our menus:\n",
      "Menu: Lunch Menu\n",
      "Chicken Sandwich (Chicken, Tomato, Lettuce, Cheese)\n",
      "Vegetarian Salad (Tomato, Lettuce, Cheese)\n",
      "Menu: Dinner Menu\n",
      "Spaghetti Bolognese (Beef, Pasta, Tomato Sauce)\n",
      "Beef Burger (Beef, Cheese)\n"
     ]
    }
   ],
   "source": [
    "class Ingredient:\n",
    "    def __init__(self, name):\n",
    "        self.name = name\n",
    "\n",
    "    def __str__(self):\n",
    "        return self.name\n",
    "\n",
    "class Dish:\n",
    "    def __init__(self, name, ingredients):\n",
    "        self.name = name\n",
    "        self.ingredients = ingredients   # Composition: Dish has a list of Ingredients\n",
    "\n",
    "    def __str__(self):\n",
    "        ingredient_list = ', '.join(str(ingredient) for ingredient in self.ingredients)\n",
    "        return f\"{self.name} ({ingredient_list})\"\n",
    "\n",
    "class Menu:\n",
    "    def __init__(self, name, dishes):\n",
    "        self.name = name\n",
    "        self.dishes = dishes             # Composition: Menu has a list of Dishes\n",
    "\n",
    "    def __str__(self):\n",
    "        dish_list = '\\n'.join(str(dish) for dish in self.dishes)\n",
    "        return f\"Menu: {self.name}\\n{dish_list}\"\n",
    "\n",
    "class Restaurant:\n",
    "    def __init__(self, name, menus):\n",
    "        self.name = name\n",
    "        self.menus = menus               # Composition: Restaurant has a list of Menus\n",
    "\n",
    "    def display_menu(self):\n",
    "        menu_list = '\\n'.join(str(menu) for menu in self.menus)\n",
    "        return f\"Welcome to {self.name}! Here are our menus:\\n{menu_list}\"\n",
    "\n",
    "# Example Usage:\n",
    "ingredient1 = Ingredient(\"Chicken\")\n",
    "ingredient2 = Ingredient(\"Tomato\")\n",
    "ingredient3 = Ingredient(\"Lettuce\")\n",
    "ingredient4 = Ingredient(\"Cheese\")\n",
    "\n",
    "dish1 = Dish(name=\"Chicken Sandwich\", ingredients=[ingredient1, ingredient2, ingredient3, ingredient4])\n",
    "dish2 = Dish(name=\"Vegetarian Salad\", ingredients=[ingredient2, ingredient3, ingredient4])\n",
    "\n",
    "menu1 = Menu(name=\"Lunch Menu\", dishes=[dish1, dish2])\n",
    "\n",
    "ingredient5 = Ingredient(\"Beef\")\n",
    "ingredient6 = Ingredient(\"Pasta\")\n",
    "ingredient7 = Ingredient(\"Tomato Sauce\")\n",
    "\n",
    "dish3 = Dish(name=\"Spaghetti Bolognese\", ingredients=[ingredient5, ingredient6, ingredient7])\n",
    "dish4 = Dish(name=\"Beef Burger\", ingredients=[ingredient5, ingredient4])\n",
    "\n",
    "menu2 = Menu(name=\"Dinner Menu\", dishes=[dish3, dish4])\n",
    "\n",
    "restaurant = Restaurant(name=\"Tasty Bites\", menus=[menu1, menu2])\n",
    "\n",
    "# Display restaurant menu\n",
    "print(restaurant.display_menu())"
   ]
  },
  {
   "cell_type": "markdown",
   "id": "4c27333b-7d57-4745-8dd3-a2dfaca4f2d7",
   "metadata": {},
   "source": [
    "#### 15. Explain how composition enhances code maintainability and modularity in Python programs.\n",
    "Ans. Composition enchances code maintainability and modularity in Python programs in several ways:\n",
    "\n",
    "Seperation of Concerns: Composition encourages breaking down complex systems into smaller, manageable components. Each component focuses on a specific task or responsibility, amaking it easier to understand and debug.\n",
    "\n",
    "Code Reusability: Composed objects can be reused in different contexts. This promotes modularity, allowing components to be used in various parts of the program or in entirely different projects.\n",
    "\n",
    "Reduced Coupling: Composition promotes loose coupling between objects. By relying on interfaces provided by components, the containing class i s not tightly bound to the implementation details of its parts. This reduces dependencies and makes it easier to replace or update components.\n",
    "\n",
    "Flexibility and Adapability: Components can be swapped or updated with minimal impact on the containing class. This allows for dynamic behavior changes and facilitate adapting to evolving requirements.\n",
    "\n",
    "Isolation of Changes: Changes to one component have limited impact on other parts of the system. This isolates modifications, reducing the risk of unitended consequences.\n",
    "\n",
    "Simplified Testing: Testing can be more focused. Components can be tested independently, allowing for more granular and effective unit testing. Mocking and stubbing can also be employed to isolate specific parts of testing.\n",
    "\n",
    "Clear Interfaces: Well-defined interfaces between components provide a clear contract for how they interact. This allows developers to work on different parts of the system simultaneously, as long as they adhere to the specified interfaces."
   ]
  },
  {
   "cell_type": "markdown",
   "id": "3c9db706-ec63-46de-b1f7-82563ee12a25",
   "metadata": {},
   "source": [
    "#### 16. Create a Python class for a computer game character, using composition to represent attributes like weapons, armor, and inventory."
   ]
  },
  {
   "cell_type": "code",
   "execution_count": 19,
   "id": "50ef6824-d9fa-4d2a-bce3-778589fa19d0",
   "metadata": {},
   "outputs": [
    {
     "name": "stdout",
     "output_type": "stream",
     "text": [
      "Hero's Stats:\n",
      "Health: 100\n",
      "Weapon: Weapon: Sword of Strength (Damage: 20)\n",
      "Armor: Armor: Steel Shield (Defense: 15)\n",
      "Inventory: \n",
      "\n",
      "After finding a health potion:\n",
      "Hero's Stats:\n",
      "Health: 100\n",
      "Weapon: Weapon: Sword of Strength (Damage: 20)\n",
      "Armor: Armor: Steel Shield (Defense: 15)\n",
      "Inventory: Health Potion\n"
     ]
    }
   ],
   "source": [
    "class Weapon:\n",
    "    def __init__(self, name, damage):\n",
    "        self.name = name\n",
    "        self.damage = damage\n",
    "\n",
    "    def __str__(self):\n",
    "        return f\"Weapon: {self.name} (Damage: {self.damage})\"\n",
    "\n",
    "class Armor:\n",
    "    def __init__(self, name, defense):\n",
    "        self.name = name\n",
    "        self.defense = defense\n",
    "\n",
    "    def __str__(self):\n",
    "        return f\"Armor: {self.name} (Defense: {self.defense})\"\n",
    "\n",
    "class Inventory:\n",
    "    def __init__(self):\n",
    "        self.items = []\n",
    "\n",
    "    def add_item(self, item):\n",
    "        self.items.append(item)\n",
    "\n",
    "    def display_inventory(self):\n",
    "        item_list = ', '.join(str(item) for item in self.items)\n",
    "        return f\"Inventory: {item_list}\"\n",
    "\n",
    "class GameCharacter:\n",
    "    def __init__(self, name, health, weapon=None, armor=None):\n",
    "        self.name = name\n",
    "        self.health = health\n",
    "        self.weapon = weapon          # Composition: GameCharacter has a Weapon\n",
    "        self.armor = armor            # Composition: GameCharacter has Armor\n",
    "        self.inventory = Inventory()  # Composition: GameCharacter has an Inventory\n",
    "\n",
    "    def equip_weapon(self, weapon):\n",
    "        self.weapon = weapon\n",
    "\n",
    "    def equip_armor(self, armor):\n",
    "        self.armor = armor\n",
    "\n",
    "    def collect_item(self, item):\n",
    "        self.inventory.add_item(item)\n",
    "\n",
    "    def display_character_info(self):\n",
    "        info = f\"{self.name}'s Stats:\\n\"\n",
    "        info += f\"Health: {self.health}\\n\"\n",
    "        info += f\"Weapon: {self.weapon}\\n\" if self.weapon else \"No weapon equipped\\n\"\n",
    "        info += f\"Armor: {self.armor}\\n\" if self.armor else \"No armor equipped\\n\"\n",
    "        info += self.inventory.display_inventory()\n",
    "        return info\n",
    "\n",
    "# Example Usage:\n",
    "sword = Weapon(name=\"Sword of Strength\", damage=20)\n",
    "shield = Armor(name=\"Steel Shield\", defense=15)\n",
    "potion = \"Health Potion\"  # Placeholder for a non-equipable item\n",
    "\n",
    "hero = GameCharacter(name=\"Hero\", health=100, weapon=sword, armor=shield)\n",
    "\n",
    "# Display character info\n",
    "print(hero.display_character_info())\n",
    "\n",
    "# Hero finds a health potion and adds it to the inventory\n",
    "hero.collect_item(potion)\n",
    "\n",
    "# Display updated character info\n",
    "print(\"\\nAfter finding a health potion:\")\n",
    "print(hero.display_character_info())"
   ]
  },
  {
   "cell_type": "markdown",
   "id": "5b32e0cf-f15b-42e6-a788-2708e8da1ebe",
   "metadata": {},
   "source": [
    "#### 17. Describe the concept of \"aggregation\" in composition and how it differs from simple composition.\n",
    "Ans. The distinction between composition and aggregation lies in the strength of the relationship and the lifetime dependency between the composite and the component. Composition implies a stronger relationship and a strict dependency, while aggregation implies a weaker relationship with more flexibility regarding the independence of the components."
   ]
  },
  {
   "cell_type": "markdown",
   "id": "bb2804e6-7e68-4018-8526-7a408d4b9fd5",
   "metadata": {},
   "source": [
    "#### 18. Create a Python class for a house, using composition to represent rooms, furniture, and appliances."
   ]
  },
  {
   "cell_type": "code",
   "execution_count": 16,
   "id": "1819321a-134c-48fe-8e90-a1f0db1e88b0",
   "metadata": {},
   "outputs": [
    {
     "name": "stdout",
     "output_type": "stream",
     "text": [
      "My House has the following rooms:\n",
      "Living Room contains: This is a Sofa, This is a Smart TV, Kitchen contains: This is a Dining Table, This is a Oven\n"
     ]
    }
   ],
   "source": [
    "class Furniture:\n",
    "    def __init__(self, name):\n",
    "        self.name = name\n",
    "\n",
    "    def describe(self):\n",
    "        return f\"This is a {self.name}\"\n",
    "\n",
    "class Appliance:\n",
    "    def __init__(self, name):\n",
    "        self.name = name\n",
    "\n",
    "    def describe(self):\n",
    "        return f\"This is a {self.name}\"\n",
    "\n",
    "class Room:\n",
    "    def __init__(self, name):\n",
    "        self.name = name\n",
    "        self.furniture = []     # Composition: Room has a list of furniture\n",
    "        self.appliances = []    # Composition: Room has a list of appliances\n",
    "\n",
    "    def add_furniture(self, furniture):\n",
    "        self.furniture.append(furniture)\n",
    "\n",
    "    def add_appliance(self, appliance):\n",
    "        self.appliances.append(appliance)\n",
    "\n",
    "    def describe_contents(self):\n",
    "        contents = [furniture.describe() for furniture in self.furniture]\n",
    "        contents += [appliance.describe() for appliance in self.appliances]\n",
    "        return f\"{self.name} contains: {', '.join(contents)}\"\n",
    "\n",
    "class House:\n",
    "    def __init__(self, name):\n",
    "        self.name = name\n",
    "        self.rooms = []     # Composition: House has a list of rooms\n",
    "\n",
    "    def add_room(self, room):\n",
    "        self.rooms.append(room)\n",
    "\n",
    "    def describe_contents(self):\n",
    "        room_descriptions = [room.describe_contents() for room in self.rooms]\n",
    "        return f\"{self.name} has the following rooms:\\n{', '.join(room_descriptions)}\"\n",
    "\n",
    "# Example Usage:\n",
    "living_room = Room(name=\"Living Room\")\n",
    "sofa = Furniture(name=\"Sofa\")\n",
    "tv = Appliance(name=\"Smart TV\")\n",
    "\n",
    "living_room.add_furniture(sofa)\n",
    "living_room.add_appliance(tv)\n",
    "\n",
    "kitchen = Room(name=\"Kitchen\")\n",
    "dining_table = Furniture(name=\"Dining Table\")\n",
    "oven = Appliance(name=\"Oven\")\n",
    "\n",
    "kitchen.add_furniture(dining_table)\n",
    "kitchen.add_appliance(oven)\n",
    "\n",
    "my_house = House(name=\"My House\")\n",
    "my_house.add_room(living_room)\n",
    "my_house.add_room(kitchen)\n",
    "\n",
    "# Describe the contents of the house\n",
    "print(my_house.describe_contents())\n"
   ]
  },
  {
   "cell_type": "markdown",
   "id": "ad1e3f4e-b92e-484a-8e38-cee82ab988ce",
   "metadata": {},
   "source": [
    "#### 19. How can you achieve flexibility in composed objects by allowing them to be replaced or modified dynamically at runtime?\n",
    "Ans. Achieving flexibility in composed objects by allowing them to be replaced or modified dynamically at runtime often involves leveraging concepts like interfaces, polymorphism, and dependency injection. Here are some strategies to achieve flexibility in composed objects:\n",
    "\n",
    "1. Interfaces and Abstract Classes: Define interfaces or abstract classes that represent the common behavior expected from components. This allows different classes to implement the same interface, making them interchangeable.\n",
    "Use polymorphism to work with objects based on their common interface, rather than their concrete types.\n",
    "\n",
    "2. Dependency Injection: Instead of hardcoding dependencies inside a class, inject dependencies from the outside. This allows you to replace or modify components without modifying the class itself.\n",
    "Dependency injection can be done through constructor injection, method injection, or property injection.\n",
    "\n",
    "3. Factory Patterns: Use factory patterns to create objects dynamically. Factories encapsulate the process of object creation, making it easy to replace or modify the types of objects being created.\n",
    "\n",
    "4. Strategy Pattern: Implement the strategy pattern where algorithms or behaviors are encapsulated in separate classes. This allows you to switch between different strategies dynamically.\n",
    "Strategies can be injected into a context class, making it flexible and extensible.\n",
    "\n",
    "5. Composite Pattern: Use the composite pattern to treat individual objects and compositions of objects uniformly. This allows you to build complex structures and modify them at runtime.\n",
    "Components in a composite can be leaf nodes or other composites.\n",
    "\n",
    "6. Configuration: Store configuration information externally, allowing you to change the behavior of a system without modifying code. This can involve using configuration files, environment variables, or external databases.\n",
    "\n",
    "7. Dynamic Typing and Reflection: In dynamically-typed languages, use features like dynamic typing and reflection to work with objects at runtime without knowing their types at compile time. This can be a powerful mechanism for achieving flexibility.\n",
    "\n",
    "8. Aspect-Oriented Programming (AOP): Use AOP principles to separate cross-cutting concerns from the core logic of a system. This allows for dynamic modifications or replacements of aspects."
   ]
  },
  {
   "cell_type": "markdown",
   "id": "d18a6e3a-baf7-4367-8bca-05b2948d1f23",
   "metadata": {},
   "source": [
    "#### 20. Create a Python class for a social media application, using composition to represent users, posts, and comments."
   ]
  },
  {
   "cell_type": "code",
   "execution_count": 15,
   "id": "804e97f9-91f9-4070-abd8-d39a251ed97b",
   "metadata": {},
   "outputs": [
    {
     "name": "stdout",
     "output_type": "stream",
     "text": [
      "Post Content: Hello, social media world!\n",
      "Post Author: Alice\n",
      "Comments:\n",
      "- Bob: Nice post, Alice!\n"
     ]
    }
   ],
   "source": [
    "class User:\n",
    "    def __init__(self, username, email):\n",
    "        self.username = username\n",
    "        self.email = email\n",
    "        self.posts = []       # Composition: User has a list of posts\n",
    "        self.comments = []    # Composition: User has a list of comments\n",
    "\n",
    "    def create_post(self, content):\n",
    "        post = Post(author=self, content=content)\n",
    "        self.posts.append(post)\n",
    "        return post\n",
    "\n",
    "    def add_comment(self, post, content):\n",
    "        comment = Comment(author=self, post=post, content=content)\n",
    "        self.comments.append(comment)\n",
    "        post.add_comment(comment)\n",
    "        return comment\n",
    "\n",
    "class Post:\n",
    "    def __init__(self, author, content):\n",
    "        self.author = author\n",
    "        self.content = content\n",
    "        self.comments = []  # Composition: Post has a list of comments\n",
    "\n",
    "    def add_comment(self, comment):\n",
    "        self.comments.append(comment)\n",
    "\n",
    "class Comment:\n",
    "    def __init__(self, author, post, content):\n",
    "        self.author = author\n",
    "        self.post = post\n",
    "        self.content = content\n",
    "\n",
    "# Example Usage:\n",
    "user1 = User(username=\"Alice\", email=\"alice@example.com\")\n",
    "user2 = User(username=\"Bob\", email=\"bob@example.com\")\n",
    "\n",
    "post1 = user1.create_post(content=\"Hello, social media world!\")\n",
    "comment1 = user2.add_comment(post=post1, content=\"Nice post, Alice!\")\n",
    "\n",
    "# Display information about the post and comments\n",
    "print(\"Post Content:\", post1.content)\n",
    "print(\"Post Author:\", post1.author.username)\n",
    "print(\"Comments:\")\n",
    "for comment in post1.comments:\n",
    "    print(f\"- {comment.author.username}: {comment.content}\")"
   ]
  },
  {
   "cell_type": "markdown",
   "id": "50fcf319-00e6-49c0-89c0-ffb1de24316b",
   "metadata": {},
   "source": []
  }
 ],
 "metadata": {
  "kernelspec": {
   "display_name": "Python 3 (ipykernel)",
   "language": "python",
   "name": "python3"
  },
  "language_info": {
   "codemirror_mode": {
    "name": "ipython",
    "version": 3
   },
   "file_extension": ".py",
   "mimetype": "text/x-python",
   "name": "python",
   "nbconvert_exporter": "python",
   "pygments_lexer": "ipython3",
   "version": "3.11.4"
  }
 },
 "nbformat": 4,
 "nbformat_minor": 5
}
