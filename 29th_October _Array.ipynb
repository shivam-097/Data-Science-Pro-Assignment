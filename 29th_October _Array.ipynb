{
 "cells": [
  {
   "cell_type": "code",
   "execution_count": 5,
   "id": "fb376725-4718-4e0a-a2cd-15ffb170d8ff",
   "metadata": {},
   "outputs": [
    {
     "data": {
      "text/plain": [
       "True"
      ]
     },
     "execution_count": 5,
     "metadata": {},
     "output_type": "execute_result"
    }
   ],
   "source": [
    "'''Given an array, check if it contains any duplicates or not.\n",
    "arr = [1, 2, 4, 2, 5, 9]\n",
    "'''\n",
    "\n",
    "def checkDup(arr):\n",
    "    arr_nodup = []  # Creating an empty array\n",
    "    for i in arr:    # Traversing through the given array\n",
    "        if i not in arr_nodup:\n",
    "            arr_nodup.append(i)  # If element not in empty array append it.\n",
    "        else:\n",
    "            return True #If element in the created array, then break the loop and return True\n",
    "            break\n",
    "\n",
    "arr = [1,2,4,2,5,9]\n",
    "checkDup(arr)"
   ]
  },
  {
   "cell_type": "code",
   "execution_count": 6,
   "id": "d04f9c10-080b-4c33-953a-afef4ac0407b",
   "metadata": {},
   "outputs": [
    {
     "data": {
      "text/plain": [
       "[5, 6, 7, 1, 2, 3, 4]"
      ]
     },
     "execution_count": 6,
     "metadata": {},
     "output_type": "execute_result"
    }
   ],
   "source": [
    "'''Given an array and an integer k, rotate the array to the right by k steps.\n",
    "arr = [1, 2, 3, 4, 5, 6, 7]\n",
    "k = 3\n",
    "Output = [5, 6, 7, 1, 2, 3, 4]\n",
    "'''\n",
    "\n",
    "def rotate_right(arr, k):\n",
    "    arr = arr[-k:]+arr[:len(arr)-k] # Using splicing technique for shifting it\n",
    "    return arr \n",
    "\n",
    "arr = [1, 2, 3, 4, 5, 6, 7]\n",
    "k = 3\n",
    "\n",
    "rotate_right(arr, k)"
   ]
  },
  {
   "cell_type": "code",
   "execution_count": 7,
   "id": "bb07a1e7-b174-4ddf-8eb4-24c054a075bd",
   "metadata": {},
   "outputs": [
    {
     "data": {
      "text/plain": [
       "[12, 9, 7, 5, 4, 2]"
      ]
     },
     "execution_count": 7,
     "metadata": {},
     "output_type": "execute_result"
    }
   ],
   "source": [
    "'''Reverse the given array in-place, means without using any extra data structure.\n",
    "arr = [2, 4, 5, 7, 9, 12]\n",
    "Output = [12, 9, 7, 5, 4, 2]\n",
    "'''\n",
    "\n",
    "def reverse_array(arr):\n",
    "    return arr[::-1] # Using the array splicing technique\n",
    "\n",
    "arr = [2, 4, 5, 7, 9, 12]\n",
    "\n",
    "reverse_array(arr)"
   ]
  },
  {
   "cell_type": "code",
   "execution_count": 8,
   "id": "3cc46ae4-a9b4-459c-839f-a1fb92a7e23c",
   "metadata": {},
   "outputs": [
    {
     "data": {
      "text/plain": [
       "20"
      ]
     },
     "execution_count": 8,
     "metadata": {},
     "output_type": "execute_result"
    }
   ],
   "source": [
    "'''Given an array of integers, find the maximum element in an array\n",
    "arr = [10, 5, 20, 8, 15]\n",
    "Output = 20\n",
    "'''\n",
    "\n",
    "def max_ele(arr):\n",
    "    max = arr[0]\n",
    "    for i in range(1, len(arr)):  # Traversing through the given array\n",
    "        if max<arr[i]:\n",
    "            max = arr[i] # if current element in loop is greater than max, max equals the current value\n",
    "\n",
    "    return max\n",
    "\n",
    "arr = [10, 5, 20, 8, 15]\n",
    "max_ele(arr)"
   ]
  },
  {
   "cell_type": "code",
   "execution_count": 15,
   "id": "10cb2f8d-8ee7-42ee-8e01-ed76ed4341bf",
   "metadata": {},
   "outputs": [
    {
     "data": {
      "text/plain": [
       "[1, 2, 3, 4, 5]"
      ]
     },
     "execution_count": 15,
     "metadata": {},
     "output_type": "execute_result"
    }
   ],
   "source": [
    "'''Given a sorted array, remove the duplicate element without using any extra data structure.\n",
    "arr = [1, 1, 2, 2, 2, 3, 3, 4, 4, 4, 5, 5]\n",
    "Output = [1, 2, 3, 4, 5]\n",
    "'''\n",
    "\n",
    "def remove_dup(arr):\n",
    "    return list(dict.fromkeys(arr))  # Without any extra data structure created.\n",
    "\n",
    "arr = [1, 1, 2, 2, 2, 3, 3, 4, 4, 4, 5, 5]\n",
    "remove_dup(arr)"
   ]
  },
  {
   "cell_type": "code",
   "execution_count": null,
   "id": "0e673b2a-baf3-463f-a889-ced811e56d66",
   "metadata": {},
   "outputs": [],
   "source": []
  }
 ],
 "metadata": {
  "kernelspec": {
   "display_name": "Python 3 (ipykernel)",
   "language": "python",
   "name": "python3"
  },
  "language_info": {
   "codemirror_mode": {
    "name": "ipython",
    "version": 3
   },
   "file_extension": ".py",
   "mimetype": "text/x-python",
   "name": "python",
   "nbconvert_exporter": "python",
   "pygments_lexer": "ipython3",
   "version": "3.11.4"
  }
 },
 "nbformat": 4,
 "nbformat_minor": 5
}
