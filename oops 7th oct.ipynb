{
 "cells": [
  {
   "cell_type": "code",
   "execution_count": 5,
   "id": "fef1683a-faa4-4d27-a0a6-7a742e512e9b",
   "metadata": {},
   "outputs": [],
   "source": [
    "'''Problem 1: Bank Account Create a class representing a bank account with attributes like account number, account holder name, and balance. \n",
    "Implement methods to deposit and withdraw money from the account.'''\n",
    "\n",
    "class bank_account:\n",
    "\n",
    "    def __init__(self, account_no, name, balance):\n",
    "        self.account_no = account_no\n",
    "        self.account_holder_name = name\n",
    "        self.balance = balance\n",
    "\n",
    "    def deposit(self, deposit_amt):\n",
    "        self.balance += deposit_amt\n",
    "        return f\"Amount of Rs. {deposit_amt} deposited and updated balance is Rs. {self.balance}\"\n",
    "\n",
    "    def withdraw(self, withdraw_amt):\n",
    "        self.balance -= withdraw_amt\n",
    "        return f\"Amount of Rs. {withdraw_amt} withdrawn and updated balance is Rs. {self.balance}\""
   ]
  },
  {
   "cell_type": "code",
   "execution_count": 6,
   "id": "6c44e04b-a874-4425-922c-366e611d39ab",
   "metadata": {},
   "outputs": [],
   "source": [
    "'''Problem 2: Employee Management Create a class representing an employee with attributes like employee ID, name, and salary. \n",
    "Implement methods to calculate the yearly bonus and display employee details.'''\n",
    "\n",
    "class Employee:\n",
    "\n",
    "    def __init__(self, emp_id, name, salary):\n",
    "        self.employee_id = emp_id\n",
    "        self.employee_name = name\n",
    "        self.salary = salary\n",
    "        self.bonus = bonus\n",
    "\n",
    "    def calculate_bonus(self, bonus_rate):\n",
    "        self.bonus = self.salary* bonus_rate/100\n",
    "        return self.bonus\n",
    "\n",
    "    def display_emp_id(self):\n",
    "        return f\"The employee id is {self.employee_id} and name is {self.name}\""
   ]
  },
  {
   "cell_type": "code",
   "execution_count": 15,
   "id": "4fed21c1-4350-45a8-8339-809568fc817b",
   "metadata": {},
   "outputs": [
    {
     "name": "stdout",
     "output_type": "stream",
     "text": [
      "Bullet\n",
      "Pulser\n"
     ]
    }
   ],
   "source": [
    "'''Problem 3: Vehicle Rental Create a class representing a vehicle rental system. \n",
    "Implement methods to rent a vehicle, return a vehicle, and display available vehicles.'''\n",
    "\n",
    "class Vehicle_rental:\n",
    "\n",
    "    vehicles_rent = {'Avengers': 500, 'Bullet': 600, 'Pulser': 200}\n",
    "    vehicles_qty  = {'Avengers': 10,  'Bullet': 25,  'Pulser': 12}\n",
    "\n",
    "    def Rent_vehicle(self, vehicle, qty, days):\n",
    "        self.vehicles_qty[vehicle] = self.vehicles_qty[vehicle]-qty\n",
    "\n",
    "    def Vehicle_return(self, vehicle, qty, days):\n",
    "        self.vehicles_qty[vehicle] = self.vehicles_qty[vehicle]+ qty\n",
    "        return f\"The rent payable is Rs. {self.vehicles_rent[vehicle]*qty*days}\"\n",
    "\n",
    "    def display_available_vehicle(self):\n",
    "        for i in self.vehicles_qty.keys():\n",
    "            if self.vehicles_qty[i]!=0:\n",
    "                print(i)\n",
    "\n",
    "rent = Vehicle_rental()\n",
    "rent.Rent_vehicle('Avengers', 10, 2)\n",
    "rent.display_available_vehicle()"
   ]
  },
  {
   "cell_type": "code",
   "execution_count": 26,
   "id": "6455408d-9bf6-42a7-8f9f-effcc1771f58",
   "metadata": {},
   "outputs": [
    {
     "name": "stdout",
     "output_type": "stream",
     "text": [
      "Lord of the Rings\n",
      "Autobiography of a yogi\n",
      "Lord of the Rings\n",
      "Autobiography of a yogi\n",
      "Ramayan\n"
     ]
    }
   ],
   "source": [
    "'''Problem 4: Library Catalog Create classes representing a library and a book. Implement methods to add books to the library, \n",
    "borrow books, and display available books.'''\n",
    "\n",
    "class books:\n",
    "    \n",
    "    books_qty = {'Harry Potter': 10, 'Lord of the Rings': 20, 'Autobiography of a yogi': 5}\n",
    "    members_ID = {11,12,13,14,15,16}\n",
    "\n",
    "class library(books):\n",
    "\n",
    "    def __init__(self, member_ID):\n",
    "        self.member_ID    =  member_ID\n",
    "        \n",
    "    def add_books(self, book_name, qty):\n",
    "        self.books_qty[book_name]= qty\n",
    "\n",
    "    def borrow_book(self, book_name, qty):\n",
    "        if self.member_ID in self.members_ID:\n",
    "            self.books_qty[book_name] = self.books_qty[book_name]-qty\n",
    "\n",
    "        else:\n",
    "            return 'You are not member'\n",
    "\n",
    "    def display_available_books(self):\n",
    "        for i in self.books_qty.keys():\n",
    "            if self.books_qty[i]!=0:\n",
    "                print(i)\n",
    "\n",
    "book = library(11)\n",
    "book.borrow_book('Harry Potter', 10)\n",
    "book.display_available_books()\n",
    "book.add_books('Ramayan', 20)\n",
    "book.display_available_books()"
   ]
  },
  {
   "cell_type": "code",
   "execution_count": 27,
   "id": "2fe6ad6d-a606-4327-b92d-842de7413418",
   "metadata": {},
   "outputs": [],
   "source": [
    "'''Problem 5: Product Inventory Create classes representing a product and an inventory system. \n",
    "Implement methods to add products to the inventory, update product quantity, and display available products.'''\n",
    "\n",
    "class product:\n",
    "    \n",
    "    products_with_qty = {'Paracetamol': 200, 'Azithromycin': 100, 'Flexon': 150}    \n",
    "\n",
    "class inventory(product):\n",
    "    \n",
    "    def add_product(self, product, qty):\n",
    "        if product in self.products_with_qty:\n",
    "            self.products_with_qty['product'] += qty\n",
    "        else:\n",
    "            self.products_with_qty[product] = qty\n",
    "\n",
    "    def update_product_qty(self, product, qty):\n",
    "        self.products_with_qty[product] = qty\n",
    "\n",
    "    def available_product(self):\n",
    "        return products_with_qty"
   ]
  },
  {
   "cell_type": "code",
   "execution_count": 34,
   "id": "57c9dbd7-7f63-4675-8c5f-57e44c18c895",
   "metadata": {},
   "outputs": [
    {
     "data": {
      "text/plain": [
       "'Area is = 50.24'"
      ]
     },
     "execution_count": 34,
     "metadata": {},
     "output_type": "execute_result"
    }
   ],
   "source": [
    "'''Problem 6: Shape Calculation Create a class representing a shape with attributes like length, width, and height. \n",
    "Implement methods to calculate the area and perimeter of the shape.'''\n",
    "\n",
    "class shape_calculation:\n",
    "    \n",
    "    def __init__(self, shape_name, length, height, radius):\n",
    "        self.shape_name = shape_name\n",
    "        self.length     = length\n",
    "        self.height     = height\n",
    "        self.radius     = radius\n",
    "\n",
    "    def area(self):\n",
    "        if self.shape_name == 'circle':\n",
    "            return f'Area is = {3.14*self.radius**2}'\n",
    "\n",
    "        elif self.shape_name == 'rectangle' or self.shape_name == 'square':\n",
    "            return f'Area is = {self.height*self.length}'\n",
    "\n",
    "    def perimeter(self):\n",
    "\n",
    "        if self.shape_name == 'circle':\n",
    "            return f'Perimeter is = {2*3.14*self.radius}'\n",
    "\n",
    "        elif self.shape_name == 'rectangle' or self.shape_name == 'square':\n",
    "            return f'Area is = {2*(self.height+self.length)}'\n",
    "\n",
    "circl1 = shape_calculation('circle', 0,0,4)\n",
    "circl1.area()"
   ]
  },
  {
   "cell_type": "code",
   "execution_count": 39,
   "id": "a62bd05a-ee7b-4b86-a6db-3cbe00091528",
   "metadata": {},
   "outputs": [
    {
     "data": {
      "text/plain": [
       "{97: 'Shivam', 96: 'Shailendra', 84: 'Ravi'}"
      ]
     },
     "execution_count": 39,
     "metadata": {},
     "output_type": "execute_result"
    }
   ],
   "source": [
    "'''Problem 7: Student Management Create a class representing a student with attributes like student ID, name, and grades. \n",
    "Implement methods to calculate the average grade and display student details.'''\n",
    "\n",
    "class student:\n",
    "\n",
    "    student_details_grades = {}\n",
    "    student_detail_name    = {}\n",
    "    \n",
    "    def __init__(self, studentID, name, grades):\n",
    "        self.studentID = studentID\n",
    "        self.name = name\n",
    "        self.grades = grades\n",
    "        self.student_details_grades[self.studentID] = self.grades\n",
    "        self.student_detail_name[self.studentID] = self.name\n",
    "\n",
    "    def average_grade(self):\n",
    "        sum = 0\n",
    "        for i in self.student_details_grades.keys():\n",
    "            sum+= self.student_details_grades[i]\n",
    "        return f'Average grade is  = {sum/len(self.student_details_grades)}'\n",
    "\n",
    "    def display_students_details(self):\n",
    "        return self.student_detail_name\n",
    "\n",
    "s1 = student(97,'Shivam', 100)\n",
    "s2 = student(96, 'Shailendra', 67)\n",
    "s3 = student(84, 'Ravi', 83)\n",
    "\n",
    "s3.average_grade()\n",
    "s3.display_students_details()"
   ]
  },
  {
   "cell_type": "code",
   "execution_count": 18,
   "id": "c9dcfd33-7ca9-4dd2-99e2-76cfa340c68e",
   "metadata": {},
   "outputs": [
    {
     "name": "stdin",
     "output_type": "stream",
     "text": [
      "Enter the body of the e-mail:  I am enrolled with the FSDS pro course August batch and I am learning python from Sudhanshu sir. I am very much looking forward for growth in career through this course.\n"
     ]
    }
   ],
   "source": [
    "'''Problem 8: Email Management Create a class representing an email with attributes like sender, recipient, and subject. \n",
    "Implement methods to send an email and display email details.'''\n",
    "\n",
    "class email:\n",
    "    \n",
    "    def __init__(self, sender, recipient, subject):\n",
    "        self.sender = sender\n",
    "        self.recipient = recipient\n",
    "        self.subject = subject\n",
    "\n",
    "    def send_email(self):\n",
    "        file_name = self.subject+'.txt'\n",
    "        with open(file_name, 'a') as fd:\n",
    "            fd.write('To:' + self.recipient+'\\n')\n",
    "            fd.write('From: '+ self.sender + '\\n')\n",
    "            fd.write('Subject: '+ self.subject+'\\n')\n",
    "            fd.write('Body: ' + input('Enter the body of the e-mail: '))\n",
    "\n",
    "    def display_email(self, sub):\n",
    "        try:\n",
    "            with open(sub +'.txt', 'r') as fd:\n",
    "                print(fd.read())\n",
    "        except:\n",
    "            return 'No such email exists'\n",
    "\n",
    "email1 = email('shivam@gmail.com', 'pwskills@gmail.com', 'Feedback_of_course')\n",
    "email1.send_email()"
   ]
  },
  {
   "cell_type": "code",
   "execution_count": 19,
   "id": "f6e59c2b-8189-4f7a-89e1-73c03036810d",
   "metadata": {},
   "outputs": [
    {
     "name": "stdout",
     "output_type": "stream",
     "text": [
      "To:pwskills@gmail.com\n",
      "From: shivam@gmail.com\n",
      "Subject: Feedback_of_course\n",
      "Body: I am enrolled with the FSDS pro course August batch and I am learning python from Sudhanshu sir. I am very much looking forward for growth in career through this course.\n"
     ]
    }
   ],
   "source": [
    "email1.display_email('Feedback_of_course')"
   ]
  },
  {
   "cell_type": "code",
   "execution_count": 28,
   "id": "fffc66f1-9374-4094-bf2f-54ba22065ef7",
   "metadata": {},
   "outputs": [
    {
     "name": "stdin",
     "output_type": "stream",
     "text": [
      "Write your posts:  1234 get on the dance floor\n",
      "Write your posts:  hola\n"
     ]
    }
   ],
   "source": [
    "'''Problem 9: Social Media Profile Create a class representing a social media profile with attributes like username and posts. \n",
    "Implement methods to add posts, display posts, and search for posts by keyword.'''\n",
    "\n",
    "class social_profile:\n",
    "\n",
    "    def __init__(self, username):\n",
    "        self.username = username\n",
    "\n",
    "    def add_posts(self):\n",
    "        name_of_user = self.username + '.txt'\n",
    "        with open(name_of_user, 'a') as fd:\n",
    "            fd.write(input('Write your posts: ') + '\\n')\n",
    "\n",
    "    def display_posts(self):\n",
    "        with open(self.username+'.txt', 'r') as fd:\n",
    "            print(fd.read())\n",
    "\n",
    "    def search_by_keyword(self, keyword):\n",
    "        with open(self.username+'.txt', 'r') as fd:\n",
    "            try:\n",
    "                for i in fd.readlines():\n",
    "                    if keyword in i:\n",
    "                        print(i)\n",
    "            except:\n",
    "                print('No such post exists')\n",
    "\n",
    "user1 = social_profile('shivam123')\n",
    "user1.add_posts()\n",
    "user1.add_posts()"
   ]
  },
  {
   "cell_type": "code",
   "execution_count": 29,
   "id": "254e7719-f96d-4322-927b-dfa6c75e3bc8",
   "metadata": {},
   "outputs": [
    {
     "name": "stdout",
     "output_type": "stream",
     "text": [
      "Hello, World\n",
      "Today is day 1 of this social media\n",
      "Hi this is creator this side\n",
      "Enna\n",
      "123 mike testing\n",
      "1234 get on the dance floor\n",
      "hola\n",
      "\n"
     ]
    }
   ],
   "source": [
    "user1.display_posts()"
   ]
  },
  {
   "cell_type": "code",
   "execution_count": 31,
   "id": "37a6e5d3-1eb4-44e1-a2bb-c16fa1997b37",
   "metadata": {},
   "outputs": [
    {
     "name": "stdout",
     "output_type": "stream",
     "text": [
      "1234 get on the dance floor\n",
      "\n"
     ]
    }
   ],
   "source": [
    "user1.search_by_keyword('dance')"
   ]
  },
  {
   "cell_type": "code",
   "execution_count": 8,
   "id": "a0a125ce-fdd0-482d-ab23-420fdfa1fdc1",
   "metadata": {},
   "outputs": [],
   "source": [
    "'''Problem 10: ToDo List Create a class representing a ToDo list with attributes like tasks and due dates. \n",
    "Implement methods to add tasks, mark tasks as completed, and display pending tasks.'''\n",
    "\n",
    "class ToDo:\n",
    "\n",
    "    ToDoList = {}\n",
    "\n",
    "    def add_tasks(self, task, due_date):\n",
    "        self.ToDoList[task] = due_date\n",
    "\n",
    "    def mark_tasks(self, task):\n",
    "        if task in self.ToDoList:\n",
    "            self.ToDoList.pop(task)\n",
    "        else:\n",
    "            return 'No such task in To Do list'\n",
    "\n",
    "    def display_pending(self):\n",
    "        return self.ToDoList\n",
    "\n",
    "task1 = ToDo()\n",
    "task1.add_tasks('Eat Lunch', '28/10/2023')\n",
    "task2 = ToDo()\n",
    "task2.add_tasks('Watch Movie', '29/10/2023')"
   ]
  },
  {
   "cell_type": "code",
   "execution_count": 9,
   "id": "f97e9cac-9676-4e6e-91d2-1db2007c940b",
   "metadata": {},
   "outputs": [
    {
     "data": {
      "text/plain": [
       "{'Eat Lunch': '28/10/2023', 'Watch Movie': '29/10/2023'}"
      ]
     },
     "execution_count": 9,
     "metadata": {},
     "output_type": "execute_result"
    }
   ],
   "source": [
    "tasks = ToDo()\n",
    "tasks.display_pending()"
   ]
  },
  {
   "cell_type": "code",
   "execution_count": 10,
   "id": "0eaff843-82b7-4a48-86bc-f95b7deb8a14",
   "metadata": {},
   "outputs": [],
   "source": [
    "tasks.mark_tasks('Eat Lunch')"
   ]
  },
  {
   "cell_type": "code",
   "execution_count": 11,
   "id": "337b9049-ad4c-4c29-8cd5-fd44a635b0cc",
   "metadata": {},
   "outputs": [
    {
     "data": {
      "text/plain": [
       "{'Watch Movie': '29/10/2023'}"
      ]
     },
     "execution_count": 11,
     "metadata": {},
     "output_type": "execute_result"
    }
   ],
   "source": [
    "tasks.display_pending()"
   ]
  },
  {
   "cell_type": "code",
   "execution_count": null,
   "id": "32a8337c-9795-4c9b-bf6d-ad410148dcd2",
   "metadata": {},
   "outputs": [],
   "source": []
  }
 ],
 "metadata": {
  "kernelspec": {
   "display_name": "Python 3 (ipykernel)",
   "language": "python",
   "name": "python3"
  },
  "language_info": {
   "codemirror_mode": {
    "name": "ipython",
    "version": 3
   },
   "file_extension": ".py",
   "mimetype": "text/x-python",
   "name": "python",
   "nbconvert_exporter": "python",
   "pygments_lexer": "ipython3",
   "version": "3.11.4"
  }
 },
 "nbformat": 4,
 "nbformat_minor": 5
}
