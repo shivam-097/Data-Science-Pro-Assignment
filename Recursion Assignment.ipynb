{
 "cells": [
  {
   "cell_type": "markdown",
   "id": "735ae7a3-9750-40e0-bf87-7b65e5ce77a4",
   "metadata": {},
   "source": [
    "#### Q1. Can you explain the logic and working of the Tower of Hanoi algorithm by writing a Java program? How does the recursion work, and how are the movements of disks between rods accomplished?"
   ]
  },
  {
   "cell_type": "code",
   "execution_count": 3,
   "id": "7c583bcd-95b5-4900-84fc-1c728b6cd196",
   "metadata": {},
   "outputs": [
    {
     "name": "stdout",
     "output_type": "stream",
     "text": [
      "Move disk 1 from A to C\n",
      "Move disk 2 from A to B\n",
      "Move disk 1 from C to B\n",
      "Move disk 3 from A to C\n",
      "Move disk 1 from B to A\n",
      "Move disk 2 from B to C\n",
      "Move disk 1 from A to C\n"
     ]
    }
   ],
   "source": [
    "'''The Tower of Hanoi is a classic problem in computer science and mathematics. The problem involves three rods and a number of disks of different sizes which can slide onto any rod. The puzzle starts with the disks in a neat stack in ascending order of size on one rod, the smallest at the top, thus making a conical shape.\n",
    "\n",
    "The objective of the puzzle is to move the entire stack to another rod, obeying the following simple rules:\n",
    "\n",
    "Only one disk can be moved at a time.\n",
    "Each move consists of taking the upper disk from one of the stacks and placing it on top of another stack or on an empty rod.\n",
    "No disk may be placed on top of a smaller disk.\n",
    "'''\n",
    "\n",
    "# The code in python is as below:\n",
    "\n",
    "def tower_of_hanoi(n, source_rod, destination_rod, auxiliary_rod):\n",
    "    if n == 1:\n",
    "        print(f\"Move disk 1 from {source_rod} to {destination_rod}\")\n",
    "        return\n",
    "\n",
    "    # Move n-1 disks from source_rod to auxiliary_rod using destination_rod as auxiliary_rod\n",
    "    tower_of_hanoi(n - 1, source_rod, auxiliary_rod, destination_rod)\n",
    "\n",
    "    # Move the nth disk from source_rod to destination_rod\n",
    "    print(f\"Move disk {n} from {source_rod} to {destination_rod}\")\n",
    "\n",
    "    # Move the n-1 disks from auxiliary_rod to destination_rod using source_rod as auxiliary_rod\n",
    "    tower_of_hanoi(n - 1, auxiliary_rod, destination_rod, source_rod)\n",
    "\n",
    "# Example: solve Tower of Hanoi for 3 disks\n",
    "tower_of_hanoi(3, 'A', 'C', 'B')"
   ]
  },
  {
   "cell_type": "markdown",
   "id": "d58b6010-3f6e-4a86-b814-688e09bd5103",
   "metadata": {},
   "source": [
    "The tower_of_hanoi function is a recursive function that takes four parameters:\n",
    "\n",
    "n: the number of disks to be moved.\n",
    "source_rod: the rod from which disks are to be moved.\n",
    "destination_rod: the rod to which disks are to be moved.\n",
    "auxiliary_rod: the auxiliary rod used for intermediate storage.\n",
    "The base case of the recursion is when there is only one disk to move (n == 1). \n",
    "In this case, it prints the move of the disk from the source rod to the destination rod.\n",
    "\n",
    "In the recursive case (n > 1), it follows the steps:\n",
    "\n",
    "1. Move the top n-1 disks from the source rod to the auxiliary rod using the destination rod as the auxiliary rod.\n",
    "2. Move the nth disk from the source rod to the destination rod.\n",
    "3. Move the n-1 disks from the auxiliary rod to the destination rod using the source rod as the auxiliary rod."
   ]
  },
  {
   "cell_type": "markdown",
   "id": "2757ccc4-96a8-45f7-b4ab-03b7e153b5ba",
   "metadata": {},
   "source": [
    "#### Q.2 Given two strings word1 and word2, return the minimum number of operations required to convert word1 to word2."
   ]
  },
  {
   "cell_type": "code",
   "execution_count": 4,
   "id": "36d1e81b-cada-4562-9c40-1dc6788784f9",
   "metadata": {},
   "outputs": [
    {
     "name": "stdout",
     "output_type": "stream",
     "text": [
      "3\n"
     ]
    }
   ],
   "source": [
    "def min_distance_recursive(word1, word2):\n",
    "    def helper(i, j):\n",
    "        # Base cases\n",
    "        if i == 0:\n",
    "            return j\n",
    "        if j == 0:\n",
    "            return i\n",
    "\n",
    "        # If the last characters are the same, no operation needed\n",
    "        if word1[i - 1] == word2[j - 1]:\n",
    "            return helper(i - 1, j - 1)\n",
    "\n",
    "        # Consider three possible operations and find the minimum\n",
    "        insert = helper(i, j - 1)\n",
    "        delete = helper(i - 1, j)\n",
    "        replace = helper(i - 1, j - 1)\n",
    "\n",
    "        return 1 + min(insert, delete, replace)\n",
    "\n",
    "    return helper(len(word1), len(word2))\n",
    "\n",
    "# Example usage\n",
    "word1 = \"horse\"\n",
    "word2 = \"ros\"\n",
    "result = min_distance_recursive(word1, word2)\n",
    "print(result)\n"
   ]
  },
  {
   "cell_type": "code",
   "execution_count": 5,
   "id": "b6c21a4f-fc2d-43b6-aab4-43419253ce41",
   "metadata": {},
   "outputs": [
    {
     "name": "stdout",
     "output_type": "stream",
     "text": [
      "5\n"
     ]
    }
   ],
   "source": [
    "word1 = \"intention\"\n",
    "word2 = \"execution\"\n",
    "\n",
    "result = min_distance_recursive(word1, word2)\n",
    "print(result)"
   ]
  },
  {
   "cell_type": "markdown",
   "id": "4797b8bf-3637-4b95-8c7a-b91590d60c24",
   "metadata": {},
   "source": [
    "#### Q. 3 Print the max value of the array [ 13, 1, -3, 22, 5]."
   ]
  },
  {
   "cell_type": "code",
   "execution_count": 8,
   "id": "04d07ddc-4799-4215-8f04-89eb0a0911b8",
   "metadata": {},
   "outputs": [
    {
     "name": "stdout",
     "output_type": "stream",
     "text": [
      "Max Value :  22\n"
     ]
    }
   ],
   "source": [
    "def max_val_array(arr, sI, eI):\n",
    "    \n",
    "    # Base case: if there is only one element\n",
    "    if sI == eI:\n",
    "        return arr[sI]\n",
    "\n",
    "    # Recursive case, find the max in the rest of the array\n",
    "    max_rem = max_val_array(arr, sI+1, eI)\n",
    "\n",
    "    # Compare the max in the rest with the current element\n",
    "    if arr[sI] > max_rem:\n",
    "        return arr[sI]\n",
    "    \n",
    "    else:\n",
    "        return max_rem\n",
    "\n",
    "# Example usage\n",
    "arr = [13,1,-3,22,5]\n",
    "sI = 0\n",
    "eI = len(arr)-1\n",
    "\n",
    "max_value = max_val_array(arr, sI, eI)\n",
    "\n",
    "print(\"Max Value : \", max_value)"
   ]
  },
  {
   "cell_type": "markdown",
   "id": "12f14f2e-b10c-420a-ad45-b680fa44921e",
   "metadata": {},
   "source": [
    "#### Q.4 Find the sum of the values of the array [92, 23, 15, -20, 10]."
   ]
  },
  {
   "cell_type": "code",
   "execution_count": 10,
   "id": "80b89a1a-e514-433f-b3f8-2999079a6760",
   "metadata": {},
   "outputs": [
    {
     "name": "stdout",
     "output_type": "stream",
     "text": [
      "Sum of values of array :  120\n"
     ]
    }
   ],
   "source": [
    "def sum_of_val_arr(arr, sI, eI):\n",
    "    # Base case condition:\n",
    "    if sI == eI:\n",
    "        return arr[sI]\n",
    "\n",
    "    # Recursive case condition\n",
    "    return arr[sI]+ sum_of_val_arr(arr, sI+1, eI)\n",
    "\n",
    "# Example case\n",
    "arr = [92, 23, 15, -20, 10]\n",
    "sI = 0\n",
    "eI = len(arr)-1\n",
    "\n",
    "sum = sum_of_val_arr(arr, sI, eI)\n",
    "\n",
    "print(\"Sum of values of array : \", sum)"
   ]
  },
  {
   "cell_type": "markdown",
   "id": "78c5abae-4160-4402-9fe6-6f27fd482da8",
   "metadata": {},
   "source": [
    "#### Q.5 Given a number n. Print if it is an armstrong number or not.An armstrong number is a number if the sum of every digit in that number raised to the power of total digits in that number is equal to the number."
   ]
  },
  {
   "cell_type": "code",
   "execution_count": 12,
   "id": "50c2843e-e3d0-43b3-bf72-0d9cbacf3f98",
   "metadata": {},
   "outputs": [
    {
     "name": "stdin",
     "output_type": "stream",
     "text": [
      "Enter a number:  153\n"
     ]
    },
    {
     "name": "stdout",
     "output_type": "stream",
     "text": [
      "153 is an Armstrong number.\n"
     ]
    }
   ],
   "source": [
    "def count_digits(n):\n",
    "    if n == 0:\n",
    "        return 0\n",
    "    return 1 + count_digits(n // 10)\n",
    "\n",
    "def is_armstrong_recursive(n, num_digits):\n",
    "    if n == 0:\n",
    "        return 0\n",
    "    return (n % 10) ** num_digits + is_armstrong_recursive(n // 10, num_digits)\n",
    "\n",
    "def is_armstrong_number(n):\n",
    "    num_digits = count_digits(n)\n",
    "    armstrong_sum = is_armstrong_recursive(n, num_digits)\n",
    "    return armstrong_sum == n\n",
    "\n",
    "# Example usage1\n",
    "number = int(input(\"Enter a number: \"))\n",
    "if is_armstrong_number(number):\n",
    "    print(f\"{number} is an Armstrong number.\")\n",
    "else:\n",
    "    print(f\"{number} is not an Armstrong number.\")"
   ]
  },
  {
   "cell_type": "code",
   "execution_count": 13,
   "id": "b6f36e2b-aea0-42f7-8be7-5637d8bd6d7f",
   "metadata": {},
   "outputs": [
    {
     "name": "stdin",
     "output_type": "stream",
     "text": [
      "Enter a number:  134\n"
     ]
    },
    {
     "name": "stdout",
     "output_type": "stream",
     "text": [
      "134 is not an Armstrong number.\n"
     ]
    }
   ],
   "source": [
    "# Example usage2\n",
    "number = int(input(\"Enter a number: \"))\n",
    "if is_armstrong_number(number):\n",
    "    print(f\"{number} is an Armstrong number.\")\n",
    "else:\n",
    "    print(f\"{number} is not an Armstrong number.\")"
   ]
  },
  {
   "cell_type": "code",
   "execution_count": null,
   "id": "65e7f1de-3646-4c1a-b14c-bd7d5b6ee05f",
   "metadata": {},
   "outputs": [],
   "source": []
  }
 ],
 "metadata": {
  "kernelspec": {
   "display_name": "Python 3 (ipykernel)",
   "language": "python",
   "name": "python3"
  },
  "language_info": {
   "codemirror_mode": {
    "name": "ipython",
    "version": 3
   },
   "file_extension": ".py",
   "mimetype": "text/x-python",
   "name": "python",
   "nbconvert_exporter": "python",
   "pygments_lexer": "ipython3",
   "version": "3.11.4"
  }
 },
 "nbformat": 4,
 "nbformat_minor": 5
}
