{
 "cells": [
  {
   "cell_type": "markdown",
   "id": "216a2671-5dc0-4b26-9c30-b999650e7e79",
   "metadata": {},
   "source": [
    "# String Based Assignment Problem"
   ]
  },
  {
   "cell_type": "code",
   "execution_count": 51,
   "id": "0c129d23-8e72-4be0-87c5-c3735fbe9f91",
   "metadata": {},
   "outputs": [
    {
     "name": "stdout",
     "output_type": "stream",
     "text": [
      "dlroW olleH\n"
     ]
    }
   ],
   "source": [
    "# Q.1    Write a program to reverse a string\n",
    "\n",
    "string1 = \"Hello World\"\n",
    "\n",
    "# reversing a string\n",
    "\n",
    "string1_rev = string1[::-1]\n",
    "\n",
    "print(string1_rev)"
   ]
  },
  {
   "cell_type": "code",
   "execution_count": 52,
   "id": "2932d4e5-f49f-45c1-9560-ffd406de520e",
   "metadata": {},
   "outputs": [
    {
     "name": "stdin",
     "output_type": "stream",
     "text": [
      "Enter the string:  elle\n"
     ]
    },
    {
     "name": "stdout",
     "output_type": "stream",
     "text": [
      "String is palindrome\n"
     ]
    }
   ],
   "source": [
    "# Q.2    Check if a string is palindrome\n",
    "\n",
    "# Taking input from the user\n",
    "\n",
    "str2 = input(\"Enter the string: \")\n",
    "\n",
    "# checking if the entered string is palindrome or not\n",
    "\n",
    "if str2 == str2[::-1]:\n",
    "    print(\"String is palindrome\")\n",
    "else:\n",
    "    print(\"String is not palindrome\")"
   ]
  },
  {
   "cell_type": "code",
   "execution_count": 53,
   "id": "8ede9428-9939-439d-b529-721c4c60e9d0",
   "metadata": {},
   "outputs": [
    {
     "data": {
      "text/plain": [
       "'HELLO WORLD'"
      ]
     },
     "execution_count": 53,
     "metadata": {},
     "output_type": "execute_result"
    }
   ],
   "source": [
    "# Q.3   Convert a string to upper case\n",
    "''' Ans.3.   We will convert the string declared in the Ans.1 to upper case'''\n",
    "\n",
    "string1.upper()"
   ]
  },
  {
   "cell_type": "code",
   "execution_count": 54,
   "id": "df42338e-3d59-48d8-9422-9ee6e6452eb0",
   "metadata": {},
   "outputs": [
    {
     "data": {
      "text/plain": [
       "'hello world'"
      ]
     },
     "execution_count": 54,
     "metadata": {},
     "output_type": "execute_result"
    }
   ],
   "source": [
    "# Q.4   Convert a string to lowercase\n",
    "\n",
    "''' Ans.4.   We will convert the string declared in the Ans.1 to lower case'''\n",
    "\n",
    "string1.lower()"
   ]
  },
  {
   "cell_type": "code",
   "execution_count": 55,
   "id": "09a2e474-d358-4a34-b949-9a161390fd3c",
   "metadata": {},
   "outputs": [
    {
     "name": "stdin",
     "output_type": "stream",
     "text": [
      "Enter the string:  Hello\n"
     ]
    },
    {
     "name": "stdout",
     "output_type": "stream",
     "text": [
      "Number of vowels in the string are :  2\n"
     ]
    }
   ],
   "source": [
    "# Q.5    Count the number of vowels in a string\n",
    "\n",
    "''' Ans.5.   It will take an input and count the number of vowels'''\n",
    "\n",
    "str3 = input(\"Enter the string: \")\n",
    "\n",
    "# checking the number of vowels\n",
    "\n",
    "count_vowel = 0\n",
    "\n",
    "for i in str3:\n",
    "    if i in 'aeiouAEIOU':\n",
    "        count_vowel+=1\n",
    "\n",
    "print(\"Number of vowels in the string are : \", count_vowel)"
   ]
  },
  {
   "cell_type": "code",
   "execution_count": 56,
   "id": "51043345-85e4-4676-9fcc-3ec451c754f7",
   "metadata": {},
   "outputs": [
    {
     "name": "stdin",
     "output_type": "stream",
     "text": [
      "Enter the string:  Hello\n"
     ]
    },
    {
     "name": "stdout",
     "output_type": "stream",
     "text": [
      "Number of consonants in the string are :  3\n"
     ]
    }
   ],
   "source": [
    "# Q.6   Count the number of consonants in a string\n",
    "\n",
    "''' Ans.6.   It will take an input and count the number of consonants'''\n",
    "\n",
    "str4 = input(\"Enter the string: \")\n",
    "\n",
    "# checking the number of vowels\n",
    "\n",
    "count_cons = 0\n",
    "\n",
    "for j in str4:\n",
    "    if j not in 'aeiouAEIOU':\n",
    "        count_cons+=1\n",
    "\n",
    "print(\"Number of consonants in the string are : \", count_cons)"
   ]
  },
  {
   "cell_type": "code",
   "execution_count": 57,
   "id": "dbd18903-ceff-47a1-a63b-6726e00d6f97",
   "metadata": {},
   "outputs": [
    {
     "name": "stdout",
     "output_type": "stream",
     "text": [
      "    Hello! How are khana kha ke jaana     \n",
      "Hello! How are khana kha ke jaana\n"
     ]
    }
   ],
   "source": [
    "# Q.7   Remove all whitespaces from a string\n",
    "\n",
    "'''Ans.7  removing leading and trailing whitespaces from the string'''\n",
    "\n",
    "str5 = '    Hello! How are khana kha ke jaana     '\n",
    "\n",
    "print(str5)\n",
    "\n",
    "# Removing the whitespaces\n",
    "\n",
    "str5_no_whitespace = str5.strip()\n",
    "\n",
    "print(str5_no_whitespace)"
   ]
  },
  {
   "cell_type": "code",
   "execution_count": 58,
   "id": "73c33f31-76d5-4380-bf62-38f01b439464",
   "metadata": {},
   "outputs": [
    {
     "name": "stdin",
     "output_type": "stream",
     "text": [
      "Enter the string:  jai shri ram\n"
     ]
    },
    {
     "name": "stdout",
     "output_type": "stream",
     "text": [
      "Length of the string is =  12\n"
     ]
    }
   ],
   "source": [
    "# Q.8   Find the length of a string without using 'len()' function\n",
    "\n",
    "# Taking input from user\n",
    "\n",
    "str6 = input(\"Enter the string: \")\n",
    "\n",
    "# Finding length of string\n",
    "\n",
    "length_str6 = 0\n",
    "\n",
    "for i in str6:\n",
    "    length_str6 += 1\n",
    "\n",
    "print(\"Length of the string is = \",length_str6)"
   ]
  },
  {
   "cell_type": "code",
   "execution_count": 59,
   "id": "bb52537d-869e-4f28-957c-b6b12940af5e",
   "metadata": {},
   "outputs": [
    {
     "name": "stdin",
     "output_type": "stream",
     "text": [
      "Enter the word to be checked:  the\n"
     ]
    },
    {
     "name": "stdout",
     "output_type": "stream",
     "text": [
      "yes the string contains the\n"
     ]
    }
   ],
   "source": [
    "# Q.9   Check if a string contains a specific word\n",
    "\n",
    "str7 = \"Hello Sunshine, the world says Good Morning\"\n",
    "\n",
    "# Taking input from user\n",
    "\n",
    "word_str7 = input(\"Enter the word to be checked: \")\n",
    "\n",
    "# checking if word in the string\n",
    "\n",
    "if word_str7.lower() in str7.lower():\n",
    "\n",
    "    print(f\"yes the string contains {word_str7}\") \n",
    "\n",
    "else:\n",
    "    print(\"Sorry the word is not in string\")"
   ]
  },
  {
   "cell_type": "code",
   "execution_count": 60,
   "id": "7d181d19-00d3-4cf5-8adc-50ef5896dfd8",
   "metadata": {},
   "outputs": [
    {
     "name": "stdout",
     "output_type": "stream",
     "text": [
      "Jai Shri Krishna\n"
     ]
    }
   ],
   "source": [
    "# Q.10  Replace a word in a string with another word\n",
    "\n",
    "# Declaring a string\n",
    "\n",
    "str8 = \"Jai Shri Ram\"\n",
    "\n",
    "str_repl = str8.replace(\"Ram\", \"Krishna\")\n",
    "\n",
    "print(str_repl)"
   ]
  },
  {
   "cell_type": "code",
   "execution_count": 62,
   "id": "59412888-88a9-4c33-bc2f-c3c083b045df",
   "metadata": {},
   "outputs": [
    {
     "name": "stdin",
     "output_type": "stream",
     "text": [
      "Enter the word to be counted:  har\n"
     ]
    },
    {
     "name": "stdout",
     "output_type": "stream",
     "text": [
      "The word occurred 4 times\n"
     ]
    }
   ],
   "source": [
    "# Q.11   Count the occurences of a word in a string\n",
    "\n",
    "# declaring a string\n",
    "\n",
    "str9 = \"Har Har Shambhu, Har Har Shambhu, Shiva Mahadeva\"\n",
    "\n",
    "# Taking input from user\n",
    "\n",
    "to_count = input(\"Enter the word to be counted: \")\n",
    "\n",
    "word_count1= str9.lower().count(to_count)\n",
    "\n",
    "print(f\"The word occurred {word_count1} times\")"
   ]
  },
  {
   "cell_type": "code",
   "execution_count": 63,
   "id": "678a20b9-c2b4-422f-a19c-ca09eefe5fef",
   "metadata": {},
   "outputs": [
    {
     "data": {
      "text/plain": [
       "6"
      ]
     },
     "execution_count": 63,
     "metadata": {},
     "output_type": "execute_result"
    }
   ],
   "source": [
    "# Q.12   Find the first occurence of a word in a string\n",
    "\n",
    "str10 = \"Karle jugaad bande karle koi jugaad\"\n",
    "\n",
    "# finding the first occurence of the word\n",
    "\n",
    "str10.find(\"jugaad\")"
   ]
  },
  {
   "cell_type": "code",
   "execution_count": 68,
   "id": "bc3727c9-8ad1-4214-b6c3-35602665da3e",
   "metadata": {},
   "outputs": [
    {
     "data": {
      "text/plain": [
       "29"
      ]
     },
     "execution_count": 68,
     "metadata": {},
     "output_type": "execute_result"
    }
   ],
   "source": [
    "# Q.13   Find the last occurence of a word in a string\n",
    "\n",
    "'''finding the last occurence of the word from the str \n",
    "declared in above problem'''\n",
    "\n",
    "str10.rfind(\"jugaad\")"
   ]
  },
  {
   "cell_type": "code",
   "execution_count": 69,
   "id": "f6f732da-0e79-47ef-9e29-80325e9b6482",
   "metadata": {},
   "outputs": [
    {
     "name": "stdout",
     "output_type": "stream",
     "text": [
      "['Karle', 'jugaad', 'bande', 'karle', 'koi', 'jugaad']\n"
     ]
    }
   ],
   "source": [
    "# Q.14   Split a string into list of words\n",
    "\n",
    "# using the same str declared in problem 12\n",
    "list_word = str10.split()\n",
    "\n",
    "print(list_word)"
   ]
  },
  {
   "cell_type": "code",
   "execution_count": 70,
   "id": "b835da00-a581-4303-ba01-1af189140fe0",
   "metadata": {},
   "outputs": [
    {
     "name": "stdout",
     "output_type": "stream",
     "text": [
      "Karle jugaad bande karle koi jugaad\n"
     ]
    }
   ],
   "source": [
    "# Q.15   Join a list of word into a string\n",
    "\n",
    "# using the output of above problem 14\n",
    "\n",
    "str_from_list = \" \".join(list_word)\n",
    "\n",
    "print(str_from_list)"
   ]
  },
  {
   "cell_type": "code",
   "execution_count": 71,
   "id": "869ba345-0c51-4e38-a5b5-a46ca544491d",
   "metadata": {},
   "outputs": [
    {
     "name": "stdout",
     "output_type": "stream",
     "text": [
      "Karle_jugaad_bande_karle_koi_jugaad\n"
     ]
    }
   ],
   "source": [
    "'''# Q.16   Convert a string where words are separated by spaces to one where words \n",
    "are separated by underscores'''\n",
    "\n",
    "# using the output of above problem 15\n",
    "\n",
    "str_underscore = str_from_list.replace(\" \", \"_\")\n",
    "\n",
    "print(str_underscore)"
   ]
  },
  {
   "cell_type": "code",
   "execution_count": 17,
   "id": "fcba65ee-f7e3-4de2-bb78-5f41f433ea84",
   "metadata": {},
   "outputs": [
    {
     "name": "stdin",
     "output_type": "stream",
     "text": [
      "word to check for start with:  har\n"
     ]
    },
    {
     "name": "stdout",
     "output_type": "stream",
     "text": [
      "No it doesn't\n"
     ]
    }
   ],
   "source": [
    "# Q.17   Check if string starts with specific word or phrase\n",
    "\n",
    "'''Ans.17    Checking in the string which was output to q.15 and taking\n",
    "            input from user for the word'''\n",
    "\n",
    "word_tocheck =  input(\"word to check for start with: \")\n",
    "\n",
    "# checking the condition\n",
    "\n",
    "if str_from_list.startswith(word_tocheck):\n",
    "\n",
    "    print(f\"Yes the string starts with {word_tocheck}\")\n",
    "\n",
    "else:\n",
    "    print(\"No it doesn't\")"
   ]
  },
  {
   "cell_type": "markdown",
   "id": "62fc50aa-04c4-475d-9160-664b23706206",
   "metadata": {},
   "source": [
    "#### Q.18   Check if string ends with a specific word or phrase"
   ]
  },
  {
   "cell_type": "code",
   "execution_count": 72,
   "id": "d492822e-323a-4e12-ace3-e0c0617a22e4",
   "metadata": {},
   "outputs": [
    {
     "name": "stdin",
     "output_type": "stream",
     "text": [
      "word to check for ends with:  jugaad\n"
     ]
    },
    {
     "name": "stdout",
     "output_type": "stream",
     "text": [
      "Yes the string ends with jugaad\n"
     ]
    }
   ],
   "source": [
    "'''Ans.18    Checking in the string which was output to q.15 and taking\n",
    "            input from user for the word'''\n",
    "\n",
    "word_endcheck =  input(\"word to check for ends with: \")\n",
    "\n",
    "# checking the condition in the string output of q.15\n",
    "\n",
    "if str_from_list.endswith(word_endcheck):\n",
    "\n",
    "    print(f\"Yes the string ends with {word_endcheck}\")\n",
    "\n",
    "else:\n",
    "    print(\"No it doesn't\")"
   ]
  },
  {
   "cell_type": "markdown",
   "id": "2c369206-e94a-43d0-95c4-3fa0ecc111e8",
   "metadata": {},
   "source": [
    "#### Q.19    Convert a string to title case"
   ]
  },
  {
   "cell_type": "code",
   "execution_count": 19,
   "id": "35841402-a910-409f-8497-9e972f9de7c1",
   "metadata": {},
   "outputs": [
    {
     "name": "stdout",
     "output_type": "stream",
     "text": [
      "Karle Jugaad Bande Karle Koi Jugaad\n"
     ]
    }
   ],
   "source": [
    "'''Ans.19    Converting the string which was output to q.15'''\n",
    "\n",
    "str_title = str_from_list.title()\n",
    "\n",
    "print(str_title)"
   ]
  },
  {
   "cell_type": "markdown",
   "id": "371ab5c7-759b-4eb0-a45f-09d9eaacd7d9",
   "metadata": {},
   "source": [
    "#### Q.20 Find the longest word in a string"
   ]
  },
  {
   "cell_type": "code",
   "execution_count": 20,
   "id": "fe301997-bacd-408e-8734-ea57f4daa71e",
   "metadata": {},
   "outputs": [
    {
     "name": "stdin",
     "output_type": "stream",
     "text": [
      "Enter the string for longest word:  Hello Good Morning\n"
     ]
    },
    {
     "name": "stdout",
     "output_type": "stream",
     "text": [
      "Morning\n"
     ]
    }
   ],
   "source": [
    "'''Ans.20   Taking input of string from user and finding longest word in it'''\n",
    "\n",
    "str11= input(\"Enter the string for longest word: \")\n",
    "\n",
    "# finding the longest word\n",
    "\n",
    "longest_word = max(str11.split(),key=len)\n",
    "\n",
    "print(longest_word)"
   ]
  },
  {
   "cell_type": "markdown",
   "id": "8afca8f5-32d3-4773-b19d-9326866a413b",
   "metadata": {},
   "source": [
    "#### Q.21   Find the shortest word in a string"
   ]
  },
  {
   "cell_type": "code",
   "execution_count": 21,
   "id": "4cf2472b-249a-47b0-9e7d-5c6b5fcb0b95",
   "metadata": {},
   "outputs": [
    {
     "name": "stdout",
     "output_type": "stream",
     "text": [
      "Good\n"
     ]
    }
   ],
   "source": [
    "'''Ans.21   Finding shortest word from string taken as input in above qn20'''\n",
    "\n",
    "shortest_word = min(str11.split(), key=len)\n",
    "\n",
    "print(shortest_word)"
   ]
  },
  {
   "cell_type": "markdown",
   "id": "2e8cac55-6fdb-400f-8142-df828df1ee90",
   "metadata": {},
   "source": [
    "#### Q.22   Reverse the order of words in string"
   ]
  },
  {
   "cell_type": "code",
   "execution_count": 22,
   "id": "8c182c70-6179-43a8-ab4f-f4b9f24dceac",
   "metadata": {},
   "outputs": [
    {
     "name": "stdout",
     "output_type": "stream",
     "text": [
      "jugaad koi karle bande jugaad Karle\n"
     ]
    }
   ],
   "source": [
    "'''Ans.22   Reversing the order of words in string which was output to q no 15'''\n",
    "\n",
    "rev_word_str = \" \".join(str_from_list.split()[::-1])\n",
    "\n",
    "print(rev_word_str)"
   ]
  },
  {
   "cell_type": "markdown",
   "id": "e280c963-18a2-4d73-bd60-0bf9e7dce32c",
   "metadata": {},
   "source": [
    "#### Q.23   Check if a string is alphanumeric"
   ]
  },
  {
   "cell_type": "code",
   "execution_count": 23,
   "id": "519411f3-3800-40d1-ab78-758ecd07428a",
   "metadata": {},
   "outputs": [
    {
     "name": "stdin",
     "output_type": "stream",
     "text": [
      "Enter the string for alpha num check:  Hello 123\n"
     ]
    },
    {
     "name": "stdout",
     "output_type": "stream",
     "text": [
      "Yes the string is alpha numeric\n"
     ]
    }
   ],
   "source": [
    "'''Ans.23  Checking if input string is alphanumeric'''\n",
    "\n",
    "# Taking input from user\n",
    "\n",
    "str12= input(\"Enter the string for alpha num check: \")\n",
    "\n",
    "# checking the condition\n",
    "\n",
    "if str12.isalnum:\n",
    "\n",
    "    print(\"Yes the string is alpha numeric\")\n",
    "\n",
    "else:\n",
    "\n",
    "    print(\"No it is not\")"
   ]
  },
  {
   "cell_type": "markdown",
   "id": "e9916a28-2405-4f98-94da-64ec5d95c4d3",
   "metadata": {},
   "source": [
    "#### Q.24   Extract all digits from string"
   ]
  },
  {
   "cell_type": "code",
   "execution_count": 24,
   "id": "73d140cf-37ca-4e08-af37-e9dd71efee4d",
   "metadata": {},
   "outputs": [
    {
     "name": "stdin",
     "output_type": "stream",
     "text": [
      "Enter the string for digit extraction:  He11o\n"
     ]
    },
    {
     "name": "stdout",
     "output_type": "stream",
     "text": [
      "['1', '1']\n"
     ]
    }
   ],
   "source": [
    "'''Ans.24   All digits from the input string will be extracted and appended into the list'''\n",
    "\n",
    "# taking input from user\n",
    "\n",
    "str13 = input(\"Enter the string for digit extraction: \")\n",
    "\n",
    "# declaring an empty string\n",
    "\n",
    "digit_from_str = []\n",
    "\n",
    "# checking the condition\n",
    "\n",
    "for i in str13:\n",
    "    if i.isdigit():\n",
    "        digit_from_str.append(i)\n",
    "\n",
    "print(digit_from_str)"
   ]
  },
  {
   "cell_type": "markdown",
   "id": "7a808fd1-e5c5-4f37-b28d-f41bf5ff8305",
   "metadata": {},
   "source": [
    "#### Q.25   Extract all the alphabets from string"
   ]
  },
  {
   "cell_type": "code",
   "execution_count": 26,
   "id": "801fec1a-9366-4b72-a6b6-51a684016b38",
   "metadata": {},
   "outputs": [
    {
     "name": "stdin",
     "output_type": "stream",
     "text": [
      "Enter the string for alphabets extraction:  Hello 123\n"
     ]
    },
    {
     "name": "stdout",
     "output_type": "stream",
     "text": [
      "['H', 'e', 'l', 'l', 'o']\n"
     ]
    }
   ],
   "source": [
    "'''Ans.25   All alphabets from the input string will be extracted and appended into the list'''\n",
    "\n",
    "# taking input from user\n",
    "\n",
    "str14 = input(\"Enter the string for alphabets extraction: \")\n",
    "\n",
    "# declaring an empty string\n",
    "\n",
    "alpha_from_str = []\n",
    "\n",
    "# checking the condition\n",
    "\n",
    "for i in str14:\n",
    "    if i.isalpha():\n",
    "        alpha_from_str.append(i)\n",
    "\n",
    "print(alpha_from_str)"
   ]
  },
  {
   "cell_type": "markdown",
   "id": "02ad7506-7653-4bbf-a611-a06a268f38a0",
   "metadata": {},
   "source": [
    "#### Q.26   Count the number of upper case letters in a string"
   ]
  },
  {
   "cell_type": "code",
   "execution_count": 27,
   "id": "365f517b-bc04-41d1-999a-8e03aa08f1c2",
   "metadata": {},
   "outputs": [
    {
     "name": "stdin",
     "output_type": "stream",
     "text": [
      "Enter the string for checking: Hello World\n"
     ]
    },
    {
     "name": "stdout",
     "output_type": "stream",
     "text": [
      "2\n"
     ]
    }
   ],
   "source": [
    "'''Ans.26  counting the number of upper case character in a input string'''\n",
    "\n",
    "# Taking input from user\n",
    "\n",
    "str15 = input(\"Enter the string for checking:\")\n",
    "\n",
    "# checking the condition\n",
    "\n",
    "count_upper=0\n",
    "\n",
    "for i in str15:\n",
    "    if i.isupper():\n",
    "        count_upper += 1\n",
    "\n",
    "print(count_upper)"
   ]
  },
  {
   "cell_type": "markdown",
   "id": "c463b2e3-b8a2-4135-9931-3f949087e01a",
   "metadata": {},
   "source": [
    "#### Q.27    Count the number of lower case letters in a string"
   ]
  },
  {
   "cell_type": "code",
   "execution_count": 28,
   "id": "5570d65f-7454-4ca5-96e9-65c81efda912",
   "metadata": {},
   "outputs": [
    {
     "name": "stdout",
     "output_type": "stream",
     "text": [
      "8\n"
     ]
    }
   ],
   "source": [
    "'''Ans.27  counting the number of lower case character in above qn string'''\n",
    "\n",
    "# checking the condition\n",
    "\n",
    "count_lower=0\n",
    "\n",
    "for i in str15:\n",
    "    if i.islower():\n",
    "        count_lower += 1\n",
    "\n",
    "print(count_lower)"
   ]
  },
  {
   "cell_type": "markdown",
   "id": "53363e05-b605-42fb-acd9-656928f87fcd",
   "metadata": {},
   "source": [
    "#### Q.28   Swap the case of each character in a string"
   ]
  },
  {
   "cell_type": "code",
   "execution_count": 29,
   "id": "0d4d45ee-83f7-43f7-bc43-30b3dd64ac87",
   "metadata": {},
   "outputs": [
    {
     "data": {
      "text/plain": [
       "'hELLO wORLD hII'"
      ]
     },
     "execution_count": 29,
     "metadata": {},
     "output_type": "execute_result"
    }
   ],
   "source": [
    "'''Ans.28   Swapping the case of string declared below'''\n",
    "\n",
    "str16 = \"Hello World Hii\"\n",
    "\n",
    "str16.swapcase()"
   ]
  },
  {
   "cell_type": "markdown",
   "id": "7a84b8e8-5351-4a39-8b0b-f03d629ca17b",
   "metadata": {},
   "source": [
    "#### Q.29    Remove a specific word from the string"
   ]
  },
  {
   "cell_type": "code",
   "execution_count": 30,
   "id": "18c57439-3b17-4e87-8c59-1ee53f080b59",
   "metadata": {},
   "outputs": [
    {
     "name": "stdin",
     "output_type": "stream",
     "text": [
      "Enter the word to be removed karle\n"
     ]
    },
    {
     "name": "stdout",
     "output_type": "stream",
     "text": [
      "Karle jugaad bande koi jugaad\n"
     ]
    }
   ],
   "source": [
    "'''Ans.29 Removing a word from the string which was output to q no 15'''\n",
    "\n",
    "# taking user input\n",
    "\n",
    "word=input(\"Enter the word to be removed\")\n",
    "\n",
    "# removing the word\n",
    "\n",
    "if word in str_from_list:\n",
    "    str_word_rem = str_from_list.replace(word, \"\\b\")\n",
    "    print(str_word_rem)\n",
    "else:\n",
    "    print(\"Sorry the word is not in string\")"
   ]
  },
  {
   "cell_type": "markdown",
   "id": "034bbab2-0a32-4c19-a0ea-e564c596d2b8",
   "metadata": {},
   "source": [
    "#### Q.30   Check if a string is a valid email address"
   ]
  },
  {
   "cell_type": "code",
   "execution_count": 31,
   "id": "2b5ed130-dae0-45eb-9064-3579a020c036",
   "metadata": {},
   "outputs": [
    {
     "name": "stdin",
     "output_type": "stream",
     "text": [
      "Enter the email:  shivam@gmail.com\n"
     ]
    },
    {
     "name": "stdout",
     "output_type": "stream",
     "text": [
      "Email is valid\n"
     ]
    }
   ],
   "source": [
    "'''Ans. To check whether a string is valid email address or not.\n",
    "        a valid email string must have:\n",
    "          1. Local part + '@' symbol + Domain part\n",
    "          2. Local part cannot be empty\n",
    "          3. Domain part must have minimum one '.' and be at least 2-3 chars\n",
    "          4. Only allowed special characters are '.' and '-'\n",
    "          '''\n",
    "\n",
    "email = input(\"Enter the email: \")\n",
    "\n",
    "# checking validity of email\n",
    "\n",
    "a = 0\n",
    "b = 0\n",
    "dot=0\n",
    "local_cond = True\n",
    "domain_cond = True\n",
    "\n",
    "\n",
    "\n",
    "if email.count('@')==1 and (not email.startswith('@')):\n",
    "\n",
    "    email_list = email.split('@')\n",
    "\n",
    "    for i in email_list[0]:\n",
    "    \n",
    "        if i.isalnum():\n",
    "            a+=1\n",
    "    \n",
    "        elif i not in '.-':\n",
    "            local_cond = False\n",
    "            break\n",
    "\n",
    "    for j in email_list[1]:\n",
    "        \n",
    "        if j=='.':\n",
    "            dot+=1\n",
    "        if j.isalnum():\n",
    "            b+=1\n",
    "        elif j not in '.-':\n",
    "            domain_cond = False\n",
    "            break\n",
    "\n",
    "if a>0 and b>2 and domain_cond and local_cond and dot>=1:\n",
    "\n",
    "    print(\"Email is valid\")\n",
    "\n",
    "else:\n",
    "\n",
    "    print(\"Email is invalid\")"
   ]
  },
  {
   "cell_type": "markdown",
   "id": "e989fd88-8aeb-47b7-aa08-0bd3e63e6f83",
   "metadata": {},
   "source": [
    "#### Q.31   Extract the username from an email address"
   ]
  },
  {
   "cell_type": "code",
   "execution_count": 32,
   "id": "c8d882d0-a32f-4f1b-ba40-296c306d6d36",
   "metadata": {},
   "outputs": [
    {
     "name": "stdin",
     "output_type": "stream",
     "text": [
      "Enter the email address:  shivam@gmail.com\n"
     ]
    },
    {
     "name": "stdout",
     "output_type": "stream",
     "text": [
      "shivam\n"
     ]
    }
   ],
   "source": [
    "'''Ans.31 Extracting username from email address '''\n",
    "\n",
    "# Taking input from user\n",
    "\n",
    "email1= input(\"Enter the email address: \")\n",
    "\n",
    "# username disply\n",
    "\n",
    "username1=email1.split('@')[0]\n",
    "\n",
    "print(username1)"
   ]
  },
  {
   "cell_type": "markdown",
   "id": "47a71c3e-9f77-48bc-87bb-481f69e0f980",
   "metadata": {},
   "source": [
    "#### Q.32 Extract domain name from email address"
   ]
  },
  {
   "cell_type": "code",
   "execution_count": 33,
   "id": "1f60d3e2-ddcd-4906-9d59-d7fdfce0a1c6",
   "metadata": {},
   "outputs": [
    {
     "name": "stdin",
     "output_type": "stream",
     "text": [
      "Enter the email address:  shivam@gmail.com\n"
     ]
    },
    {
     "name": "stdout",
     "output_type": "stream",
     "text": [
      "gmail.com\n"
     ]
    }
   ],
   "source": [
    "'''Ans.32 Extracting domain name from email address '''\n",
    "\n",
    "# Taking input from user\n",
    "\n",
    "email1= input(\"Enter the email address: \")\n",
    "\n",
    "# domain name disply\n",
    "\n",
    "domainname1=email1.split('@')[1]\n",
    "\n",
    "print(domainname1)"
   ]
  },
  {
   "cell_type": "markdown",
   "id": "7a40fcc6-8575-43b0-8877-a4897555585c",
   "metadata": {},
   "source": [
    "#### Q.33  Replace multiple spaces in a string with single space."
   ]
  },
  {
   "cell_type": "code",
   "execution_count": 34,
   "id": "7c3d57a7-b3bf-4702-8362-2d038cead782",
   "metadata": {},
   "outputs": [
    {
     "name": "stdout",
     "output_type": "stream",
     "text": [
      "Hello Monday Tuesday\n"
     ]
    }
   ],
   "source": [
    "'''Ans. 33 Replacing multiple spaces in a string with single space'''\n",
    "\n",
    "# declaring a string\n",
    "str17 = 'Hello    Monday    Tuesday'\n",
    "\n",
    "# removing the multiple space\n",
    "multi_space_rem = ' '.join(str17.split())\n",
    "\n",
    "print(multi_space_rem)"
   ]
  },
  {
   "cell_type": "markdown",
   "id": "fdd8489c-c272-4fd8-bcb5-9a46d9157dcc",
   "metadata": {},
   "source": [
    "#### Q.34  Check if a string is a valid url"
   ]
  },
  {
   "cell_type": "code",
   "execution_count": 35,
   "id": "4b1d1659-5fea-41e8-ae80-f97f3e108a53",
   "metadata": {},
   "outputs": [
    {
     "name": "stdin",
     "output_type": "stream",
     "text": [
      "Enter the URL:  https://google.com\n"
     ]
    },
    {
     "name": "stdout",
     "output_type": "stream",
     "text": [
      "URL is valid\n"
     ]
    }
   ],
   "source": [
    "'''Ans.32   Extracting domain name from email address\n",
    "            Condition for checking valid url is that both\n",
    "            scheme and network location are present'''\n",
    "\n",
    "# Importing \n",
    "\n",
    "from urllib.parse import urlparse\n",
    "\n",
    "# Taking input from user\n",
    "\n",
    "url1= input(\"Enter the URL: \")\n",
    "\n",
    "# Checking the validity of the url\n",
    "\n",
    "result = urlparse(url1)\n",
    "\n",
    "if result.scheme != '' and result.netloc != '':\n",
    "\n",
    "    print(\"URL is valid\")\n",
    "\n",
    "else:\n",
    "\n",
    "    print(\"Invalid URL\")"
   ]
  },
  {
   "cell_type": "markdown",
   "id": "997340fa-f969-46ff-94e1-789b91841f45",
   "metadata": {},
   "source": [
    "#### Q.35  Extract the protocol from a url string"
   ]
  },
  {
   "cell_type": "code",
   "execution_count": 36,
   "id": "bb4eff22-3297-489e-b3cb-f553c00e3f33",
   "metadata": {},
   "outputs": [
    {
     "name": "stdin",
     "output_type": "stream",
     "text": [
      "Enter the URL:  https://google.com\n"
     ]
    },
    {
     "name": "stdout",
     "output_type": "stream",
     "text": [
      "https\n"
     ]
    }
   ],
   "source": [
    "'''Ans.35  '''\n",
    "\n",
    "# Taking input from the user for url\n",
    "\n",
    "url2= input(\"Enter the URL: \")\n",
    "\n",
    "# Extracting the protocol\n",
    "\n",
    "result1= urlparse(url2)\n",
    "\n",
    "print(result1.scheme)"
   ]
  },
  {
   "cell_type": "markdown",
   "id": "b63c5726-0cae-44cc-ad39-fbe4ffee0ecb",
   "metadata": {},
   "source": [
    "####  Q.36 Find the frequency of each character in string"
   ]
  },
  {
   "cell_type": "code",
   "execution_count": 37,
   "id": "e06d7329-5806-4feb-800d-3437b94d57e9",
   "metadata": {},
   "outputs": [
    {
     "name": "stdin",
     "output_type": "stream",
     "text": [
      "Enter the string:  Hello Mike testing\n"
     ]
    },
    {
     "name": "stdout",
     "output_type": "stream",
     "text": [
      "Count of i = 2\n",
      "Count of n = 1\n",
      "Count of h = 1\n",
      "Count of l = 2\n",
      "Count of e = 3\n",
      "Count of g = 1\n",
      "Count of o = 1\n",
      "Count of m = 1\n",
      "Count of t = 2\n",
      "Count of s = 1\n",
      "Count of k = 1\n"
     ]
    }
   ],
   "source": [
    "'''Ans.36  Taking the input string and checking frequency of characters'''\n",
    "\n",
    "str18 = input('Enter the string: ')\n",
    "\n",
    "set_char = set(str18.replace(' ','').lower())\n",
    "\n",
    "for i in set_char:\n",
    "    \n",
    "    print(f\"Count of {i} = {str18.lower().count(i)}\")    "
   ]
  },
  {
   "cell_type": "markdown",
   "id": "a8378368-0e26-437e-a393-a404561145c2",
   "metadata": {},
   "source": [
    "####  Q.37 Remove all the punctuation from the string."
   ]
  },
  {
   "cell_type": "code",
   "execution_count": 38,
   "id": "0e64ea4d-e1ef-4586-839d-ad0401c13875",
   "metadata": {},
   "outputs": [
    {
     "name": "stdin",
     "output_type": "stream",
     "text": [
      "Enter the string for removal of punctuation:  Hello, World!\n"
     ]
    },
    {
     "name": "stdout",
     "output_type": "stream",
     "text": [
      "Hello World\n"
     ]
    }
   ],
   "source": [
    "'''Ans. 37  There are fourteen punctuation marks in english which are defined in \n",
    "            list below '''\n",
    "\n",
    "# Importing string module for access of all the punctuations\n",
    "\n",
    "import string\n",
    "\n",
    "# Taking input from user \n",
    "\n",
    "str19= input(\"Enter the string for removal of punctuation: \")\n",
    "\n",
    "# Checking the condition\n",
    "\n",
    "for i in str19:\n",
    "    \n",
    "    if i in string.punctuation:\n",
    "        \n",
    "        str19 = str19.replace(i,'')\n",
    "        \n",
    "print(str19)"
   ]
  },
  {
   "cell_type": "markdown",
   "id": "683b826e-2892-4fff-9523-d87b172b7179",
   "metadata": {},
   "source": [
    "#### Q.38 Check is string contains only digits"
   ]
  },
  {
   "cell_type": "code",
   "execution_count": 39,
   "id": "520c4b73-2a69-45aa-b36f-953bccc19f27",
   "metadata": {},
   "outputs": [
    {
     "name": "stdin",
     "output_type": "stream",
     "text": [
      "Enter the string:  12344\n"
     ]
    },
    {
     "name": "stdout",
     "output_type": "stream",
     "text": [
      "Yes the string is only digit\n"
     ]
    }
   ],
   "source": [
    "'''Ans.38'''\n",
    "\n",
    "# Taking input from user for string\n",
    "\n",
    "str20= input(\"Enter the string: \")\n",
    "\n",
    "# Checking the condition\n",
    "\n",
    "if str20.isdigit():\n",
    "\n",
    "    print(\"Yes the string is only digit\")\n",
    "\n",
    "else:\n",
    "    print(\"No it is not\")"
   ]
  },
  {
   "cell_type": "markdown",
   "id": "269d2aa5-f8b1-4c78-81f7-49d2b6772eea",
   "metadata": {},
   "source": [
    "#### Q.39 Check if string is only alphabet"
   ]
  },
  {
   "cell_type": "code",
   "execution_count": 40,
   "id": "7ed1f8c3-1f43-4c95-a35d-ce8f8859d048",
   "metadata": {},
   "outputs": [
    {
     "name": "stdin",
     "output_type": "stream",
     "text": [
      "Enter the string:  Hello\n"
     ]
    },
    {
     "name": "stdout",
     "output_type": "stream",
     "text": [
      "Yes the string is only alphabet\n"
     ]
    }
   ],
   "source": [
    "'''Ans.39'''\n",
    "\n",
    "#Taking input from the user for string\n",
    "\n",
    "str21= input(\"Enter the string: \")\n",
    "\n",
    "# Checking the condition\n",
    "\n",
    "if str21.isalpha():\n",
    "\n",
    "    print(\"Yes the string is only alphabet\")\n",
    "\n",
    "else:\n",
    "    print(\"No it is not\")"
   ]
  },
  {
   "cell_type": "markdown",
   "id": "665eb96a-6b07-4f33-bd75-8730c529e333",
   "metadata": {},
   "source": [
    "#### Q.40 Convert a string to a list of characters"
   ]
  },
  {
   "cell_type": "code",
   "execution_count": 41,
   "id": "c5ef178b-a927-46ed-ac69-c98269e1e5eb",
   "metadata": {},
   "outputs": [
    {
     "name": "stdin",
     "output_type": "stream",
     "text": [
      "Enter the string:  Hello\n"
     ]
    },
    {
     "name": "stdout",
     "output_type": "stream",
     "text": [
      "['H', 'e', 'l', 'l', 'o']\n"
     ]
    }
   ],
   "source": [
    "'''Ans.40'''\n",
    "\n",
    "# Taking input from user\n",
    "\n",
    "str22= input(\"Enter the string: \")\n",
    "\n",
    "# Coverting into list of characters\n",
    "\n",
    "list_char=list(str22)\n",
    "\n",
    "# Displaying the output\n",
    "\n",
    "print(list_char)"
   ]
  },
  {
   "cell_type": "markdown",
   "id": "b6e23f7a-96a5-45ac-b271-7b388dedb0bb",
   "metadata": {},
   "source": [
    "#### Q.41 Check if two string are anagrams"
   ]
  },
  {
   "cell_type": "code",
   "execution_count": 42,
   "id": "7faeb8ca-775f-400f-80e3-97d14dc823c7",
   "metadata": {},
   "outputs": [
    {
     "name": "stdin",
     "output_type": "stream",
     "text": [
      "Enter the first string:  listen\n",
      "Enter the second string:  silent\n"
     ]
    },
    {
     "name": "stdout",
     "output_type": "stream",
     "text": [
      "The two strings are anagrams\n"
     ]
    }
   ],
   "source": [
    "'''Ans.41   When a word is made from all the characters from another \n",
    "            word, then those two words are called anagrams\n",
    "            '''\n",
    "\n",
    "# Taking input from users\n",
    "\n",
    "str23 = input(\"Enter the first string: \")\n",
    "str24 = input(\"Enter the second string: \")\n",
    "\n",
    "# Checking the conditions\n",
    "\n",
    "if sorted(str23)==sorted(str24):\n",
    "    print(\"The two strings are anagrams\")\n",
    "\n",
    "else:\n",
    "    print(\"Not anagrams\")"
   ]
  },
  {
   "cell_type": "markdown",
   "id": "fe7f4d19-ff06-48e7-994e-496c6edb02ab",
   "metadata": {},
   "source": [
    "#### Q.42 Encode a string using a Caesar cipher"
   ]
  },
  {
   "cell_type": "code",
   "execution_count": 43,
   "id": "975041ce-851b-4ed4-915a-c81874d059fa",
   "metadata": {},
   "outputs": [
    {
     "name": "stdin",
     "output_type": "stream",
     "text": [
      "Enter the message:  Hello\n",
      "Provide the number of shift:  2\n"
     ]
    },
    {
     "name": "stdout",
     "output_type": "stream",
     "text": [
      "Caesar cipher = Jgnnq\n"
     ]
    }
   ],
   "source": [
    "'''Ans.42   Caeser cipher is an encoding method where the letters are shifted by some\n",
    "            fixed number of spaces'''\n",
    "\n",
    "# Taking input from the user\n",
    "\n",
    "str25= input(\"Enter the message: \")\n",
    "shift = int(input(\"Provide the number of shift: \"))\n",
    "\n",
    "# using the string module\n",
    "\n",
    "uppercase = list(string.ascii_uppercase)\n",
    "lowercase = list(string.ascii_lowercase)\n",
    "\n",
    "cryp_text = ''\n",
    "\n",
    "# Checking the condition\n",
    "\n",
    "for i in str25:\n",
    "    if i in uppercase:\n",
    "       index = uppercase.index(i)\n",
    "       cryp = (index+shift)%26\n",
    "       newLetter = uppercase[cryp]\n",
    "       cryp_text += newLetter\n",
    "    elif i in lowercase:\n",
    "       index = lowercase.index(i)\n",
    "       cryp = (index+shift)%26\n",
    "       newLetter = lowercase[cryp]\n",
    "       cryp_text += newLetter\n",
    "\n",
    "# Displaying the crypted text\n",
    "\n",
    "print(f\"Caesar cipher = {cryp_text}\")"
   ]
  },
  {
   "cell_type": "markdown",
   "id": "f760a9b8-a24e-4d2d-b846-d5c754ddfe01",
   "metadata": {},
   "source": [
    "#### Q.43 Decode a Caesar Cipher encoded string"
   ]
  },
  {
   "cell_type": "code",
   "execution_count": 44,
   "id": "b0825525-b575-45d4-9de8-370aabaa3a3d",
   "metadata": {},
   "outputs": [
    {
     "name": "stdin",
     "output_type": "stream",
     "text": [
      "Enter the message to be decrypted:  Ifmmp\n",
      "Provide the number of shift:  1\n"
     ]
    },
    {
     "name": "stdout",
     "output_type": "stream",
     "text": [
      "Decoded msg is  = Hello\n"
     ]
    }
   ],
   "source": [
    "'''Ans.43   Decoding the above generated caesar cipher message'''\n",
    "\n",
    "# Taking input from the user\n",
    "\n",
    "cipher_text = input(\"Enter the message to be decrypted: \")\n",
    "shift2 = int(input(\"Provide the number of shift: \"))\n",
    "\n",
    "# using the string module\n",
    "\n",
    "uppercase = list(string.ascii_uppercase)\n",
    "lowercase = list(string.ascii_lowercase)\n",
    "\n",
    "decode_msg = ''\n",
    "\n",
    "# Checking the condition\n",
    "\n",
    "for i in cipher_text:\n",
    "    if i in uppercase:\n",
    "       index = uppercase.index(i)\n",
    "       cryp = (index-shift2)%26\n",
    "       newLetter = uppercase[cryp]\n",
    "       decode_msg += newLetter\n",
    "    elif i in lowercase:\n",
    "       index = lowercase.index(i)\n",
    "       cryp = (index-shift2)%26\n",
    "       newLetter = lowercase[cryp]\n",
    "       decode_msg += newLetter\n",
    "\n",
    "# Displaying the decoded text\n",
    "\n",
    "print(f\"Decoded msg is  = {decode_msg}\")"
   ]
  },
  {
   "cell_type": "markdown",
   "id": "6f92f51c-6ec3-4983-b513-445caea9ef0c",
   "metadata": {},
   "source": [
    "#### Q.44 Find the most frequent word in string"
   ]
  },
  {
   "cell_type": "code",
   "execution_count": 47,
   "id": "ff18c1bf-ee3f-4f9c-86b3-50a7417d8d14",
   "metadata": {},
   "outputs": [
    {
     "name": "stdin",
     "output_type": "stream",
     "text": [
      "Enter the string for freq word check:  Har har Har har shambhu\n"
     ]
    },
    {
     "name": "stdout",
     "output_type": "stream",
     "text": [
      "har\n"
     ]
    }
   ],
   "source": [
    "'''Ans.44'''\n",
    "\n",
    "# Taking input of string from the user\n",
    "\n",
    "str26=input(\"Enter the string for freq word check: \")\n",
    "\n",
    "# converting str to list\n",
    "\n",
    "list_str26 = str26.lower().split()\n",
    "\n",
    "# checking the condition\n",
    "\n",
    "frequent_word=max(list_str26, key= lambda x: list_str26.count(x))\n",
    "\n",
    "# Displaying the output\n",
    "print(frequent_word)"
   ]
  },
  {
   "cell_type": "markdown",
   "id": "efc9af1f-9349-42cc-ae2e-52f68c1e5ea2",
   "metadata": {},
   "source": [
    "#### Q.45 Find unique words in a string"
   ]
  },
  {
   "cell_type": "code",
   "execution_count": null,
   "id": "498b2cf1-a434-40c2-9b08-97107e29540b",
   "metadata": {},
   "outputs": [],
   "source": [
    "'''Ans.45 Unique words can be found in a string using set method'''\n",
    "\n",
    "#Taking user input\n",
    "str27 = input(\"Enter the string: \")\n",
    "\n",
    "#Checking no of unique words and displaying output\n",
    "print(\"The unique words in the strings are:\")\n",
    "\n",
    "for i in set(str27.lower().split()):\n",
    "    print(i.capitalize())"
   ]
  },
  {
   "cell_type": "markdown",
   "id": "c0a2d507-200e-422f-8778-a86aa06246c8",
   "metadata": {},
   "source": [
    "#### Q.46 Count the number of syllables in a string"
   ]
  },
  {
   "cell_type": "code",
   "execution_count": 48,
   "id": "742fbea8-8b12-4139-822c-1bb6e021cbec",
   "metadata": {},
   "outputs": [
    {
     "name": "stdin",
     "output_type": "stream",
     "text": [
      "Enter the string: Hello World\n"
     ]
    },
    {
     "name": "stdout",
     "output_type": "stream",
     "text": [
      "3\n"
     ]
    }
   ],
   "source": [
    "'''Ans.46'''\n",
    "\n",
    "syllable_count=0\n",
    "\n",
    "vowels='aeiouAEIOU'\n",
    "\n",
    "str28= input(\"Enter the string:\")\n",
    "\n",
    "if str28[0] in vowels:\n",
    "    syllable_count+=1\n",
    "for i in range(1, len(str28)):\n",
    "    if str28[i] in vowels and str28[i-1] not in vowels:\n",
    "        syllable_count+=1\n",
    "\n",
    "if str28.endswith('e'):\n",
    "    syllable_count-=1\n",
    "\n",
    "if str28.endswith('le') and len(str28)>2 and str28[-3] not in vowels:\n",
    "    syllable_count+=1    \n",
    "    \n",
    "if syllable_count==0:\n",
    "    syllable_count+=1\n",
    "\n",
    "print(syllable_count)"
   ]
  },
  {
   "cell_type": "markdown",
   "id": "a4bc9df2-46b9-407c-9f58-8d4ebaf2a090",
   "metadata": {},
   "source": [
    "#### Q.47 Check if a string contains any special characters"
   ]
  },
  {
   "cell_type": "code",
   "execution_count": 49,
   "id": "e004c82c-2614-4a38-bf15-c7f6f5cefb8c",
   "metadata": {},
   "outputs": [
    {
     "name": "stdin",
     "output_type": "stream",
     "text": [
      "Enter the string:  Hello@123\n"
     ]
    },
    {
     "name": "stdout",
     "output_type": "stream",
     "text": [
      "The string has special characters\n"
     ]
    }
   ],
   "source": [
    "'''Ans.47  To check whether string contains any special characters we will check\n",
    "            whether it is not alphanumeric and no space to be counted as special characters'''\n",
    "\n",
    "str29=input(\"Enter the string: \")\n",
    "\n",
    "# Checking the condition\n",
    "\n",
    "if not str29.replace(' ','').isalnum():\n",
    "\n",
    "    print(\"The string has special characters\")\n",
    "\n",
    "else:\n",
    "    print(\"No special characters\")\n",
    "\n"
   ]
  },
  {
   "cell_type": "markdown",
   "id": "3e9199bc-f832-4ed5-a99a-9b2c3fb9f8a7",
   "metadata": {},
   "source": [
    "#### Q.48 Remove nth word from a string"
   ]
  },
  {
   "cell_type": "code",
   "execution_count": 50,
   "id": "131d3095-1b32-4e85-93a6-8bd1111e2509",
   "metadata": {},
   "outputs": [
    {
     "name": "stdin",
     "output_type": "stream",
     "text": [
      "which number is to be deleted 2\n"
     ]
    },
    {
     "name": "stdout",
     "output_type": "stream",
     "text": [
      "Hi Aadipurush is very bad movie\n"
     ]
    }
   ],
   "source": [
    "'''Ans.48'''\n",
    "\n",
    "# Taking nth word as input\n",
    "\n",
    "str30 = \"Hi everyone, Aadipurush is very bad movie\"\n",
    "\n",
    "nth_word = int(input(\"which number is to be deleted\"))\n",
    "\n",
    "# deleting the word\n",
    "\n",
    "str30_list = str30.split()\n",
    "\n",
    "if nth_word <= len(str30_list):\n",
    "    \n",
    "    str30_list.pop(nth_word-1)\n",
    "\n",
    "    after_del =' '.join(str30_list)\n",
    "\n",
    "    # displaying the output\n",
    "    \n",
    "    print(after_del)\n",
    "\n",
    "else:\n",
    "    print(\"Number of words are less than the entered number\")"
   ]
  },
  {
   "cell_type": "markdown",
   "id": "a769de75-2a90-46a8-ad8b-411e39397346",
   "metadata": {},
   "source": [
    "#### Q.49   Insert a word at nth position in a string"
   ]
  },
  {
   "cell_type": "code",
   "execution_count": 51,
   "id": "a9fb69f5-844b-4b4e-9ae1-66896620ee68",
   "metadata": {},
   "outputs": [
    {
     "name": "stdin",
     "output_type": "stream",
     "text": [
      "At which number position word is to be added 5\n",
      "Enter the word to be added very\n"
     ]
    },
    {
     "name": "stdout",
     "output_type": "stream",
     "text": [
      "Hi everyone, Aadipurush is very very bad movie\n"
     ]
    }
   ],
   "source": [
    "'''Ans.49 Adding a word in the above declared string in q.48'''\n",
    "\n",
    "# Taking nth word as input\n",
    "nth_word1=int(input(\"At which number position word is to be added\"))\n",
    "word=input(\"Enter the word to be added\")\n",
    "\n",
    "str30_list = str30.split()\n",
    "\n",
    "if nth_word1 <= len(str30_list):\n",
    "    \n",
    "    str30_list.insert((nth_word1-1), word)\n",
    "\n",
    "    after_addition =' '.join(str30_list)\n",
    "\n",
    "    # displaying the output\n",
    "    \n",
    "    print(after_addition)\n",
    "\n",
    "else:\n",
    "    print(\"Number of words are less than the entered number\")"
   ]
  },
  {
   "cell_type": "markdown",
   "id": "6edcc477-d897-4ad1-bd13-ff32c43bfa40",
   "metadata": {},
   "source": [
    "#### Q.50 Convert a CSV string to a list of list"
   ]
  },
  {
   "cell_type": "code",
   "execution_count": 52,
   "id": "5153d78d-748c-4c24-9901-52132a32af51",
   "metadata": {},
   "outputs": [
    {
     "name": "stdin",
     "output_type": "stream",
     "text": [
      "Enter a csv string:  hello, 123\n"
     ]
    },
    {
     "name": "stdout",
     "output_type": "stream",
     "text": [
      "[['hello', ' 123']]\n"
     ]
    }
   ],
   "source": [
    "'''Ans.50'''\n",
    "\n",
    "str31= input(\"Enter a csv string: \")\n",
    "\n",
    "list_of_list = [str31.split(\",\")]\n",
    "\n",
    "print(list_of_list)"
   ]
  },
  {
   "cell_type": "markdown",
   "id": "4fd42a52-dea2-46f1-a459-9bbc5cfea0da",
   "metadata": {},
   "source": [
    "# LIST BASED PRACTICE PROBLEMS"
   ]
  },
  {
   "cell_type": "code",
   "execution_count": 5,
   "id": "f8601de4-0c08-4841-a332-480bdcafd75d",
   "metadata": {},
   "outputs": [
    {
     "name": "stdout",
     "output_type": "stream",
     "text": [
      "[1, 2, 3, 4, 5, 6, 7, 8, 9, 10]\n"
     ]
    }
   ],
   "source": [
    "# 1. Create a list with integers from 1 to 10\n",
    "\n",
    "list_int = [i for i in range(1,11)]\n",
    "\n",
    "print(list_int)"
   ]
  },
  {
   "cell_type": "code",
   "execution_count": 6,
   "id": "1d4c7248-6726-4d2d-80a3-de02d9b89aaa",
   "metadata": {},
   "outputs": [
    {
     "name": "stdout",
     "output_type": "stream",
     "text": [
      "6\n"
     ]
    }
   ],
   "source": [
    "# 2. Find the length of list without using the len function\n",
    "\n",
    "list1= [1,23,3,4,5,6]\n",
    "\n",
    "length_list1 = 0\n",
    "\n",
    "for i in list1:\n",
    "\n",
    "    length_list1 += 1\n",
    "\n",
    "print(length_list1)"
   ]
  },
  {
   "cell_type": "code",
   "execution_count": 7,
   "id": "0d73f00b-2bf7-434d-b3f8-055885db208f",
   "metadata": {},
   "outputs": [
    {
     "name": "stdout",
     "output_type": "stream",
     "text": [
      "[1, 23, 3, 4, 5, 6, 'Shri Ram']\n"
     ]
    }
   ],
   "source": [
    "# 3. Append an element to the end of the list declared in above problem\n",
    "\n",
    "list1.append('Shri Ram')\n",
    "\n",
    "print(list1)"
   ]
  },
  {
   "cell_type": "code",
   "execution_count": 11,
   "id": "772e892c-1650-4591-b95f-47cb2768f715",
   "metadata": {},
   "outputs": [
    {
     "name": "stdout",
     "output_type": "stream",
     "text": [
      "[1, 'Shri Krishna', 'Shri Krishna', 3, 4, 5, 6, 'Shri Ram']\n"
     ]
    }
   ],
   "source": [
    "# 4. Insert an element at a specific index 2 in a list declared in problem 2\n",
    "\n",
    "list1.insert(2, 'Shri Krishna')\n",
    "\n",
    "print(list1)"
   ]
  },
  {
   "cell_type": "code",
   "execution_count": 12,
   "id": "6180f970-3b38-4a29-9e41-4d77bc49a1bf",
   "metadata": {},
   "outputs": [
    {
     "name": "stdout",
     "output_type": "stream",
     "text": [
      "[1, 'Shri Krishna', 'Shri Krishna', 4, 5, 6, 'Shri Ram']\n"
     ]
    }
   ],
   "source": [
    "# 5. Remove an element from list declared in problem 2 by its value\n",
    "\n",
    "list1.remove(3)\n",
    "\n",
    "print(list1)"
   ]
  },
  {
   "cell_type": "code",
   "execution_count": 13,
   "id": "1276875c-4600-43f7-8c02-16a11e36895a",
   "metadata": {},
   "outputs": [
    {
     "name": "stdout",
     "output_type": "stream",
     "text": [
      "[1, 'Shri Krishna', 'Shri Krishna', 5, 6, 'Shri Ram']\n"
     ]
    }
   ],
   "source": [
    "# 6. Remove an element from a list declared in problem 3 by its index 3\n",
    "\n",
    "list1.pop(3)\n",
    "\n",
    "print(list1)"
   ]
  },
  {
   "cell_type": "code",
   "execution_count": 14,
   "id": "44d58727-7cdd-4a28-a34c-b6727090357b",
   "metadata": {},
   "outputs": [
    {
     "name": "stdout",
     "output_type": "stream",
     "text": [
      "Yes the element is present in the list\n"
     ]
    }
   ],
   "source": [
    "# 7. Check if an element exist in a list\n",
    "\n",
    "if 'Shri Krishna' in list1:\n",
    "    print('Yes the element is present in the list')\n",
    "else:\n",
    "    print('Not present')"
   ]
  },
  {
   "cell_type": "code",
   "execution_count": 16,
   "id": "08954fd0-1cb1-4437-a7db-630d23f51bd7",
   "metadata": {},
   "outputs": [
    {
     "data": {
      "text/plain": [
       "2"
      ]
     },
     "execution_count": 16,
     "metadata": {},
     "output_type": "execute_result"
    }
   ],
   "source": [
    "# 8. Find the index of the first occurence of an element in a list\n",
    "\n",
    "list2= [1,2,3,2,4,3,1]\n",
    "\n",
    "# finding the first occurence of element 3\n",
    "\n",
    "list2.index(3)"
   ]
  },
  {
   "cell_type": "code",
   "execution_count": 18,
   "id": "2aafbaf0-3b59-4cdc-850b-e4e723157fa0",
   "metadata": {},
   "outputs": [
    {
     "data": {
      "text/plain": [
       "2"
      ]
     },
     "execution_count": 18,
     "metadata": {},
     "output_type": "execute_result"
    }
   ],
   "source": [
    "# 9. count the occurences of an element 3 in a list delcared in problem 8\n",
    "\n",
    "list2.count(3)"
   ]
  },
  {
   "cell_type": "code",
   "execution_count": 19,
   "id": "392814b7-561e-49b9-9f26-d9f7e8c43ffb",
   "metadata": {},
   "outputs": [
    {
     "data": {
      "text/plain": [
       "[1, 3, 4, 2, 3, 2, 1]"
      ]
     },
     "execution_count": 19,
     "metadata": {},
     "output_type": "execute_result"
    }
   ],
   "source": [
    "# 10. reverse the order of elements in a list declared in problem 8\n",
    "\n",
    "list2[::-1]"
   ]
  },
  {
   "cell_type": "code",
   "execution_count": 21,
   "id": "cd1f8e65-eb05-42d5-af07-65141a26ff2a",
   "metadata": {},
   "outputs": [
    {
     "name": "stdout",
     "output_type": "stream",
     "text": [
      "[1, 15, 22, 33, 43, 99]\n"
     ]
    }
   ],
   "source": [
    "# 11. Sort a list in ascending order\n",
    "\n",
    "list3= [1,33,43,22,15,99]\n",
    "\n",
    "list3.sort()\n",
    "print(list3)"
   ]
  },
  {
   "cell_type": "code",
   "execution_count": 22,
   "id": "61721658-5655-43a1-983e-9a6ae50a499f",
   "metadata": {},
   "outputs": [
    {
     "name": "stdout",
     "output_type": "stream",
     "text": [
      "[99, 43, 33, 22, 15, 1]\n"
     ]
    }
   ],
   "source": [
    "# 12 Sort a list declared in problem 11 in descending order\n",
    "\n",
    "list3.sort(reverse=True)\n",
    "print(list3)"
   ]
  },
  {
   "cell_type": "code",
   "execution_count": 23,
   "id": "f075c84b-37e6-4707-bf00-faf699e52b4f",
   "metadata": {},
   "outputs": [
    {
     "name": "stdout",
     "output_type": "stream",
     "text": [
      "[2, 4, 6, 8, 10, 12, 14, 16, 18, 20]\n"
     ]
    }
   ],
   "source": [
    "# 13. Create a list of even numbers from 1 to 20\n",
    "\n",
    "list_even = [i for i in range (1,21) if i%2==0]\n",
    "\n",
    "print(list_even)"
   ]
  },
  {
   "cell_type": "code",
   "execution_count": 25,
   "id": "41d4a7ab-31d4-46ac-b5c7-7d8435b8c4bf",
   "metadata": {},
   "outputs": [
    {
     "name": "stdout",
     "output_type": "stream",
     "text": [
      "[1, 3, 5, 7, 9, 11, 13, 15, 17, 19]\n"
     ]
    }
   ],
   "source": [
    "# 14. Create a list of odd numbers from 1 to 20\n",
    "\n",
    "list_odd = [i for i in range(1,21) if i%2!=0]\n",
    "print(list_odd)"
   ]
  },
  {
   "cell_type": "code",
   "execution_count": 26,
   "id": "ee694f73-7b94-4f19-be01-5ffe4da1f327",
   "metadata": {},
   "outputs": [
    {
     "data": {
      "text/plain": [
       "110"
      ]
     },
     "execution_count": 26,
     "metadata": {},
     "output_type": "execute_result"
    }
   ],
   "source": [
    "# 15. Find the sum of all elements in a list created in problem 13\n",
    "\n",
    "sum(list_even)"
   ]
  },
  {
   "cell_type": "code",
   "execution_count": 27,
   "id": "10f90683-bf55-4c48-9d39-9c2c65f4681d",
   "metadata": {},
   "outputs": [
    {
     "data": {
      "text/plain": [
       "20"
      ]
     },
     "execution_count": 27,
     "metadata": {},
     "output_type": "execute_result"
    }
   ],
   "source": [
    "# 16. Find the maximum value in the list in problem 13\n",
    "\n",
    "max(list_even)\n"
   ]
  },
  {
   "cell_type": "code",
   "execution_count": 28,
   "id": "3fb40f4f-7b4f-4ae5-8cbd-3a95d90ad00c",
   "metadata": {},
   "outputs": [
    {
     "data": {
      "text/plain": [
       "2"
      ]
     },
     "execution_count": 28,
     "metadata": {},
     "output_type": "execute_result"
    }
   ],
   "source": [
    "# 17 Find the minimum value in the list in problem 13\n",
    "\n",
    "min(list_even)"
   ]
  },
  {
   "cell_type": "code",
   "execution_count": 29,
   "id": "a05b46bc-882b-44f2-abc3-e11eda2c9880",
   "metadata": {},
   "outputs": [
    {
     "name": "stdout",
     "output_type": "stream",
     "text": [
      "[1, 4, 9, 16, 25, 36, 49, 64, 81, 100]\n"
     ]
    }
   ],
   "source": [
    "# 18. Create a list of squares of numbers from 1 to 10\n",
    "\n",
    "list_sq = [i**2 for i in range(1,11)]\n",
    "\n",
    "print(list_sq)"
   ]
  },
  {
   "cell_type": "code",
   "execution_count": 35,
   "id": "c80b4ced-bbb3-4775-8dfa-9aea2ac86252",
   "metadata": {},
   "outputs": [
    {
     "name": "stdout",
     "output_type": "stream",
     "text": [
      "[140, 31, 40, 86, 41]\n"
     ]
    }
   ],
   "source": [
    "# 19 Create a list of random numbers.\n",
    "\n",
    "import random\n",
    "\n",
    "list_random = []\n",
    "\n",
    "for i in range(1,6):\n",
    "    list_random.append(random.randint(1,200))\n",
    "\n",
    "print(list_random)"
   ]
  },
  {
   "cell_type": "code",
   "execution_count": 43,
   "id": "a0099fe2-b5fe-4529-8dc9-ad4f6871f40e",
   "metadata": {},
   "outputs": [
    {
     "name": "stdout",
     "output_type": "stream",
     "text": [
      "[1, 2, 3, 4, 5]\n"
     ]
    }
   ],
   "source": [
    "# 20 Remove duplicates from a list\n",
    "\n",
    "list4 = [1,2,2,3,4,4,3,5]\n",
    "\n",
    "list_no_duplicates = [i for n,i in list(enumerate(list4)) if i not in list4[:n]]\n",
    "\n",
    "print(list_no_duplicates)"
   ]
  },
  {
   "cell_type": "code",
   "execution_count": 46,
   "id": "e2084754-656c-4250-bd88-471b37744bf6",
   "metadata": {},
   "outputs": [
    {
     "data": {
      "text/plain": [
       "[2, 2, 3, 5]"
      ]
     },
     "execution_count": 46,
     "metadata": {},
     "output_type": "execute_result"
    }
   ],
   "source": [
    "# 21. Find the common elements between two lists\n",
    "\n",
    "list5 = [2,2,3,5,6,7]\n",
    "\n",
    "# finding common elements between list 4 and list5\n",
    "\n",
    "list(filter(lambda x : x in list4, list5))"
   ]
  },
  {
   "cell_type": "code",
   "execution_count": 47,
   "id": "5c4967d0-9fdc-46e8-b2b3-c6b752976e8f",
   "metadata": {},
   "outputs": [
    {
     "data": {
      "text/plain": [
       "[1, 4, 4]"
      ]
     },
     "execution_count": 47,
     "metadata": {},
     "output_type": "execute_result"
    }
   ],
   "source": [
    "# 22. Find the difference between two lists\n",
    "\n",
    "# Difference between two lists means elements present in first but not in second\n",
    "\n",
    "# for difference between list 4 and 5\n",
    "\n",
    "list(filter(lambda x: x not in list5, list4))"
   ]
  },
  {
   "cell_type": "code",
   "execution_count": 49,
   "id": "ecfb5053-ec65-4eec-92bf-7822edb30ad8",
   "metadata": {},
   "outputs": [
    {
     "name": "stdout",
     "output_type": "stream",
     "text": [
      "[1, 2, 2, 3, 4, 4, 3, 5, 2, 2, 3, 5, 6, 7]\n"
     ]
    }
   ],
   "source": [
    "# 23. Merge two list\n",
    "# we will merge list 4 and list 5\n",
    "\n",
    "merged_list = list4+list5\n",
    "\n",
    "print(merged_list)"
   ]
  },
  {
   "cell_type": "code",
   "execution_count": 56,
   "id": "a7716fc8-5dca-473d-878d-260ffe7e7ae5",
   "metadata": {},
   "outputs": [
    {
     "data": {
      "text/plain": [
       "[4, 8, 10, 6, 14]"
      ]
     },
     "execution_count": 56,
     "metadata": {},
     "output_type": "execute_result"
    }
   ],
   "source": [
    "# 24. Multiply all elements in list by 2\n",
    "\n",
    "list6 = [2,4,5,3,7]\n",
    "\n",
    "list_mul_2 = list(map(lambda x:x*2 , list6))\n",
    "\n",
    "list_mul_2"
   ]
  },
  {
   "cell_type": "code",
   "execution_count": 57,
   "id": "63f63031-b024-4d0a-a5bb-051ab19b8711",
   "metadata": {},
   "outputs": [
    {
     "name": "stdout",
     "output_type": "stream",
     "text": [
      "[2, 2, 4, 4, 2, 2, 6]\n"
     ]
    }
   ],
   "source": [
    "# 25. Filter out all even numbers from a list\n",
    "# taking merged list in problem 23\n",
    "\n",
    "list_filter_even = list(filter(lambda x: x%2==0, merged_list))\n",
    "print(list_filter_even)"
   ]
  },
  {
   "cell_type": "code",
   "execution_count": 59,
   "id": "6827871c-0695-44e5-a099-ae6cf4dd40a0",
   "metadata": {},
   "outputs": [
    {
     "name": "stdout",
     "output_type": "stream",
     "text": [
      "[2, 34, 43, 1, 2, 89]\n"
     ]
    }
   ],
   "source": [
    "# 26. Convert a list of strings into a list of integers\n",
    "\n",
    "list_str = ['2', '34', '43', '1', '2', '89']\n",
    "\n",
    "list_int = list(map(lambda x : int(x), list_str))\n",
    "\n",
    "print(list_int)"
   ]
  },
  {
   "cell_type": "code",
   "execution_count": 60,
   "id": "fd60cdda-0b37-4b88-a45d-6be47fa0d98f",
   "metadata": {},
   "outputs": [
    {
     "name": "stdout",
     "output_type": "stream",
     "text": [
      "['2', '34', '43', '1', '2', '89']\n"
     ]
    }
   ],
   "source": [
    "# 27. Convert a list of integers to a list of strings\n",
    "\n",
    "# using the output of the above problem 26\n",
    "\n",
    "list_str_from_int = list(map(lambda x: str(x), list_int))\n",
    "\n",
    "print(list_str_from_int)"
   ]
  },
  {
   "cell_type": "code",
   "execution_count": 61,
   "id": "93a4ebf4-f9c2-4883-93b2-9eafde4a54c5",
   "metadata": {},
   "outputs": [
    {
     "name": "stdout",
     "output_type": "stream",
     "text": [
      "[1, 2, 3, 4, 5, 6, 7, 8, 9]\n"
     ]
    }
   ],
   "source": [
    "# 28. Flatten a nested list\n",
    "\n",
    "# declaring a list\n",
    "\n",
    "nested_list = [[1,2,3], [4,5,6], [7,8,9]]\n",
    "\n",
    "# flattening the list\n",
    "\n",
    "flatten_list = []\n",
    "\n",
    "for i in nested_list:\n",
    "\n",
    "    flatten_list.extend(i)\n",
    "\n",
    "print(flatten_list)"
   ]
  },
  {
   "cell_type": "code",
   "execution_count": 63,
   "id": "35ded4ce-691e-4e32-8755-026dd0c3bcd7",
   "metadata": {},
   "outputs": [
    {
     "name": "stdout",
     "output_type": "stream",
     "text": [
      "[0, 1, 1, 2, 3, 5, 8, 13, 21, 34]\n"
     ]
    }
   ],
   "source": [
    "# 29. Create a list of first 10 fibonacci numbers\n",
    "\n",
    "''' Fibonacci number series is sequence of numbers where each term is the sum\n",
    "of previous two numbers'''\n",
    "\n",
    "fib_list= []\n",
    "\n",
    "a=0\n",
    "b=1\n",
    "j=0\n",
    "while j < 10:\n",
    "    fib_list.append(a)\n",
    "    c=b+a\n",
    "    a=b\n",
    "    b=c\n",
    "    j+=1\n",
    "\n",
    "print(fib_list)"
   ]
  },
  {
   "cell_type": "code",
   "execution_count": 69,
   "id": "47dc0b49-80a5-4a75-8c91-04b9f15a0b9b",
   "metadata": {},
   "outputs": [
    {
     "name": "stdout",
     "output_type": "stream",
     "text": [
      "The list is sorted\n"
     ]
    }
   ],
   "source": [
    "# 30. Check if a list is sorted\n",
    "\n",
    "list7 = [4,3,2,1]\n",
    "\n",
    "if list7 == sorted(list7) or list7 == sorted(list7, reverse=True):\n",
    "    print(\"The list is sorted\")\n",
    "else:\n",
    "    print(\"The list is unsorted\")"
   ]
  },
  {
   "cell_type": "code",
   "execution_count": 72,
   "id": "1e0794f2-5145-422a-a128-50710bf306c2",
   "metadata": {},
   "outputs": [
    {
     "name": "stdin",
     "output_type": "stream",
     "text": [
      "Enter the value of n:  2\n"
     ]
    },
    {
     "name": "stdout",
     "output_type": "stream",
     "text": [
      "[3, 5, 7, 8, 10, 1, 2]\n"
     ]
    }
   ],
   "source": [
    "# 31. Rotate a list to the left by n positions\n",
    "\n",
    "# taking n as input\n",
    "\n",
    "n= int(input(\"Enter the value of n: \"))\n",
    "\n",
    "list8 = [1,2,3,5,7,8,10]\n",
    "\n",
    "left_rotate = list8[n:]+list8[:n]\n",
    "\n",
    "print(left_rotate)"
   ]
  },
  {
   "cell_type": "code",
   "execution_count": 77,
   "id": "179964d5-c77c-40b9-ba3f-9f335e2ba0f9",
   "metadata": {},
   "outputs": [
    {
     "name": "stdin",
     "output_type": "stream",
     "text": [
      "Enter the n1 value: 2\n"
     ]
    },
    {
     "name": "stdout",
     "output_type": "stream",
     "text": [
      "[4, 3, 1, 2, 3, 5]\n"
     ]
    }
   ],
   "source": [
    "# 32. Rotate a list to the right by n positions\n",
    "\n",
    "# taking n1 as input\n",
    "\n",
    "n1 = int(input(\"Enter the n1 value:\"))\n",
    "\n",
    "list9= [1,2,3,5,4,3]\n",
    "\n",
    "right_rotate = list9[(0-n):]+list9[:(0-n)]\n",
    "\n",
    "print(right_rotate)"
   ]
  },
  {
   "cell_type": "code",
   "execution_count": 102,
   "id": "fcb2169a-b860-4ee0-a785-578503485cf3",
   "metadata": {},
   "outputs": [
    {
     "name": "stdout",
     "output_type": "stream",
     "text": [
      "[2, 3, 5, 7, 11, 13, 17, 19, 23, 29, 31, 37, 41, 43, 47]\n"
     ]
    }
   ],
   "source": [
    "# 33. Create a list of prime number upto 50\n",
    "\n",
    "prime_list=[]\n",
    "\n",
    "for i in range(2,51):\n",
    "    for j in range(2,i):\n",
    "        if i%j ==0:\n",
    "            break\n",
    "            \n",
    "    else:\n",
    "        prime_list.append(i)\n",
    "\n",
    "print(prime_list)"
   ]
  },
  {
   "cell_type": "code",
   "execution_count": 105,
   "id": "4097e042-4ff4-4937-94a6-0b6cb3a7e46c",
   "metadata": {},
   "outputs": [
    {
     "name": "stdin",
     "output_type": "stream",
     "text": [
      "Enter the chunk size: 3\n"
     ]
    },
    {
     "name": "stdout",
     "output_type": "stream",
     "text": [
      "[1, 2, 3]\n",
      "[4, 5, 6]\n",
      "[7, 8, 9]\n"
     ]
    }
   ],
   "source": [
    "# 34. Split a list into chunks of size n\n",
    "\n",
    "# taking input n\n",
    "\n",
    "n2= int(input(\"Enter the chunk size:\"))\n",
    "\n",
    "list10 = [1,2,3,4,5,6,7,8,9]\n",
    "\n",
    "start = 0\n",
    "end =len(list10)\n",
    "\n",
    "# checking if it can be modified\n",
    "if len(list10)%n2==0:\n",
    "\n",
    "    for i in range (start, end, n2):\n",
    "        x=i\n",
    "        print(list10[x:x+n2])\n",
    "\n",
    "else:\n",
    "    print(\"List cannot be divided into given chunks\")"
   ]
  },
  {
   "cell_type": "code",
   "execution_count": 107,
   "id": "271d6e75-9810-473d-b9bf-b5784ee3c365",
   "metadata": {},
   "outputs": [
    {
     "name": "stdout",
     "output_type": "stream",
     "text": [
      "The second largest number in the list is = 456\n"
     ]
    }
   ],
   "source": [
    "# 35. Find the second largest number in a list \n",
    "\n",
    "list11= [22,12,456,232,900]\n",
    "\n",
    "list_sort= sorted(list11, reverse=True)\n",
    "\n",
    "print(f\"The second largest number in the list is = {list_sort[1]}\")"
   ]
  },
  {
   "cell_type": "code",
   "execution_count": 108,
   "id": "ce0606f8-ea21-40d5-9d22-7a6a58466810",
   "metadata": {},
   "outputs": [
    {
     "name": "stdout",
     "output_type": "stream",
     "text": [
      "[4, 9, 16, 25, 36]\n"
     ]
    }
   ],
   "source": [
    "# 36. Replace every element in a list with its square\n",
    "\n",
    "list12 = [2,3,4,5,6]\n",
    "\n",
    "# replacing with a square\n",
    "\n",
    "list12 = list(map(lambda x: x**2, list12))\n",
    "\n",
    "print(list12)"
   ]
  },
  {
   "cell_type": "code",
   "execution_count": 109,
   "id": "a45c1fa8-6293-4a71-9b3f-30ccb0b58974",
   "metadata": {},
   "outputs": [
    {
     "data": {
      "text/plain": [
       "{0: 'hello', 1: 'hi', 2: 'good', 3: 'morning'}"
      ]
     },
     "execution_count": 109,
     "metadata": {},
     "output_type": "execute_result"
    }
   ],
   "source": [
    "''' 37. Convert a list to a dictionary where list elements become keys and \n",
    "    their indices becomes values'''\n",
    "\n",
    "list13 = ['hello', 'hi', 'good', 'morning']\n",
    "\n",
    "dict_list13 = {n:i for n,i in enumerate(list13)}\n",
    "\n",
    "dict_list13"
   ]
  },
  {
   "cell_type": "code",
   "execution_count": 115,
   "id": "ac13ac89-a4c1-43f1-a7de-2e972762a5bd",
   "metadata": {},
   "outputs": [
    {
     "name": "stdout",
     "output_type": "stream",
     "text": [
      "['e', 'a', 'd', 'g', 'b', 'c']\n"
     ]
    }
   ],
   "source": [
    "# 38 Shuffle the elements of a list randomly\n",
    "\n",
    "list14 = ['a', 'b', 'd', 'c', 'e','g']\n",
    "\n",
    "random.shuffle(list14)\n",
    "\n",
    "print(list14)"
   ]
  },
  {
   "cell_type": "code",
   "execution_count": 132,
   "id": "f33895f7-c4a5-44fb-8135-d6b238f91557",
   "metadata": {},
   "outputs": [
    {
     "name": "stdout",
     "output_type": "stream",
     "text": [
      "[1, 2, 6, 24, 120, 720, 5040, 40320, 362880, 3628800]\n"
     ]
    }
   ],
   "source": [
    "# 39. Create a list of the first 10 factorial numbers.\n",
    "\n",
    "import math\n",
    "\n",
    "list_fact= [math.factorial(i) for i in range (1,11)]\n",
    "\n",
    "print(list_fact)"
   ]
  },
  {
   "cell_type": "code",
   "execution_count": 134,
   "id": "51482acf-cf7f-4d4a-b9df-5bc78f65bdd0",
   "metadata": {},
   "outputs": [
    {
     "name": "stdout",
     "output_type": "stream",
     "text": [
      "No element in common\n"
     ]
    }
   ],
   "source": [
    "# 40  Check if two list have atleast one element in common\n",
    "\n",
    "list15 = [4,6,7]\n",
    "\n",
    "list16= [2,3,5,8,9]\n",
    "\n",
    "# finding common elements between list 4 and list5\n",
    "\n",
    "if len(list(filter(lambda x : x in list15, list16)))>=1:\n",
    "\n",
    "    print(\"Yes the two list have atleast one element in common\")\n",
    "\n",
    "else:\n",
    "    print(\"No element in common\")\n",
    "\n"
   ]
  },
  {
   "cell_type": "code",
   "execution_count": 135,
   "id": "ea229ecb-8a9b-471c-b388-d3922ab65e6c",
   "metadata": {},
   "outputs": [
    {
     "data": {
      "text/plain": [
       "[]"
      ]
     },
     "execution_count": 135,
     "metadata": {},
     "output_type": "execute_result"
    }
   ],
   "source": [
    "# 41 Remove all elements from a list\n",
    "\n",
    "list17 = [3,56,676,687898]\n",
    "\n",
    "# clearing the elements\n",
    "\n",
    "list17.clear()\n",
    "\n",
    "list17"
   ]
  },
  {
   "cell_type": "code",
   "execution_count": 136,
   "id": "49d7078f-aaeb-4d24-aa17-e4f257a52efa",
   "metadata": {},
   "outputs": [
    {
     "name": "stdout",
     "output_type": "stream",
     "text": [
      "[0, 2, 3, 4, 0]\n"
     ]
    }
   ],
   "source": [
    "# 42 Replace negetive numbers in a list with 0\n",
    "\n",
    "list18 = [-1,2,3,4,-56]\n",
    "\n",
    "list_0_for_negetive= list(map(lambda x : 0 if x<0 else x, list18))\n",
    "\n",
    "print(list_0_for_negetive)"
   ]
  },
  {
   "cell_type": "code",
   "execution_count": 137,
   "id": "9279e09b-d71e-48ef-8739-2cf8f23d22e7",
   "metadata": {},
   "outputs": [
    {
     "name": "stdout",
     "output_type": "stream",
     "text": [
      "['Jai', 'Shree', 'Ram']\n"
     ]
    }
   ],
   "source": [
    "# 43 Convert a string into a list of words\n",
    "\n",
    "String_for_conv = 'Jai Shree Ram'\n",
    "\n",
    "list_of_word = String_for_conv.split()\n",
    "\n",
    "print(list_of_word)"
   ]
  },
  {
   "cell_type": "code",
   "execution_count": 138,
   "id": "952b8c6c-fb93-456d-97f0-ebe7a0494950",
   "metadata": {},
   "outputs": [
    {
     "name": "stdout",
     "output_type": "stream",
     "text": [
      "Jai Shree Ram\n"
     ]
    }
   ],
   "source": [
    "# 44 Convert a list of words into string\n",
    "\n",
    "'''We will use the above output for the same'''\n",
    "\n",
    "str_from_list_of_word =' '.join(list_of_word)\n",
    "\n",
    "print(str_from_list_of_word)"
   ]
  },
  {
   "cell_type": "code",
   "execution_count": 141,
   "id": "fcef6cf7-da5e-46dd-bc28-ef88f916b53f",
   "metadata": {},
   "outputs": [
    {
     "name": "stdin",
     "output_type": "stream",
     "text": [
      "Enter the value of n 3\n"
     ]
    },
    {
     "data": {
      "text/plain": [
       "[2, 4, 8]"
      ]
     },
     "execution_count": 141,
     "metadata": {},
     "output_type": "execute_result"
    }
   ],
   "source": [
    "# 45 Create a list of the first n powers of 2\n",
    "\n",
    "n_for_power = int(input(\"Enter the value of n\"))\n",
    "\n",
    "# generating list\n",
    "\n",
    "list_power_2 = [2**i for i in range(1,n_for_power+1)]\n",
    "\n",
    "list_power_2"
   ]
  },
  {
   "cell_type": "code",
   "execution_count": 144,
   "id": "2af55260-0f45-47c4-b1c2-6cebc8d499c5",
   "metadata": {},
   "outputs": [
    {
     "data": {
      "text/plain": [
       "'Krishna'"
      ]
     },
     "execution_count": 144,
     "metadata": {},
     "output_type": "execute_result"
    }
   ],
   "source": [
    "# 46 Find the longest string in a list of strings\n",
    "\n",
    "list20 = ['Jai', 'Shree', 'Ramji', 'Krishna']\n",
    "\n",
    "longest_str = max(list20, key=lambda x:len(x))\n",
    "\n",
    "longest_str"
   ]
  },
  {
   "cell_type": "code",
   "execution_count": 145,
   "id": "e3243b10-b9df-4631-9730-4fa1dc8f26fc",
   "metadata": {},
   "outputs": [
    {
     "data": {
      "text/plain": [
       "'Jai'"
      ]
     },
     "execution_count": 145,
     "metadata": {},
     "output_type": "execute_result"
    }
   ],
   "source": [
    "# 47 Find the shortest string in a list of strings\n",
    "\n",
    "# using the above string\n",
    "\n",
    "shortest_str = min(list20, key=lambda x: len(x))\n",
    "\n",
    "shortest_str"
   ]
  },
  {
   "cell_type": "code",
   "execution_count": 3,
   "id": "7a778a06-1b05-4ebd-8bb6-39ab7f7a5eb1",
   "metadata": {},
   "outputs": [
    {
     "name": "stdin",
     "output_type": "stream",
     "text": [
      "Enter the value of n 10\n"
     ]
    },
    {
     "name": "stdout",
     "output_type": "stream",
     "text": [
      "[1, 3, 6, 10, 15, 21, 28, 36, 45, 55]\n"
     ]
    }
   ],
   "source": [
    "# 48 Create a list of first n triangular numbers\n",
    "\n",
    "'''triangular numbers are represented by n(n+1)/2'''\n",
    "n_tr = int(input(\"Enter the value of n\"))\n",
    "\n",
    "# generating the list\n",
    "list_triangle_num = [int(i*(i+1)/2) for i in range (1,n_tr+1)]\n",
    "\n",
    "print(list_triangle_num)"
   ]
  },
  {
   "cell_type": "code",
   "execution_count": 10,
   "id": "8b6c6c7a-a1c5-4e52-be24-f0fedbaf96bc",
   "metadata": {},
   "outputs": [
    {
     "name": "stdout",
     "output_type": "stream",
     "text": [
      "No it is not subsequence\n"
     ]
    }
   ],
   "source": [
    "# 49. Check if a list contains another list as a subsequence\n",
    "\n",
    "list21= [1,3,5,9]\n",
    "\n",
    "list22=[7,8]\n",
    "\n",
    "if len(list21)>len(list22):\n",
    "    if all(x in list21 for x in list22):\n",
    "        print(\"Yes second list is subsequence of the first list.\")\n",
    "    else:\n",
    "        print(\"No it is not subsequence\")\n",
    "else:\n",
    "    if all(x in list22 for x in list21):\n",
    "        print(\"Yes the first list is subsequence of the second list\")\n",
    "    else:\n",
    "        print(\"No it is not subsequence\")"
   ]
  },
  {
   "cell_type": "code",
   "execution_count": 11,
   "id": "c71526b9-c81a-414b-9383-cd3797cf6e30",
   "metadata": {},
   "outputs": [
    {
     "name": "stdin",
     "output_type": "stream",
     "text": [
      "Enter the first index:  3\n",
      "Enter the second index:  2\n"
     ]
    },
    {
     "name": "stdout",
     "output_type": "stream",
     "text": [
      "[1, 5, 7, 6, 9, 0]\n"
     ]
    }
   ],
   "source": [
    "# 50. Swap two elements in a list by their indices\n",
    "\n",
    "index1= int(input(\"Enter the first index: \"))\n",
    "index2= int(input(\"Enter the second index: \"))\n",
    "\n",
    "list23 = [1,5,6,7,9,0]\n",
    "\n",
    "list23[index1], list23[index2] = list23[index2], list23[index1]\n",
    "\n",
    "print(list23)"
   ]
  },
  {
   "cell_type": "markdown",
   "id": "db468024-f837-436e-8c5e-1c09338d4456",
   "metadata": {},
   "source": [
    "# TUPLE BASED PRACTICE PROBLEM"
   ]
  },
  {
   "cell_type": "code",
   "execution_count": 13,
   "id": "b1cf3296-e1e1-4a85-bac5-aff82bda0de8",
   "metadata": {},
   "outputs": [
    {
     "name": "stdout",
     "output_type": "stream",
     "text": [
      "(1, 2, 3, 4, 5)\n"
     ]
    }
   ],
   "source": [
    "# 1. Create a tuple with integer from 1 to 5\n",
    "\n",
    "t1 = tuple([x for x in range(1,6)])\n",
    "\n",
    "print(t1)"
   ]
  },
  {
   "cell_type": "code",
   "execution_count": 14,
   "id": "8a8a6fb8-0340-4abd-bca0-710d5561a54e",
   "metadata": {},
   "outputs": [
    {
     "name": "stdout",
     "output_type": "stream",
     "text": [
      "The third element of the tuple is = 3\n"
     ]
    }
   ],
   "source": [
    "# 2. Access the third element of a tuple\n",
    "\n",
    "'''Taking the above tuple for reference'''\n",
    "\n",
    "print(\"The third element of the tuple is =\", t1[2])"
   ]
  },
  {
   "cell_type": "code",
   "execution_count": 15,
   "id": "5150a527-36a5-4b99-876e-066c40888bc5",
   "metadata": {},
   "outputs": [
    {
     "name": "stdout",
     "output_type": "stream",
     "text": [
      "The length of the tuple is =  5\n"
     ]
    }
   ],
   "source": [
    "# 3. Find the length of a tuple without using the len function\n",
    "\n",
    "'''Finding the length of the tuple created in problem1'''\n",
    "\n",
    "length_tuple=0\n",
    "\n",
    "for i in t1:\n",
    "    length_tuple += 1\n",
    "\n",
    "print(\"The length of the tuple is = \", length_tuple)"
   ]
  },
  {
   "cell_type": "code",
   "execution_count": 16,
   "id": "0d0fc1a1-2e94-4743-ac2b-be07fffa3bee",
   "metadata": {},
   "outputs": [
    {
     "data": {
      "text/plain": [
       "3"
      ]
     },
     "execution_count": 16,
     "metadata": {},
     "output_type": "execute_result"
    }
   ],
   "source": [
    "# 4. Count the occurences of an element in a tuple\n",
    "\n",
    "t2= (2,2,4,5,7,9,2)\n",
    "\n",
    "# counting the no. of occurences of 2\n",
    "t2.count(2)"
   ]
  },
  {
   "cell_type": "code",
   "execution_count": 17,
   "id": "7394568e-53bb-4185-988c-10892beeede0",
   "metadata": {},
   "outputs": [
    {
     "data": {
      "text/plain": [
       "2"
      ]
     },
     "execution_count": 17,
     "metadata": {},
     "output_type": "execute_result"
    }
   ],
   "source": [
    "# 5. Find the index of the first occurences of an element in a tuple\n",
    "\n",
    "'''Finding the first occurence of element 4 in tuple declared in problem 4'''\n",
    "\n",
    "t2.index(4)"
   ]
  },
  {
   "cell_type": "code",
   "execution_count": 18,
   "id": "8d15d7de-5a29-44e3-8dbf-e0e8ff41bbe8",
   "metadata": {},
   "outputs": [
    {
     "name": "stdout",
     "output_type": "stream",
     "text": [
      "Yes it exists\n"
     ]
    }
   ],
   "source": [
    "# 6. Check if an element exists in a tuple\n",
    "\n",
    "'''Checking if 5 exists in tuple declared in problem 4'''\n",
    "\n",
    "if 5 in t2:\n",
    "    print(\"Yes it exists\")\n",
    "\n",
    "else:\n",
    "    print(\"No it doesn't\")"
   ]
  },
  {
   "cell_type": "code",
   "execution_count": 19,
   "id": "f1452195-03a7-4d86-b6bd-e9dfcc4a873c",
   "metadata": {},
   "outputs": [
    {
     "name": "stdout",
     "output_type": "stream",
     "text": [
      "[2, 2, 4, 5, 7, 9, 2]\n"
     ]
    }
   ],
   "source": [
    "# 7. Convert a tuple to a list\n",
    "\n",
    "'''Converting the tuple in problem 4 into list'''\n",
    "\n",
    "list_from_tuple = list(t2)\n",
    "\n",
    "print(list_from_tuple)"
   ]
  },
  {
   "cell_type": "code",
   "execution_count": 20,
   "id": "afc38e68-bc10-41fe-86b4-917467adfa6f",
   "metadata": {},
   "outputs": [
    {
     "name": "stdout",
     "output_type": "stream",
     "text": [
      "(2, 2, 4, 5, 7, 9, 2)\n"
     ]
    }
   ],
   "source": [
    "# 8. Convert a list to a tuple\n",
    "\n",
    "'''Converting output of problem 7 into tuple'''\n",
    "\n",
    "tuple_from_list = tuple(list_from_tuple)\n",
    "\n",
    "print(tuple_from_list)"
   ]
  },
  {
   "cell_type": "code",
   "execution_count": 21,
   "id": "dc7bbcc2-a9c7-4caf-8010-c665fee21bd2",
   "metadata": {},
   "outputs": [
    {
     "name": "stdout",
     "output_type": "stream",
     "text": [
      "Mango\n",
      "Potato\n",
      "5 Star\n"
     ]
    }
   ],
   "source": [
    "# 9. Unpack the elements of a tuple into variables\n",
    "\n",
    "tuple2 = ('Mango', 'Potato', '5 Star')\n",
    "\n",
    "(fruits, vegetables, chocolates) = tuple2\n",
    "\n",
    "print(fruits)\n",
    "print(vegetables)\n",
    "print(chocolates)"
   ]
  },
  {
   "cell_type": "code",
   "execution_count": 22,
   "id": "2422e3a8-84ab-4b3d-b1ae-624d8f00805f",
   "metadata": {},
   "outputs": [
    {
     "name": "stdout",
     "output_type": "stream",
     "text": [
      "(2, 4, 6, 8, 10)\n"
     ]
    }
   ],
   "source": [
    "# 10. Create a tuple of even numbers from 1 to 10\n",
    "\n",
    "tuple_even = tuple([x for x in range(1,11) if x%2==0])\n",
    "\n",
    "print(tuple_even)"
   ]
  },
  {
   "cell_type": "code",
   "execution_count": 23,
   "id": "4232043a-dc3a-43b9-9df2-55fe93bf83c6",
   "metadata": {},
   "outputs": [
    {
     "name": "stdout",
     "output_type": "stream",
     "text": [
      "(1, 3, 5, 7, 9)\n"
     ]
    }
   ],
   "source": [
    "# 11. Create a tuple of odd numbers from 1 to 10\n",
    "\n",
    "tuple_odd = tuple([x for x in range(1,11) if x%2!=0])\n",
    "\n",
    "print(tuple_odd)"
   ]
  },
  {
   "cell_type": "code",
   "execution_count": 24,
   "id": "f76ad054-f530-4159-b4bf-0b57a32e1c09",
   "metadata": {},
   "outputs": [
    {
     "data": {
      "text/plain": [
       "(2, 4, 6, 8, 10, 1, 3, 5, 7, 9)"
      ]
     },
     "execution_count": 24,
     "metadata": {},
     "output_type": "execute_result"
    }
   ],
   "source": [
    "# 12. Concatenate two tuples\n",
    "\n",
    "'''Concatenating tuple_even and tuple_odd'''\n",
    "\n",
    "tuple_even + tuple_odd"
   ]
  },
  {
   "cell_type": "code",
   "execution_count": 25,
   "id": "042d671e-13d9-41f5-9398-fe8d1c5785bf",
   "metadata": {},
   "outputs": [
    {
     "data": {
      "text/plain": [
       "(2, 4, 6, 8, 10, 2, 4, 6, 8, 10, 2, 4, 6, 8, 10)"
      ]
     },
     "execution_count": 25,
     "metadata": {},
     "output_type": "execute_result"
    }
   ],
   "source": [
    "# 13. Repeat a tuple three times\n",
    "\n",
    "'''Repeating tuple_even 3 times'''\n",
    "\n",
    "tuple_even*3"
   ]
  },
  {
   "cell_type": "code",
   "execution_count": 30,
   "id": "d7c60583-c828-4702-be64-bdedc9cf9eab",
   "metadata": {},
   "outputs": [
    {
     "name": "stdout",
     "output_type": "stream",
     "text": [
      "It is not empty\n"
     ]
    }
   ],
   "source": [
    "# 14. Check if a tuple is empty\n",
    "\n",
    "t3 = (1,2,3)\n",
    "\n",
    "if len(t3)==0:\n",
    "    print(\"It is empty tuple\")\n",
    "\n",
    "else:\n",
    "    print(\"It is not empty\")\n"
   ]
  },
  {
   "cell_type": "code",
   "execution_count": 32,
   "id": "56e0f56c-012a-4986-82f5-b98e3784d257",
   "metadata": {},
   "outputs": [
    {
     "name": "stdout",
     "output_type": "stream",
     "text": [
      "((1, 2, 3, 4), (5, 6, 7, 8))\n"
     ]
    }
   ],
   "source": [
    "# 15. Create a nested tuple\n",
    "\n",
    "nested_tuple = ((1,2,3,4), (5,6,7,8))\n",
    "\n",
    "print(nested_tuple)"
   ]
  },
  {
   "cell_type": "code",
   "execution_count": 33,
   "id": "2bfe4d5c-6a0d-4a03-b61c-71456a67b8ac",
   "metadata": {},
   "outputs": [
    {
     "data": {
      "text/plain": [
       "1"
      ]
     },
     "execution_count": 33,
     "metadata": {},
     "output_type": "execute_result"
    }
   ],
   "source": [
    "# 16. Access the first element of the nested tuple\n",
    "\n",
    "nested_tuple[0][0]"
   ]
  },
  {
   "cell_type": "code",
   "execution_count": 36,
   "id": "81abc328-7a87-40ef-aeb1-fa4454e9dd73",
   "metadata": {},
   "outputs": [
    {
     "name": "stdout",
     "output_type": "stream",
     "text": [
      "('Shri',)\n"
     ]
    }
   ],
   "source": [
    "# 17. Create a tuple with a single element\n",
    "\n",
    "t4 = ('Shri',)\n",
    "\n",
    "print(t4)"
   ]
  },
  {
   "cell_type": "code",
   "execution_count": 10,
   "id": "e511501a-0a8b-4baf-81c5-20db0c2fba93",
   "metadata": {},
   "outputs": [
    {
     "name": "stdout",
     "output_type": "stream",
     "text": [
      "First tuple is greater than second one\n"
     ]
    }
   ],
   "source": [
    "# 18. Compare two tuples\n",
    "\n",
    "tuple_first = (2,2,3)\n",
    "tuple_second = (1,2,3)\n",
    "\n",
    "if tuple_first > tuple_second:\n",
    "    print(\"First tuple is greater than second one\")\n",
    "\n",
    "elif tuple_first < tuple_second:\n",
    "    print(\"Second tuple is greater than first one\")\n",
    "\n",
    "else:\n",
    "    print(\"Both tuples are equal\")"
   ]
  },
  {
   "cell_type": "code",
   "execution_count": 40,
   "id": "c0173770-258c-47d8-9cd4-995d32709b4c",
   "metadata": {},
   "outputs": [
    {
     "name": "stdout",
     "output_type": "stream",
     "text": [
      "(3, 5, 6, 7, 89)\n"
     ]
    },
    {
     "ename": "NameError",
     "evalue": "name 't5' is not defined",
     "output_type": "error",
     "traceback": [
      "\u001b[0;31m---------------------------------------------------------------------------\u001b[0m",
      "\u001b[0;31mNameError\u001b[0m                                 Traceback (most recent call last)",
      "Cell \u001b[0;32mIn[40], line 9\u001b[0m\n\u001b[1;32m      5\u001b[0m \u001b[38;5;28mprint\u001b[39m(t5)\n\u001b[1;32m      7\u001b[0m \u001b[38;5;28;01mdel\u001b[39;00m t5\n\u001b[0;32m----> 9\u001b[0m \u001b[43mt5\u001b[49m\n",
      "\u001b[0;31mNameError\u001b[0m: name 't5' is not defined"
     ]
    }
   ],
   "source": [
    "# 19. Delete a tuple\n",
    "\n",
    "t5= (3,5,6,7,89)\n",
    "\n",
    "print(t5)\n",
    "\n",
    "del t5\n",
    "\n",
    "t5"
   ]
  },
  {
   "cell_type": "code",
   "execution_count": 41,
   "id": "01ae68af-b91c-47fc-bf44-da508b8d6978",
   "metadata": {},
   "outputs": [
    {
     "data": {
      "text/plain": [
       "(6, 7, 33)"
      ]
     },
     "execution_count": 41,
     "metadata": {},
     "output_type": "execute_result"
    }
   ],
   "source": [
    "# 20. Slice a tuple\n",
    "\n",
    "t7 = (4,5,6,7,33,466,899)\n",
    "\n",
    "t7[2:5]"
   ]
  },
  {
   "cell_type": "code",
   "execution_count": 42,
   "id": "ad6c862c-f8a2-4260-9e85-db0f70fecb20",
   "metadata": {},
   "outputs": [
    {
     "data": {
      "text/plain": [
       "899"
      ]
     },
     "execution_count": 42,
     "metadata": {},
     "output_type": "execute_result"
    }
   ],
   "source": [
    "# 21. Find maximum value in a tuple\n",
    "\n",
    "'''For this purpose we will use the tuple declared in problem 20'''\n",
    "\n",
    "max(t7)"
   ]
  },
  {
   "cell_type": "code",
   "execution_count": 45,
   "id": "ea0a59cf-eee6-40f4-8132-7dca3bbf16ca",
   "metadata": {},
   "outputs": [
    {
     "data": {
      "text/plain": [
       "4"
      ]
     },
     "execution_count": 45,
     "metadata": {},
     "output_type": "execute_result"
    }
   ],
   "source": [
    "# 22. Find minimum value in a tuple\n",
    "\n",
    "'''For this purpose we will use the tuple declared in problem 20'''\n",
    "\n",
    "min(t7)"
   ]
  },
  {
   "cell_type": "code",
   "execution_count": 47,
   "id": "d807cdcc-4974-4b1b-9e04-e683553b2e47",
   "metadata": {},
   "outputs": [
    {
     "name": "stdout",
     "output_type": "stream",
     "text": [
      "('p', 'w', 's', 'k', 'i', 'l', 'l', 's')\n"
     ]
    }
   ],
   "source": [
    "# 23. Convert a string into tuple of characters\n",
    "\n",
    "'''using string 'pwskills' as input'''\n",
    "\n",
    "tuple_from_str = tuple('pwskills')\n",
    "\n",
    "print(tuple_from_str)"
   ]
  },
  {
   "cell_type": "code",
   "execution_count": 50,
   "id": "52b95887-4cba-4c21-8a9f-535a53aa602b",
   "metadata": {},
   "outputs": [
    {
     "name": "stdout",
     "output_type": "stream",
     "text": [
      "pwskills\n"
     ]
    }
   ],
   "source": [
    "# 24. Convert a tuple of characters to a string\n",
    "\n",
    "'''Using output of problem 23'''\n",
    "\n",
    "str_from_tuple = ''.join(tuple_from_str)\n",
    "\n",
    "print(str_from_tuple)"
   ]
  },
  {
   "cell_type": "code",
   "execution_count": 52,
   "id": "45a2781d-a996-43a5-a5aa-b02c935dabec",
   "metadata": {},
   "outputs": [
    {
     "name": "stdout",
     "output_type": "stream",
     "text": [
      "(2, 23.5, True, (5+6j), 'Hello', [7, 8, 'Hi'], ('Show', 'how'), {3, 4, 6}, {'key': 'value'})\n"
     ]
    }
   ],
   "source": [
    "# 25. Create a tuple from multiple data types\n",
    "\n",
    "t8 = (2, 23.5, True, 5+6j, 'Hello', [7,8, 'Hi'], ('Show', 'how'), {3,4,6}, {'key':'value'})\n",
    "\n",
    "print(t8)"
   ]
  },
  {
   "cell_type": "code",
   "execution_count": 54,
   "id": "c6d5ed5c-6cad-479f-a3da-0e5073a39d9b",
   "metadata": {},
   "outputs": [
    {
     "name": "stdout",
     "output_type": "stream",
     "text": [
      "Not identical\n"
     ]
    }
   ],
   "source": [
    "# 26. Check if two tuples are identical\n",
    "\n",
    "t9 = (1,2,3)\n",
    "t10 = (1,2,)\n",
    "\n",
    "if t9 == t10:\n",
    "    print(\"The tuples are identical\")\n",
    "\n",
    "else:\n",
    "    print(\"Not identical\")"
   ]
  },
  {
   "cell_type": "code",
   "execution_count": 55,
   "id": "f86e051f-dc47-4c9c-ba34-93f653b6fc42",
   "metadata": {},
   "outputs": [
    {
     "data": {
      "text/plain": [
       "[2, 4, 12, 56, 78]"
      ]
     },
     "execution_count": 55,
     "metadata": {},
     "output_type": "execute_result"
    }
   ],
   "source": [
    "# 27. Sort the elements of a tuple\n",
    "\n",
    "t11 = (12,2,56,4,78)\n",
    "\n",
    "sorted(t11)"
   ]
  },
  {
   "cell_type": "code",
   "execution_count": 56,
   "id": "3b8842bf-b35d-4b4a-89ca-493847b92d01",
   "metadata": {},
   "outputs": [
    {
     "name": "stdout",
     "output_type": "stream",
     "text": [
      "('12', '2', '56', '4', '78')\n"
     ]
    }
   ],
   "source": [
    "# 28. Convert a tuple of integers to tuple of string\n",
    "\n",
    "'''Using the tuple declared in above problem'''\n",
    "\n",
    "tuple_str = tuple(map(lambda x : str(x), t11))\n",
    "\n",
    "print(tuple_str)"
   ]
  },
  {
   "cell_type": "code",
   "execution_count": 57,
   "id": "bbf03623-a8e6-41a0-b98e-47d39684674a",
   "metadata": {},
   "outputs": [
    {
     "name": "stdout",
     "output_type": "stream",
     "text": [
      "(12, 2, 56, 4, 78)\n"
     ]
    }
   ],
   "source": [
    "# 29. Convert a tuple of string to a tuple of integer\n",
    "\n",
    "'''Using the output of the above problem'''\n",
    "\n",
    "tuple_integer = tuple(map(lambda x: int(x), tuple_str))\n",
    "\n",
    "print(tuple_integer)"
   ]
  },
  {
   "cell_type": "code",
   "execution_count": 59,
   "id": "5ce8d5eb-618a-4684-aee5-28483e407723",
   "metadata": {},
   "outputs": [
    {
     "data": {
      "text/plain": [
       "(1, 2, 3, 4, 5, 6)"
      ]
     },
     "execution_count": 59,
     "metadata": {},
     "output_type": "execute_result"
    }
   ],
   "source": [
    "# 30. Merge two tuples\n",
    "\n",
    "t12 = (1,2,3)\n",
    "t13 = (4,5,6)\n",
    "\n",
    "# merging above tuples\n",
    "\n",
    "t12+t13"
   ]
  },
  {
   "cell_type": "code",
   "execution_count": 61,
   "id": "8a04958a-39f4-49b2-9c01-4007bfe9e434",
   "metadata": {},
   "outputs": [
    {
     "name": "stdout",
     "output_type": "stream",
     "text": [
      "The nested tuple is =  ((1, 2, 3, 4), (5, 6, 7, 8))\n",
      "The flattened tuple is =  (1, 2, 3, 4, 5, 6, 7, 8)\n"
     ]
    }
   ],
   "source": [
    "# 31. Flatten a nested tuple\n",
    "\n",
    "'''Using the nested tuple declared in above problem no 15'''\n",
    "\n",
    "print(\"The nested tuple is = \", nested_tuple)\n",
    "\n",
    "# Flattening the same\n",
    "\n",
    "flat_tuple = ()\n",
    "\n",
    "for i in range(0, len(nested_tuple)):\n",
    "    flat_tuple += nested_tuple[i]\n",
    "\n",
    "print(\"The flattened tuple is = \", flat_tuple)"
   ]
  },
  {
   "cell_type": "code",
   "execution_count": 71,
   "id": "1b3d51fc-9613-4ee5-9bac-79a1f2d2a7a8",
   "metadata": {},
   "outputs": [
    {
     "name": "stdout",
     "output_type": "stream",
     "text": [
      "(1, 2, 3, 5, 7)\n"
     ]
    }
   ],
   "source": [
    "# 32 Create a tuple of first 5 prime numbers\n",
    "\n",
    "prime_list1 = []\n",
    "\n",
    "for i in range(1,100):\n",
    "    for j in range(2,i):\n",
    "        if i%j ==0:\n",
    "            break\n",
    "        \n",
    "    else:\n",
    "        prime_list1.append(i)\n",
    "        if len(prime_list1) == 5:\n",
    "            break\n",
    "\n",
    "prime_tuple = tuple(prime_list1)\n",
    "\n",
    "print(prime_tuple)"
   ]
  },
  {
   "cell_type": "code",
   "execution_count": 72,
   "id": "1b2da01f-a67c-48fa-9789-9507a67c4e27",
   "metadata": {},
   "outputs": [
    {
     "name": "stdout",
     "output_type": "stream",
     "text": [
      "The tuple is palindrome\n"
     ]
    }
   ],
   "source": [
    "# 33. Check if tuple is palindrome\n",
    "\n",
    "t14 = (1,2,3,2,1)\n",
    "\n",
    "# Checking the palindrome\n",
    "\n",
    "if t14 == t14[::-1]:\n",
    "    print(\"The tuple is palindrome\")\n",
    "\n",
    "else:\n",
    "    print(\"Not palindrome\")"
   ]
  },
  {
   "cell_type": "code",
   "execution_count": 74,
   "id": "59957ce1-8c6b-4b16-8714-f4b8ac1ad501",
   "metadata": {},
   "outputs": [
    {
     "name": "stdout",
     "output_type": "stream",
     "text": [
      "(1, 4, 9, 16, 25)\n"
     ]
    }
   ],
   "source": [
    "# 34. Create a tuple of squares of numbers from 1 to 5\n",
    "\n",
    "tuple_sq = tuple([x**2 for x in range(1,6)])\n",
    "\n",
    "print(tuple_sq)"
   ]
  },
  {
   "cell_type": "code",
   "execution_count": 76,
   "id": "cb26f3e6-8e93-4fa6-bbbf-c75bdbe1420d",
   "metadata": {},
   "outputs": [
    {
     "name": "stdout",
     "output_type": "stream",
     "text": [
      "(32, 44, 36)\n"
     ]
    }
   ],
   "source": [
    "# 35. Filter out all even numbers from a tuple\n",
    "\n",
    "t15 = (32,47,44,89,91,36)\n",
    "\n",
    "# filtering out\n",
    "\n",
    "t15_even = tuple(filter(lambda x: x%2==0, t15))\n",
    "\n",
    "print(t15_even)"
   ]
  },
  {
   "cell_type": "code",
   "execution_count": 77,
   "id": "5611e458-b277-4914-a09b-e2e7140ec6e9",
   "metadata": {},
   "outputs": [
    {
     "name": "stdout",
     "output_type": "stream",
     "text": [
      "(64, 94, 88, 178, 182, 72)\n"
     ]
    }
   ],
   "source": [
    "# 36. Multiply all elements in a tuple by 2\n",
    "\n",
    "'''Using the same tuple in problem 35 above'''\n",
    "\n",
    "t15_mul_2 = tuple(map(lambda x: x*2, t15))\n",
    "\n",
    "print(t15_mul_2)"
   ]
  },
  {
   "cell_type": "code",
   "execution_count": 85,
   "id": "f9cd594b-683e-4867-bbc7-8c4ad01b5308",
   "metadata": {},
   "outputs": [
    {
     "name": "stdout",
     "output_type": "stream",
     "text": [
      "(159, 197, 135, 93, 2, 150, 146, 157, 96, 200)\n"
     ]
    }
   ],
   "source": [
    "# 37. Create a tuple of randome numbers\n",
    "\n",
    "import random\n",
    "\n",
    "list_random1 = []\n",
    "\n",
    "for i in range(1,11):\n",
    "    list_random1.append(random.randint(1,200))\n",
    "\n",
    "tuple_random = tuple(list_random1)\n",
    "\n",
    "print(tuple_random)"
   ]
  },
  {
   "cell_type": "code",
   "execution_count": 115,
   "id": "bb5a9fb9-27aa-497d-845d-37c8858894d3",
   "metadata": {},
   "outputs": [
    {
     "name": "stdout",
     "output_type": "stream",
     "text": [
      "The tuple is sorted\n"
     ]
    }
   ],
   "source": [
    "# 38. Check if a tuple is sorted\n",
    "\n",
    "t16 = (5,2,1)\n",
    "\n",
    "# checking about sorting\n",
    "\n",
    "if t16 == tuple(sorted(t16)) or t16 == tuple(sorted(t16, reverse=True)):\n",
    "    print(\"The tuple is sorted\")\n",
    "\n",
    "else:\n",
    "    print(\"Not sorted\")"
   ]
  },
  {
   "cell_type": "code",
   "execution_count": 12,
   "id": "b1009452-5169-42fe-ab52-c376e734cdf4",
   "metadata": {},
   "outputs": [
    {
     "name": "stdin",
     "output_type": "stream",
     "text": [
      "Enter the value of n:  2\n"
     ]
    },
    {
     "name": "stdout",
     "output_type": "stream",
     "text": [
      "(45, 67, 2, 4, 1, 3)\n"
     ]
    }
   ],
   "source": [
    "# 39. Rotate a tuple to the left by n position\n",
    "\n",
    "# taking n as input\n",
    "n_tple= int(input(\"Enter the value of n: \"))\n",
    "\n",
    "t17 = (1,3,45,67,2,4)\n",
    "\n",
    "l_t17 =list(t17)\n",
    "\n",
    "left_rotate_l_t17 = l_t17[n_tple:]+l_t17[:n_tple]\n",
    "\n",
    "t17_rotate_left = tuple(left_rotate_l_t17)\n",
    "\n",
    "print(t17_rotate_left)"
   ]
  },
  {
   "cell_type": "code",
   "execution_count": 13,
   "id": "49f9a875-4196-4e0b-b02f-b33ad2134356",
   "metadata": {},
   "outputs": [
    {
     "name": "stdin",
     "output_type": "stream",
     "text": [
      "Enter the n1 value: 1\n"
     ]
    },
    {
     "name": "stdout",
     "output_type": "stream",
     "text": [
      "(4, 1, 3, 45, 67, 2)\n"
     ]
    }
   ],
   "source": [
    "# 40. Rotate a tuple to the right by n position\n",
    "\n",
    "# taking n1 as input\n",
    "\n",
    "n_tple1 = int(input(\"Enter the n1 value:\"))\n",
    "\n",
    "'''Taking tuple declared in the above problem 39'''\n",
    "\n",
    "right_rotate_l = l_t17[(0-n_tple1):]+l_t17[:(0-n_tple1)]\n",
    "\n",
    "t17_tple_right =tuple(right_rotate_l)\n",
    "\n",
    "print(t17_tple_right)"
   ]
  },
  {
   "cell_type": "code",
   "execution_count": 15,
   "id": "8ca92dbd-c556-4d5c-960c-990f2128899c",
   "metadata": {},
   "outputs": [
    {
     "name": "stdout",
     "output_type": "stream",
     "text": [
      "(0, 1, 1, 2, 3)\n"
     ]
    }
   ],
   "source": [
    "# 41. Create a tuple of the first 5 fibonacci numbers\n",
    "\n",
    "''' Fibonacci number series is sequence of numbers where each term is the sum\n",
    "of previous two numbers'''\n",
    "\n",
    "fib_lst= []\n",
    "\n",
    "a=0\n",
    "b=1\n",
    "j=0\n",
    "while j < 5:\n",
    "    fib_lst.append(a)\n",
    "    c=b+a\n",
    "    a=b\n",
    "    b=c\n",
    "    j+=1\n",
    "\n",
    "fib_tple =tuple(fib_lst)\n",
    "\n",
    "print(fib_tple)"
   ]
  },
  {
   "cell_type": "code",
   "execution_count": 20,
   "id": "2056ee0a-b45f-4edc-9395-66d96694c46d",
   "metadata": {},
   "outputs": [
    {
     "name": "stdin",
     "output_type": "stream",
     "text": [
      "Enter the element for tuple:  2\n",
      "Do you want to add more elements? y/n y\n",
      "Enter the next element for tuple:  56\n",
      "Do you want to add more elements? y/n n\n"
     ]
    },
    {
     "name": "stdout",
     "output_type": "stream",
     "text": [
      "The tuple by user input is =  ('2', '56')\n"
     ]
    }
   ],
   "source": [
    "# 42. Create a tuple from user input\n",
    "\n",
    "user_lst = []\n",
    "\n",
    "tple_element = input(\"Enter the element for tuple: \")\n",
    "user_lst.append(tple_element)\n",
    "\n",
    "while True:\n",
    "    \n",
    "    check = input(\"Do you want to add more elements? y/n\")\n",
    "    if check=='y' or check =='Y':\n",
    "        tple_element = input(\"Enter the next element for tuple: \")\n",
    "        user_lst.append(tple_element)\n",
    "\n",
    "    else:\n",
    "        break\n",
    "\n",
    "user_tple = tuple(user_lst)\n",
    "\n",
    "print(\"The tuple by user input is = \", user_tple)"
   ]
  },
  {
   "cell_type": "code",
   "execution_count": 21,
   "id": "ac134bdd-7cb4-4f5a-a60d-58019854f412",
   "metadata": {},
   "outputs": [
    {
     "name": "stdin",
     "output_type": "stream",
     "text": [
      "Give first index for swap 1\n",
      "Give second index for swap 2\n"
     ]
    },
    {
     "name": "stdout",
     "output_type": "stream",
     "text": [
      "(1, 6, 5, 7, 9)\n"
     ]
    }
   ],
   "source": [
    "# 43. Swap two elements in a tuple\n",
    "\n",
    "t18 = (1,5,6,7,9)\n",
    "\n",
    "# swapping the element\n",
    "\n",
    "l_t18 = list(t18)\n",
    "\n",
    "first_in = int(input(\"Give first index for swap\"))\n",
    "second_in = int(input(\"Give second index for swap\"))\n",
    "\n",
    "l_t18[first_in] , l_t18[second_in] = l_t18[second_in] , l_t18[first_in]\n",
    "\n",
    "t18 = tuple(l_t18)\n",
    "\n",
    "print(t18)"
   ]
  },
  {
   "cell_type": "code",
   "execution_count": 22,
   "id": "95d7b393-c8d6-4b50-b4c7-1f1c7a3649a8",
   "metadata": {},
   "outputs": [
    {
     "data": {
      "text/plain": [
       "(9, 7, 5, 6, 1)"
      ]
     },
     "execution_count": 22,
     "metadata": {},
     "output_type": "execute_result"
    }
   ],
   "source": [
    "# 44. Reverse the elements of a tuple\n",
    "\n",
    "'''Using the t18 declared in above problem'''\n",
    "\n",
    "t18[::-1]"
   ]
  },
  {
   "cell_type": "code",
   "execution_count": 23,
   "id": "0161e265-748c-4d5d-b90c-1a5f389207fd",
   "metadata": {},
   "outputs": [
    {
     "name": "stdin",
     "output_type": "stream",
     "text": [
      "Enter the value of n for powers of 2 5\n"
     ]
    },
    {
     "name": "stdout",
     "output_type": "stream",
     "text": [
      "(2, 4, 8, 16, 32)\n"
     ]
    }
   ],
   "source": [
    "# 45. Create a tuple of the first n powers of 2\n",
    "\n",
    "n_pr = int(input(\"Enter the value of n for powers of 2\"))\n",
    "\n",
    "tpl_power_2 = tuple([2**i for i in range(1, n_pr+1)])\n",
    "\n",
    "print(tpl_power_2)"
   ]
  },
  {
   "cell_type": "code",
   "execution_count": 25,
   "id": "9267f6cc-fef1-4fd5-847f-704b027b7944",
   "metadata": {},
   "outputs": [
    {
     "data": {
      "text/plain": [
       "'Krishna'"
      ]
     },
     "execution_count": 25,
     "metadata": {},
     "output_type": "execute_result"
    }
   ],
   "source": [
    "# 46. Find the longest string in a tuple of string\n",
    "\n",
    "t19 = ('Jai', 'Shri', 'Krishna')\n",
    "\n",
    "max(t19, key=len)"
   ]
  },
  {
   "cell_type": "code",
   "execution_count": 26,
   "id": "ba63bf6a-d370-4193-b20d-2f67ce3c341f",
   "metadata": {},
   "outputs": [
    {
     "data": {
      "text/plain": [
       "'Jai'"
      ]
     },
     "execution_count": 26,
     "metadata": {},
     "output_type": "execute_result"
    }
   ],
   "source": [
    "# 47. Find the shortest string in a tuple of string\n",
    "\n",
    "'''From above declared tuple'''\n",
    "\n",
    "min(t19, key=len)"
   ]
  },
  {
   "cell_type": "code",
   "execution_count": 28,
   "id": "6a269d58-46af-44c4-ab28-1ec19928b40c",
   "metadata": {},
   "outputs": [
    {
     "name": "stdin",
     "output_type": "stream",
     "text": [
      "Enter the value of n for triangular no. 5\n"
     ]
    },
    {
     "name": "stdout",
     "output_type": "stream",
     "text": [
      "(1, 3, 6, 10, 15)\n"
     ]
    }
   ],
   "source": [
    "# 48. Create a tuple of the first n triangular numbers\n",
    "\n",
    "n_tr1= int(input(\"Enter the value of n for triangular no.\"))\n",
    "\n",
    "tuple_trng = tuple([int(i*(i+1)/2) for i in range(1, n_tr1+1)])\n",
    "\n",
    "print(tuple_trng)"
   ]
  },
  {
   "cell_type": "code",
   "execution_count": 34,
   "id": "8c39faa5-211a-48dd-b1ce-783f26a721a5",
   "metadata": {},
   "outputs": [
    {
     "name": "stdout",
     "output_type": "stream",
     "text": [
      "Yes second tuple is subsequence of the first tuple.\n"
     ]
    }
   ],
   "source": [
    "# 49. Check if a tuple contains another tuple as a subsequence\n",
    "\n",
    "t20= (1,3,5,9)\n",
    "\n",
    "t21=(1,3)\n",
    "\n",
    "if len(t20)>len(t21):\n",
    "    if all(x in t20 for x in t21):\n",
    "        print(\"Yes second tuple is subsequence of the first tuple.\")\n",
    "    else:\n",
    "        print(\"No it is not subsequence\")\n",
    "else:\n",
    "    if all(x in t21 for x in t20):\n",
    "        print(\"Yes the first tuple is subsequence of the second tuple\")\n",
    "    else:\n",
    "        print(\"No it is not subsequence\")"
   ]
  },
  {
   "cell_type": "code",
   "execution_count": 36,
   "id": "8883b0c1-2e2f-4c4f-b379-a31a01dc6ce6",
   "metadata": {},
   "outputs": [
    {
     "name": "stdin",
     "output_type": "stream",
     "text": [
      "Enter the length of tuple:  5\n"
     ]
    },
    {
     "name": "stdout",
     "output_type": "stream",
     "text": [
      "(1, 0, 1, 0, 1, 0)\n"
     ]
    }
   ],
   "source": [
    "# 50. Create a tuple of alternating 1s an 0s of length n\n",
    "\n",
    "l_1_0_tple = []\n",
    "\n",
    "n_le= int(input(\"Enter the length of tuple: \"))\n",
    "\n",
    "while n_le>0:\n",
    "\n",
    "    l_1_0_tple.append(1)\n",
    "    n_le-=1\n",
    "    l_1_0_tple.append(0)\n",
    "    n_le-=1\n",
    "\n",
    "tple_1_0 = tuple(l_1_0_tple)\n",
    "\n",
    "print(tple_1_0)"
   ]
  },
  {
   "cell_type": "markdown",
   "id": "1073056f-c7d6-4a8d-8aed-9553c303010c",
   "metadata": {},
   "source": [
    "# SET BASED PRACTICE PROBLEM"
   ]
  },
  {
   "cell_type": "code",
   "execution_count": 38,
   "id": "60e12513-45ab-41a3-bd2b-073c35c96748",
   "metadata": {},
   "outputs": [
    {
     "name": "stdout",
     "output_type": "stream",
     "text": [
      "{1, 2, 3, 4, 5}\n"
     ]
    }
   ],
   "source": [
    "# 1. Create a set with integer from 1 to 5\n",
    "\n",
    "s1= {i for i in range(1,6)}\n",
    "\n",
    "print(s1)"
   ]
  },
  {
   "cell_type": "code",
   "execution_count": 39,
   "id": "ef8c6fd5-9d01-421b-9e58-6ae6f84f04bd",
   "metadata": {},
   "outputs": [
    {
     "name": "stdout",
     "output_type": "stream",
     "text": [
      "{1, 2, 3, 4, 5, 6}\n"
     ]
    }
   ],
   "source": [
    "# 2. Add an element to a set\n",
    "\n",
    "'''Adding element to the set output of problem 1'''\n",
    "\n",
    "s1.add(6)\n",
    "\n",
    "print(s1)"
   ]
  },
  {
   "cell_type": "code",
   "execution_count": 40,
   "id": "4b8f2fc4-6121-4910-85f0-b01853a9df3d",
   "metadata": {},
   "outputs": [
    {
     "name": "stdout",
     "output_type": "stream",
     "text": [
      "{1, 2, 3, 4, 5}\n"
     ]
    }
   ],
   "source": [
    "# 3. Remove an element from set\n",
    "\n",
    "'''Removing element from the output of problem 2'''\n",
    "\n",
    "s1.remove(6)\n",
    "\n",
    "print(s1)"
   ]
  },
  {
   "cell_type": "code",
   "execution_count": 41,
   "id": "fde4fd16-2fc4-4d91-a8d5-c5e9bad25c2e",
   "metadata": {},
   "outputs": [
    {
     "name": "stdout",
     "output_type": "stream",
     "text": [
      "Yes it is in the set\n"
     ]
    }
   ],
   "source": [
    "# 4. Check if an element exists in a set\n",
    "\n",
    "'''Checking if element 5 is in s1 which is output of problem 3'''\n",
    "\n",
    "if 5 in s1:\n",
    "    print(\"Yes it is in the set\")\n",
    "\n",
    "else:\n",
    "    print(\"Not in set\")"
   ]
  },
  {
   "cell_type": "code",
   "execution_count": 42,
   "id": "8a75cc1c-9910-4160-9fcc-303ae9d08148",
   "metadata": {},
   "outputs": [
    {
     "name": "stdout",
     "output_type": "stream",
     "text": [
      "Length of the set is =  5\n"
     ]
    }
   ],
   "source": [
    "# 5. Find the length of set without using len() function\n",
    "\n",
    "'''Finding length of set output of problem 3'''\n",
    "\n",
    "length_set = 0\n",
    "\n",
    "for i in s1:\n",
    "    length_set += 1\n",
    "\n",
    "print(\"Length of the set is = \", length_set)"
   ]
  },
  {
   "cell_type": "code",
   "execution_count": 43,
   "id": "714ce161-5e10-4ade-a302-d59e6276a6b9",
   "metadata": {},
   "outputs": [
    {
     "name": "stdout",
     "output_type": "stream",
     "text": [
      "set()\n"
     ]
    }
   ],
   "source": [
    "# 6. Clear all elements from a set\n",
    "\n",
    "s2= {4,6,7,8}\n",
    "\n",
    "s2.clear()\n",
    "\n",
    "print(s2)"
   ]
  },
  {
   "cell_type": "code",
   "execution_count": 48,
   "id": "f82f60a5-da05-49f4-a223-d9958d80bc43",
   "metadata": {},
   "outputs": [
    {
     "name": "stdout",
     "output_type": "stream",
     "text": [
      "{2, 4, 6, 8, 10}\n"
     ]
    }
   ],
   "source": [
    "# 7. Create a set of even numbers from 1 to 10\n",
    "\n",
    "set_even = {i for i in range(1,11) if i%2==0}\n",
    "\n",
    "print(set_even)"
   ]
  },
  {
   "cell_type": "code",
   "execution_count": 49,
   "id": "3bfc196e-f510-47dc-aeb1-fe84e520d173",
   "metadata": {},
   "outputs": [
    {
     "name": "stdout",
     "output_type": "stream",
     "text": [
      "{1, 3, 5, 7, 9}\n"
     ]
    }
   ],
   "source": [
    "# 8. Create a set of odd numbers from 1 to 10\n",
    "\n",
    "set_odd = {i for i in range(1,11) if i%2!=0}\n",
    "\n",
    "print(set_odd)"
   ]
  },
  {
   "cell_type": "code",
   "execution_count": 51,
   "id": "b381b093-f226-4933-8fdc-71dc4ea61d80",
   "metadata": {},
   "outputs": [
    {
     "name": "stdout",
     "output_type": "stream",
     "text": [
      "{1, 2, 3, 4, 5, 6, 7, 8, 9, 10}\n"
     ]
    }
   ],
   "source": [
    "# 9. Find the union of two sets\n",
    "\n",
    "'''Finding union of even set and odd set which are output \n",
    "of problem 7 and 8'''\n",
    "\n",
    "union_set = set_even.union(set_odd)\n",
    "\n",
    "print(union_set)"
   ]
  },
  {
   "cell_type": "code",
   "execution_count": 53,
   "id": "75171bca-b702-494b-af6c-96589de90f02",
   "metadata": {},
   "outputs": [
    {
     "name": "stdout",
     "output_type": "stream",
     "text": [
      "{5, 6}\n"
     ]
    }
   ],
   "source": [
    "# 10. Find the intersection of two sets\n",
    "\n",
    "s3 = {2,3,5,6,8}\n",
    "\n",
    "s4 = {5,6,7,88,76}\n",
    "\n",
    "# finding the intersection\n",
    "\n",
    "int_s3_s4 = s3.intersection(s4)\n",
    "\n",
    "print(int_s3_s4)"
   ]
  },
  {
   "cell_type": "code",
   "execution_count": 54,
   "id": "91b1b3a6-e79b-4ab2-a593-3cc431d387e0",
   "metadata": {},
   "outputs": [
    {
     "name": "stdout",
     "output_type": "stream",
     "text": [
      "{8, 2, 3}\n"
     ]
    }
   ],
   "source": [
    "# 11. Find the difference between two sets\n",
    "\n",
    "'''Finding difference between s3 and s4 declared in above problem'''\n",
    "\n",
    "diff_set = s3.difference(s4)\n",
    "\n",
    "print(diff_set)"
   ]
  },
  {
   "cell_type": "code",
   "execution_count": 55,
   "id": "7e98fd6a-7690-42de-8e9f-03bea3a9c2d9",
   "metadata": {},
   "outputs": [
    {
     "name": "stdout",
     "output_type": "stream",
     "text": [
      "{3, 4, 5} is subset of {1, 2, 3, 4, 5, 6, 7}\n"
     ]
    }
   ],
   "source": [
    "# 12. Check if a set is subset of another set\n",
    "\n",
    "s5 = {1,2,3,4,5,6,7}\n",
    "s6 = {3,4,5}\n",
    "\n",
    "if s6.issubset(s5):\n",
    "    print(f\"{s6} is subset of {s5}\")\n",
    "\n",
    "else:\n",
    "    print(\"It is not subset\")"
   ]
  },
  {
   "cell_type": "code",
   "execution_count": 56,
   "id": "a258487f-308c-4a5b-b401-06610f1bf190",
   "metadata": {},
   "outputs": [
    {
     "name": "stdout",
     "output_type": "stream",
     "text": [
      "{1, 2, 3, 4, 5, 6, 7} is superset of {3, 4, 5}\n"
     ]
    }
   ],
   "source": [
    "# 13. CHeck if a set is superset of another set\n",
    "\n",
    "'''For s5 and s6 declared in above problem'''\n",
    "\n",
    "if s5.issuperset(s6):\n",
    "    print(f\"{s5} is superset of {s6}\")\n",
    "\n",
    "else:\n",
    "    print(\"No it is not superset\")"
   ]
  },
  {
   "cell_type": "code",
   "execution_count": 57,
   "id": "c9afb9ef-b38a-4421-88b4-f401dec26826",
   "metadata": {},
   "outputs": [
    {
     "name": "stdout",
     "output_type": "stream",
     "text": [
      "{0, 2, 3, 4, 5, 6, 7, 8}\n"
     ]
    }
   ],
   "source": [
    "# 14. Create a set from a list\n",
    "\n",
    "list_for_set = [3,5,6,7,4,3,7,8,0,2]\n",
    "\n",
    "set_from_list = set(list_for_set)\n",
    "\n",
    "print(set_from_list)"
   ]
  },
  {
   "cell_type": "code",
   "execution_count": 58,
   "id": "62eb928b-d998-4a7d-9c17-a26b48bdfe9d",
   "metadata": {},
   "outputs": [
    {
     "name": "stdout",
     "output_type": "stream",
     "text": [
      "[0, 2, 3, 4, 5, 6, 7, 8]\n"
     ]
    }
   ],
   "source": [
    "# 15. Convert a set to a list\n",
    "\n",
    "'''Converting output of above problem to list'''\n",
    "\n",
    "list_from_set = list(set_from_list)\n",
    "\n",
    "print(list_from_set)"
   ]
  },
  {
   "cell_type": "code",
   "execution_count": 59,
   "id": "9eb7c1b9-56db-4c93-b357-0c40cf014a41",
   "metadata": {},
   "outputs": [
    {
     "name": "stdout",
     "output_type": "stream",
     "text": [
      "{4, 5, 6, 7, 8}\n"
     ]
    }
   ],
   "source": [
    "# 16. remove a random element from a set\n",
    "\n",
    "'''pop method removes a random element from set'''\n",
    "\n",
    "s7 = {5,6,7,8,3,4}\n",
    "\n",
    "s7.pop()\n",
    "\n",
    "print(s7)"
   ]
  },
  {
   "cell_type": "code",
   "execution_count": 65,
   "id": "b245ee3f-1a52-4c2b-a66b-a175eb4a8393",
   "metadata": {},
   "outputs": [
    {
     "name": "stdout",
     "output_type": "stream",
     "text": [
      "{4, 6, 7, 8}\n"
     ]
    }
   ],
   "source": [
    "# 17. Pop an element from a set\n",
    "\n",
    "'''popping element 5 from the set s7 declared in above problem'''\n",
    "\n",
    "s7.remove(5)\n",
    "\n",
    "print(s7)"
   ]
  },
  {
   "cell_type": "code",
   "execution_count": 64,
   "id": "2bb5c5f8-a4e4-4ba3-aefd-29687d2f6b38",
   "metadata": {},
   "outputs": [
    {
     "name": "stdout",
     "output_type": "stream",
     "text": [
      "Two sets have some common elements\n"
     ]
    }
   ],
   "source": [
    "# 18. Check if two sets have no common elements\n",
    "\n",
    "s8 = {2,3,4,6,7}\n",
    "\n",
    "s9 = {2,9,67,87}\n",
    "\n",
    "if len(s8.intersection(s9))==0:\n",
    "\n",
    "    print(\"No common elemets\")\n",
    "\n",
    "else:\n",
    "    print(\"Two sets have some common elements\")"
   ]
  },
  {
   "cell_type": "code",
   "execution_count": 67,
   "id": "4470b66c-331c-4a51-a24c-126b19a60391",
   "metadata": {},
   "outputs": [
    {
     "data": {
      "text/plain": [
       "{1, 3, 7, 8}"
      ]
     },
     "execution_count": 67,
     "metadata": {},
     "output_type": "execute_result"
    }
   ],
   "source": [
    "# 19. Find the symmetric difference between two sets\n",
    "\n",
    "s10 = {2,3,4,6,7}\n",
    "s11 = {1,2,4,6,8}\n",
    "\n",
    "# symmetric difference between both set\n",
    "s10.symmetric_difference(s11)"
   ]
  },
  {
   "cell_type": "code",
   "execution_count": 68,
   "id": "cf654551-6a0e-43d5-a85b-dc3abcf2c620",
   "metadata": {},
   "outputs": [
    {
     "name": "stdout",
     "output_type": "stream",
     "text": [
      "{1, 2, 3, 4, 5, 6, 7, 8}\n"
     ]
    }
   ],
   "source": [
    "# 20. Update a set with elements from another set\n",
    "\n",
    "s12 = {1,2,3,4}\n",
    "s13 = {5,6,7,8}\n",
    "\n",
    "# updating s12 with elements of s13\n",
    "s12.update(s13)\n",
    "\n",
    "print(s12)\n"
   ]
  },
  {
   "cell_type": "code",
   "execution_count": 69,
   "id": "4082da07-cc96-4992-9888-578f21b42dc6",
   "metadata": {},
   "outputs": [
    {
     "name": "stdout",
     "output_type": "stream",
     "text": [
      "{1, 2, 3, 5, 7}\n"
     ]
    }
   ],
   "source": [
    "# 21. Create a set of the first 5 prime numbers\n",
    "\n",
    "prime_set = set()\n",
    "\n",
    "for i in range(1,100):\n",
    "    for j in range(2,i):\n",
    "        if i%j ==0:\n",
    "            break\n",
    "        \n",
    "    else:\n",
    "        prime_set.add(i)\n",
    "        if len(prime_set) == 5:\n",
    "            break\n",
    "\n",
    "print(prime_set)"
   ]
  },
  {
   "cell_type": "code",
   "execution_count": 70,
   "id": "43317336-5e8b-42fa-b928-bef8d5413d61",
   "metadata": {},
   "outputs": [
    {
     "name": "stdout",
     "output_type": "stream",
     "text": [
      "Both sets are identical\n"
     ]
    }
   ],
   "source": [
    "# 22. Check if two sets are identical\n",
    "\n",
    "s14 = {1,2,3,4}\n",
    "s15 = {1,2,3,4}\n",
    "\n",
    "if s14==s15:\n",
    "    print(\"Both sets are identical\")\n",
    "\n",
    "else:\n",
    "    print(\"Not identical\")"
   ]
  },
  {
   "cell_type": "code",
   "execution_count": 74,
   "id": "ebbfe414-da6d-4e5a-b54b-cc02dd011bbb",
   "metadata": {},
   "outputs": [
    {
     "name": "stdout",
     "output_type": "stream",
     "text": [
      "frozenset({1, 2, 3, 4})\n"
     ]
    }
   ],
   "source": [
    "# 23. Create a frozen set\n",
    "\n",
    "'''Frozen set is immutable set '''\n",
    "\n",
    "frz_set = frozenset({1,2,3,4})\n",
    "\n",
    "print(frz_set)"
   ]
  },
  {
   "cell_type": "code",
   "execution_count": 76,
   "id": "bdee5266-4510-4d39-b3ac-3fc3a7947828",
   "metadata": {},
   "outputs": [
    {
     "name": "stdout",
     "output_type": "stream",
     "text": [
      "{1, 2, 3} is disjoint with {4, 5}\n"
     ]
    }
   ],
   "source": [
    "# 24. Check if a set is disjoint with another set\n",
    "\n",
    "'''a disjoint set of other set if no common elements''' \n",
    "\n",
    "s16 = {1,2,3}\n",
    "s17 = {4,5}\n",
    "\n",
    "if s16.isdisjoint(s17):\n",
    "    print(f\"{s16} is disjoint with {s17}\")\n",
    "\n",
    "else:\n",
    "    print(\"Not disjoint\")\n"
   ]
  },
  {
   "cell_type": "code",
   "execution_count": 77,
   "id": "495bf2b1-ea4a-4512-927c-d9dddde50d76",
   "metadata": {},
   "outputs": [
    {
     "data": {
      "text/plain": [
       "{1, 4, 9, 16, 25}"
      ]
     },
     "execution_count": 77,
     "metadata": {},
     "output_type": "execute_result"
    }
   ],
   "source": [
    "# 25. Create a set of squares of numbers from 1 to 5\n",
    "\n",
    "{i**2 for i in range(1,6)}"
   ]
  },
  {
   "cell_type": "code",
   "execution_count": 78,
   "id": "d2b74fb7-d2d1-4587-a12f-15096baa45ff",
   "metadata": {},
   "outputs": [
    {
     "name": "stdout",
     "output_type": "stream",
     "text": [
      "The master set for this problem is =  {1, 2, 3, 4, 5, 6, 7, 8, 9, 10}\n",
      "The filtered set with even numbers is =  {2, 4, 6, 8, 10}\n"
     ]
    }
   ],
   "source": [
    "# 26. Filter out even numbers from a set\n",
    "\n",
    "all_nums = {i for i in range(1,11)}\n",
    "\n",
    "print(\"The master set for this problem is = \", all_nums)\n",
    "\n",
    "num_even = set(filter(lambda x:x%2==0, all_nums))\n",
    "\n",
    "print(\"The filtered set with even numbers is = \", num_even)"
   ]
  },
  {
   "cell_type": "code",
   "execution_count": 79,
   "id": "5d13c80f-62c5-49d8-b974-e6cc9cd01288",
   "metadata": {},
   "outputs": [
    {
     "name": "stdout",
     "output_type": "stream",
     "text": [
      "The master set for this problem is =  {1, 3, 5, 7, 9}\n",
      "The set with elements multiplied by 2 is =  {2, 6, 10, 14, 18}\n"
     ]
    }
   ],
   "source": [
    "# 27. Multiply all elements of set by 2\n",
    "\n",
    "all_nums_odd = {i for i in range(1,11) if i%2!=0}\n",
    "\n",
    "print(\"The master set for this problem is = \", all_nums_odd)\n",
    "\n",
    "num_mul = set(map(lambda x:x*2, all_nums_odd))\n",
    "\n",
    "print(\"The set with elements multiplied by 2 is = \", num_mul)"
   ]
  },
  {
   "cell_type": "code",
   "execution_count": 83,
   "id": "29f7c39a-885b-4b23-825d-4e1ee068a143",
   "metadata": {},
   "outputs": [
    {
     "name": "stdout",
     "output_type": "stream",
     "text": [
      "The random set of length 5 is =  {97, 99, 104, 142, 31}\n"
     ]
    }
   ],
   "source": [
    "# 28. Create a set of random numbers\n",
    "\n",
    "import random\n",
    "\n",
    "i=5\n",
    "rand_set= set()\n",
    "\n",
    "while i>0:\n",
    "    rand_set.add(random.randint(23,200))\n",
    "    i -= 1\n",
    "print(\"The random set of length 5 is = \",rand_set)    "
   ]
  },
  {
   "cell_type": "code",
   "execution_count": 84,
   "id": "1deeef7e-a2d2-4aea-825f-cbb5f206bb85",
   "metadata": {},
   "outputs": [
    {
     "name": "stdout",
     "output_type": "stream",
     "text": [
      "The set is not empty\n"
     ]
    }
   ],
   "source": [
    "# 29. Check if a set is empty\n",
    "\n",
    "s18 = {2,3,4}\n",
    "\n",
    "if len(s18)==0:\n",
    "    print(\"The set is empty\")\n",
    "\n",
    "else:\n",
    "    print(\"The set is not empty\")"
   ]
  },
  {
   "cell_type": "code",
   "execution_count": 7,
   "id": "4cd9d7c4-bd2d-445d-9c9e-a2a223dcec4d",
   "metadata": {},
   "outputs": [
    {
     "name": "stdout",
     "output_type": "stream",
     "text": [
      "{frozenset({3, 4}), frozenset({5, 6}), frozenset({1, 2})}\n"
     ]
    }
   ],
   "source": [
    "# 30. Create a nested set (using frozen set)\n",
    "\n",
    "nested_set = set()\n",
    "\n",
    "nested_set.add(frozenset((1,2)))\n",
    "nested_set.add(frozenset((3,4)))\n",
    "nested_set.add(frozenset((5,6)))\n",
    "\n",
    "print(nested_set)"
   ]
  },
  {
   "cell_type": "code",
   "execution_count": 9,
   "id": "8bda1786-cacb-4538-8cec-6e25a59bf46c",
   "metadata": {},
   "outputs": [
    {
     "name": "stdout",
     "output_type": "stream",
     "text": [
      "{3, 4, 6, 7}\n"
     ]
    }
   ],
   "source": [
    "# 31. Remove an element from a set using the discard method\n",
    "\n",
    "s19 = {3,4,5,6,7}\n",
    "\n",
    "s19.discard(5)\n",
    "\n",
    "print(s19)"
   ]
  },
  {
   "cell_type": "code",
   "execution_count": 20,
   "id": "1b989139-411e-4377-8b0d-ca3f64bb4f01",
   "metadata": {},
   "outputs": [
    {
     "name": "stdout",
     "output_type": "stream",
     "text": [
      "First and second sets have common elements\n",
      "First set is not subset of second one\n",
      "First set is superset of second set\n"
     ]
    }
   ],
   "source": [
    "# 32. Compare two sets\n",
    "\n",
    "s_1 = {1,2,3,4}\n",
    "s_2 = {2,1,3}\n",
    "\n",
    "if s_1 == s_2:\n",
    "    print(\"Both sets are equal\")\n",
    "\n",
    "else:\n",
    "    if s_1.isdisjoint(s_2):\n",
    "        print(\"First and second sets have no elements in common\")\n",
    "\n",
    "    else:\n",
    "        print(\"First and second sets have common elements\")\n",
    "\n",
    "    if s_1.issubset(s_2):\n",
    "        print(\"First set is subset of second one\")\n",
    "\n",
    "    else:\n",
    "        print(\"First set is not subset of second one\")\n",
    "\n",
    "    if s_1.issuperset(s_2):\n",
    "        print(\"First set is superset of second set\")\n",
    "    else:\n",
    "        print(\"Not superset\")"
   ]
  },
  {
   "cell_type": "code",
   "execution_count": 21,
   "id": "81946f8b-06e7-4750-a263-3c0ab3c549ae",
   "metadata": {},
   "outputs": [
    {
     "name": "stdout",
     "output_type": "stream",
     "text": [
      "{'p', 's', 'l', 'i', 'k', 'w'}\n"
     ]
    }
   ],
   "source": [
    "# 33. create a set from string \n",
    "\n",
    "str_for_set = 'pwskills'\n",
    "set_str = set(str_for_set)\n",
    "\n",
    "print(set_str)"
   ]
  },
  {
   "cell_type": "code",
   "execution_count": 22,
   "id": "cdb69108-af47-418e-aa84-be72e4dae92e",
   "metadata": {},
   "outputs": [
    {
     "name": "stdout",
     "output_type": "stream",
     "text": [
      "{1, 2, 3, 4}\n"
     ]
    }
   ],
   "source": [
    "# 34. Convert a set of strings to a set of integers\n",
    "\n",
    "set_of_str = {'1','2','3','4'}\n",
    "\n",
    "set_int_from_str = set(map(lambda x: int(x), set_of_str))\n",
    "\n",
    "print(set_int_from_str)"
   ]
  },
  {
   "cell_type": "code",
   "execution_count": 23,
   "id": "0d46450b-1f3b-47db-ba2f-33900eb01c2b",
   "metadata": {},
   "outputs": [
    {
     "name": "stdout",
     "output_type": "stream",
     "text": [
      "{'4', '2', '3', '1'}\n"
     ]
    }
   ],
   "source": [
    "# 35. Convert a set of integers to a set of strings\n",
    "\n",
    "'''Using output of problem 35 '''\n",
    "\n",
    "set_from_int = set(map(lambda x:str(x), set_int_from_str))\n",
    "\n",
    "print(set_from_int)"
   ]
  },
  {
   "cell_type": "code",
   "execution_count": 25,
   "id": "c310fea2-ba87-43c1-bb19-5b38de4a97b5",
   "metadata": {},
   "outputs": [
    {
     "name": "stdout",
     "output_type": "stream",
     "text": [
      "{'Jai', 'Ram', 'Shri'}\n"
     ]
    }
   ],
   "source": [
    "# 36. Create a set from tuple\n",
    "\n",
    "t_s = ('Jai', 'Shri', 'Ram')\n",
    "\n",
    "# creating set from tuple\n",
    "s_t = set(t_s)\n",
    "\n",
    "# displaying the output\n",
    "print(s_t)"
   ]
  },
  {
   "cell_type": "code",
   "execution_count": 26,
   "id": "6a8ed1a2-d532-4fa0-b864-def906b4dc0f",
   "metadata": {},
   "outputs": [
    {
     "name": "stdout",
     "output_type": "stream",
     "text": [
      "('Jai', 'Ram', 'Shri')\n"
     ]
    }
   ],
   "source": [
    "# 37. Convert a set into tuple\n",
    "\n",
    "'''Using output of above problem into tuple'''\n",
    "\n",
    "# converting the set into tuple\n",
    "t_s1 = tuple(s_t)\n",
    "\n",
    "# displaying the output\n",
    "print(t_s1)"
   ]
  },
  {
   "cell_type": "code",
   "execution_count": 29,
   "id": "5776cfe8-c6d6-4c31-837a-7957fe238b79",
   "metadata": {},
   "outputs": [
    {
     "data": {
      "text/plain": [
       "899"
      ]
     },
     "execution_count": 29,
     "metadata": {},
     "output_type": "execute_result"
    }
   ],
   "source": [
    "# 38. Find the maximum value in set\n",
    "\n",
    "s22 = {34,67,899, 343}\n",
    "\n",
    "# finding max value\n",
    "\n",
    "max(s22)"
   ]
  },
  {
   "cell_type": "code",
   "execution_count": 30,
   "id": "0d967fa8-b7ec-45d4-a16d-377e0da082fb",
   "metadata": {},
   "outputs": [
    {
     "data": {
      "text/plain": [
       "34"
      ]
     },
     "execution_count": 30,
     "metadata": {},
     "output_type": "execute_result"
    }
   ],
   "source": [
    "# 39. Find the minimum value in set\n",
    "\n",
    "'''Using above declared set for the purpose'''\n",
    "\n",
    "# finding minimum value\n",
    "\n",
    "min(s22)"
   ]
  },
  {
   "cell_type": "code",
   "execution_count": 33,
   "id": "ec6bf834-dc2d-4de7-825a-4212f2a3a250",
   "metadata": {},
   "outputs": [
    {
     "name": "stdin",
     "output_type": "stream",
     "text": [
      "Enter the element for set:  Hi\n",
      "Do you want to add more elements? y/n y\n",
      "Enter the next element for set:  Hello\n",
      "Do you want to add more elements? y/n y\n",
      "Enter the next element for set:  Good\n",
      "Do you want to add more elements? y/n y\n",
      "Enter the next element for set:  Morning\n",
      "Do you want to add more elements? y/n n\n"
     ]
    },
    {
     "name": "stdout",
     "output_type": "stream",
     "text": [
      "The set created by user input is =  {'Hello', 'Morning', 'Good', 'Hi'}\n"
     ]
    }
   ],
   "source": [
    "# 40. Create a set from user input\n",
    "\n",
    "user_set = set()\n",
    "\n",
    "set_element = input(\"Enter the element for set: \")\n",
    "user_set.add(set_element)\n",
    "\n",
    "while True:\n",
    "    \n",
    "    check = input(\"Do you want to add more elements? y/n\")\n",
    "    if check=='y' or check =='Y':\n",
    "        set_element = input(\"Enter the next element for set: \")\n",
    "        user_set.add(set_element)\n",
    "\n",
    "    else:\n",
    "        break\n",
    "\n",
    "print(\"The set created by user input is = \", user_set)"
   ]
  },
  {
   "cell_type": "code",
   "execution_count": 34,
   "id": "8ac245d8-3b8f-408e-9879-7032731615c7",
   "metadata": {},
   "outputs": [
    {
     "name": "stdout",
     "output_type": "stream",
     "text": [
      "Not empty\n"
     ]
    }
   ],
   "source": [
    "# 41. Check if the intersection of two sets is empty\n",
    "\n",
    "s23 = {3,4,5,8}\n",
    "s24 = {3,4,6}\n",
    "\n",
    "# checking the condition\n",
    "if s23.isdisjoint(s24):\n",
    "    print(\"The intersection of two sets is empty\")\n",
    "\n",
    "else:\n",
    "    print(\"Not empty\")"
   ]
  },
  {
   "cell_type": "code",
   "execution_count": 35,
   "id": "b583ef62-09ba-43dc-aec4-8b8eced1612d",
   "metadata": {},
   "outputs": [
    {
     "name": "stdout",
     "output_type": "stream",
     "text": [
      "{0, 1, 2, 3}\n"
     ]
    }
   ],
   "source": [
    "# 42. Create a set of first 5 fibonacci numbers\n",
    "\n",
    "''' Fibonacci number series is sequence of numbers where each term is the sum\n",
    "of previous two numbers'''\n",
    "\n",
    "fib_set= set()\n",
    "\n",
    "a=0\n",
    "b=1\n",
    "j=0\n",
    "while j < 5:\n",
    "    fib_set.add(a)\n",
    "    c=b+a\n",
    "    a=b\n",
    "    b=c\n",
    "    j+=1\n",
    "\n",
    "# displaying output\n",
    "print(fib_set)"
   ]
  },
  {
   "cell_type": "code",
   "execution_count": 36,
   "id": "15f5050a-da1e-4f5f-921b-79adbc20a373",
   "metadata": {},
   "outputs": [
    {
     "name": "stdout",
     "output_type": "stream",
     "text": [
      "List with duplicates is =  ['Tera', 'Tera', 'Tera', 'Suroor']\n",
      "List without duplicates is = ['Tera', 'Suroor']\n"
     ]
    }
   ],
   "source": [
    "# 43. Remove duplicates from a list using sets\n",
    "\n",
    "lst_dup = ['Tera', 'Tera','Tera', 'Suroor']\n",
    "\n",
    "print(\"List with duplicates is = \", lst_dup)\n",
    "\n",
    "print(\"List without duplicates is =\", list(set(lst_dup)))"
   ]
  },
  {
   "cell_type": "code",
   "execution_count": 37,
   "id": "c1295c65-e5ca-48c5-9f66-7fa5cbfbdb47",
   "metadata": {},
   "outputs": [
    {
     "name": "stdout",
     "output_type": "stream",
     "text": [
      "Both sets have same elements\n"
     ]
    }
   ],
   "source": [
    "# 44. Check if two sets have the same elements regardless of their count\n",
    "\n",
    "'''As the sets do not contain any duplicate items, hence 'regardless of their count'\n",
    "    means nothing'''\n",
    "\n",
    "s25 = {1,2,3,4}\n",
    "s26 = {1,2,3,3,4,4}\n",
    "\n",
    "# Checking the condition\n",
    "\n",
    "if s25==s26:\n",
    "    print(\"Both sets have same elements\")\n",
    "\n",
    "else:\n",
    "    print(\"Different elements in set\")\n"
   ]
  },
  {
   "cell_type": "code",
   "execution_count": 38,
   "id": "cc978c9a-9cc9-438f-8ebf-21c621ab908f",
   "metadata": {},
   "outputs": [
    {
     "data": {
      "text/plain": [
       "{2, 4, 8, 16, 32}"
      ]
     },
     "execution_count": 38,
     "metadata": {},
     "output_type": "execute_result"
    }
   ],
   "source": [
    "# 45. Create a set of the first n powers of 2\n",
    "\n",
    "{2**i for i in range(1,6)}"
   ]
  },
  {
   "cell_type": "code",
   "execution_count": 39,
   "id": "ce2f0c11-3bed-420d-8351-efe070f29e2d",
   "metadata": {},
   "outputs": [
    {
     "data": {
      "text/plain": [
       "{2, 3}"
      ]
     },
     "execution_count": 39,
     "metadata": {},
     "output_type": "execute_result"
    }
   ],
   "source": [
    "# 46. Find the common elements between a set and a list\n",
    "\n",
    "lst_1 = [2,3,5,7,1]\n",
    "set_1 = {2,3,89,77}\n",
    "\n",
    "# set of common elements between set and list are\n",
    "\n",
    "set_1.intersection(set(lst_1))\n"
   ]
  },
  {
   "cell_type": "code",
   "execution_count": 40,
   "id": "ff9905a3-cf5d-47ad-affd-f8c6e9a332f4",
   "metadata": {},
   "outputs": [
    {
     "name": "stdin",
     "output_type": "stream",
     "text": [
      "Enter the value of n for triangular no. 10\n"
     ]
    },
    {
     "name": "stdout",
     "output_type": "stream",
     "text": [
      "{1, 3, 36, 6, 10, 45, 15, 21, 55, 28}\n"
     ]
    }
   ],
   "source": [
    "# 47. Create a set of the first n triangular numbers\n",
    "\n",
    "# taking input from user\n",
    "n_tr_st= int(input(\"Enter the value of n for triangular no.\"))\n",
    "\n",
    "# creating the set\n",
    "set_trng = {int(i*(i+1)/2) for i in range(1, n_tr_st+1)}\n",
    "\n",
    "#displaying output\n",
    "print(set_trng)"
   ]
  },
  {
   "cell_type": "code",
   "execution_count": 45,
   "id": "504ff8b3-6670-4d48-b969-799f004f7916",
   "metadata": {},
   "outputs": [
    {
     "name": "stdout",
     "output_type": "stream",
     "text": [
      "{3, 4, 5} is sub set of {1, 2, 3, 4, 5, 6, 7, 8}\n"
     ]
    }
   ],
   "source": [
    "# 48. Check if a set contains another set as a subset\n",
    "\n",
    "s27 = {1,2,3,4,5,6,7,8}\n",
    "s28 = {3,4,5}\n",
    "\n",
    "# checking the condition\n",
    "if s27.issuperset(s28):\n",
    "    print(f\"{s28} is sub set of {s27}\")\n",
    "else:\n",
    "    print(\"No super set\")"
   ]
  },
  {
   "cell_type": "code",
   "execution_count": 46,
   "id": "f48300ba-d750-4328-86bf-5a220f66bce8",
   "metadata": {},
   "outputs": [
    {
     "data": {
      "text/plain": [
       "'No it cannont be created as the set is unordered collection with no duplicate\\nelements'"
      ]
     },
     "execution_count": 46,
     "metadata": {},
     "output_type": "execute_result"
    }
   ],
   "source": [
    "# 49. Create a set of alternating 1s and 0s of length n\n",
    "\n",
    "'''No it cannont be created as the set is unordered collection with no duplicate\n",
    "elements'''"
   ]
  },
  {
   "cell_type": "code",
   "execution_count": 48,
   "id": "231e6a3e-2ca9-41f2-bbb4-16c5b2f09b87",
   "metadata": {},
   "outputs": [
    {
     "name": "stdout",
     "output_type": "stream",
     "text": [
      "{1, 2, 3, 4, 5, 6, 7, 8, 9}\n"
     ]
    }
   ],
   "source": [
    "# 50. Merge multiple sets into one.\n",
    "\n",
    "s29 = {1,2,3}\n",
    "s30 = {4,5,6}\n",
    "s31 = {7,8,9}\n",
    "\n",
    "# Merging the above sets\n",
    "s_merged = s29.union(s30,s31)\n",
    "\n",
    "# displaying the output\n",
    "print(s_merged)"
   ]
  },
  {
   "cell_type": "code",
   "execution_count": null,
   "id": "9b736be9-9f12-479f-8e07-8f96313a4d13",
   "metadata": {},
   "outputs": [],
   "source": []
  }
 ],
 "metadata": {
  "kernelspec": {
   "display_name": "Python 3 (ipykernel)",
   "language": "python",
   "name": "python3"
  },
  "language_info": {
   "codemirror_mode": {
    "name": "ipython",
    "version": 3
   },
   "file_extension": ".py",
   "mimetype": "text/x-python",
   "name": "python",
   "nbconvert_exporter": "python",
   "pygments_lexer": "ipython3",
   "version": "3.11.4"
  }
 },
 "nbformat": 4,
 "nbformat_minor": 5
}
