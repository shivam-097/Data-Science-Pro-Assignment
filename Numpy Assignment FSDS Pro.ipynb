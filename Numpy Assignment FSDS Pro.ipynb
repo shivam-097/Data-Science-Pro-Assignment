{
 "cells": [
  {
   "cell_type": "markdown",
   "id": "06d40bdc",
   "metadata": {},
   "source": [
    "### 1. What is a Python library? Why do we use Python libraries?"
   ]
  },
  {
   "cell_type": "markdown",
   "id": "ccb38f7b",
   "metadata": {},
   "source": [
    "A Python library is a collection of pre-written Python code that provides functionalities for specific tasks or domains. These libraries contain modules, functions, and classes that developers can use to perform various tasks without having to write the code from scratch.\n",
    "\n",
    "We use Python libraries for several reasons:\n",
    "\n",
    "1. Code Reusability: Libraries contain pre-written code that can be reused across projects, saving time and effort for developers.\n",
    "\n",
    "2. Increased Productivity: By leveraging existing libraries, developers can focus on implementing specific features or solving unique problems rather than spending time on common tasks.\n",
    "\n",
    "3. Domain-specific Functionality: Python libraries are often specialized for specific domains such as data analysis, machine learning, web development, etc. Using these libraries allows developers to leverage the expertise and optimizations tailored for those domains.\n",
    "\n",
    "4. Performance Optimization: Libraries are often optimized for performance, utilizing efficient algorithms and data structures, which can lead to faster execution of code.\n",
    "\n",
    "5. Community Support and Collaboration: Python libraries are usually developed and maintained by a community of contributors. This allows developers to benefit from collective knowledge, bug fixes, and updates contributed by the community.\n",
    "\n",
    "6. Overall, Python libraries are essential tools for Python developers as they enable them to build complex and powerful applications efficiently by leveraging existing solutions and community expertise."
   ]
  },
  {
   "cell_type": "markdown",
   "id": "0a8a15bc",
   "metadata": {},
   "source": [
    "### 2. What is the difference between Numpy array and List?"
   ]
  },
  {
   "cell_type": "markdown",
   "id": "1cff3a1d",
   "metadata": {},
   "source": [
    "NumPy arrays and Python lists are both used to store collections of elements, but they have several differences:\n",
    "\n",
    "1. Data Type: NumPy arrays are homogeneous, meaning they can only contain elements of the same data type (e.g., integers, floats, etc.). In contrast, Python lists can contain elements of different data types.\n",
    "\n",
    "2. Memory Efficiency: NumPy arrays are more memory efficient than Python lists. This is because NumPy arrays are stored as contiguous blocks of memory, whereas Python lists are pointers to objects stored elsewhere in memory.\n",
    "\n",
    "3. Performance: NumPy operations are typically faster than equivalent operations on Python lists, especially for large datasets. This is because NumPy arrays leverage vectorized operations and are implemented in C, which is more efficient than the Python interpreter.\n",
    "\n",
    "4. Functionality: NumPy arrays offer a wide range of mathematical operations and functions optimized for numerical computations. They also support multi-dimensional arrays and broadcasting, which allows operations on arrays of different shapes. Python lists, on the other hand, have fewer built-in functionalities for numerical computations.\n",
    "\n",
    "5. Ease of Use: Python lists are more versatile and easier to work with for general-purpose tasks due to their flexibility and built-in methods. NumPy arrays, while powerful for numerical computations, may require additional learning and understanding of array-oriented programming concepts.\n",
    "\n",
    "In summary, NumPy arrays are preferable for numerical computations and large datasets due to their performance and memory efficiency, while Python lists are more versatile and easier to use for general-purpose tasks."
   ]
  },
  {
   "cell_type": "markdown",
   "id": "933398db",
   "metadata": {},
   "source": [
    "### 3. Find the shape, size and dimension of the following array?\n",
    "[[1, 2, 3, 4]\n",
    "[5, 6, 7, 8],\n",
    "[9, 10, 11, 12]]"
   ]
  },
  {
   "cell_type": "code",
   "execution_count": 11,
   "id": "1d27a60e",
   "metadata": {},
   "outputs": [
    {
     "name": "stdout",
     "output_type": "stream",
     "text": [
      "Shape of the array is =  (3, 4)\n",
      "Size of the array is =  12\n",
      "Dimension of the array is =  2\n"
     ]
    }
   ],
   "source": [
    "import numpy as np\n",
    "\n",
    "# Creating the array\n",
    "arr = np.array([[1, 2, 3, 4],[5, 6, 7, 8], [9, 10, 11, 12]])\n",
    "\n",
    "# Shape of the array\n",
    "shape = arr.shape\n",
    "print(\"Shape of the array is = \", shape)\n",
    "\n",
    "# Size of the array\n",
    "size = arr.size\n",
    "print(\"Size of the array is = \", size)\n",
    "\n",
    "# dimension of the array\n",
    "dim = arr.ndim\n",
    "print(\"Dimension of the array is = \", dim)"
   ]
  },
  {
   "cell_type": "markdown",
   "id": "d437c3d1",
   "metadata": {},
   "source": [
    "### 4. Write python code to access the first row of the following array?\n",
    "[[1, 2, 3, 4]\n",
    "[5, 6, 7, 8],\n",
    "[9, 10, 11, 12]]"
   ]
  },
  {
   "cell_type": "code",
   "execution_count": 14,
   "id": "8a44419e",
   "metadata": {},
   "outputs": [
    {
     "name": "stdout",
     "output_type": "stream",
     "text": [
      "The first row of the array is  = [1 2 3 4]\n"
     ]
    }
   ],
   "source": [
    "# creating the array\n",
    "arr1 = np.array([[1, 2, 3, 4], [5, 6, 7, 8], [9, 10, 11, 12]])\n",
    "\n",
    "# first row access\n",
    "\n",
    "print(\"The first row of the array is  =\", arr1[0])\n"
   ]
  },
  {
   "cell_type": "markdown",
   "id": "86fc2b60",
   "metadata": {},
   "source": [
    "### 5. How do you access the element at the third row and fourth column from the given numpy array?\n",
    "[[1, 2, 3, 4]\n",
    "[5, 6, 7, 8],\n",
    "[9, 10, 11, 12]]"
   ]
  },
  {
   "cell_type": "code",
   "execution_count": 17,
   "id": "3c0f1452",
   "metadata": {},
   "outputs": [
    {
     "name": "stdout",
     "output_type": "stream",
     "text": [
      "The element at third row and fourth column is = 12\n"
     ]
    }
   ],
   "source": [
    "# Creating the array\n",
    "arr2 = np.array([[1, 2, 3, 4], [5, 6, 7, 8], [9, 10, 11, 12]])\n",
    "\n",
    "# Accessing the element\n",
    "print(\"The element at third row and fourth column is =\", arr2[2][3])"
   ]
  },
  {
   "cell_type": "markdown",
   "id": "f768b8bc",
   "metadata": {},
   "source": [
    "### 6. Write code to extract all odd -indexed elements from the given numpy array?\n",
    "[[1, 2, 3, 4]\n",
    "[5, 6, 7, 8],\n",
    "[9, 10, 11, 12]]"
   ]
  },
  {
   "cell_type": "code",
   "execution_count": 19,
   "id": "14ea6060",
   "metadata": {},
   "outputs": [
    {
     "name": "stdout",
     "output_type": "stream",
     "text": [
      "Odd-indexed elements:\n",
      "[[ 2  4]\n",
      " [ 6  8]\n",
      " [10 12]]\n"
     ]
    }
   ],
   "source": [
    "# Creating the array\n",
    "arr3 = np.array([[1, 2, 3, 4], [5, 6, 7, 8],[9, 10, 11, 12]])\n",
    "\n",
    "# extracting the element\n",
    "odd_indexed_elements = arr[:, 1::2]\n",
    "\n",
    "print(\"Odd-indexed elements:\")\n",
    "print(odd_indexed_elements)"
   ]
  },
  {
   "cell_type": "markdown",
   "id": "69dce99f",
   "metadata": {},
   "source": [
    "### 7. How can you generate a random 3x3 matrix with values between 0 and 1?"
   ]
  },
  {
   "cell_type": "code",
   "execution_count": 29,
   "id": "6515c9b5",
   "metadata": {},
   "outputs": [
    {
     "name": "stdout",
     "output_type": "stream",
     "text": [
      "The matrix is as below:\n",
      "[[0.84968441 0.31679875 0.5764795 ]\n",
      " [0.9039552  0.48621852 0.18438854]\n",
      " [0.4713804  0.09381361 0.32514948]]\n"
     ]
    }
   ],
   "source": [
    "# Generation of matrix\n",
    "\n",
    "mat = np.random.rand(3,3)\n",
    "\n",
    "print(\"The matrix is as below:\")\n",
    "print(mat)"
   ]
  },
  {
   "cell_type": "markdown",
   "id": "53622c69",
   "metadata": {},
   "source": [
    "### 8. Describe the difference between np.random.rand and np.random.randn?"
   ]
  },
  {
   "cell_type": "markdown",
   "id": "5236357f",
   "metadata": {},
   "source": [
    "np.random.rand and np.random.randn are both functions provided by the NumPy library for generating random numbers, but they differ in the way they generate these numbers and the distribution they follow.\n",
    "\n",
    "1. np.random.rand: This function generates random numbers from a uniform distribution over the range [0, 1). It takes as input the dimensions of the output array. For example, if you specify the dimensions (2, 3), it will return a 2x3 array filled with random numbers between 0 and 1.\n",
    "\n",
    "\n",
    "2. np.random.randn: This function generates random numbers from a standard normal distribution (mean = 0, standard deviation = 1). It also takes as input the dimensions of the output array. For example, if you specify the dimensions (2, 3), it will return a 2x3 array filled with random numbers following the standard normal distribution."
   ]
  },
  {
   "cell_type": "markdown",
   "id": "210bdd69",
   "metadata": {},
   "source": [
    "### 9. Write code to increase the dimension of the following array?\n",
    "[[1, 2, 3, 4],\n",
    "[5, 6, 7, 8],\n",
    "[9, 10, 11, 12]]"
   ]
  },
  {
   "cell_type": "code",
   "execution_count": 33,
   "id": "b9a2e3e1",
   "metadata": {},
   "outputs": [
    {
     "name": "stdout",
     "output_type": "stream",
     "text": [
      "The array after expanded dimension is:\n",
      "[[[ 1  2  3  4]\n",
      "  [ 5  6  7  8]\n",
      "  [ 9 10 11 12]]]\n"
     ]
    }
   ],
   "source": [
    "# Creating the array\n",
    "arr4 = np.array([[1,2,3,4], [5,6,7,8], [9,10,11,12]])\n",
    "\n",
    "# Expanding the dimensions\n",
    "expand_arr = np.expand_dims(arr4, axis = 0)\n",
    "\n",
    "\n",
    "print(\"The array after expanded dimension is:\")\n",
    "print(expand_arr)"
   ]
  },
  {
   "cell_type": "markdown",
   "id": "4fbf61d5",
   "metadata": {},
   "source": [
    "### 10. How to transpose the following array in NumPy?\n",
    "[[1, 2, 3, 4]\n",
    "[5, 6, 7, 8],\n",
    "[9, 10, 11, 12]]"
   ]
  },
  {
   "cell_type": "code",
   "execution_count": 36,
   "id": "c4070128",
   "metadata": {},
   "outputs": [
    {
     "name": "stdout",
     "output_type": "stream",
     "text": [
      "The original array is:\n",
      "[[ 1  2  3  4]\n",
      " [ 5  6  7  8]\n",
      " [ 9 10 11 12]]\n",
      "\n",
      "\n",
      "The array after transpose is :\n",
      "[[ 1  5  9]\n",
      " [ 2  6 10]\n",
      " [ 3  7 11]\n",
      " [ 4  8 12]]\n"
     ]
    }
   ],
   "source": [
    "# Creating the array\n",
    "arr5 = np.array([[1, 2, 3, 4],\n",
    "[5, 6, 7, 8],\n",
    "[9, 10, 11, 12]])\n",
    "\n",
    "print(\"The original array is:\")\n",
    "print(arr5)\n",
    "print('\\n')\n",
    "# Transposing the array\n",
    "transpose_array = arr5.T\n",
    "\n",
    "print(\"The array after transpose is :\")\n",
    "print(transpose_array)"
   ]
  },
  {
   "cell_type": "markdown",
   "id": "16320293",
   "metadata": {},
   "source": [
    "### 11. Consider the following matrix:\n",
    "#### Matrix A: [[1, 2, 3, 4] [5, 6, 7, 8],[9, 10, 11, 12]]\n",
    "#### Matrix B: [[1, 2, 3, 4] [5, 6, 7, 8],[9, 10, 11, 12]]\n",
    "\n",
    "#### Perform the following operation using Python1\n",
    "1. Index wise multiplication\n",
    "2. Matix multiplication\n",
    "3. Add both the matrix\n",
    "4. Subtact matix B from A\n",
    "5. Divide Matrix B by A"
   ]
  },
  {
   "cell_type": "code",
   "execution_count": 38,
   "id": "a5fbc6a2",
   "metadata": {},
   "outputs": [
    {
     "name": "stdout",
     "output_type": "stream",
     "text": [
      "The index wise multiplication of A with B is:\n",
      "[[  1   4   9  16]\n",
      " [ 25  36  49  64]\n",
      " [ 81 100 121 144]]\n"
     ]
    }
   ],
   "source": [
    "# creating both the matrix\n",
    "\n",
    "A = np.array([[1,2,3,4], [5,6,7,8], [9,10,11,12]])\n",
    "B = np.array([[1,2,3,4], [5,6,7,8], [9,10,11,12]])\n",
    "\n",
    "# Index wise multiplication\n",
    "ind_mul = A*B\n",
    "print(\"The index wise multiplication of A with B is:\")\n",
    "print(ind_mul)"
   ]
  },
  {
   "cell_type": "markdown",
   "id": "99410203",
   "metadata": {},
   "source": [
    "#### Matrix Multiplication is not possible for the given matrix as the number of column of matrix A is not equal to number of row in matrix B"
   ]
  },
  {
   "cell_type": "code",
   "execution_count": 40,
   "id": "2136abe2",
   "metadata": {},
   "outputs": [
    {
     "name": "stdout",
     "output_type": "stream",
     "text": [
      "Addition of matrix A and B is:\n",
      "[[ 2  4  6  8]\n",
      " [10 12 14 16]\n",
      " [18 20 22 24]]\n"
     ]
    }
   ],
   "source": [
    "# Addition of A and B\n",
    "\n",
    "add_A_B = A+B\n",
    "print(\"Addition of matrix A and B is:\")\n",
    "print(add_A_B)"
   ]
  },
  {
   "cell_type": "code",
   "execution_count": 41,
   "id": "ac63e5a3",
   "metadata": {},
   "outputs": [
    {
     "name": "stdout",
     "output_type": "stream",
     "text": [
      "Subtraction of B from A:\n",
      "[[0 0 0 0]\n",
      " [0 0 0 0]\n",
      " [0 0 0 0]]\n"
     ]
    }
   ],
   "source": [
    "# Subtract B from A\n",
    "sub_B_A = B-A\n",
    "print(\"Subtraction of B from A:\")\n",
    "print(sub_B_A)"
   ]
  },
  {
   "cell_type": "code",
   "execution_count": 42,
   "id": "b115f243",
   "metadata": {},
   "outputs": [
    {
     "name": "stdout",
     "output_type": "stream",
     "text": [
      "Divsion of B by A results:\n",
      "[[1. 1. 1. 1.]\n",
      " [1. 1. 1. 1.]\n",
      " [1. 1. 1. 1.]]\n"
     ]
    }
   ],
   "source": [
    "# Divide matrix B by A\n",
    "div_B_A = B/A\n",
    "print(\"Divsion of B by A results:\")\n",
    "print(div_B_A)"
   ]
  },
  {
   "cell_type": "markdown",
   "id": "e58beca6",
   "metadata": {},
   "source": [
    "### 12. Which function in Numpy can be used to swap the byte order of an array?"
   ]
  },
  {
   "cell_type": "markdown",
   "id": "0f6d7ea4",
   "metadata": {},
   "source": [
    "In NumPy, we can use the byteswap() function to swap the byte order of an array. This function swaps the byte order of the elements of the array in place."
   ]
  },
  {
   "cell_type": "code",
   "execution_count": 45,
   "id": "f9a387c5",
   "metadata": {},
   "outputs": [
    {
     "name": "stdout",
     "output_type": "stream",
     "text": [
      "Original array:\n",
      "[    1   256 65536]\n",
      "\n",
      "\n",
      "Swapped byte order array:\n",
      "[16777216    65536      256]\n"
     ]
    }
   ],
   "source": [
    "import numpy as np\n",
    "\n",
    "# Create an array\n",
    "array = np.array([1, 256, 65536], dtype=np.int32)\n",
    "\n",
    "# Swap byte order\n",
    "swapped_array = array.byteswap()\n",
    "\n",
    "print(\"Original array:\")\n",
    "print(array)\n",
    "print('\\n')\n",
    "\n",
    "print(\"Swapped byte order array:\")\n",
    "print(swapped_array)\n"
   ]
  },
  {
   "cell_type": "markdown",
   "id": "1c0f7b20",
   "metadata": {},
   "source": [
    "### 13. What is the significance of the np.linalg.inv function?"
   ]
  },
  {
   "cell_type": "markdown",
   "id": "6f1652f5",
   "metadata": {},
   "source": [
    "The np.linalg.inv function in NumPy is used to compute the multiplicative inverse of a square matrix. The significance of this function lies in its application in linear algebra, particularly in solving systems of linear equations and in various other mathematical computations.\n",
    "\n",
    "Here are some key points regarding the significance of np.linalg.inv:\n",
    "\n",
    "1. Solving Linear Equations: One of the primary applications of matrix inversion is in solving systems of linear equations of the form Ax = b, where A is a coefficient matrix, x is the vector of variables to be solved for, and b is the constant vector. If A is a square matrix, then the solution can be found using the equation x = A⁻¹b.\n",
    "\n",
    "2. Matrix Division: In linear algebra, division of matrices is not defined. However, the concept of inverse matrices is analogous to division. If A is an invertible square matrix (i.e., its determinant is non-zero), then A⁻¹ represents the \"inverse\" of A, such that A⁻¹A = I, where I is the identity matrix.\n",
    "\n",
    "3. Eigenvalue and Eigenvector Computations: Matrix inversion is also used in the computation of eigenvalues and eigenvectors. For a square matrix A, the eigenvalues λ and eigenvectors v satisfy the equation Av = λv. In some cases, solving for eigenvalues and eigenvectors involves computing the inverse of the matrix (A - λI), where I is the identity matrix.\n",
    "\n",
    "4. Numerical Stability: In practical numerical computations, the direct computation of the inverse of a matrix can be numerically unstable, especially for matrices that are ill-conditioned (close to being singular). In such cases, alternative methods such as LU decomposition (via np.linalg.solve) are preferred for solving systems of equations."
   ]
  },
  {
   "cell_type": "markdown",
   "id": "a93dc9ad",
   "metadata": {},
   "source": [
    "### 14. What does the np.reshape function do, and how is it used?"
   ]
  },
  {
   "cell_type": "markdown",
   "id": "9544c594",
   "metadata": {},
   "source": [
    "The np.reshape function in NumPy is used to change the shape (dimensions) of an array without changing its data. It allows you to reorganize the elements of an array into a new shape while maintaining the total number of elements.\n",
    "\n",
    "Here's how np.reshape is used:"
   ]
  },
  {
   "cell_type": "code",
   "execution_count": 46,
   "id": "68031c3d",
   "metadata": {},
   "outputs": [
    {
     "name": "stdout",
     "output_type": "stream",
     "text": [
      "Original array:\n",
      "[[1 2 3]\n",
      " [4 5 6]]\n",
      "\n",
      "Reshaped array:\n",
      "[[1 2]\n",
      " [3 4]\n",
      " [5 6]]\n"
     ]
    }
   ],
   "source": [
    "import numpy as np\n",
    "\n",
    "# Create an array\n",
    "array = np.array([[1, 2, 3],\n",
    "                  [4, 5, 6]])\n",
    "\n",
    "# Reshape the array to have 3 rows and 2 columns\n",
    "reshaped_array = np.reshape(array, (3, 2))\n",
    "\n",
    "print(\"Original array:\")\n",
    "print(array)\n",
    "print(\"\\nReshaped array:\")\n",
    "print(reshaped_array)"
   ]
  },
  {
   "cell_type": "markdown",
   "id": "53c98882",
   "metadata": {},
   "source": [
    "### 15. What is broadcasting in Numpy?"
   ]
  },
  {
   "cell_type": "markdown",
   "id": "2dc5e8e3",
   "metadata": {},
   "source": [
    "Broadcasting in NumPy is a powerful mechanism that allows arrays with different shapes to be combined together in element-wise operations. This means that you can perform arithmetic operations, for example, on arrays of different shapes without having to explicitly reshape or tile them to match each other's shapes. Broadcasting effectively extends the element-wise operations to operate on arrays of different shapes by implicitly replicating the smaller array along the missing dimensions."
   ]
  },
  {
   "cell_type": "code",
   "execution_count": null,
   "id": "5217db0a",
   "metadata": {},
   "outputs": [],
   "source": []
  }
 ],
 "metadata": {
  "kernelspec": {
   "display_name": "Python 3 (ipykernel)",
   "language": "python",
   "name": "python3"
  },
  "language_info": {
   "codemirror_mode": {
    "name": "ipython",
    "version": 3
   },
   "file_extension": ".py",
   "mimetype": "text/x-python",
   "name": "python",
   "nbconvert_exporter": "python",
   "pygments_lexer": "ipython3",
   "version": "3.11.5"
  }
 },
 "nbformat": 4,
 "nbformat_minor": 5
}
