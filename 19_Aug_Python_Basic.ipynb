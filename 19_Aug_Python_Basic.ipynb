{
 "cells": [
  {
   "cell_type": "markdown",
   "id": "a242a9f1",
   "metadata": {},
   "source": [
    "# PYTHON BASIC VARIABLES"
   ]
  },
  {
   "cell_type": "markdown",
   "id": "915c0b4d",
   "metadata": {},
   "source": [
    "1. Declare two variables, `x` and `y`, and assign them integer values.\n",
    "Swap the values of these variables without using any temporary\n",
    "variable."
   ]
  },
  {
   "cell_type": "code",
   "execution_count": 1,
   "id": "72c84b8b",
   "metadata": {},
   "outputs": [
    {
     "name": "stdout",
     "output_type": "stream",
     "text": [
      "11\n",
      "10\n"
     ]
    }
   ],
   "source": [
    "'''Ans.1'''\n",
    "\n",
    "x,y=10,11\n",
    "\n",
    "#Swapping the value of the variables\n",
    "\n",
    "x,y=y,x\n",
    "\n",
    "# printing the swapped value at console\n",
    "\n",
    "print(x)\n",
    "print(y)"
   ]
  },
  {
   "cell_type": "markdown",
   "id": "2b61b9e6",
   "metadata": {},
   "source": [
    "2. Create a program that calculates the area of a rectangle. Take the\n",
    "length and width as inputs from the user and store them in variables.\n",
    "Calculate and display the area."
   ]
  },
  {
   "cell_type": "code",
   "execution_count": 5,
   "id": "11ee510f",
   "metadata": {},
   "outputs": [
    {
     "name": "stdout",
     "output_type": "stream",
     "text": [
      "Enter the length of rectangle: 1\n",
      "Enter the width of rectange: 10\n",
      "The area of rectangle is  10\n"
     ]
    }
   ],
   "source": [
    "'''Ans.2'''\n",
    "\n",
    "# Taking input from user\n",
    "\n",
    "length=int(input(\"Enter the length of rectangle: \"))\n",
    "width=int(input(\"Enter the width of rectange: \"))\n",
    "\n",
    "# Calculating area of rectangle as per user input\n",
    "\n",
    "area=length*width\n",
    "\n",
    "# Displaying the output at console\n",
    "\n",
    "print(\"The area of rectangle is \", area)"
   ]
  },
  {
   "cell_type": "markdown",
   "id": "ea64ef9c",
   "metadata": {},
   "source": [
    "3. Write a Python program that converts temperature from Celsius to\n",
    "Fahrenheit. Take the temperature in Celsius as input, store it in a\n",
    "variable, convert it to Fahrenheit, and display the result."
   ]
  },
  {
   "cell_type": "code",
   "execution_count": 6,
   "id": "4367af14",
   "metadata": {},
   "outputs": [
    {
     "name": "stdout",
     "output_type": "stream",
     "text": [
      "Enter the temparature in celsius: 37\n",
      "The temp in fahrenheit is  98.6\n"
     ]
    }
   ],
   "source": [
    "'''Ans.3'''\n",
    "\n",
    "# Taking input from user\n",
    "\n",
    "celsius=float(input(\"Enter the temparature in celsius: \"))\n",
    "\n",
    "# converting temperature in celsius to fahrenheit\n",
    "\n",
    "fah=celsius*9/5 + 32\n",
    "\n",
    "# Displaying output at console:\n",
    "\n",
    "print(\"The temp in fahrenheit is \", fah)"
   ]
  },
  {
   "cell_type": "markdown",
   "id": "466c8752",
   "metadata": {},
   "source": [
    "# STRING BASIC QUESTIONS"
   ]
  },
  {
   "cell_type": "markdown",
   "id": "11d7b8e5",
   "metadata": {},
   "source": [
    "1. Write a Python program that takes a string as input and prints the\n",
    "length of the string."
   ]
  },
  {
   "cell_type": "code",
   "execution_count": 7,
   "id": "c1f900d8",
   "metadata": {},
   "outputs": [
    {
     "name": "stdout",
     "output_type": "stream",
     "text": [
      "Enter your string: Hello\n",
      "Length of string is:  5\n"
     ]
    }
   ],
   "source": [
    "'''Ans.1'''\n",
    "\n",
    "# Taking input from user\n",
    "\n",
    "string1= input(\"Enter your string: \")\n",
    "\n",
    "# Displaying length of string on console as output\n",
    "\n",
    "print(\"Length of string is: \", len(string1))"
   ]
  },
  {
   "cell_type": "markdown",
   "id": "269da8f3",
   "metadata": {},
   "source": [
    "2. Create a program that takes a sentence from the user and counts the\n",
    "number of vowels (a, e, i, o, u) in the string."
   ]
  },
  {
   "cell_type": "code",
   "execution_count": 8,
   "id": "19c8b331",
   "metadata": {},
   "outputs": [
    {
     "name": "stdout",
     "output_type": "stream",
     "text": [
      "Enter your sentence: Hello\n",
      "Number of vowels are in sentence are:  2\n"
     ]
    }
   ],
   "source": [
    "'''Ans.2'''\n",
    "\n",
    "\n",
    "# Taking input from the user\n",
    "\n",
    "sentence=input(\"Enter your sentence: \")\n",
    "\n",
    "# counting no. of vowels\n",
    "\n",
    "count=0\n",
    "\n",
    "for vowel in 'aeiou':\n",
    "    if vowel in sentence.lower():\n",
    "        count+=1\n",
    "\n",
    "# Displaying output on console\n",
    "\n",
    "print(\"Number of vowels are in sentence are: \", count)"
   ]
  },
  {
   "cell_type": "markdown",
   "id": "4158784d",
   "metadata": {},
   "source": [
    "3. Given a string, reverse the order of characters using string slicing and\n",
    "print the reversed string."
   ]
  },
  {
   "cell_type": "code",
   "execution_count": 9,
   "id": "74d43ea1",
   "metadata": {},
   "outputs": [
    {
     "name": "stdout",
     "output_type": "stream",
     "text": [
      "The reversed string is:  dlroW ,olleH\n"
     ]
    }
   ],
   "source": [
    "# Creating a string\n",
    "\n",
    "string2=\"Hello, World\"\n",
    "\n",
    "# reversing the string\n",
    "\n",
    "rev_str=string2[::-1]\n",
    "\n",
    "# Displaying the reversed string\n",
    "\n",
    "print(\"The reversed string is: \", rev_str)"
   ]
  },
  {
   "cell_type": "markdown",
   "id": "c72dfe91",
   "metadata": {},
   "source": [
    "4. Write a program that takes a string as input and checks if it is a\n",
    "palindrome (reads the same forwards and backwards)."
   ]
  },
  {
   "cell_type": "code",
   "execution_count": 11,
   "id": "4ac45d0c",
   "metadata": {},
   "outputs": [
    {
     "name": "stdout",
     "output_type": "stream",
     "text": [
      "Enter the string: elle\n",
      "The string is palindrome\n"
     ]
    }
   ],
   "source": [
    "'''Ans.4'''\n",
    "\n",
    "# Taking input from user\n",
    "\n",
    "string3=input(\"Enter the string: \")\n",
    "\n",
    "# checking if palindrome\n",
    "\n",
    "if string3 == string3[::-1]:\n",
    "    print(\"The string is palindrome\")\n",
    "else:\n",
    "    print(\"The string is not palindrome\")"
   ]
  },
  {
   "cell_type": "markdown",
   "id": "bbd5ada8",
   "metadata": {},
   "source": [
    "5. Create a program that takes a string as input and removes all the\n",
    "spaces from it. Print the modified string without spaces."
   ]
  },
  {
   "cell_type": "code",
   "execution_count": 15,
   "id": "a03d3ca5",
   "metadata": {},
   "outputs": [
    {
     "name": "stdout",
     "output_type": "stream",
     "text": [
      "Enter the string: Hello, World\n",
      "The string with no space is as below:\n",
      " Hello,World\n"
     ]
    }
   ],
   "source": [
    "'''Ans.5'''\n",
    "\n",
    "# Taking input from user\n",
    "\n",
    "string4=input(\"Enter the string: \")\n",
    "\n",
    "# Removing the spaces\n",
    "\n",
    "string_no_space=string4.replace(\" \",\"\")\n",
    "\n",
    "# Displaying output at console\n",
    "\n",
    "print(\"The string with no space is as below:\\n\",string_no_space)"
   ]
  },
  {
   "cell_type": "code",
   "execution_count": null,
   "id": "a8063cf1",
   "metadata": {},
   "outputs": [],
   "source": []
  }
 ],
 "metadata": {
  "kernelspec": {
   "display_name": "Python 3 (ipykernel)",
   "language": "python",
   "name": "python3"
  },
  "language_info": {
   "codemirror_mode": {
    "name": "ipython",
    "version": 3
   },
   "file_extension": ".py",
   "mimetype": "text/x-python",
   "name": "python",
   "nbconvert_exporter": "python",
   "pygments_lexer": "ipython3",
   "version": "3.11.1"
  }
 },
 "nbformat": 4,
 "nbformat_minor": 5
}
