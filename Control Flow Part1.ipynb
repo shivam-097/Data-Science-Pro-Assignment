{
 "cells": [
  {
   "cell_type": "code",
   "execution_count": 1,
   "id": "f6f81685-fa9f-41a0-a2ee-5148cf92d8b7",
   "metadata": {},
   "outputs": [
    {
     "name": "stdin",
     "output_type": "stream",
     "text": [
      "Enter the no. -50\n"
     ]
    },
    {
     "name": "stdout",
     "output_type": "stream",
     "text": [
      "The number is negetive\n"
     ]
    }
   ],
   "source": [
    "# 1. Write a Python program to check if a given number is positive or negative.\n",
    "\n",
    "x  = int(input('Enter the no.'))\n",
    "\n",
    "if x>0:\n",
    "    print(\"The number is positive\")\n",
    "else:\n",
    "    print(\"The number is negetive\")"
   ]
  },
  {
   "cell_type": "code",
   "execution_count": 2,
   "id": "88042637-ecdf-42b2-82b1-bc1bbf365b63",
   "metadata": {},
   "outputs": [
    {
     "name": "stdin",
     "output_type": "stream",
     "text": [
      "Enter your age:  12\n"
     ]
    },
    {
     "name": "stdout",
     "output_type": "stream",
     "text": [
      "You are not eligible to vote.\n"
     ]
    }
   ],
   "source": [
    "# 2. Create a program that determines if a person is eligible to vote based on their age.\n",
    "\n",
    "age = int(input(\"Enter your age: \"))\n",
    "\n",
    "if age>=18:\n",
    "    print(\"You are eligible to vote.\")\n",
    "\n",
    "else:\n",
    "    print(\"You are not eligible to vote.\")"
   ]
  },
  {
   "cell_type": "code",
   "execution_count": 3,
   "id": "cd2a3167-1edf-482d-a1a6-b4e2c9185c64",
   "metadata": {},
   "outputs": [
    {
     "name": "stdout",
     "output_type": "stream",
     "text": [
      "The maximum of both number is 20\n"
     ]
    }
   ],
   "source": [
    "# 3. Develop a program to find the maximum of two numbers using if-else statements.\n",
    "\n",
    "x = 20\n",
    "y = 16\n",
    "\n",
    "if x>y:\n",
    "    print(f\"The maximum of both number is {x}\")\n",
    "\n",
    "else:\n",
    "    print(f\"The maximum of both number is {y}\")"
   ]
  },
  {
   "cell_type": "code",
   "execution_count": 4,
   "id": "04d690a7-6c3c-4cdd-b45d-496f83083ab9",
   "metadata": {},
   "outputs": [
    {
     "name": "stdin",
     "output_type": "stream",
     "text": [
      "Enter the year:  2100\n"
     ]
    },
    {
     "name": "stdout",
     "output_type": "stream",
     "text": [
      "Not leap year\n"
     ]
    }
   ],
   "source": [
    "# 4. Write a Python script to classify a given year as a leap year or not.\n",
    "\n",
    "year = int(input(\"Enter the year: \"))\n",
    "\n",
    "if year%4==0 and year%100!=0:\n",
    "    print(\"It is leap year\")\n",
    "\n",
    "elif year%400==0 and year%100 ==0:\n",
    "    print(\"It is leap year\")\n",
    "\n",
    "else:\n",
    "    print(\"Not leap year\")"
   ]
  },
  {
   "cell_type": "code",
   "execution_count": 5,
   "id": "e489209d-2580-4eb9-81d7-c49de52583e7",
   "metadata": {},
   "outputs": [
    {
     "name": "stdin",
     "output_type": "stream",
     "text": [
      "Enter the character:  c\n"
     ]
    },
    {
     "name": "stdout",
     "output_type": "stream",
     "text": [
      "Entered character is consonant\n"
     ]
    }
   ],
   "source": [
    "# 5. Create a program that checks whether a character is a vowel or a consonant.\n",
    "\n",
    "character = input(\"Enter the character: \")\n",
    "\n",
    "vowel = ['a','e','i', 'o', 'u']\n",
    "\n",
    "if character.lower() in vowel:\n",
    "    print(\"Entered character is vowel\")\n",
    "\n",
    "else:\n",
    "    print(\"Entered character is consonant\")"
   ]
  },
  {
   "cell_type": "code",
   "execution_count": 6,
   "id": "4d3c7ab8-f3a9-4f72-a4df-c2c9f65ad9e6",
   "metadata": {},
   "outputs": [
    {
     "name": "stdin",
     "output_type": "stream",
     "text": [
      "Enter the number:  23\n"
     ]
    },
    {
     "name": "stdout",
     "output_type": "stream",
     "text": [
      "Entered number is odd\n"
     ]
    }
   ],
   "source": [
    "# 6. Implement a program to determine whether a given number is even or odd.\n",
    "\n",
    "num = int(input(\"Enter the number: \"))\n",
    "\n",
    "if num%2==0:\n",
    "    print(\"Entered number is even\")\n",
    "\n",
    "else:\n",
    "    print(\"Entered number is odd\")"
   ]
  },
  {
   "cell_type": "code",
   "execution_count": 7,
   "id": "799f3e43-2a66-45f7-b91c-4e40480ff642",
   "metadata": {},
   "outputs": [
    {
     "name": "stdin",
     "output_type": "stream",
     "text": [
      "Enter the number:  -20\n"
     ]
    },
    {
     "name": "stdout",
     "output_type": "stream",
     "text": [
      "Absolute Value =  20\n"
     ]
    }
   ],
   "source": [
    "# 7. Write a Python function to calculate the absolute value of a number without using the `abs()` function.\n",
    "\n",
    "num = int(input(\"Enter the number: \"))\n",
    "\n",
    "if num<0:\n",
    "    print(\"Absolute Value = \", num*(-1))\n",
    "\n",
    "else:\n",
    "    print(\"Absolute Value = \", num)"
   ]
  },
  {
   "cell_type": "code",
   "execution_count": 9,
   "id": "79d017e6-2538-4950-8189-0931de1d7df1",
   "metadata": {},
   "outputs": [
    {
     "name": "stdin",
     "output_type": "stream",
     "text": [
      "Enter the three numbers separated with comma 3,1,2\n"
     ]
    },
    {
     "name": "stdout",
     "output_type": "stream",
     "text": [
      "3.0 is the largest number\n"
     ]
    }
   ],
   "source": [
    "# 8. Develop a program that determines the largest of three given numbers using if-else statements.\n",
    "\n",
    "p,q,r = tuple(map(lambda x: float(x), input(\"Enter the three numbers separated with comma\").split(\",\")))\n",
    "\n",
    "if p>q and p>r:\n",
    "    print(f\"{p} is the largest number\")\n",
    "\n",
    "elif q>p and q>r:\n",
    "    print(f\"{q} is the largest number\")\n",
    "\n",
    "else:\n",
    "    print(f\"{r} is the largest number\")"
   ]
  },
  {
   "cell_type": "code",
   "execution_count": 10,
   "id": "d10dbcb2-d7bb-4776-aaa1-fb05d67c8936",
   "metadata": {},
   "outputs": [
    {
     "name": "stdin",
     "output_type": "stream",
     "text": [
      "Enter the string:  elle\n"
     ]
    },
    {
     "name": "stdout",
     "output_type": "stream",
     "text": [
      "The string is palindrome\n"
     ]
    }
   ],
   "source": [
    "# 9. Create a program that checks if a given string is a palindrome.\n",
    "\n",
    "string1 = input(\"Enter the string: \")\n",
    "\n",
    "if string1 == string1[::-1]:\n",
    "    print(\"The string is palindrome\")\n",
    "\n",
    "else:\n",
    "    print(\"Not palindrome\")"
   ]
  },
  {
   "cell_type": "code",
   "execution_count": 11,
   "id": "14f0cadc-30e5-488e-9e92-ab527f82f040",
   "metadata": {},
   "outputs": [
    {
     "name": "stdin",
     "output_type": "stream",
     "text": [
      "Enter your exam score in percentage:  76\n"
     ]
    },
    {
     "name": "stdout",
     "output_type": "stream",
     "text": [
      "Grade = 'B' \n"
     ]
    }
   ],
   "source": [
    "# 10. Write a Python program to calculate the grade based on a student's score.\n",
    "\n",
    "score = float(input(\"Enter your exam score in percentage: \"))\n",
    "\n",
    "if score>=77:\n",
    "    print(\"Grade = 'A' \")\n",
    "\n",
    "elif 57<score<77:\n",
    "    print(\"Grade = 'B' \")\n",
    "\n",
    "else:\n",
    "    print(\"Grade = 'C' \")"
   ]
  },
  {
   "cell_type": "code",
   "execution_count": 12,
   "id": "d37be098-f9a7-471e-994d-f091134d1264",
   "metadata": {},
   "outputs": [
    {
     "name": "stdout",
     "output_type": "stream",
     "text": [
      "19 is largest\n"
     ]
    }
   ],
   "source": [
    "# 11. Write a program to find the largest among three numbers using nested if-else statements.\n",
    "\n",
    "a=13\n",
    "b = 19\n",
    "c=3\n",
    "\n",
    "if a>b:\n",
    "    if a>c:\n",
    "        print(f'{a} is largest')\n",
    "\n",
    "    else:\n",
    "        print(f'{c} is largest')\n",
    "\n",
    "elif b>c:\n",
    "    if b>a:\n",
    "        print(f'{b} is largest')\n",
    "\n",
    "    else:\n",
    "        print(f'{a} is largest')\n",
    "\n",
    "elif c>a:\n",
    "    if c>b:\n",
    "        print(f'{c} is largest')\n",
    "    else:\n",
    "        print(f'{b} is largest')"
   ]
  },
  {
   "cell_type": "code",
   "execution_count": 13,
   "id": "03be2f1d-d2b4-4056-ab5c-c88855445833",
   "metadata": {},
   "outputs": [
    {
     "name": "stdin",
     "output_type": "stream",
     "text": [
      "Enter the sides separated with comma 12,12,12\n"
     ]
    },
    {
     "name": "stdout",
     "output_type": "stream",
     "text": [
      "Triangle is equilateral\n"
     ]
    }
   ],
   "source": [
    "# 12. Implement a program to determine if a triangle is equilateral, isosceles, or scalene.\n",
    "\n",
    "a,b,c = tuple(map(lambda x: float(x), input(\"Enter the sides separated with comma\").split(\",\")))\n",
    "\n",
    "if a==b==c:\n",
    "    print(\"Triangle is equilateral\")\n",
    "\n",
    "elif a==b or a==c or b==c:\n",
    "    print(\"Triangle is isosceles\")\n",
    "\n",
    "else:\n",
    "    print(\"Triangle is scalane\")"
   ]
  },
  {
   "cell_type": "code",
   "execution_count": 16,
   "id": "02f15f26-faef-4457-8b05-178eb3bf5829",
   "metadata": {},
   "outputs": [
    {
     "name": "stdin",
     "output_type": "stream",
     "text": [
      "Enter the year:  400\n"
     ]
    },
    {
     "name": "stdout",
     "output_type": "stream",
     "text": [
      "It is leap year and a century year\n"
     ]
    }
   ],
   "source": [
    "# 13. Develop a program that checks if a year is a leap year and also if it is a century year.\n",
    "\n",
    "year = int(input(\"Enter the year: \"))\n",
    "\n",
    "if year%4==0 and year%100!=0:\n",
    "    print(\"It is leap year\")\n",
    "\n",
    "elif year%400==0 and year%100 ==0:\n",
    "    print(\"It is leap year and a century year\")\n",
    "\n",
    "else:\n",
    "    print(\"Not leap year\")"
   ]
  },
  {
   "cell_type": "code",
   "execution_count": 18,
   "id": "9a1e3bdc-646f-441c-a56d-d05cde3132f8",
   "metadata": {},
   "outputs": [
    {
     "name": "stdin",
     "output_type": "stream",
     "text": [
      "Enter the no. 0\n"
     ]
    },
    {
     "name": "stdout",
     "output_type": "stream",
     "text": [
      "The number is zero\n"
     ]
    }
   ],
   "source": [
    "# 14. Write a Python script to determine if a number is positive, negative, or zero.\n",
    "\n",
    "x  = int(input('Enter the no.'))\n",
    "\n",
    "if x>0:\n",
    "    print(\"The number is positive\")\n",
    "\n",
    "elif x==0:\n",
    "    print(\"The number is zero\")\n",
    "\n",
    "else:\n",
    "    print(\"The number is negetive\")"
   ]
  },
  {
   "cell_type": "code",
   "execution_count": 19,
   "id": "e5c6c237-5025-40c0-99a6-bfe3a85d4d45",
   "metadata": {},
   "outputs": [
    {
     "name": "stdin",
     "output_type": "stream",
     "text": [
      "Enter your age:  16\n"
     ]
    },
    {
     "name": "stdout",
     "output_type": "stream",
     "text": [
      "You are a teenager\n"
     ]
    }
   ],
   "source": [
    "# 15. Create a program to check if a person is a teenager (between 13 and 19 years old).\n",
    "\n",
    "age = int(input(\"Enter your age: \"))\n",
    "\n",
    "if 13<=age<=19:\n",
    "    print(\"You are a teenager\")\n",
    "\n",
    "else:\n",
    "    print(\"Not teen\")"
   ]
  },
  {
   "cell_type": "code",
   "execution_count": 20,
   "id": "1528a44d-e076-4fcb-a969-07726f61992e",
   "metadata": {},
   "outputs": [
    {
     "name": "stdin",
     "output_type": "stream",
     "text": [
      "Enter the measure of angle:  120\n"
     ]
    },
    {
     "name": "stdout",
     "output_type": "stream",
     "text": [
      "Angle is obtuse\n"
     ]
    }
   ],
   "source": [
    "# 16. Develop a program that determines the type of angle based on its measure (acute, obtuse, or right).\n",
    "\n",
    "angle= float(input(\"Enter the measure of angle: \"))\n",
    "\n",
    "if angle<90:\n",
    "    print(\"Angle is acute\")\n",
    "\n",
    "elif angle == 90:\n",
    "    print(\"Angle is right\")\n",
    "\n",
    "else:\n",
    "    print(\"Angle is obtuse\")"
   ]
  },
  {
   "cell_type": "code",
   "execution_count": 21,
   "id": "b97711fc-8f30-47b1-9549-c8a07663feb2",
   "metadata": {},
   "outputs": [
    {
     "name": "stdin",
     "output_type": "stream",
     "text": [
      "Enter the coefficients of quadratic equation \n",
      "in format ax^2+bx+c=0 as a,b,c=  1,-5,6\n"
     ]
    },
    {
     "name": "stdout",
     "output_type": "stream",
     "text": [
      "The roots of the quadratic equations are 3.0 and 2.0\n"
     ]
    }
   ],
   "source": [
    "# 17. Write a Python program to calculate the roots of a quadratic equation.\n",
    "\n",
    "'''The roots are calculated by shri dharacharya formula'''\n",
    "\n",
    "import math\n",
    "\n",
    "a,b,c = tuple(map(lambda x: float(x), input('''Enter the coefficients of quadratic equation \n",
    "in format ax^2+bx+c=0 as a,b,c= ''').split(\",\")))\n",
    "\n",
    "if (b**2)-4*(a*c) >0:\n",
    "    root1 = (-b + math.sqrt(b**2 - 4*(a*c)))/(2*a)\n",
    "    root2 = (-b - math.sqrt(b**2 - 4*(a*c)))/(2*a)\n",
    "\n",
    "    print(f\"The roots of the quadratic equations are {root1} and {root2}\")\n",
    "\n",
    "else:\n",
    "    print(\"The roots are imaginary\")"
   ]
  },
  {
   "cell_type": "code",
   "execution_count": 23,
   "id": "7f197d2f-8800-4de4-86ce-eade5fd5231f",
   "metadata": {},
   "outputs": [
    {
     "name": "stdin",
     "output_type": "stream",
     "text": [
      "Enter the day of week:  2\n"
     ]
    },
    {
     "name": "stdout",
     "output_type": "stream",
     "text": [
      "The day is Tuesday\n"
     ]
    }
   ],
   "source": [
    "# 18. Implement a program to determine the day of the week based on a user-provided number (1 for Monday, 2 for Tuesday, etc.).\n",
    "\n",
    "days = ['Monday', 'Tuesday', 'Wednesday', 'Thursday', 'Friday', 'Saturday', 'Sunday']\n",
    "\n",
    "day = int(input(\"Enter the day of week: \"))\n",
    "\n",
    "if 0<day<=7:\n",
    "    print(f\"The day is {days[day-1]}\")\n",
    "\n",
    "else:\n",
    "    print(\"Invalid Day\")"
   ]
  },
  {
   "cell_type": "code",
   "execution_count": 24,
   "id": "04351fe7-c2f5-4d50-b600-7338090660b3",
   "metadata": {},
   "outputs": [
    {
     "name": "stdin",
     "output_type": "stream",
     "text": [
      "Enter the year:  800\n"
     ]
    },
    {
     "name": "stdout",
     "output_type": "stream",
     "text": [
      "It is leap year and evenly divisible by 400\n"
     ]
    }
   ],
   "source": [
    "# 19. Create a program that determines if a year is a leap year and also if it is evenly divisible by 400.\n",
    "\n",
    "year = int(input(\"Enter the year: \"))\n",
    "\n",
    "if year%4==0 and year%100!=0:\n",
    "    print(\"It is leap year\")\n",
    "\n",
    "elif year%400==0 and year%100 ==0:\n",
    "    print(\"It is leap year and evenly divisible by 400\")\n",
    "\n",
    "else:\n",
    "    print(\"Not leap year\")"
   ]
  },
  {
   "cell_type": "code",
   "execution_count": 2,
   "id": "7cafdfa0-ec71-4680-8eb3-289470734dd9",
   "metadata": {},
   "outputs": [
    {
     "name": "stdin",
     "output_type": "stream",
     "text": [
      " 2\n"
     ]
    },
    {
     "name": "stdout",
     "output_type": "stream",
     "text": [
      "Number is prime\n"
     ]
    }
   ],
   "source": [
    "# 20. Develop a program that checks if a given number is prime or not using nested if-else statements.\n",
    "\n",
    "def isprime(n):\n",
    "    for i in range(2,n):\n",
    "        if n%i==0:\n",
    "            return False\n",
    "    return True\n",
    "\n",
    "n = int(input())\n",
    "\n",
    "if isprime(n):\n",
    "    print(\"Number is prime\")\n",
    "\n",
    "else:\n",
    "    print(\"Not prime\")"
   ]
  },
  {
   "cell_type": "code",
   "execution_count": 27,
   "id": "8006d426-7960-46b9-99f6-ba2db5cb4613",
   "metadata": {},
   "outputs": [
    {
     "name": "stdin",
     "output_type": "stream",
     "text": [
      "Enter your exam score in percentage:  34\n"
     ]
    },
    {
     "name": "stdout",
     "output_type": "stream",
     "text": [
      "Grade = 'C' \n"
     ]
    }
   ],
   "source": [
    "# 21. Write a Python program to assign grades based on different ranges of scores using elif statements.\n",
    "\n",
    "score = float(input(\"Enter your exam score in percentage: \"))\n",
    "\n",
    "if score>=77:\n",
    "    print(\"Grade = 'A' \")\n",
    "\n",
    "elif 57<score<77:\n",
    "    print(\"Grade = 'B' \")\n",
    "\n",
    "else:\n",
    "    print(\"Grade = 'C' \")"
   ]
  },
  {
   "cell_type": "code",
   "execution_count": 28,
   "id": "2eb2e8b9-8b21-4a34-8ea6-a6a9b49baafa",
   "metadata": {},
   "outputs": [
    {
     "name": "stdin",
     "output_type": "stream",
     "text": [
      " as a,b,c=  60,60,60\n"
     ]
    },
    {
     "name": "stdout",
     "output_type": "stream",
     "text": [
      "Triangle is equilateral\n"
     ]
    }
   ],
   "source": [
    "# 22. Implement a program to determine the type of a triangle based on its angles.\n",
    "\n",
    "a,b,c = tuple(map(lambda x: float(x), input(''' as a,b,c= ''').split(\",\")))\n",
    "\n",
    "if a==b==c:\n",
    "    print(\"Triangle is equilateral\")\n",
    "\n",
    "elif a>90 or b>90 or c>90:\n",
    "    print(\"Triangle is Obtuse angle triangle\")\n",
    "\n",
    "elif a==90 or b==90 or c==90:\n",
    "    print(\"Triangle is right angle triangle\")\n",
    "\n",
    "else:\n",
    "    print(\"Triangle is acute angle triangle\")"
   ]
  },
  {
   "cell_type": "code",
   "execution_count": 29,
   "id": "5b3c8623-a535-41b9-9c8f-fec0ab5b131b",
   "metadata": {},
   "outputs": [
    {
     "name": "stdin",
     "output_type": "stream",
     "text": [
      " 23\n"
     ]
    },
    {
     "name": "stdout",
     "output_type": "stream",
     "text": [
      "Normal\n"
     ]
    }
   ],
   "source": [
    "# 23. Develop a program to categorize a given person's BMI into underweight, normal, overweight, or obese using elif statements.\n",
    "\n",
    "bmi = float(input())\n",
    "\n",
    "if bmi<18.5:\n",
    "    print(\"Underweight\")\n",
    "\n",
    "elif 18.5<=bmi<=24.9:\n",
    "    print(\"Normal\")\n",
    "\n",
    "elif 25<=bmi<=29.9:\n",
    "    print(\"Overweight\")\n",
    "\n",
    "else:\n",
    "    print(\"Obese\")"
   ]
  },
  {
   "cell_type": "code",
   "execution_count": 30,
   "id": "851a4317-5cd7-4aab-b536-2af7b272f159",
   "metadata": {},
   "outputs": [
    {
     "name": "stdin",
     "output_type": "stream",
     "text": [
      "Enter the no. 0\n"
     ]
    },
    {
     "name": "stdout",
     "output_type": "stream",
     "text": [
      "The number is zero\n"
     ]
    }
   ],
   "source": [
    "# 24. Create a program that determines whether a given number is positive, negative, or zero using elif statements.\n",
    "\n",
    "x  = int(input('Enter the no.'))\n",
    "\n",
    "if x>0:\n",
    "    print(\"The number is positive\")\n",
    "\n",
    "elif x==0:\n",
    "    print(\"The number is zero\")\n",
    "\n",
    "else:\n",
    "    print(\"The number is negetive\")"
   ]
  },
  {
   "cell_type": "code",
   "execution_count": 31,
   "id": "ea5ec90e-df9c-45c5-ac16-84c678a53e40",
   "metadata": {},
   "outputs": [
    {
     "name": "stdin",
     "output_type": "stream",
     "text": [
      " $\n"
     ]
    },
    {
     "name": "stdout",
     "output_type": "stream",
     "text": [
      "Special character\n"
     ]
    }
   ],
   "source": [
    "# 25. Write a Python script to determine the type of a character (uppercase, lowercase, or special) using elif statements.\n",
    "\n",
    "character = input()\n",
    "\n",
    "if character.isupper():\n",
    "    print(\"Uppercase\")\n",
    "\n",
    "elif character.islower():\n",
    "    print(\"Lowercase\")\n",
    "\n",
    "elif not character.isalnum():\n",
    "    print(\"Special character\")"
   ]
  },
  {
   "cell_type": "code",
   "execution_count": 33,
   "id": "3db3952a-8639-464d-9a5f-ce8c4961506d",
   "metadata": {},
   "outputs": [
    {
     "name": "stdin",
     "output_type": "stream",
     "text": [
      "Enter the billing amount of shopping cart 5000\n"
     ]
    },
    {
     "name": "stdout",
     "output_type": "stream",
     "text": [
      "The payable amount after discount of is Rs.  4000.0\n"
     ]
    }
   ],
   "source": [
    "# 26. Implement a program to calculate the discounted price based on different purchase amounts using elif statements.\n",
    "\n",
    "'''\n",
    "Assuming on shopping of more than 5000 gives discount of 20%\n",
    "shopping of between than 3000 and 4999 gives discount of 10%\n",
    "and shopping of less than 3000 gives discount of 5%\n",
    "'''\n",
    "\n",
    "\n",
    "cost = float(input(\"Enter the billing amount of shopping cart\"))\n",
    "\n",
    "if cost>=5000:\n",
    "    payable_amount = cost - (cost*20/100)\n",
    "\n",
    "elif 3000<cost<5000:\n",
    "    payable_amount = cost - (cost*10/100)\n",
    "\n",
    "else:\n",
    "    payable_amount = cost - (cost*5/100)\n",
    "    \n",
    "print(\"The payable amount after discount of is Rs. \", payable_amount)"
   ]
  },
  {
   "cell_type": "code",
   "execution_count": 34,
   "id": "5408143a-0d3b-4116-b258-3c6b226f449c",
   "metadata": {},
   "outputs": [
    {
     "name": "stdin",
     "output_type": "stream",
     "text": [
      "Enter the total consumed unit:  300\n"
     ]
    },
    {
     "name": "stdout",
     "output_type": "stream",
     "text": [
      "Electricity bill payable = Rs. 1050.0\n"
     ]
    }
   ],
   "source": [
    "# 27. Develop a program to calculate the electricity bill based on different consumption slabs using elif statements.\n",
    "\n",
    "''' \n",
    "  0 - 100 = 0\n",
    "101 - 200 = 4.5\n",
    "201 - 400 = 6\n",
    "401 and more = 7.5\n",
    "'''\n",
    "\n",
    "consumed_unit = int(input(\"Enter the total consumed unit: \"))\n",
    "\n",
    "if consumed_unit<= 100:\n",
    "    ele_bill = 0\n",
    "\n",
    "elif 100<consumed_unit<=200:\n",
    "    ele_bill = 0 + (consumed_unit-100)*4.5\n",
    "\n",
    "elif 200<consumed_unit<=400:\n",
    "    ele_bill = 0 + 100*4.5 + (consumed_unit-200)*6\n",
    "\n",
    "else:\n",
    "    ele_bill = 0 + 100*4.5 + 200*6 + (consumed_unit-400)*7.5\n",
    "\n",
    "print(f\"Electricity bill payable = Rs. {ele_bill}\")"
   ]
  },
  {
   "cell_type": "code",
   "execution_count": 43,
   "id": "10f0d89f-e2a4-422b-b7d2-788fcc902709",
   "metadata": {},
   "outputs": [
    {
     "name": "stdin",
     "output_type": "stream",
     "text": [
      "Sides = comma separated a,b,c,d =  2,2,2,2\n",
      "Angles = comma separated p,q,r,s =  70,110,70,110\n"
     ]
    },
    {
     "name": "stdout",
     "output_type": "stream",
     "text": [
      "Rhombus\n"
     ]
    }
   ],
   "source": [
    "# 28. Create a program to determine the type of quadrilateral based on its angles and sides using elif statements.\n",
    "\n",
    "''' assuming a,b,c,d are sides and \n",
    "    p,q,r,s are the angles\n",
    "'''\n",
    "\n",
    "a,b,c,d = tuple(map(lambda x: float(x), input(\"Sides = comma separated a,b,c,d = \").split(\",\")))\n",
    "\n",
    "p,q,r,s = tuple(map(lambda x: float(x), input(\"Angles = comma separated p,q,r,s = \").split(\",\")))\n",
    "\n",
    "if p+q+r+s ==360:\n",
    "    if a==b==c==d and p==q==r==s==90:\n",
    "        print(\"Square\")\n",
    "\n",
    "    elif ((a==c and b==d) and b!=c) and p==q==r==s==90:\n",
    "        print(\"Rectangle\")\n",
    "\n",
    "    elif a==b==c==d and p==r!=90 and q==s!=90:\n",
    "        print(\"Rhombus\")\n",
    "\n",
    "    elif ((a==c and b==d) and b!=c) and p==r!=90 and q==s!=90:\n",
    "        print(\"Parallelogram\")\n",
    "\n",
    "else:\n",
    "    print(\"Not a quadrilateral\")"
   ]
  },
  {
   "cell_type": "code",
   "execution_count": 44,
   "id": "9169e617-d1ad-41da-8505-344bf547eedd",
   "metadata": {},
   "outputs": [
    {
     "name": "stdin",
     "output_type": "stream",
     "text": [
      "Enter the month from 1 to 12 (Jan-Dec):  3\n"
     ]
    },
    {
     "name": "stdout",
     "output_type": "stream",
     "text": [
      "Spring\n"
     ]
    }
   ],
   "source": [
    "# 29. Write a Python script to determine the season based on a user-provided month using elif statements.\n",
    "\n",
    "list_of_month = [i for i in range(1,13)]\n",
    "\n",
    "month = int(input(\"Enter the month from 1 to 12 (Jan-Dec): \"))\n",
    "\n",
    "if 2<=month<=3:\n",
    "    print(\"Spring\")\n",
    "\n",
    "elif 3<month<6:\n",
    "    print(\"Summer\")\n",
    "\n",
    "elif 6<month<=9:\n",
    "    print(\"Monsoon\")\n",
    "\n",
    "elif 9<month<=11:\n",
    "    print(\"Autumn\")\n",
    "\n",
    "else:\n",
    "    print(\"Winter\")"
   ]
  },
  {
   "cell_type": "code",
   "execution_count": 57,
   "id": "3ef312b7-60fd-4e59-bd28-7b65720056d9",
   "metadata": {
    "scrolled": true
   },
   "outputs": [
    {
     "name": "stdin",
     "output_type": "stream",
     "text": [
      "Enter the date in format DD-MM-YYYY 20-02-2019\n"
     ]
    },
    {
     "name": "stdout",
     "output_type": "stream",
     "text": [
      "Not Leap year and no. of days in month =  28\n"
     ]
    }
   ],
   "source": [
    "# 30. Implement a program to determine the type of a year (leap or common) and month (30 or 31 days) using elif statements.\n",
    "\n",
    "date1 = input(\"Enter the date in format DD-MM-YYYY\")\n",
    "\n",
    "date_list = date1.split(\"-\")\n",
    "\n",
    "def isleap(year):\n",
    "    leap= False\n",
    "    \n",
    "    if year%4==0 and year%100!=0:\n",
    "        leap=True\n",
    "\n",
    "    elif year%400==0 and year%100 ==0:\n",
    "        leap=True\n",
    "\n",
    "    return leap\n",
    "\n",
    "if isleap(int(date_list[2])):\n",
    "    if int(date_list[1]) in [1,3,5,7,8,10,12]:\n",
    "        print(\"Leap year and no. of days in month = \", 31)\n",
    "    elif int(date_list[1]) in [4,6,9,11]:\n",
    "        print(\"Leap year and no. of days in month = \", 30)\n",
    "    else:\n",
    "        print(\"Leap year and no. of days in month = \", 29)\n",
    "\n",
    "else:\n",
    "    if int(date_list[1]) in [1,3,5,7,8,10,12]:\n",
    "        print(\"Not Leap year and no. of days in month = \", 31)\n",
    "    elif int(date_list[1]) in [4,6,9,11]:\n",
    "        print(\"Not Leap year and no. of days in month = \", 30)\n",
    "    else:\n",
    "        print(\"Not Leap year and no. of days in month = \", 28)"
   ]
  },
  {
   "cell_type": "markdown",
   "id": "a495901a-a693-46fb-90f4-a0dee951d0ed",
   "metadata": {},
   "source": []
  },
  {
   "cell_type": "code",
   "execution_count": null,
   "id": "d4e03d6e-9a0c-496a-b56c-370f099bb761",
   "metadata": {},
   "outputs": [],
   "source": []
  },
  {
   "cell_type": "code",
   "execution_count": null,
   "id": "83428a80-61a2-43e4-9ccb-9cb358b4db0c",
   "metadata": {},
   "outputs": [],
   "source": []
  },
  {
   "cell_type": "code",
   "execution_count": null,
   "id": "884ff32b-87ac-47c5-94c4-3d86a30b2962",
   "metadata": {},
   "outputs": [],
   "source": []
  },
  {
   "cell_type": "code",
   "execution_count": null,
   "id": "85b66008-b43b-4987-8073-5c983cf9d845",
   "metadata": {},
   "outputs": [],
   "source": []
  },
  {
   "cell_type": "code",
   "execution_count": null,
   "id": "9ccd4b16-9c07-4617-bfb8-45338a6b0231",
   "metadata": {},
   "outputs": [],
   "source": []
  },
  {
   "cell_type": "code",
   "execution_count": null,
   "id": "d0089b9c-f1c2-4884-9c16-76592d370bb1",
   "metadata": {},
   "outputs": [],
   "source": []
  },
  {
   "cell_type": "code",
   "execution_count": null,
   "id": "c17f408b-4d22-4af9-a8ce-5d724abf747b",
   "metadata": {},
   "outputs": [],
   "source": []
  },
  {
   "cell_type": "code",
   "execution_count": null,
   "id": "57e13b29-ecab-44bc-8b64-40c6b31d85c4",
   "metadata": {},
   "outputs": [],
   "source": []
  },
  {
   "cell_type": "code",
   "execution_count": null,
   "id": "b53682ea-8015-4858-889c-b9a9c2f605ea",
   "metadata": {},
   "outputs": [],
   "source": []
  },
  {
   "cell_type": "code",
   "execution_count": null,
   "id": "b411a3c8-fe2e-49ef-9f10-8c380e17b05b",
   "metadata": {},
   "outputs": [],
   "source": []
  },
  {
   "cell_type": "code",
   "execution_count": null,
   "id": "87b69df7-d8f0-4012-b6c8-d7a51ce73331",
   "metadata": {},
   "outputs": [],
   "source": []
  },
  {
   "cell_type": "code",
   "execution_count": null,
   "id": "d2a440ee-dafd-4250-8712-bcdb9c237c57",
   "metadata": {},
   "outputs": [],
   "source": []
  },
  {
   "cell_type": "code",
   "execution_count": null,
   "id": "db33d361-3aeb-4b53-ae7c-b6c652d36403",
   "metadata": {},
   "outputs": [],
   "source": []
  },
  {
   "cell_type": "code",
   "execution_count": null,
   "id": "75d707b0-5821-4388-b3e9-8ef9a34e94b1",
   "metadata": {},
   "outputs": [],
   "source": []
  },
  {
   "cell_type": "code",
   "execution_count": null,
   "id": "3191cf22-2ff0-4ae5-8517-c9ddf15b76a0",
   "metadata": {},
   "outputs": [],
   "source": []
  },
  {
   "cell_type": "code",
   "execution_count": null,
   "id": "0745ad89-0f01-421c-b52e-cd4bcfa3b1f0",
   "metadata": {},
   "outputs": [],
   "source": []
  },
  {
   "cell_type": "code",
   "execution_count": null,
   "id": "1982fb31-7fad-466b-96bd-964eba8b3141",
   "metadata": {},
   "outputs": [],
   "source": []
  },
  {
   "cell_type": "code",
   "execution_count": null,
   "id": "4b1e3ef3-1d04-43b6-88d0-1cbe45205491",
   "metadata": {},
   "outputs": [],
   "source": []
  },
  {
   "cell_type": "code",
   "execution_count": null,
   "id": "fd2079f5-0a50-4ce6-a1d1-4ac357ffdb01",
   "metadata": {},
   "outputs": [],
   "source": []
  },
  {
   "cell_type": "code",
   "execution_count": null,
   "id": "83cb38e1-bdf6-461e-b7d8-bb6220a65f62",
   "metadata": {},
   "outputs": [],
   "source": []
  },
  {
   "cell_type": "code",
   "execution_count": null,
   "id": "1e1c71f7-a64b-4a0e-aeec-5c6469dc07b6",
   "metadata": {},
   "outputs": [],
   "source": []
  },
  {
   "cell_type": "code",
   "execution_count": null,
   "id": "c56bb510-082b-4062-a833-6b6f09c05d4b",
   "metadata": {},
   "outputs": [],
   "source": []
  },
  {
   "cell_type": "code",
   "execution_count": null,
   "id": "95948c9d-00ac-482d-ba24-2f99f75dd259",
   "metadata": {},
   "outputs": [],
   "source": []
  },
  {
   "cell_type": "code",
   "execution_count": null,
   "id": "c90f7ff9-a882-4b92-8580-c14bbc89f661",
   "metadata": {},
   "outputs": [],
   "source": []
  }
 ],
 "metadata": {
  "kernelspec": {
   "display_name": "Python 3 (ipykernel)",
   "language": "python",
   "name": "python3"
  },
  "language_info": {
   "codemirror_mode": {
    "name": "ipython",
    "version": 3
   },
   "file_extension": ".py",
   "mimetype": "text/x-python",
   "name": "python",
   "nbconvert_exporter": "python",
   "pygments_lexer": "ipython3",
   "version": "3.11.4"
  }
 },
 "nbformat": 4,
 "nbformat_minor": 5
}
