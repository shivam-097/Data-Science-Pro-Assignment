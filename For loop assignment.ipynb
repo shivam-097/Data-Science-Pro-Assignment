{
 "cells": [
  {
   "cell_type": "code",
   "execution_count": 1,
   "id": "97e640f1-fbb9-4c82-8d06-b062a6e6901c",
   "metadata": {},
   "outputs": [
    {
     "name": "stdout",
     "output_type": "stream",
     "text": [
      "1\n",
      "2\n",
      "3\n",
      "4\n",
      "5\n",
      "6\n",
      "7\n",
      "8\n",
      "9\n",
      "10\n"
     ]
    }
   ],
   "source": [
    "# 1. Write a Python program to print the numbers from 1 to 10 using a `for` loop.\n",
    "\n",
    "for i in range(1,11):\n",
    "    print(i)"
   ]
  },
  {
   "cell_type": "code",
   "execution_count": 3,
   "id": "019a3554-b5d5-45cb-9981-eb8bd4a0297c",
   "metadata": {},
   "outputs": [
    {
     "name": "stdout",
     "output_type": "stream",
     "text": [
      "29\n"
     ]
    }
   ],
   "source": [
    "# 2. Create a program that calculates the sum of all numbers in a list using a `for` loop.\n",
    "\n",
    "list1 = [2,3,4,5,7,8]\n",
    "sum=0\n",
    "\n",
    "for i in list1:\n",
    "    sum+=i\n",
    "\n",
    "print(sum)"
   ]
  },
  {
   "cell_type": "code",
   "execution_count": 5,
   "id": "4e3c560e-18fb-4940-be9a-c6d50ba7e1cb",
   "metadata": {},
   "outputs": [
    {
     "name": "stdout",
     "output_type": "stream",
     "text": [
      "sllikswp\n"
     ]
    }
   ],
   "source": [
    "# 3. Write a program to print the characters of a string in reverse order using a `for` loop.\n",
    "\n",
    "string1 = 'pwskills'\n",
    "rev_str = ''\n",
    "\n",
    "for i in reversed(range(0, len(string1))):\n",
    "    rev_str +=string1[i]\n",
    "\n",
    "print(rev_str)"
   ]
  },
  {
   "cell_type": "code",
   "execution_count": 7,
   "id": "992b9ee5-8848-4283-9002-dd47b6d9b26b",
   "metadata": {},
   "outputs": [
    {
     "name": "stdin",
     "output_type": "stream",
     "text": [
      "Enter the number:  5\n"
     ]
    },
    {
     "name": "stdout",
     "output_type": "stream",
     "text": [
      "The factorial of the number is =  120\n"
     ]
    }
   ],
   "source": [
    "# 4. Develop a program that finds the factorial of a given number using a `for` loop.\n",
    "\n",
    "num = int(input(\"Enter the number: \"))\n",
    "fact = 1\n",
    "\n",
    "for i in range (1, num+1):\n",
    "    fact*=i\n",
    "\n",
    "print('The factorial of the number is = ', fact)"
   ]
  },
  {
   "cell_type": "code",
   "execution_count": 8,
   "id": "2dcb4e6d-3e53-4b76-824d-e15f0aa025fd",
   "metadata": {},
   "outputs": [
    {
     "name": "stdin",
     "output_type": "stream",
     "text": [
      "Which number multiplication table you need:  4\n"
     ]
    },
    {
     "name": "stdout",
     "output_type": "stream",
     "text": [
      "4 x 1 = 4 \n",
      "4 x 2 = 8 \n",
      "4 x 3 = 12 \n",
      "4 x 4 = 16 \n",
      "4 x 5 = 20 \n",
      "4 x 6 = 24 \n",
      "4 x 7 = 28 \n",
      "4 x 8 = 32 \n",
      "4 x 9 = 36 \n",
      "4 x 10 = 40 \n"
     ]
    }
   ],
   "source": [
    "# 5. Create a program to print the multiplication table of a given number using a `for` loop.\n",
    "\n",
    "num1 = int(input('Which number multiplication table you need: '))\n",
    "\n",
    "for i in range(1,11):\n",
    "    print(f\"{num1} x {i} = {num1*i} \")"
   ]
  },
  {
   "cell_type": "code",
   "execution_count": 9,
   "id": "61faf67e-931a-4d5a-961f-f39823304ae4",
   "metadata": {},
   "outputs": [
    {
     "name": "stdout",
     "output_type": "stream",
     "text": [
      "There are 4 even numbers and 3 odd numbers\n"
     ]
    }
   ],
   "source": [
    "# 6. Write a program that counts the number of even and odd numbers in a list using a `for` loop.\n",
    "\n",
    "even = 0\n",
    "odd = 0\n",
    "\n",
    "list2 = [2,4,3,5,7,8,2]\n",
    "\n",
    "for i in list2:\n",
    "    if i%2==0:\n",
    "        even+=1\n",
    "\n",
    "    else:\n",
    "        odd+=1\n",
    "\n",
    "print(f\"There are {even} even numbers and {odd} odd numbers\")"
   ]
  },
  {
   "cell_type": "code",
   "execution_count": 10,
   "id": "d97c5496-cf05-4ed1-b992-c05902cb4ddf",
   "metadata": {},
   "outputs": [
    {
     "name": "stdout",
     "output_type": "stream",
     "text": [
      "Sqaure of 1 = 1\n",
      "Sqaure of 2 = 4\n",
      "Sqaure of 3 = 9\n",
      "Sqaure of 4 = 16\n",
      "Sqaure of 5 = 25\n"
     ]
    }
   ],
   "source": [
    "# 7. Develop a program that prints the squares of numbers from 1 to 5 using a `for` loop.\n",
    "\n",
    "for i in range(1,6):\n",
    "    print(f\"Sqaure of {i} = {i**2}\")"
   ]
  },
  {
   "cell_type": "code",
   "execution_count": 11,
   "id": "d5130a8d-8037-4912-b0b0-a82ac1ad609f",
   "metadata": {},
   "outputs": [
    {
     "name": "stdout",
     "output_type": "stream",
     "text": [
      "Length of string is = 8\n"
     ]
    }
   ],
   "source": [
    "# 8. Create a program to find the length of a string without using the `len()` function.\n",
    "\n",
    "str1 = 'pwskills'\n",
    "length = 0\n",
    "\n",
    "for i in str1:\n",
    "    length+=1\n",
    "\n",
    "print(f\"Length of string is = {length}\")"
   ]
  },
  {
   "cell_type": "code",
   "execution_count": 13,
   "id": "65e8bef7-e217-40fa-b2e3-4a1eb09e2b92",
   "metadata": {},
   "outputs": [
    {
     "name": "stdout",
     "output_type": "stream",
     "text": [
      "The average =  11.666666666666666\n"
     ]
    }
   ],
   "source": [
    "# 9. Write a program that calculates the average of a list of numbers using a `for` loop.\n",
    "\n",
    "list3 = [2,3,4,51,3,7]\n",
    "sum = 0\n",
    "\n",
    "for i in list3:\n",
    "    sum+=i\n",
    "\n",
    "avg = sum/len(list3)\n",
    "\n",
    "print(\"The average = \",avg)"
   ]
  },
  {
   "cell_type": "code",
   "execution_count": 19,
   "id": "eb511a07-e310-4ff5-927c-0614e55bd27a",
   "metadata": {},
   "outputs": [
    {
     "name": "stdin",
     "output_type": "stream",
     "text": [
      "Enter the number 3\n"
     ]
    },
    {
     "name": "stdout",
     "output_type": "stream",
     "text": [
      "0 1 1 "
     ]
    }
   ],
   "source": [
    "# 10. Develop a program that prints the first `n` Fibonacci numbers using a `for` loop.\n",
    "\n",
    "n = int(input(\"Enter the number\"))\n",
    "a=0\n",
    "b=1\n",
    "if n==1:\n",
    "    print(a)\n",
    "\n",
    "elif n==2:\n",
    "    print(a,b)\n",
    "\n",
    "else:\n",
    "    for i in range(3,n+1):\n",
    "        print(a,b, end = ' ')\n",
    "        c = a+b\n",
    "        print(c, end = ' ')\n",
    "        a=b\n",
    "        b=c"
   ]
  },
  {
   "cell_type": "code",
   "execution_count": 24,
   "id": "9c5e7555-921a-4840-b2df-0cf315701daf",
   "metadata": {},
   "outputs": [
    {
     "name": "stdout",
     "output_type": "stream",
     "text": [
      "List contains duplicates\n"
     ]
    }
   ],
   "source": [
    "# 11. Write a program to check if a given list contains any duplicates using a `for` loop.\n",
    "\n",
    "l1 = [2,3,5,8,2]\n",
    "\n",
    "for i in l1:\n",
    "    if l1.count(i)>1:\n",
    "        print(\"List contains duplicates\")\n",
    "        break\n",
    "\n",
    "    else:\n",
    "        continue"
   ]
  },
  {
   "cell_type": "code",
   "execution_count": 28,
   "id": "d4bf0d15-ca3d-4b00-9c83-bc95409a62a3",
   "metadata": {},
   "outputs": [
    {
     "name": "stdout",
     "output_type": "stream",
     "text": [
      "2 3 5 7 11 13 17 19 23 29 31 37 41 43 47 53 59 61 67 71 73 79 83 89 97 "
     ]
    }
   ],
   "source": [
    "# 12. Create a program that prints the prime numbers in a given range using a `for` loop.\n",
    "\n",
    "'''Assuming prime number to be printed between 1 to 100'''\n",
    "\n",
    "for i in range(1, 101):\n",
    "    if i>1:\n",
    "        for j in range(2,i):\n",
    "            if i%j==0:\n",
    "                break\n",
    "\n",
    "        else:\n",
    "            print(i, end = \" \")"
   ]
  },
  {
   "cell_type": "code",
   "execution_count": 29,
   "id": "e23a9ff5-ff43-4884-a6bc-ddcb2308d890",
   "metadata": {},
   "outputs": [
    {
     "name": "stdout",
     "output_type": "stream",
     "text": [
      "Number of vowels in string =  3\n"
     ]
    }
   ],
   "source": [
    "# 13. Develop a program that counts the number of vowels in a string using a `for` loop.\n",
    "\n",
    "str2 = 'HelloWorld'\n",
    "vowel_count= 0 \n",
    "\n",
    "for i in str2:\n",
    "    if i in 'aeiouAEIOU':\n",
    "        vowel_count+=1\n",
    "\n",
    "print(\"Number of vowels in string = \", vowel_count)"
   ]
  },
  {
   "cell_type": "code",
   "execution_count": 33,
   "id": "67707353-67dc-450c-9bfc-46df209ecd6c",
   "metadata": {},
   "outputs": [
    {
     "name": "stdout",
     "output_type": "stream",
     "text": [
      "343\n"
     ]
    }
   ],
   "source": [
    "# 14. Write a program to find the maximum element in a 2D list using a nested `for` loop.\n",
    "\n",
    "twoD_List = [[23,43], [12,343]]\n",
    "OneDList = []\n",
    "for i in twoD_List:\n",
    "    for j in i:\n",
    "        OneDList.append(j)\n",
    "\n",
    "print(max(OneDList))"
   ]
  },
  {
   "cell_type": "code",
   "execution_count": 35,
   "id": "a4f02755-8c43-4120-878a-cb85fc2e034a",
   "metadata": {},
   "outputs": [
    {
     "name": "stdout",
     "output_type": "stream",
     "text": [
      "[3, 5, 6, 72, 1, 6]\n"
     ]
    }
   ],
   "source": [
    "# 15. Create a program that removes all occurrences of a specific element from a list using a `for` loop.\n",
    "\n",
    "l2 = [3,4,5,6,72,1,4,6,4]\n",
    "\n",
    "for i in l2:\n",
    "    if i ==4:\n",
    "        l2.remove(i)\n",
    "\n",
    "print(l2)"
   ]
  },
  {
   "cell_type": "code",
   "execution_count": 37,
   "id": "813fea88-bdd0-42c9-b46d-99fa83c0682d",
   "metadata": {},
   "outputs": [
    {
     "name": "stdout",
     "output_type": "stream",
     "text": [
      "1 x 1 = 1\n",
      "1 x 2 = 2\n",
      "1 x 3 = 3\n",
      "1 x 4 = 4\n",
      "1 x 5 = 5\n",
      "1 x 6 = 6\n",
      "1 x 7 = 7\n",
      "1 x 8 = 8\n",
      "1 x 9 = 9\n",
      "1 x 10 = 10\n",
      "\n",
      "\n",
      "2 x 1 = 2\n",
      "2 x 2 = 4\n",
      "2 x 3 = 6\n",
      "2 x 4 = 8\n",
      "2 x 5 = 10\n",
      "2 x 6 = 12\n",
      "2 x 7 = 14\n",
      "2 x 8 = 16\n",
      "2 x 9 = 18\n",
      "2 x 10 = 20\n",
      "\n",
      "\n",
      "3 x 1 = 3\n",
      "3 x 2 = 6\n",
      "3 x 3 = 9\n",
      "3 x 4 = 12\n",
      "3 x 5 = 15\n",
      "3 x 6 = 18\n",
      "3 x 7 = 21\n",
      "3 x 8 = 24\n",
      "3 x 9 = 27\n",
      "3 x 10 = 30\n",
      "\n",
      "\n",
      "4 x 1 = 4\n",
      "4 x 2 = 8\n",
      "4 x 3 = 12\n",
      "4 x 4 = 16\n",
      "4 x 5 = 20\n",
      "4 x 6 = 24\n",
      "4 x 7 = 28\n",
      "4 x 8 = 32\n",
      "4 x 9 = 36\n",
      "4 x 10 = 40\n",
      "\n",
      "\n",
      "5 x 1 = 5\n",
      "5 x 2 = 10\n",
      "5 x 3 = 15\n",
      "5 x 4 = 20\n",
      "5 x 5 = 25\n",
      "5 x 6 = 30\n",
      "5 x 7 = 35\n",
      "5 x 8 = 40\n",
      "5 x 9 = 45\n",
      "5 x 10 = 50\n",
      "\n",
      "\n"
     ]
    }
   ],
   "source": [
    "# 16. Develop a program that generates a multiplication table for numbers from 1 to 5 using a nested `for` loop.\n",
    "\n",
    "for i in range(1,6):\n",
    "    for j in range(1,11):\n",
    "        print(f\"{i} x {j} = {i*j}\")\n",
    "\n",
    "    print(\"\\n\")"
   ]
  },
  {
   "cell_type": "code",
   "execution_count": 38,
   "id": "dc729f63-0b69-4097-b259-f82e8509d3ab",
   "metadata": {},
   "outputs": [
    {
     "name": "stdout",
     "output_type": "stream",
     "text": [
      "[32.77777777777778, 39.44444444444444, 24.444444444444443, 37.22222222222222, 36.111111111111114]\n"
     ]
    }
   ],
   "source": [
    "# 17. Write a program that converts a list of Fahrenheit temperatures to Celsius using a `for` loop.\n",
    "\n",
    "list_fahr = [91, 103, 76, 99, 97]\n",
    "\n",
    "cel_list = []\n",
    "\n",
    "for i in list_fahr:\n",
    "    cel_list.append((i-32)*5/9)\n",
    "\n",
    "print(cel_list)"
   ]
  },
  {
   "cell_type": "code",
   "execution_count": 42,
   "id": "f8b9555f-c23e-4f46-9fa0-f54b4aa0e831",
   "metadata": {},
   "outputs": [
    {
     "name": "stdout",
     "output_type": "stream",
     "text": [
      "2\n",
      "3\n",
      "8\n"
     ]
    }
   ],
   "source": [
    "# 18. Create a program to print the common elements from two lists using a `for` loop.\n",
    "\n",
    "l3 = [2,3,7,9,8]\n",
    "l4 = [2,8,3,4,6]\n",
    "\n",
    "for i in l3:\n",
    "    if i in l4:\n",
    "        print(i)"
   ]
  },
  {
   "cell_type": "code",
   "execution_count": 51,
   "id": "aec15785-4203-4967-a5d2-f5a3474a6dca",
   "metadata": {},
   "outputs": [
    {
     "name": "stdout",
     "output_type": "stream",
     "text": [
      "*\n",
      "**\n",
      "***\n",
      "****\n",
      "*****\n",
      "******\n"
     ]
    }
   ],
   "source": [
    "# 19. Develop a program that prints the pattern of right-angled triangles using a `for` loop. Use ‘*’ to draw the pattern\n",
    "\n",
    "for i in range(1,7):\n",
    "    for i in range(i):\n",
    "        print('*', end = '')\n",
    "    print('')"
   ]
  },
  {
   "cell_type": "code",
   "execution_count": 53,
   "id": "2fb6d886-7c01-489d-83db-0e5db89d9c36",
   "metadata": {},
   "outputs": [
    {
     "name": "stdout",
     "output_type": "stream",
     "text": [
      "The GCD for 36 and 48 = 12\n"
     ]
    }
   ],
   "source": [
    "# 20. Write a program to find the greatest common divisor (GCD) of two numbers using a `for` loop.\n",
    "\n",
    "num1 = 36\n",
    "num2 = 48\n",
    "\n",
    "for i in range (1, min(num1,num2)+1):\n",
    "    if num1%i ==0 and num2%i==0:\n",
    "        gcd=i\n",
    "\n",
    "print(f\"The GCD for {num1} and {num2} = {gcd}\")"
   ]
  },
  {
   "cell_type": "code",
   "execution_count": 108,
   "id": "56917938-a84a-4ef4-b2ca-fac0472ec2bc",
   "metadata": {},
   "outputs": [
    {
     "data": {
      "text/plain": [
       "[7, 14, 26, 6]"
      ]
     },
     "execution_count": 108,
     "metadata": {},
     "output_type": "execute_result"
    }
   ],
   "source": [
    "# 21. Create a program that calculates the sum of the digits of numbers in a list using a list comprehension\n",
    "\n",
    "list_digits = [232, 3434, 899, 123]     \n",
    "\n",
    "def sum_of_digit(num1):\n",
    "    sum = 0\n",
    "    for i in list(str(num1)):\n",
    "        sum += int(i)\n",
    "\n",
    "    return sum\n",
    "    \n",
    "sum_digit = [sum_of_digit(i) for i in list_digits]\n",
    "\n",
    "sum_digit"
   ]
  },
  {
   "cell_type": "code",
   "execution_count": 114,
   "id": "095a2a56-25e3-484b-8e57-020d74b11869",
   "metadata": {},
   "outputs": [
    {
     "name": "stdin",
     "output_type": "stream",
     "text": [
      " 21\n"
     ]
    },
    {
     "name": "stdout",
     "output_type": "stream",
     "text": [
      "3\n",
      "7\n"
     ]
    }
   ],
   "source": [
    "# 22. Write a program to find the prime factors of a given number using a `for` loop and list comprehension.\n",
    "\n",
    "number_check = int(input())\n",
    "\n",
    "for i in range(1,number_check):\n",
    "    if i>1:\n",
    "        for j in range(2,i):\n",
    "            if i%j==0:\n",
    "                break\n",
    "\n",
    "        else:\n",
    "            if number_check%i==0:\n",
    "                print(i)"
   ]
  },
  {
   "cell_type": "code",
   "execution_count": 1,
   "id": "8d17e1cb-504f-42b1-ba38-69df96f0cdb6",
   "metadata": {},
   "outputs": [
    {
     "name": "stdout",
     "output_type": "stream",
     "text": [
      "[2, 3, 5, 7, 9, 4]\n"
     ]
    }
   ],
   "source": [
    "# 23. Develop a program that extracts unique elements from a list and stores them in a new list using a list comprehension.\n",
    "\n",
    "list_new = [2,3,5,7,3,2,7,9,4]\n",
    "\n",
    "unique_list = []\n",
    "\n",
    "for i in list_new:\n",
    "    if i not in unique_list:\n",
    "        unique_list.append(i)\n",
    "\n",
    "print(unique_list)"
   ]
  },
  {
   "cell_type": "code",
   "execution_count": 3,
   "id": "4b6b83e2-5c88-4d48-aa29-b6f59bacac7a",
   "metadata": {},
   "outputs": [
    {
     "name": "stdin",
     "output_type": "stream",
     "text": [
      "Enter the final limit:  100\n"
     ]
    },
    {
     "name": "stdout",
     "output_type": "stream",
     "text": [
      "[11, 22, 33, 44, 55, 66, 77, 88, 99]\n"
     ]
    }
   ],
   "source": [
    "# 24. Create a program that generates a list of all palindromic numbers up to a specified limit using a list comprehension.\n",
    "\n",
    "limit = int(input(\"Enter the final limit: \"))\n",
    "palin_list = []\n",
    "for i in range(1, limit+1):\n",
    "    if len(str(i))>1:\n",
    "        if str(i) == str(i)[::-1]:\n",
    "            palin_list.append(i)\n",
    "\n",
    "print(palin_list)"
   ]
  },
  {
   "cell_type": "code",
   "execution_count": 4,
   "id": "e5385cdb-ab9e-4587-9e5c-70ebf942dfe6",
   "metadata": {},
   "outputs": [
    {
     "name": "stdout",
     "output_type": "stream",
     "text": [
      "[1, 2, 3, 4, 5, 6, 7, 8, 9]\n"
     ]
    }
   ],
   "source": [
    "# 25. Write a program to flatten a nested list using list comprehension.\n",
    "\n",
    "list_list = [[1,2,3], [4,5,6], [7,8,9]]\n",
    "flat_list = []\n",
    "\n",
    "for i in list_list:\n",
    "    for j in i:\n",
    "        flat_list.append(j)\n",
    "\n",
    "print(flat_list)"
   ]
  },
  {
   "cell_type": "code",
   "execution_count": 5,
   "id": "8f72c1ca-61bd-40c9-a378-4deaddcf6155",
   "metadata": {},
   "outputs": [
    {
     "name": "stdout",
     "output_type": "stream",
     "text": [
      "The sum of even no.s in list = 1590 and sum of odd no.s = 1255\n"
     ]
    }
   ],
   "source": [
    "# 26. Develop a program that computes the sum of even and odd numbers in a list separately using list comprehension.\n",
    "\n",
    "list_num = [232,455,677,123,458,900]\n",
    "\n",
    "even_sum = 0\n",
    "odd_sum = 0\n",
    "\n",
    "for i in list_num:\n",
    "    if i%2==0:\n",
    "        even_sum+=i\n",
    "\n",
    "    else:\n",
    "        odd_sum+=i\n",
    "\n",
    "print(f\"The sum of even no.s in list = {even_sum} and sum of odd no.s = {odd_sum}\")"
   ]
  },
  {
   "cell_type": "code",
   "execution_count": 8,
   "id": "288b1566-17e0-4eee-ba02-560ba4243e33",
   "metadata": {},
   "outputs": [
    {
     "name": "stdout",
     "output_type": "stream",
     "text": [
      "[1, 9, 25, 49, 81]\n"
     ]
    }
   ],
   "source": [
    "# 27. Create a program that generates a list of squares of odd numbers between 1 and 10 using list comprehension.\n",
    "\n",
    "squares_list = [i**2 for i in range(1,11) if i%2!=0]\n",
    "\n",
    "print(squares_list)"
   ]
  },
  {
   "cell_type": "code",
   "execution_count": 15,
   "id": "583f0146-876f-4572-b125-64104edb6ebd",
   "metadata": {},
   "outputs": [
    {
     "data": {
      "text/plain": [
       "{'name': 'Shivam', 'age': 33, 'id': 1, 'course': 'fsds'}"
      ]
     },
     "execution_count": 15,
     "metadata": {},
     "output_type": "execute_result"
    }
   ],
   "source": [
    "# 28. Write a program that combines two lists into a dictionary using list comprehension.\n",
    "\n",
    "list_keys = ['name', 'age', 'id', 'course']\n",
    "list_val = ['Shivam', 33, 1, 'fsds']\n",
    "\n",
    "dict_from_list = {i:j for (i,j) in zip(list_keys, list_val)}\n",
    "\n",
    "dict_from_list"
   ]
  },
  {
   "cell_type": "code",
   "execution_count": 16,
   "id": "16432b50-d870-4953-b32f-2c6bf6147170",
   "metadata": {},
   "outputs": [
    {
     "data": {
      "text/plain": [
       "['u', 'u', 'u', 'i', 'a', 'a', 'o', 'u', 'a']"
      ]
     },
     "execution_count": 16,
     "metadata": {},
     "output_type": "execute_result"
    }
   ],
   "source": [
    "# 29. Develop a program that extracts the vowels from a string and stores them in a list using list comprehension.\n",
    "\n",
    "string_with_vowel = 'hulchul hui jara shor hua'\n",
    "\n",
    "vowel_list = [i for i in string_with_vowel if i in 'aeiouAEIOU']\n",
    "\n",
    "vowel_list"
   ]
  },
  {
   "cell_type": "code",
   "execution_count": 22,
   "id": "f73586e5-5d57-4824-942c-732b92314e11",
   "metadata": {},
   "outputs": [
    {
     "data": {
      "text/plain": [
       "['11', '13', '15', '1']"
      ]
     },
     "execution_count": 22,
     "metadata": {},
     "output_type": "execute_result"
    }
   ],
   "source": [
    "# 30. Create a program that removes all non-numeric characters from a list of strings using list comprehension.\n",
    "\n",
    "list_num_having = ['Shivam', '11', '13', 'QQ', '15', '1']\n",
    "\n",
    "non_alpha = [i for i in list_num_having if i.isalpha()==0 ]\n",
    "\n",
    "non_alpha"
   ]
  },
  {
   "cell_type": "code",
   "execution_count": 76,
   "id": "32d718bb-81d1-4060-b488-89b5e465218f",
   "metadata": {},
   "outputs": [
    {
     "name": "stdin",
     "output_type": "stream",
     "text": [
      "Enter the num:   10\n"
     ]
    },
    {
     "data": {
      "text/plain": [
       "[2, 3, 5, 7]"
      ]
     },
     "execution_count": 76,
     "metadata": {},
     "output_type": "execute_result"
    }
   ],
   "source": [
    "# 31. Write a program to generate a list of prime numbers using the Sieve of Eratosthenes algorithm and list comprehension.\n",
    "\n",
    "def seiveOfEratosthanes(n):\n",
    "    list_of_prime = []\n",
    "    prime_num = [True for i in range(n+1)]\n",
    "    a=2\n",
    "    while a**2 <= n:\n",
    "        if prime_num[a]:\n",
    "            for i in range(a**2, n+1, a):\n",
    "                prime_num[i]=False\n",
    "\n",
    "        a+=1\n",
    "\n",
    "    for j in range(2,n+1):\n",
    "        if prime_num[j]:\n",
    "            list_of_prime.append(j)\n",
    "\n",
    "    return list_of_prime\n",
    "\n",
    "seiveOfEratosthanes(int(input(\"Enter the num:  \")))"
   ]
  },
  {
   "cell_type": "code",
   "execution_count": 55,
   "id": "80cbe367-3a27-4541-8686-4c069de76f3f",
   "metadata": {},
   "outputs": [
    {
     "name": "stdin",
     "output_type": "stream",
     "text": [
      " 20\n"
     ]
    },
    {
     "data": {
      "text/plain": [
       "[(3, 4, 5), (6, 8, 10), (5, 12, 13), (9, 12, 15), (8, 15, 17), (12, 16, 20)]"
      ]
     },
     "execution_count": 55,
     "metadata": {},
     "output_type": "execute_result"
    }
   ],
   "source": [
    "# 32. Create a program that generates a list of all Pythagorean triplets up to a specified limit using list comprehension.\n",
    "\n",
    "n = int(input())\n",
    "pyth_trip = [(i,j,k) for k in range(1,n+1) for j in range(1,n+1) for i in range(1,n+1) if i<j<k and (i**2 + j**2 == k**2)]\n",
    "pyth_trip"
   ]
  },
  {
   "cell_type": "code",
   "execution_count": 57,
   "id": "0b689d5d-8c1f-4bcd-ad76-1d485098332a",
   "metadata": {},
   "outputs": [
    {
     "data": {
      "text/plain": [
       "[(2, 4), (2, 5), (2, 6), (3, 4), (3, 5), (3, 6), (4, 4), (4, 5), (4, 6)]"
      ]
     },
     "execution_count": 57,
     "metadata": {},
     "output_type": "execute_result"
    }
   ],
   "source": [
    "# 33. Develop a program that generates a list of all possible combinations of two lists using list comprehension.\n",
    "\n",
    "l_1 = [2,3,4]\n",
    "l_2 = [4,5,6]\n",
    "\n",
    "list_comb = [(i,j) for i in l_1 for j in l_2]\n",
    "list_comb"
   ]
  },
  {
   "cell_type": "code",
   "execution_count": 113,
   "id": "9e325112-f08a-4967-b6c7-1899f35401c7",
   "metadata": {},
   "outputs": [
    {
     "name": "stdout",
     "output_type": "stream",
     "text": [
      "mean = 6.363636363636363, median = 5 and mode = [5]\n"
     ]
    }
   ],
   "source": [
    "# 34. Write a program that calculates the mean, median, and mode of a list of numbers using list comprehension.\n",
    "\n",
    "from collections import Counter as c\n",
    "\n",
    "list_num1 = [3,4,5,6,21,3,5,7,5,6,5]\n",
    "mean_list =  sum([i for i in list_num1])/len(list_num1)\n",
    "\n",
    "x= len(list_num1)\n",
    "if x%2!=0: \n",
    "    median_list = [i for i in sorted(list_num1)][(x+1)//2 -1]\n",
    "\n",
    "else:\n",
    "    median_list = ([i for i in sorted(list_num1)][x//2] + [i for i in sorted(list_num1)][x//2 +1])/2\n",
    "\n",
    "\n",
    "mode_list = [i for i,j in c(list_num1).items() if j == c(list_num1).most_common(1)[0][1]]\n",
    "\n",
    "print(f\"mean = {mean_list}, median = {median_list} and mode = {mode_list}\")"
   ]
  },
  {
   "cell_type": "code",
   "execution_count": 60,
   "id": "b03cda67-687a-4267-9fea-0b3d51ddeca6",
   "metadata": {},
   "outputs": [
    {
     "name": "stdin",
     "output_type": "stream",
     "text": [
      " 10\n"
     ]
    },
    {
     "data": {
      "text/plain": [
       "[[1],\n",
       " [1, 1],\n",
       " [1, 2, 1],\n",
       " [1, 3, 3, 1],\n",
       " [1, 4, 6, 4, 1],\n",
       " [1, 5, 10, 10, 5, 1],\n",
       " [1, 6, 15, 20, 15, 6, 1],\n",
       " [1, 7, 21, 35, 35, 21, 7, 1],\n",
       " [1, 8, 28, 56, 70, 56, 28, 8, 1],\n",
       " [1, 9, 36, 84, 126, 126, 84, 36, 9, 1]]"
      ]
     },
     "execution_count": 60,
     "metadata": {},
     "output_type": "execute_result"
    }
   ],
   "source": [
    "# 35. Create a program that generates Pascal's triangle up to a specified number of rows using list  comprehension.\n",
    "\n",
    "from math import factorial\n",
    "\n",
    "n=int(input())\n",
    "\n",
    "def pascal(n):\n",
    "    r=[]\n",
    "    c=1\n",
    "    for j in range(1,n+1):\n",
    "        r.append(c)\n",
    "        c = c*(n-j)//j\n",
    "    return r\n",
    "\n",
    "pascal_triangle = [pascal(i) for i in range(1,n+1)]\n",
    "\n",
    "pascal_triangle"
   ]
  },
  {
   "cell_type": "code",
   "execution_count": 67,
   "id": "af03f0b1-b150-4944-a620-73105ae3913a",
   "metadata": {},
   "outputs": [
    {
     "name": "stdout",
     "output_type": "stream",
     "text": [
      "The list of factorial =  [1, 2, 6, 24, 120]\n",
      "Sum of digit of above list =  [1, 2, 6, 6, 3]\n"
     ]
    }
   ],
   "source": [
    "# 36. Develop a program that calculates the sum of the digits of a factorial of numbers from 1 to 5 using list comprehension.\n",
    "\n",
    "from math import factorial\n",
    "\n",
    "def sum_of_digit(num1):\n",
    "    sum = 0\n",
    "    for i in list(str(num1)):\n",
    "        sum += int(i)\n",
    "\n",
    "    return sum\n",
    "\n",
    "sum_digit_fact = [sum_of_digit(j) for j in (factorial(i) for i in range(1,6))]\n",
    "\n",
    "print(\"The list of factorial = \", [factorial(i) for i in range(1,6)])\n",
    "print(\"Sum of digit of above list = \", sum_digit_fact)"
   ]
  },
  {
   "cell_type": "code",
   "execution_count": 68,
   "id": "93b6d486-2ed9-4f0e-be7f-e3fb723a2630",
   "metadata": {},
   "outputs": [
    {
     "name": "stdout",
     "output_type": "stream",
     "text": [
      "The longest word in the sentence is  =  Sunshine\n"
     ]
    }
   ],
   "source": [
    "# 37. Write a program that finds the longest word in a sentence using list comprehension.\n",
    "\n",
    "string23  ='Hello Good Morning Sunshine is here'\n",
    "\n",
    "lengths = [len(i) for i in string23.split(\" \")]\n",
    "\n",
    "longest_word_index = lengths.index(max(lengths))\n",
    "\n",
    "print(\"The longest word in the sentence is  = \", string23.split(\" \")[longest_word_index])"
   ]
  },
  {
   "cell_type": "code",
   "execution_count": 69,
   "id": "33554308-3be6-4a51-8ed1-90a1e967869d",
   "metadata": {},
   "outputs": [
    {
     "data": {
      "text/plain": [
       "['countries', 'America', 'Austrailia']"
      ]
     },
     "execution_count": 69,
     "metadata": {},
     "output_type": "execute_result"
    }
   ],
   "source": [
    "# 38. Create a program that filters a list of strings to include only those with more than three vowels using list comprehension.\n",
    "\n",
    "list_of_string = ['Hello', 'countries', 'India', 'America', 'Austrailia', 'China']\n",
    "\n",
    "def vowel_count(x):\n",
    "    count_v = 0\n",
    "    for i in x:\n",
    "        if i in 'aeiouAEIOU':\n",
    "            count_v+=1\n",
    "\n",
    "    return count_v\n",
    "\n",
    "filter_list = [i for i in list_of_string if vowel_count(i)>3]\n",
    "\n",
    "filter_list"
   ]
  },
  {
   "cell_type": "code",
   "execution_count": 73,
   "id": "54d018a3-168f-42f3-8100-5ee2171c2570",
   "metadata": {},
   "outputs": [
    {
     "data": {
      "text/plain": [
       "13501"
      ]
     },
     "execution_count": 73,
     "metadata": {},
     "output_type": "execute_result"
    }
   ],
   "source": [
    "# 39. Develop a program that calculates the sum of the digits of numbers from 1 to 1000 using list comprehension.\n",
    "\n",
    "sum_from_1_1000 = [sum_of_digit(i) for i in range(1,1001)]\n",
    "\n",
    "sum_of_all = sum(sum_from_1_1000)\n",
    "\n",
    "sum_of_all"
   ]
  },
  {
   "cell_type": "code",
   "execution_count": 78,
   "id": "9fec247e-8e9e-4416-858a-b962b4da0a8b",
   "metadata": {},
   "outputs": [
    {
     "name": "stdin",
     "output_type": "stream",
     "text": [
      " 1000\n"
     ]
    },
    {
     "data": {
      "text/plain": [
       "[11, 101, 131, 151, 181, 191, 313, 353, 373, 383, 727, 757, 787, 797, 919, 929]"
      ]
     },
     "execution_count": 78,
     "metadata": {},
     "output_type": "execute_result"
    }
   ],
   "source": [
    "# 40. Write a program that generates a list of prime palindromic numbers using list comprehension.\n",
    "\n",
    "n= int(input())\n",
    "\n",
    "list_prime_palin = [i for i in seiveOfEratosthanes(n) if len(str(i))>1 and str(i) == str(i)[::-1]]\n",
    "\n",
    "list_prime_palin"
   ]
  },
  {
   "cell_type": "code",
   "execution_count": null,
   "id": "cede0c37-c8ff-4be0-95ef-ddda0f130dad",
   "metadata": {},
   "outputs": [],
   "source": []
  }
 ],
 "metadata": {
  "kernelspec": {
   "display_name": "Python 3 (ipykernel)",
   "language": "python",
   "name": "python3"
  },
  "language_info": {
   "codemirror_mode": {
    "name": "ipython",
    "version": 3
   },
   "file_extension": ".py",
   "mimetype": "text/x-python",
   "name": "python",
   "nbconvert_exporter": "python",
   "pygments_lexer": "ipython3",
   "version": "3.11.4"
  }
 },
 "nbformat": 4,
 "nbformat_minor": 5
}
