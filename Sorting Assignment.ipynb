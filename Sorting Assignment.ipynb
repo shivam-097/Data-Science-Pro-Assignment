{
 "cells": [
  {
   "cell_type": "markdown",
   "id": "67072bdb-9575-43f7-b776-47f07cc5831e",
   "metadata": {},
   "source": [
    "#### Problem 1: Given an array of n numbers, give an algorithm which gives the element appearing maximum number of times?"
   ]
  },
  {
   "cell_type": "code",
   "execution_count": 3,
   "id": "79bdf81a-f4a2-4577-8bbf-21d4b582643e",
   "metadata": {},
   "outputs": [
    {
     "data": {
      "text/plain": [
       "'Element appearing maximum no. of times is 3'"
      ]
     },
     "execution_count": 3,
     "metadata": {},
     "output_type": "execute_result"
    }
   ],
   "source": [
    "def max_element(arr):\n",
    "    # Declaring an empty dictionary\n",
    "    max_element_dict = {}\n",
    "\n",
    "    # Traversing through array to get frequencies of element\n",
    "    for i in arr:\n",
    "        if i in max_element_dict:\n",
    "            max_element_dict[i]+=1\n",
    "        else:\n",
    "            max_element_dict[i]=1\n",
    "\n",
    "    # Finding the frequent element \n",
    "    element = None\n",
    "    frequency = 0\n",
    "\n",
    "    for key, value in max_element_dict.items():\n",
    "        if value> frequency:\n",
    "            frequency = value\n",
    "            element = key\n",
    "\n",
    "    return f\"Element appearing maximum no. of times is {element}\"\n",
    "\n",
    "# Driver Code\n",
    "arr = [1,2,2,2,3,3,3,3,3,4,4]\n",
    "max_element(arr)"
   ]
  },
  {
   "cell_type": "markdown",
   "id": "f170e35c-8afd-4c81-ad88-6bb7d75d7c70",
   "metadata": {},
   "source": [
    "#### Problem 2 : We are given a list of n-1 integers and these integers are in the range of 1 to n . There are no duplicates in the list. One of the integers is missing in the list. Give an algorithm to find that element Ex: [1,2,4,6,3,7,8] 5 is the missing num."
   ]
  },
  {
   "cell_type": "code",
   "execution_count": 2,
   "id": "8a4a6e15-d32c-43b8-b40b-0b219d2e9865",
   "metadata": {},
   "outputs": [
    {
     "data": {
      "text/plain": [
       "'Missing number = 5'"
      ]
     },
     "execution_count": 2,
     "metadata": {},
     "output_type": "execute_result"
    }
   ],
   "source": [
    "def missing_num(arr):\n",
    "    # calculating sum of num from 1 to n\n",
    "    l = len(arr)+1\n",
    "    expected_sum = l*(l+1)/2\n",
    "\n",
    "    # calculating sum of given array\n",
    "    arr_sum = 0\n",
    "    for i in arr:\n",
    "        arr_sum+=i\n",
    "\n",
    "    missing_num = int(expected_sum - arr_sum)\n",
    "\n",
    "    # Then we will find the missing array\n",
    "    return f\"Missing number = {missing_num}\"\n",
    "\n",
    "# Driver Code\n",
    "arr = [1,2,4,6,3,7,8]\n",
    "missing_num(arr)"
   ]
  },
  {
   "cell_type": "markdown",
   "id": "fea3af1c-cc3c-4c1b-8278-8457494cefd0",
   "metadata": {},
   "source": [
    "#### Problem 3 : Given an array of n positive numbers. All numbers occurs even number of times except 1 which occurs odd number of times. Find that number in O(n) time and O(1) space. Ex: [1,2,3,2,3,1,3]. 3 is repeats odd times."
   ]
  },
  {
   "cell_type": "code",
   "execution_count": 4,
   "id": "af63ee5e-c6e7-476b-ab53-f0a71c819f91",
   "metadata": {},
   "outputs": [
    {
     "data": {
      "text/plain": [
       "'Number that repeats odd times is 3'"
      ]
     },
     "execution_count": 4,
     "metadata": {},
     "output_type": "execute_result"
    }
   ],
   "source": [
    "def odd_rep_elemet(arr):\n",
    "    # Declaring an empty dictionary\n",
    "    max_element_dict = {}\n",
    "\n",
    "    # Traversing through array to get frequencies of element\n",
    "    for i in arr:\n",
    "        if i in max_element_dict:\n",
    "            max_element_dict[i]+=1\n",
    "        else:\n",
    "            max_element_dict[i]=1\n",
    "\n",
    "    # Finding the element repeated odd time\n",
    "    element = None\n",
    "    frequency = 0\n",
    "\n",
    "    for key, value in max_element_dict.items():\n",
    "        if value> frequency and value%2==1:\n",
    "            frequency = value\n",
    "            element = key\n",
    "\n",
    "    return f\"Number that repeats odd times is {element}\"\n",
    "\n",
    "# Driver Code\n",
    "arr = [1,2,3,2,3,1,3]\n",
    "odd_rep_elemet(arr)"
   ]
  },
  {
   "cell_type": "markdown",
   "id": "f8230167-6d9e-4b93-bea2-d146a692bf2d",
   "metadata": {},
   "source": [
    "#### Problem 4 : Given an array of n elements. Find two elements in the array such that their sum is equal to given element K."
   ]
  },
  {
   "cell_type": "code",
   "execution_count": 3,
   "id": "bad2e9a3-0dff-45a9-9cb5-56df7bd4ce49",
   "metadata": {},
   "outputs": [
    {
     "data": {
      "text/plain": [
       "(2, 1)"
      ]
     },
     "execution_count": 3,
     "metadata": {},
     "output_type": "execute_result"
    }
   ],
   "source": [
    "def twoElement_for_given_sum(arr, k):\n",
    "    \n",
    "    checked_elements = set()\n",
    "\n",
    "    for num in arr:\n",
    "        # Checking the complement of the number\n",
    "        comp = k - num\n",
    "        if comp in checked_elements:\n",
    "            return comp, num\n",
    "\n",
    "        else:\n",
    "            checked_elements.add(num)        \n",
    "\n",
    "arr = [2,4,3,6,7,1]\n",
    "twoElement_for_given_sum(arr, 3)"
   ]
  },
  {
   "cell_type": "markdown",
   "id": "904bc1ba-6c61-460d-97fb-4804bde13bf6",
   "metadata": {},
   "source": [
    "#### Problem 5 : Given an array of both positive and negative numbers, find two numbers such that their sum is closest to 0. Ex: [ 1 ,60 ,-10, 70, -80,85]. Ans : -80,85."
   ]
  },
  {
   "cell_type": "code",
   "execution_count": 7,
   "id": "64b48f76-bc4d-4a71-9508-a717cd02c0ff",
   "metadata": {},
   "outputs": [
    {
     "name": "stdout",
     "output_type": "stream",
     "text": [
      "Pair with sum closest to 0: (-80, 85)\n"
     ]
    }
   ],
   "source": [
    "def closest_to_zero_pair(arr):\n",
    "    arr.sort(key=abs)  # Sort the array based on absolute values\n",
    "\n",
    "    min_sum = float('inf')\n",
    "    result_pair = None\n",
    "\n",
    "    for i in range(len(arr) - 1):\n",
    "        current_sum = arr[i] + arr[i + 1]\n",
    "\n",
    "        # Update the result pair if the current sum is closer to 0\n",
    "        if abs(current_sum) < abs(min_sum):\n",
    "            min_sum = current_sum\n",
    "            result_pair = (arr[i], arr[i + 1])\n",
    "\n",
    "    return result_pair\n",
    "\n",
    "# Driver code\n",
    "arr = [1, 60, -10, 70, -80, 85]\n",
    "result = closest_to_zero_pair(arr)\n",
    "print(\"Pair with sum closest to 0:\", result)"
   ]
  },
  {
   "cell_type": "markdown",
   "id": "8ffe9fd3-9ade-4ec2-b84b-3b81f0e4266b",
   "metadata": {},
   "source": [
    "#### Problem 6 : Given an array of n elements . Find three elements such that their sum is equal to the given number."
   ]
  },
  {
   "cell_type": "code",
   "execution_count": 8,
   "id": "d8faa4d2-51c1-4bf6-8fcd-067c42aa8d37",
   "metadata": {},
   "outputs": [
    {
     "data": {
      "text/plain": [
       "[1, 2, 3]"
      ]
     },
     "execution_count": 8,
     "metadata": {},
     "output_type": "execute_result"
    }
   ],
   "source": [
    "def three_element_sum_equals_number(arr, k):\n",
    "    n = len(arr)\n",
    "    arr.sort()\n",
    "\n",
    "    for i in range(n - 2):\n",
    "        left, right = i + 1, n - 1\n",
    "        while left < right:\n",
    "            current_sum = arr[i] + arr[left] + arr[right]\n",
    "            if current_sum == k:\n",
    "                return [arr[i], arr[left], arr[right]]\n",
    "            elif current_sum < k:\n",
    "                left += 1\n",
    "            else:\n",
    "                right -= 1\n",
    "\n",
    "    # If no such elements are found\n",
    "    return None\n",
    "\n",
    "# Driver code\n",
    "\n",
    "arr = [1,2,3,4,5,6]\n",
    "k = 6\n",
    "three_element_sum_equals_number(arr,k)"
   ]
  },
  {
   "cell_type": "markdown",
   "id": "2fde6c85-a77f-4f0d-98a0-6b4c7dbb6475",
   "metadata": {},
   "source": [
    "#### Problem 7 : Given an array of n elements . Find three elements i, j, k in the array such that i * i + j * j = k*k."
   ]
  },
  {
   "cell_type": "code",
   "execution_count": 10,
   "id": "ab7a43d8-df49-411c-9395-2ef26d3f0cb7",
   "metadata": {},
   "outputs": [
    {
     "data": {
      "text/plain": [
       "(3, 4, 5)"
      ]
     },
     "execution_count": 10,
     "metadata": {},
     "output_type": "execute_result"
    }
   ],
   "source": [
    "def three_element_pythagoras(arr):\n",
    "    set_of_sq = set(i*i for i in arr)\n",
    "\n",
    "    n = len(arr)\n",
    "    for i in range(n):\n",
    "        for j in range(i+1, n):\n",
    "            sq_sum = arr[i]*arr[i] + arr[j]*arr[j]\n",
    "\n",
    "            if sq_sum in set_of_sq:\n",
    "                k = int(sq_sum**0.5)\n",
    "                return arr[i], arr[j], k\n",
    "\n",
    "    return None\n",
    "\n",
    "# Driver Code\n",
    "\n",
    "arr = [1,2,3,7,5,4,6]\n",
    "three_element_pythagoras(arr)"
   ]
  },
  {
   "cell_type": "markdown",
   "id": "5aa287ae-d208-42b0-8eec-a2f84bd96fdc",
   "metadata": {},
   "source": [
    "#### Problem 8 : An element is a majority if it appears more than n/2 times. Give an algorithm takes an array of n element as argument and identifies a majority (if it exists)."
   ]
  },
  {
   "cell_type": "code",
   "execution_count": 19,
   "id": "52cc3f82-8142-4253-a0d7-8ea5a6abb25e",
   "metadata": {},
   "outputs": [
    {
     "data": {
      "text/plain": [
       "'The element in majority is = 3'"
      ]
     },
     "execution_count": 19,
     "metadata": {},
     "output_type": "execute_result"
    }
   ],
   "source": [
    "def majority_element(arr):\n",
    "    # Declaring an empty dictionary\n",
    "    max_element_dict = {}\n",
    "\n",
    "    # Traversing through array to get frequencies of element\n",
    "    for i in arr:\n",
    "        if i in max_element_dict:\n",
    "            max_element_dict[i]+=1\n",
    "        else:\n",
    "            max_element_dict[i]=1\n",
    "\n",
    "    # Finding the frequent element \n",
    "    element = None\n",
    "    frequency = 0\n",
    "\n",
    "    for key, value in max_element_dict.items():\n",
    "        if value> frequency:\n",
    "            frequency = value\n",
    "            element = key\n",
    "\n",
    "    if frequency>len(arr)/2:\n",
    "        return f\"The element in majority is = {element}\"\n",
    "\n",
    "    else:\n",
    "        return \"No element is in majority\"\n",
    "\n",
    "# Driver Code\n",
    "arr = [1,3,3,3,3,3,4,4,2,3]\n",
    "majority_element(arr)"
   ]
  },
  {
   "cell_type": "markdown",
   "id": "00902dc1-62d9-4766-ab31-aedb148ab034",
   "metadata": {},
   "source": [
    "#### Problem 9 : Given n × n matrix, and in each row all 1’s are followed by 0’s. Find the row with the maximum number of 0’s."
   ]
  },
  {
   "cell_type": "code",
   "execution_count": 20,
   "id": "b24e4c49-8277-475e-9b43-34251c201346",
   "metadata": {},
   "outputs": [
    {
     "name": "stdout",
     "output_type": "stream",
     "text": [
      "Row with the maximum number of 0's: 2\n"
     ]
    }
   ],
   "source": [
    "def find_max_zeros_row(matrix):\n",
    "    max_zeros_count = 0\n",
    "    max_zeros_row = -1\n",
    "\n",
    "    n = len(matrix)\n",
    "\n",
    "    # Iterate through each row\n",
    "    for i in range(n):\n",
    "        # Count the number of zeros in the current row\n",
    "        zeros_count = matrix[i].count(0)\n",
    "\n",
    "        # Update the maximum zeros count and row if needed\n",
    "        if zeros_count > max_zeros_count:\n",
    "            max_zeros_count = zeros_count\n",
    "            max_zeros_row = i\n",
    "\n",
    "    return max_zeros_row\n",
    "\n",
    "# Example usage\n",
    "matrix = [\n",
    "    [1, 1, 1, 0],\n",
    "    [1, 1, 0, 0],\n",
    "    [1, 0, 0, 0],\n",
    "    [1, 1, 1, 1]\n",
    "]\n",
    "\n",
    "result = find_max_zeros_row(matrix)\n",
    "print(\"Row with the maximum number of 0's:\", result)"
   ]
  },
  {
   "cell_type": "markdown",
   "id": "7a2783f4-6c1f-4562-9dc8-e991ff8f6b3a",
   "metadata": {},
   "source": [
    "#### Problem 10 : Sort an array of 0’s, 1’s and 2’s [or R’s, G’s and B’s]: Given an array A[] consisting of 0’s, 1’s and 2’s, give an algorithm for sorting A[].The algorithm should put all 0’s first, then all 1’s and finally all 2’s at the end. Example Input = {0,1,1,0,1,2,1,2,0,0,0,1}, Output = {0,0,0,0,0,1,1,1,1,1,2,2}"
   ]
  },
  {
   "cell_type": "code",
   "execution_count": 21,
   "id": "47ef31e0-0960-454e-b348-a69f7f2a12b0",
   "metadata": {},
   "outputs": [
    {
     "name": "stdout",
     "output_type": "stream",
     "text": [
      "The sorted array is =  [0, 0, 0, 0, 0, 1, 1, 1, 1, 1, 2, 2]\n"
     ]
    }
   ],
   "source": [
    "def sort_0_1_2(arr):\n",
    "    sI = 0\n",
    "    mid = 0\n",
    "    eI = len(arr)-1\n",
    "\n",
    "    while mid<=eI:\n",
    "        if arr[mid] == 0:\n",
    "            arr[sI], arr[mid] = arr[mid], arr[sI]\n",
    "            sI +=1\n",
    "            mid+=1\n",
    "\n",
    "        elif arr[mid] == 1:\n",
    "            mid+=1\n",
    "\n",
    "        else:\n",
    "            arr[mid], arr[eI] = arr[eI], arr[mid]\n",
    "            eI -= 1\n",
    "\n",
    "# Driver code\n",
    "\n",
    "arr = [0,1,1,0,1,2,1,2,0,0,0,1]\n",
    "sort_0_1_2(arr)\n",
    "print(\"The sorted array is = \", arr)"
   ]
  },
  {
   "cell_type": "code",
   "execution_count": null,
   "id": "d83410f3-3d14-4201-9afc-5df27d7d8787",
   "metadata": {},
   "outputs": [],
   "source": []
  }
 ],
 "metadata": {
  "kernelspec": {
   "display_name": "Python 3 (ipykernel)",
   "language": "python",
   "name": "python3"
  },
  "language_info": {
   "codemirror_mode": {
    "name": "ipython",
    "version": 3
   },
   "file_extension": ".py",
   "mimetype": "text/x-python",
   "name": "python",
   "nbconvert_exporter": "python",
   "pygments_lexer": "ipython3",
   "version": "3.11.4"
  }
 },
 "nbformat": 4,
 "nbformat_minor": 5
}
