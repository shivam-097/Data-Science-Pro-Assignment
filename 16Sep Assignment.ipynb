{
 "cells": [
  {
   "cell_type": "code",
   "execution_count": 1,
   "id": "8a2a8043-adac-4bfc-9eef-c2c00e1b89e4",
   "metadata": {},
   "outputs": [
    {
     "name": "stdout",
     "output_type": "stream",
     "text": [
      "1\n",
      "2\n",
      "3\n",
      "4\n",
      "5\n",
      "6\n",
      "7\n",
      "8\n",
      "9\n",
      "10\n"
     ]
    }
   ],
   "source": [
    "# 1. Write a Python program to print numbers from 1 to 10 using a for loop.\n",
    "\n",
    "for i in range(1,11):\n",
    "    print(i)"
   ]
  },
  {
   "cell_type": "code",
   "execution_count": null,
   "id": "2982b642-f030-4f52-b4d7-e31ba547abfa",
   "metadata": {},
   "outputs": [],
   "source": [
    "# 2. Explain the difference between a for loop and a while loop in Python.\n",
    "\n",
    "'''Ans. For loop   : It is used to repeat the iteration for n number of times\n",
    "        While loop : While loop is used to repeat the iteration till a condition written \n",
    "                    after while is true. "
   ]
  },
  {
   "cell_type": "code",
   "execution_count": 2,
   "id": "369f76d6-1c26-4c1b-b23c-fb6c6b2f0b25",
   "metadata": {},
   "outputs": [
    {
     "name": "stdout",
     "output_type": "stream",
     "text": [
      "5050\n"
     ]
    }
   ],
   "source": [
    "# 3. Write a Python program to calculate the sum of all numbers from 1 to 100 using a for loop.\n",
    "\n",
    "sum = 0\n",
    "\n",
    "for i in range(1, 101):\n",
    "    sum+=i\n",
    "\n",
    "print(sum)"
   ]
  },
  {
   "cell_type": "code",
   "execution_count": 4,
   "id": "fba6e955-e71d-4519-99d4-c24c33fb094c",
   "metadata": {},
   "outputs": [
    {
     "name": "stdout",
     "output_type": "stream",
     "text": [
      "1,2,3,4,5,6,\n",
      "\n",
      "1,2,3,4,5,6,"
     ]
    }
   ],
   "source": [
    "# 4. How do you iterate through a list using a for loop in Python?\n",
    "\n",
    "'''Ans. We can iterate through a list either through index using range function\n",
    "or through element, giving the same result.  E.g. is as under'''\n",
    "\n",
    "l = [1,2,3,4,5,6]\n",
    "\n",
    "for i in l:\n",
    "    print(i, end= ',')\n",
    "\n",
    "print('\\n')\n",
    "\n",
    "for i in range(len(l)):\n",
    "    print(l[i], end = ',')"
   ]
  },
  {
   "cell_type": "code",
   "execution_count": 5,
   "id": "bcc6c067-df16-4865-9f63-3772b9c290b7",
   "metadata": {},
   "outputs": [
    {
     "name": "stdout",
     "output_type": "stream",
     "text": [
      "product of elements in list =  720\n"
     ]
    }
   ],
   "source": [
    "# 5. Write a Python program to find the product of all elements in a list using a for loop.\n",
    "\n",
    "l = [1,2,3,4,5,6]\n",
    "\n",
    "prod = 1\n",
    "\n",
    "for i in l:\n",
    "    prod*=i\n",
    "\n",
    "print('product of elements in list = ', prod)"
   ]
  },
  {
   "cell_type": "code",
   "execution_count": 7,
   "id": "26575ed7-18e8-4452-aef3-a4b14903bcd6",
   "metadata": {},
   "outputs": [
    {
     "name": "stdout",
     "output_type": "stream",
     "text": [
      "2\n",
      "4\n",
      "6\n",
      "8\n",
      "10\n",
      "12\n",
      "14\n",
      "16\n",
      "18\n",
      "20\n"
     ]
    }
   ],
   "source": [
    "# 6. Create a Python program that prints all even numbers from 1 to 20 using a for loop.\n",
    "\n",
    "for i in range(1,21):\n",
    "    if i%2==0:\n",
    "        print(i)"
   ]
  },
  {
   "cell_type": "code",
   "execution_count": 8,
   "id": "839a8956-df3a-4a9b-962f-79beeae2dc8d",
   "metadata": {},
   "outputs": [
    {
     "name": "stdin",
     "output_type": "stream",
     "text": [
      " 4\n"
     ]
    },
    {
     "name": "stdout",
     "output_type": "stream",
     "text": [
      "The factorial of the number =  24\n"
     ]
    }
   ],
   "source": [
    "# 7. Write a Python program that calculates the factorial of a number using a for loop.\n",
    "\n",
    "n = int(input())\n",
    "\n",
    "fact = 1\n",
    "\n",
    "for i in range(1,n+1):\n",
    "    fact*=i\n",
    "\n",
    "print('The factorial of the number = ', fact)"
   ]
  },
  {
   "cell_type": "code",
   "execution_count": 9,
   "id": "82b3482d-e5b8-4a16-b854-108cf0c28492",
   "metadata": {},
   "outputs": [
    {
     "name": "stdout",
     "output_type": "stream",
     "text": [
      "c\n",
      "h\n",
      "a\n",
      "r\n",
      "a\n",
      "c\n",
      "t\n",
      "e\n",
      "r\n"
     ]
    }
   ],
   "source": [
    "# 8. How can you iterate through the characters of a string using a for loop in Python?\n",
    "\n",
    "'''Ans. We can iterate through the character of a strings by using for loop \n",
    "in following manner.'''\n",
    "\n",
    "string = 'character'\n",
    "\n",
    "for i in string:\n",
    "    print(i)"
   ]
  },
  {
   "cell_type": "code",
   "execution_count": 10,
   "id": "859aa41b-da51-4368-890e-e64d16b2bafb",
   "metadata": {},
   "outputs": [
    {
     "name": "stdout",
     "output_type": "stream",
     "text": [
      "454\n"
     ]
    }
   ],
   "source": [
    "# 9. Write a Python program to find the largest number in a list using a for loop.\n",
    "\n",
    "l1 = [23,12,454,146,65]\n",
    "\n",
    "x=0\n",
    "\n",
    "for i in l1:\n",
    "    if x<i:\n",
    "        x=i\n",
    "        \n",
    "print(x)"
   ]
  },
  {
   "cell_type": "code",
   "execution_count": 14,
   "id": "6cd1710f-0bfa-4954-b07b-3b695467a0ca",
   "metadata": {},
   "outputs": [
    {
     "name": "stdin",
     "output_type": "stream",
     "text": [
      " 10\n"
     ]
    },
    {
     "name": "stdout",
     "output_type": "stream",
     "text": [
      "0\n",
      "1\n",
      "1\n",
      "2\n",
      "3\n",
      "5\n",
      "8\n",
      "13\n",
      "21\n",
      "34\n"
     ]
    }
   ],
   "source": [
    "# 10. Create a Python program that prints the Fibonacci sequence up to a specified limit using a for loop.\n",
    "\n",
    "limit = int(input())\n",
    "\n",
    "a = 0\n",
    "b = 1\n",
    "\n",
    "for i in range(limit):\n",
    "    c=a+b\n",
    "    print(a)\n",
    "    a=b\n",
    "    b=c"
   ]
  },
  {
   "cell_type": "code",
   "execution_count": 15,
   "id": "b21d48a3-5619-4a89-90ab-2c73a2325784",
   "metadata": {},
   "outputs": [
    {
     "name": "stdout",
     "output_type": "stream",
     "text": [
      "No. of vowel =  3\n"
     ]
    }
   ],
   "source": [
    "# 11. Write a Python program to count the number of vowels in a given string using a for loop.\n",
    "\n",
    "string1 = 'character'\n",
    "\n",
    "vowel_count = 0\n",
    "\n",
    "for i in string1.lower():\n",
    "    if i in 'aeiou':\n",
    "        vowel_count+=1\n",
    "\n",
    "print('No. of vowel = ', vowel_count)"
   ]
  },
  {
   "cell_type": "code",
   "execution_count": 16,
   "id": "70371e9d-501b-453d-9685-95fbc7aedea1",
   "metadata": {},
   "outputs": [
    {
     "name": "stdin",
     "output_type": "stream",
     "text": [
      " 4\n"
     ]
    },
    {
     "name": "stdout",
     "output_type": "stream",
     "text": [
      "4 x 1 = 4\n",
      "4 x 2 = 8\n",
      "4 x 3 = 12\n",
      "4 x 4 = 16\n",
      "4 x 5 = 20\n",
      "4 x 6 = 24\n",
      "4 x 7 = 28\n",
      "4 x 8 = 32\n",
      "4 x 9 = 36\n",
      "4 x 10 = 40\n"
     ]
    }
   ],
   "source": [
    "# 12. Create a Python program that generates a multiplication table for a given number using a for loop.\n",
    "\n",
    "num = int(input())\n",
    "\n",
    "for i in range(1,11):\n",
    "    print(f'{num} x {i} = {num*i}')"
   ]
  },
  {
   "cell_type": "code",
   "execution_count": 17,
   "id": "d236f0f8-5728-48b2-9a1d-f665c103499c",
   "metadata": {},
   "outputs": [
    {
     "data": {
      "text/plain": [
       "[7, 5, 4, 3, 2, 1]"
      ]
     },
     "execution_count": 17,
     "metadata": {},
     "output_type": "execute_result"
    }
   ],
   "source": [
    "# 13. Write a Python program to reverse a list using a for loop.\n",
    "\n",
    "l1 = [1,2,3,4,5,7]\n",
    "rev_list = []\n",
    "for i in l1:\n",
    "    rev_list.insert(0,i)\n",
    "\n",
    "rev_list"
   ]
  },
  {
   "cell_type": "code",
   "execution_count": 18,
   "id": "da17629d-e815-4714-bec8-b0f3ceea5e24",
   "metadata": {},
   "outputs": [
    {
     "data": {
      "text/plain": [
       "[2, 4, 6, 7]"
      ]
     },
     "execution_count": 18,
     "metadata": {},
     "output_type": "execute_result"
    }
   ],
   "source": [
    "# 14. Write a Python program to find the common elements between two lists using a for loop.\n",
    "\n",
    "l1 = [1,2,4,6,7,9,0]\n",
    "l2 = [4,56,6,7,2,11]\n",
    "\n",
    "common_element = []\n",
    "\n",
    "for i in l1:\n",
    "    if i in l2:\n",
    "        common_element.append(i)\n",
    "\n",
    "common_element"
   ]
  },
  {
   "cell_type": "code",
   "execution_count": 21,
   "id": "d08c3bdb-437e-406d-bfb5-c14923590349",
   "metadata": {},
   "outputs": [
    {
     "name": "stdout",
     "output_type": "stream",
     "text": [
      "name\n",
      "age\n",
      "\n",
      "\n",
      "shivam\n",
      "33\n",
      "\n",
      "\n",
      "('name', 'shivam')\n",
      "('age', 33)\n"
     ]
    }
   ],
   "source": [
    "# 15. Explain how to use a for loop to iterate through the keys and values of a dictionary in Python.\n",
    "\n",
    "'''Ans. We can iterate keys using for loop by writing command 'for i in dict: print(i)' and\n",
    "to iterate through values we can use command 'for i in dict: print(dict[i])'. Suppose if\n",
    "you want to iterate through all key and value pair the we can do as shown below:\n",
    "'''\n",
    "\n",
    "dict1 = {'name':'shivam', 'age':33}\n",
    "\n",
    "for i in dict1:\n",
    "    print(i)\n",
    "\n",
    "print('\\n')\n",
    "\n",
    "for i in dict1:\n",
    "    print(dict1[i])\n",
    "\n",
    "print('\\n')\n",
    "\n",
    "for i in dict1.items():\n",
    "    print(i)"
   ]
  },
  {
   "cell_type": "code",
   "execution_count": 10,
   "id": "ea8a2509-55a6-4b42-9d17-581c6941b7e9",
   "metadata": {},
   "outputs": [
    {
     "name": "stdout",
     "output_type": "stream",
     "text": [
      "The GCD of both numbers is =  15\n"
     ]
    }
   ],
   "source": [
    "# 16. Write a Python program to find the GCD (Greatest Common Divisor) of two numbers using a for loop.\n",
    "\n",
    "\n",
    "a = 60\n",
    "b = 45\n",
    "\n",
    "gcd = 0\n",
    "\n",
    "if a<b:\n",
    "    for i in range(1,a+1):\n",
    "        if a%i==0 and b%i==0:\n",
    "            gcd = i\n",
    "else:\n",
    "    for i in range(1,b+1):\n",
    "        if a%i==0 and b%i==0:\n",
    "            gcd = i\n",
    "            \n",
    "print('The GCD of both numbers is = ', gcd)"
   ]
  },
  {
   "cell_type": "code",
   "execution_count": 29,
   "id": "a2627f1c-ec19-4e4b-bf74-cfc30fbcfaa4",
   "metadata": {},
   "outputs": [
    {
     "name": "stdin",
     "output_type": "stream",
     "text": [
      " atta\n"
     ]
    },
    {
     "name": "stdout",
     "output_type": "stream",
     "text": [
      "String is palindrome\n"
     ]
    }
   ],
   "source": [
    "# 17. Create a Python program that checks if a string is a palindrome using a for loop.\n",
    "\n",
    "string = input()\n",
    "\n",
    "check_palin = True\n",
    "\n",
    "j = len(string)-1\n",
    "\n",
    "for i in range(len(string)):\n",
    "    \n",
    "    if string[i]!= string[j]:\n",
    "        \n",
    "        check_palin= False\n",
    "    \n",
    "    else:\n",
    "        j-=1\n",
    "\n",
    "if check_palin == True:\n",
    "    print('String is palindrome')\n",
    "\n",
    "else:\n",
    "    print('Not palindrome')"
   ]
  },
  {
   "cell_type": "code",
   "execution_count": 30,
   "id": "c5dbecaf-43d9-4b5e-ade6-9abe5198a598",
   "metadata": {},
   "outputs": [
    {
     "name": "stdout",
     "output_type": "stream",
     "text": [
      "[1, 2, 3, 4]\n"
     ]
    }
   ],
   "source": [
    "# 18. Write a Python program to remove duplicates from a list using a for loop.\n",
    "\n",
    "l1 = [1,2,3,4,1,1,2]\n",
    "\n",
    "l1_no_dup = []\n",
    "\n",
    "for i in l1:\n",
    "    if i not in l1_no_dup:\n",
    "        l1_no_dup.append(i)\n",
    "\n",
    "print(l1_no_dup)"
   ]
  },
  {
   "cell_type": "code",
   "execution_count": 31,
   "id": "211763c0-ae18-4f3a-bf25-7941f65f8193",
   "metadata": {},
   "outputs": [
    {
     "name": "stdin",
     "output_type": "stream",
     "text": [
      " Hello how are you\n"
     ]
    },
    {
     "name": "stdout",
     "output_type": "stream",
     "text": [
      "Number of words in sentence =  4\n"
     ]
    }
   ],
   "source": [
    "# 19. Create a Python program that counts the number of words in a sentence using a for loop.\n",
    "\n",
    "sentence = input()\n",
    "word_count = 0\n",
    "\n",
    "for i in sentence.split(' '):\n",
    "    word_count+=1\n",
    "\n",
    "print('Number of words in sentence = ', word_count)"
   ]
  },
  {
   "cell_type": "code",
   "execution_count": 32,
   "id": "7dd89c8d-c13c-4d88-98cc-32df11b87708",
   "metadata": {},
   "outputs": [
    {
     "name": "stdout",
     "output_type": "stream",
     "text": [
      "Sum of odd numbers = 625\n"
     ]
    }
   ],
   "source": [
    "# 20 Write a Python program to find the sum of all odd numbers from 1 to 50 using a for loop.\n",
    "\n",
    "odd_sum = 0\n",
    "\n",
    "for i in range(1,51):\n",
    "    if i%2!=0:\n",
    "        odd_sum+=i\n",
    "\n",
    "print('Sum of odd numbers =', odd_sum)"
   ]
  },
  {
   "cell_type": "code",
   "execution_count": null,
   "id": "5f47d2dc-1803-4fbf-b953-ee4571374f27",
   "metadata": {},
   "outputs": [],
   "source": [
    "# 21. Write a Python program that checks if a given year is a leap year using a for loop.\n",
    "\n",
    "''' To check a given year is leap year or not for loop is not required it can be\n",
    "checked using if else condition itself'''\n"
   ]
  },
  {
   "cell_type": "code",
   "execution_count": 105,
   "id": "e391dea8-62b1-406d-877c-706b6ecd0276",
   "metadata": {},
   "outputs": [
    {
     "data": {
      "text/plain": [
       "[5, 1, 6, 10]"
      ]
     },
     "execution_count": 105,
     "metadata": {},
     "output_type": "execute_result"
    }
   ],
   "source": [
    "# 22. Create a Python program that calculates the square root of a number using a for loop.\n",
    "\n",
    "l1 = [25,1,36,100]\n",
    "\n",
    "[int(i**0.5) for i in l1]"
   ]
  },
  {
   "cell_type": "code",
   "execution_count": 12,
   "id": "b7f6a71f-addb-4e13-a969-62bb2c1dfa77",
   "metadata": {},
   "outputs": [
    {
     "name": "stdin",
     "output_type": "stream",
     "text": [
      "First no. =  40\n",
      "Second no. =  60\n"
     ]
    },
    {
     "name": "stdout",
     "output_type": "stream",
     "text": [
      "lcm of two numbers = 120\n"
     ]
    }
   ],
   "source": [
    "# 23. Write a Python program to find the LCM (Least Common Multiple) of two numbers using a for loop.\n",
    "\n",
    "a = int(input('First no. = '))\n",
    "b = int(input('Second no. = '))\n",
    "\n",
    "if a<b:\n",
    "    for i in range(1,a+1):\n",
    "        if a%i==0 and b%i==0:\n",
    "            gcd = i\n",
    "else:\n",
    "    for i in range(1,b+1):\n",
    "        if a%i==0 and b%i==0:\n",
    "            gcd = i\n",
    "\n",
    "lcm = (a*b)/gcd\n",
    "\n",
    "print('lcm of two numbers =', int(lcm))"
   ]
  },
  {
   "cell_type": "markdown",
   "id": "e51a991b-182e-42d2-a5ee-ac187b16b860",
   "metadata": {},
   "source": [
    "### If Else"
   ]
  },
  {
   "cell_type": "code",
   "execution_count": 13,
   "id": "01187d1e-ca71-4f6f-a82a-265a510b0d72",
   "metadata": {},
   "outputs": [
    {
     "name": "stdin",
     "output_type": "stream",
     "text": [
      " -1\n"
     ]
    },
    {
     "name": "stdout",
     "output_type": "stream",
     "text": [
      "Negetive\n"
     ]
    }
   ],
   "source": [
    "# 1. Write a Python program to check if a number is positive, negative, or zero using an if-else statement.\n",
    "\n",
    "num = int(input())\n",
    "\n",
    "if num>0:\n",
    "    print('Positive')\n",
    "\n",
    "elif num==0:\n",
    "    print('Zero')\n",
    "\n",
    "else:\n",
    "    print('Negetive')"
   ]
  },
  {
   "cell_type": "code",
   "execution_count": 14,
   "id": "cbda126c-577f-4a59-984e-cee9e88be620",
   "metadata": {},
   "outputs": [
    {
     "name": "stdin",
     "output_type": "stream",
     "text": [
      " 4\n"
     ]
    },
    {
     "name": "stdout",
     "output_type": "stream",
     "text": [
      "Even\n"
     ]
    }
   ],
   "source": [
    "# 2. Create a Python program that checks if a given number is even or odd using an if-else statement.\n",
    "\n",
    "num = int(input())\n",
    "\n",
    "if num%2==0:\n",
    "    print('Even')\n",
    "\n",
    "else:\n",
    "    print('Odd')"
   ]
  },
  {
   "cell_type": "code",
   "execution_count": 15,
   "id": "fd78871e-8b3b-4814-909b-9a9e7afa91c0",
   "metadata": {},
   "outputs": [
    {
     "name": "stdout",
     "output_type": "stream",
     "text": [
      "Q.1 Who is the prime minister of India?\n",
      "a. Narendra Modi      b. Donald Trump\n",
      "c. Rahul Gandhi       d. Yogi Adityanath\n"
     ]
    },
    {
     "name": "stdin",
     "output_type": "stream",
     "text": [
      " a\n"
     ]
    },
    {
     "name": "stdout",
     "output_type": "stream",
     "text": [
      "Correct Ans.\n",
      "Q.2 Who won the Asia cup 2023?\n",
      "    a. Pakistan     b. India\n",
      "    c. China        d. Srilanka\n"
     ]
    },
    {
     "name": "stdin",
     "output_type": "stream",
     "text": [
      " c\n"
     ]
    },
    {
     "name": "stdout",
     "output_type": "stream",
     "text": [
      "Wrong Ans.\n"
     ]
    }
   ],
   "source": [
    "# 3. How can you use nested if-else statements in Python, and provide an example?\n",
    "\n",
    "'''Ans. If we are using a nested if else condition. First if condition is checked and if\n",
    "it is true then inside if condition is checked and executed if true, otherwise else is executed\n",
    "The same is explained in the e.g. below:\n",
    "'''\n",
    "\n",
    "print('''Q.1 Who is the prime minister of India?\n",
    "a. Narendra Modi      b. Donald Trump\n",
    "c. Rahul Gandhi       d. Yogi Adityanath''')\n",
    "\n",
    "ans = input()\n",
    "\n",
    "if ans=='a':\n",
    "    print('Correct Ans.')\n",
    "    print('''Q.2 Who won the Asia cup 2023?\n",
    "    a. Pakistan     b. India\n",
    "    c. China        d. Srilanka''')\n",
    "    ans = input()\n",
    "    if ans == 'b':\n",
    "        print('Correct Ans.')\n",
    "\n",
    "    else:\n",
    "        print('Wrong Ans.')\n",
    "\n",
    "else: \n",
    "    print('Wrong Ans.')"
   ]
  },
  {
   "cell_type": "code",
   "execution_count": 16,
   "id": "303cca5b-932a-476a-8546-096ac204fb95",
   "metadata": {},
   "outputs": [
    {
     "name": "stdout",
     "output_type": "stream",
     "text": [
      "45 is largest\n"
     ]
    }
   ],
   "source": [
    "# 4. Write a Python program to determine the largest of three numbers using if-else.\n",
    "\n",
    "a=30\n",
    "b=13\n",
    "c=45\n",
    "\n",
    "if a>b and a>c:\n",
    "    print(f'{a} is largest')\n",
    "\n",
    "elif b>a and b>c:\n",
    "    print(f'{b} is largest')\n",
    "\n",
    "else:\n",
    "    print(f'{c} is largest')"
   ]
  },
  {
   "cell_type": "code",
   "execution_count": 17,
   "id": "41fdf883-45dd-4bbd-93f6-a8b4bcf800f2",
   "metadata": {},
   "outputs": [
    {
     "name": "stdin",
     "output_type": "stream",
     "text": [
      " -2\n"
     ]
    },
    {
     "name": "stdout",
     "output_type": "stream",
     "text": [
      "Absolute value =  2\n"
     ]
    }
   ],
   "source": [
    "# 5. Write a Python program that calculates the absolute value of a number using if-else.\n",
    "\n",
    "num = int(input())\n",
    "\n",
    "if num>=0:\n",
    "    print('Absolute value = ', num)\n",
    "\n",
    "else:\n",
    "    print('Absolute value = ', num*(-1))"
   ]
  },
  {
   "cell_type": "code",
   "execution_count": 20,
   "id": "2398cee5-5a99-4a28-9a07-b3d693d390fc",
   "metadata": {},
   "outputs": [
    {
     "name": "stdin",
     "output_type": "stream",
     "text": [
      " A\n"
     ]
    },
    {
     "name": "stdout",
     "output_type": "stream",
     "text": [
      "It is vowel\n"
     ]
    }
   ],
   "source": [
    "# 6. Create a Python program that checks if a given character is a vowel or consonant using if-else.\n",
    "\n",
    "char1 = input()\n",
    "\n",
    "if char1.lower() in 'aeiou':\n",
    "    print('It is vowel')\n",
    "\n",
    "else:\n",
    "    print('It is consonant')"
   ]
  },
  {
   "cell_type": "code",
   "execution_count": 21,
   "id": "16e40772-2ad9-4ac4-b1be-2cc32047c8a8",
   "metadata": {},
   "outputs": [
    {
     "name": "stdin",
     "output_type": "stream",
     "text": [
      " 22\n"
     ]
    },
    {
     "name": "stdout",
     "output_type": "stream",
     "text": [
      "Eligible to vote\n"
     ]
    }
   ],
   "source": [
    "# 7. Write a Python program to determine if a user is eligible to vote based on their age using if-else.\n",
    "\n",
    "age = int(input())\n",
    "\n",
    "if age>=18:\n",
    "    print('Eligible to vote')\n",
    "\n",
    "else:\n",
    "    print('Not eligible to vote')"
   ]
  },
  {
   "cell_type": "code",
   "execution_count": 24,
   "id": "eb473b37-1355-4e2f-9c21-1719c31c7926",
   "metadata": {},
   "outputs": [
    {
     "name": "stdin",
     "output_type": "stream",
     "text": [
      "Enter the billing amount of shopping cart 500\n"
     ]
    },
    {
     "name": "stdout",
     "output_type": "stream",
     "text": [
      "The payable amount after discount of 5% is Rs. 475.0\n"
     ]
    }
   ],
   "source": [
    "# 8. Create a Python program that calculates the discount amount based on the purchase amount using if-else.\n",
    "\n",
    "'''\n",
    "Assuming on shopping of more than 5000 gives discount of 20%\n",
    "shopping of between than 3000 and 4999 gives discount of 10%\n",
    "and shopping of less than 3000 gives discount of 5%\n",
    "'''\n",
    "\n",
    "\n",
    "cost = float(input(\"Enter the billing amount of shopping cart\"))\n",
    "\n",
    "if cost>=5000:\n",
    "    dsc = 20\n",
    "    payable_amount = cost - (cost*20/100)\n",
    "\n",
    "elif 3000<cost<5000:\n",
    "    dsc = 10\n",
    "    payable_amount = cost - (cost*10/100)\n",
    "\n",
    "else:\n",
    "    dsc = 5\n",
    "    payable_amount = cost - (cost*5/100)\n",
    "    \n",
    "print(f\"The payable amount after discount of {dsc}% is Rs. {payable_amount}\")"
   ]
  },
  {
   "cell_type": "code",
   "execution_count": 26,
   "id": "7aeee982-9fe4-4f34-ac21-fc1562a59143",
   "metadata": {},
   "outputs": [
    {
     "name": "stdin",
     "output_type": "stream",
     "text": [
      "Enter the num:  210\n"
     ]
    },
    {
     "name": "stdout",
     "output_type": "stream",
     "text": [
      "Within limit\n"
     ]
    }
   ],
   "source": [
    "# 9. Write a Python program to check if a number is within a specified range using if-else.\n",
    "\n",
    "low_lim = 200\n",
    "up_lim = 450\n",
    "\n",
    "inp = int(input('Enter the num: '))\n",
    "\n",
    "if 200<inp<450:\n",
    "    print('Within limit')\n",
    "\n",
    "else:\n",
    "    print('Outside limit')"
   ]
  },
  {
   "cell_type": "code",
   "execution_count": 28,
   "id": "04415a2c-156f-4336-9cb0-adb82bf86ae5",
   "metadata": {},
   "outputs": [
    {
     "name": "stdin",
     "output_type": "stream",
     "text": [
      "Enter your exam score in percentage:  78\n"
     ]
    },
    {
     "name": "stdout",
     "output_type": "stream",
     "text": [
      "Grade = 'A' \n"
     ]
    }
   ],
   "source": [
    "# 10. Create a Python program that determines the grade of a student based on their score using if-else.\n",
    "\n",
    "score = float(input(\"Enter your exam score in percentage: \"))\n",
    "\n",
    "if score>=77:\n",
    "    print(\"Grade = 'A' \")\n",
    "\n",
    "elif 57<score<77:\n",
    "    print(\"Grade = 'B' \")\n",
    "\n",
    "else:\n",
    "    print(\"Grade = 'C' \")"
   ]
  },
  {
   "cell_type": "code",
   "execution_count": 29,
   "id": "975c8f65-ce2d-42a3-9783-6262adcd815c",
   "metadata": {},
   "outputs": [
    {
     "name": "stdin",
     "output_type": "stream",
     "text": [
      "Enter the string:  \n"
     ]
    },
    {
     "name": "stdout",
     "output_type": "stream",
     "text": [
      "Empty string\n"
     ]
    }
   ],
   "source": [
    "# 11. Write a Python program to check if a string is empty or not using if-else.\n",
    "\n",
    "str1 = input('Enter the string: ')\n",
    "\n",
    "if len(str1)==0:\n",
    "    print('Empty string')\n",
    "\n",
    "else:\n",
    "    print('Not empty')"
   ]
  },
  {
   "cell_type": "code",
   "execution_count": 31,
   "id": "ad9e5a75-2d71-4c45-a5b0-bd092e625f3f",
   "metadata": {},
   "outputs": [
    {
     "name": "stdin",
     "output_type": "stream",
     "text": [
      "Enter the sides separated with comma 2,2,1\n"
     ]
    },
    {
     "name": "stdout",
     "output_type": "stream",
     "text": [
      "Triangle is isosceles\n"
     ]
    }
   ],
   "source": [
    "# 12. Create a Python program that identifies the type of a triangle (e.g., equilateral, isosceles, or scalene) based on input values using if-else.\n",
    "\n",
    "a,b,c = tuple(map(lambda x: float(x), input(\"Enter the sides separated with comma\").split(\",\")))\n",
    "\n",
    "if a==b==c:\n",
    "    print(\"Triangle is equilateral\")\n",
    "\n",
    "elif a==b or a==c or b==c:\n",
    "    print(\"Triangle is isosceles\")\n",
    "\n",
    "else:\n",
    "    print(\"Triangle is scalane\")\n"
   ]
  },
  {
   "cell_type": "code",
   "execution_count": 32,
   "id": "91c3d14b-0726-445d-9977-863ef2731c1f",
   "metadata": {},
   "outputs": [
    {
     "name": "stdin",
     "output_type": "stream",
     "text": [
      "Enter the day of week:  6\n"
     ]
    },
    {
     "name": "stdout",
     "output_type": "stream",
     "text": [
      "The day is Saturday\n"
     ]
    }
   ],
   "source": [
    "# 13. Write a Python program to determine the day of the week based on a user-provided number using if-else.\n",
    "\n",
    "days = ['Monday', 'Tuesday', 'Wednesday', 'Thursday', 'Friday', 'Saturday', 'Sunday']\n",
    "\n",
    "day = int(input(\"Enter the day of week: \"))\n",
    "\n",
    "if 0<day<=7:\n",
    "    print(f\"The day is {days[day-1]}\")\n",
    "\n",
    "else:\n",
    "    print(\"Invalid Day\")"
   ]
  },
  {
   "cell_type": "code",
   "execution_count": 34,
   "id": "5a4764f5-6eca-44ec-a888-89b25f3d5e5d",
   "metadata": {},
   "outputs": [
    {
     "name": "stdin",
     "output_type": "stream",
     "text": [
      "Enter the year 2100\n"
     ]
    },
    {
     "name": "stdout",
     "output_type": "stream",
     "text": [
      "Not leap year\n"
     ]
    }
   ],
   "source": [
    "# 14. Create a Python program that checks if a given year is a leap year using both if-else and a function.\n",
    "\n",
    "y = int(input('Enter the year'))\n",
    "\n",
    "if y%4 == 0 and y%100!=0:\n",
    "    print('Leap Year')\n",
    "\n",
    "elif y%400==0 and y%100 ==0:\n",
    "    print('Leap Year')\n",
    "\n",
    "else:\n",
    "    print('Not leap year')"
   ]
  },
  {
   "cell_type": "code",
   "execution_count": null,
   "id": "9efc30e5-f226-4cba-832f-451457a1582e",
   "metadata": {},
   "outputs": [],
   "source": [
    "# 15. How do you use the \"assert\" statement in Python to add debugging checks within if-else blocks?\n",
    "\n",
    "'''Ans. assert keyword is used while debugging code. The assert keyword test if a\n",
    "condition in code returns True, if not, it will raise an assertion error.\n",
    "'''"
   ]
  },
  {
   "cell_type": "code",
   "execution_count": 35,
   "id": "cfb3e9e4-991a-4cad-b450-1aa5d93452d3",
   "metadata": {},
   "outputs": [
    {
     "name": "stdin",
     "output_type": "stream",
     "text": [
      "Enter your age:  59\n"
     ]
    },
    {
     "name": "stdout",
     "output_type": "stream",
     "text": [
      "Not eligible for such discount\n"
     ]
    }
   ],
   "source": [
    "# 16. Create a Python program that determines the eligibility of a person for a senior citizen discount based on age using if-else.\n",
    "\n",
    "age = int(input('Enter your age: '))\n",
    "\n",
    "if age>=60:\n",
    "    print('Eligible for senior citizen discount')\n",
    "\n",
    "else:\n",
    "    print('Not eligible for such discount')"
   ]
  },
  {
   "cell_type": "code",
   "execution_count": 38,
   "id": "797356e4-16ed-484e-9fcd-7d98dc5364f3",
   "metadata": {},
   "outputs": [
    {
     "name": "stdin",
     "output_type": "stream",
     "text": [
      " O\n"
     ]
    },
    {
     "name": "stdout",
     "output_type": "stream",
     "text": [
      "It is upper case\n"
     ]
    }
   ],
   "source": [
    "# 17. Write a Python program to categorize a given character as uppercase, lowercase, or neither using if-else.\n",
    "\n",
    "char1 = input()\n",
    "\n",
    "if char1.isupper():\n",
    "    print('It is upper case')\n",
    "\n",
    "elif char1.islower():\n",
    "    print('It is lower case')\n",
    "\n",
    "else:\n",
    "    print('Neither')"
   ]
  },
  {
   "cell_type": "code",
   "execution_count": 39,
   "id": "4adbc88f-bd85-4a34-bab6-b05cb6f75c50",
   "metadata": {},
   "outputs": [
    {
     "name": "stdin",
     "output_type": "stream",
     "text": [
      "Enter the coefficients of quadratic equation \n",
      "in format ax^2+bx+c=0 as a,b,c=  1,2,3\n"
     ]
    },
    {
     "name": "stdout",
     "output_type": "stream",
     "text": [
      "The roots are imaginary\n"
     ]
    }
   ],
   "source": [
    "# 18. Write a Python program to determine the roots of a quadratic equation using if-else.\n",
    "\n",
    "import math\n",
    "\n",
    "a,b,c = tuple(map(lambda x: float(x), input('''Enter the coefficients of quadratic equation \n",
    "in format ax^2+bx+c=0 as a,b,c= ''').split(\",\")))\n",
    "\n",
    "if (b**2)-4*(a*c) >0:\n",
    "    root1 = (-b + math.sqrt(b**2 - 4*(a*c)))/(2*a)\n",
    "    root2 = (-b - math.sqrt(b**2 - 4*(a*c)))/(2*a)\n",
    "\n",
    "    print(f\"The roots of the quadratic equations are {root1} and {root2}\")\n",
    "\n",
    "else:\n",
    "    print(\"The roots are imaginary\")"
   ]
  },
  {
   "cell_type": "code",
   "execution_count": 40,
   "id": "56645eb4-01f3-4be8-9207-8ae2ef8fdec9",
   "metadata": {},
   "outputs": [
    {
     "name": "stdin",
     "output_type": "stream",
     "text": [
      "Enter the year 2100\n"
     ]
    },
    {
     "name": "stdout",
     "output_type": "stream",
     "text": [
      "Century Year\n"
     ]
    }
   ],
   "source": [
    "# 19. Create a Python program that checks if a given year is a century year or not using if-else.\n",
    "\n",
    "yr = int(input('Enter the year'))\n",
    "\n",
    "if yr%100==0 and yr%400!=0:\n",
    "    print('Century Year')\n",
    "\n",
    "else:\n",
    "    print('Not Century year')"
   ]
  },
  {
   "cell_type": "code",
   "execution_count": 42,
   "id": "46c0133a-73e4-4fbc-8e4d-6b80370aa710",
   "metadata": {},
   "outputs": [
    {
     "name": "stdin",
     "output_type": "stream",
     "text": [
      "Enter the number:  4\n"
     ]
    },
    {
     "name": "stdout",
     "output_type": "stream",
     "text": [
      "Perfect square\n"
     ]
    }
   ],
   "source": [
    "# 20. Write a Python program to determine if a given number is a perfect square using if-else.\n",
    "\n",
    "import math\n",
    "\n",
    "num = int(input('Enter the number: '))\n",
    "\n",
    "x = math.sqrt(num)\n",
    "\n",
    "if x*x == num:\n",
    "    print('Perfect square')\n",
    "\n",
    "else:\n",
    "    print('Not perfect square')"
   ]
  },
  {
   "cell_type": "code",
   "execution_count": null,
   "id": "24b87666-5d1c-473f-8cda-422c18c7670d",
   "metadata": {},
   "outputs": [],
   "source": [
    "# 21. Explain the purpose of the \"continue\" and \"break\" statements within if-else loops.\n",
    "\n",
    "'''Ans. Continue: this statement is used inside a loop with if else statement so that if condition after if else \n",
    "statement is true then that part of the loop iteration is skipped.\n",
    "\n",
    "Break: this statement is used inside a loop with if else statement so that if condition after if else \n",
    "statement is true then the looping is stopped.'''"
   ]
  },
  {
   "cell_type": "code",
   "execution_count": 2,
   "id": "75ddd959-d3b4-4ca4-8e4f-0b2c353522db",
   "metadata": {},
   "outputs": [
    {
     "name": "stdin",
     "output_type": "stream",
     "text": [
      "Input Weight in kgs: 64\n",
      "Input height in cms:  172\n"
     ]
    },
    {
     "name": "stdout",
     "output_type": "stream",
     "text": [
      "Your bmi is 21.63331530557058 kg/ sq. m and you are\n",
      "Normal\n"
     ]
    }
   ],
   "source": [
    "# 22. Create a Python program that calculates the BMI (Body Mass Index) of a person based on their weight and height using if-else.\n",
    "\n",
    "weight = float(input('Input Weight in kgs:'))\n",
    "height = float(input('Input height in cms: '))/100\n",
    "\n",
    "bmi = weight/(height**2)\n",
    "print(f'Your bmi is {bmi} kg/ sq. m and you are')\n",
    "if bmi<18.5:\n",
    "    print('Underweight')\n",
    "\n",
    "elif 18.5<=bmi<=25:\n",
    "    print('Normal')\n",
    "\n",
    "elif 25<bmi<=30:\n",
    "    print('Overweight')\n",
    "\n",
    "else:\n",
    "    print('Obese')"
   ]
  },
  {
   "cell_type": "code",
   "execution_count": 7,
   "id": "f1ce4e2e-cff1-4658-8920-93d6e55ef175",
   "metadata": {},
   "outputs": [
    {
     "data": {
      "text/plain": [
       "[2, 6, 8, 2]"
      ]
     },
     "execution_count": 7,
     "metadata": {},
     "output_type": "execute_result"
    }
   ],
   "source": [
    "# 23. How can you use the \"filter()\" function with if-else statements to filter elements from a list?\n",
    "\n",
    "'''Ans. A filter function can be used as explained in the example below:'''\n",
    "\n",
    "def even(num):\n",
    "    if num%2==0:\n",
    "        return True\n",
    "    return False\n",
    "\n",
    "l1 = [1,2,5,6,8,9,2]\n",
    "\n",
    "list(filter(even, l1))"
   ]
  },
  {
   "cell_type": "code",
   "execution_count": 11,
   "id": "5490fef0-558b-40fc-8e6d-ab3f1ea91c0d",
   "metadata": {},
   "outputs": [
    {
     "name": "stdin",
     "output_type": "stream",
     "text": [
      " 7\n"
     ]
    },
    {
     "name": "stdout",
     "output_type": "stream",
     "text": [
      "Number is prime\n"
     ]
    }
   ],
   "source": [
    "# 24. Write a Python program to determine if a given number is prime or not using if-else.\n",
    "\n",
    "num = int(input())\n",
    "prime  = True\n",
    "\n",
    "if num == 1:\n",
    "    print('Neither prime nor composite')\n",
    "\n",
    "elif num == 2:\n",
    "    print('Number is prime')\n",
    "    \n",
    "else:\n",
    "    for i in range(3,num):\n",
    "        if num%i ==0:\n",
    "            prime = False\n",
    "\n",
    "    if prime == True:\n",
    "        print('Number is prime')\n",
    "\n",
    "    else:\n",
    "        print('Number not prime')"
   ]
  },
  {
   "cell_type": "markdown",
   "id": "f0dbc11d-743e-4b25-9bac-e7215c1376fe",
   "metadata": {},
   "source": [
    "### Map"
   ]
  },
  {
   "cell_type": "code",
   "execution_count": 12,
   "id": "e9cd4513-a17a-412a-bc8b-b7837ae367a1",
   "metadata": {},
   "outputs": [
    {
     "name": "stdout",
     "output_type": "stream",
     "text": [
      "List with string = ['1', '2', '3']\n",
      "List with int =  [1, 2, 3]\n"
     ]
    }
   ],
   "source": [
    "# 1. Explain the purpose of the `map()` function in Python and provide an example of how it can be used to apply a function to each element of an iterable.\n",
    "\n",
    "'''Ans. map() function is used to operate on each element of an iterable. Like if we want to \n",
    "typecast each element of list from string to int as shown below.'''\n",
    "\n",
    "l1 = ['1', '2', '3']\n",
    "\n",
    "print('List with string =', l1 )\n",
    "\n",
    "l2 = list(map(int, l1))\n",
    "\n",
    "print('List with int = ', l2)"
   ]
  },
  {
   "cell_type": "code",
   "execution_count": 13,
   "id": "44f12356-f4d0-40ed-be82-559db6d6d4f3",
   "metadata": {},
   "outputs": [
    {
     "name": "stdout",
     "output_type": "stream",
     "text": [
      "[1, 4, 9, 16, 25]\n"
     ]
    }
   ],
   "source": [
    "# 2. Write a Python program that uses the `map()` function to square each element of a list of numbers.\n",
    "\n",
    "l1 = [1,2,3,4,5]\n",
    "\n",
    "l2 = list(map(lambda x: x**2, l1))\n",
    "\n",
    "print(l2)"
   ]
  },
  {
   "cell_type": "code",
   "execution_count": null,
   "id": "a7ff959b-7a05-4030-a3f4-8a46a98cab30",
   "metadata": {},
   "outputs": [],
   "source": [
    "# 3. How does the `map()` function differ from a list comprehension in Python, and when would you choose one over the other?\n",
    "\n",
    "'''Ans. List comprehension returns a list but the map function returns an object of iterables.\n",
    "List comprehension is preferred when the formula expression is huge and complex. However if \n",
    "the formula is already defined as function then map function is preferred.'''"
   ]
  },
  {
   "cell_type": "code",
   "execution_count": 15,
   "id": "3c27cebe-62c4-418d-a767-cb94ec5953a3",
   "metadata": {},
   "outputs": [
    {
     "name": "stdout",
     "output_type": "stream",
     "text": [
      "['SHIVAM', 'AAYUSH', 'DAKSH']\n"
     ]
    }
   ],
   "source": [
    "# 4. Create a Python program that uses the `map()` function to convert a list of names to uppercase.\n",
    "\n",
    "list_of_names = ['shivam', 'aayush', 'daksh']\n",
    "\n",
    "list1 = list(map(lambda x: x.upper(), list_of_names))\n",
    "\n",
    "print(list1)"
   ]
  },
  {
   "cell_type": "code",
   "execution_count": 16,
   "id": "dfd7ef09-f89b-4746-a7d0-51ab3c970fb9",
   "metadata": {},
   "outputs": [
    {
     "name": "stdout",
     "output_type": "stream",
     "text": [
      "[6, 5, 5]\n"
     ]
    }
   ],
   "source": [
    "# 5. Write a Python program that uses the `map()` function to calculate the length of each word in a list of strings.\n",
    "\n",
    "list_string = ['shivam', 'ayush', 'daksh']\n",
    "\n",
    "list_str_len = list(map(len, list_string))\n",
    "\n",
    "print(list_str_len)"
   ]
  },
  {
   "cell_type": "code",
   "execution_count": 132,
   "id": "c81d4269-cbd3-4a51-a1eb-b163785df9c3",
   "metadata": {},
   "outputs": [
    {
     "name": "stdout",
     "output_type": "stream",
     "text": [
      "['1', '2', '3', '45', '6', '8', '906']\n",
      "['4', '5', '63', '568', '9457', '976']\n",
      "['45', '67', '9', '7']\n"
     ]
    }
   ],
   "source": [
    "# 6. How can you use the `map()` function to apply a custom function to elements of multiple lists simultaneously in Python?\n",
    "\n",
    "'''Ans. for this we can use list comprehension as shown in below example'''\n",
    "\n",
    "l1 = [1,2,3,45,6,8,906]\n",
    "l2 = [4,5,63,568,9457,976]\n",
    "l3 = [45,67,9,7]\n",
    "\n",
    "for i in [map(lambda x:str(x), l) for l in [l1,l2,l3]]:\n",
    "    print(list(i))"
   ]
  },
  {
   "cell_type": "code",
   "execution_count": 108,
   "id": "9b186114-93d4-4fc3-8de3-30ebe7038806",
   "metadata": {},
   "outputs": [
    {
     "name": "stdout",
     "output_type": "stream",
     "text": [
      "[98.6, 109.4, 212.0, 32.0]\n"
     ]
    }
   ],
   "source": [
    "# 7. Create a Python program that uses `map()` to convert a list of temperatures from Celsius to Fahrenheit.\n",
    "\n",
    "celcius = [37,43, 100,0]\n",
    "\n",
    "fah = list(map(lambda x: x*9/5 + 32, celcius))\n",
    "\n",
    "print(fah)"
   ]
  },
  {
   "cell_type": "code",
   "execution_count": 38,
   "id": "f1130532-dc95-42a8-87b9-b3edfac0d21d",
   "metadata": {},
   "outputs": [
    {
     "data": {
      "text/plain": [
       "[24, 46, 12]"
      ]
     },
     "execution_count": 38,
     "metadata": {},
     "output_type": "execute_result"
    }
   ],
   "source": [
    "# 8. Write a Python program that uses the `map()` function to round each element of a list of floating-point numbers to the nearest integer.\n",
    "\n",
    "l1 = [23.5667, 45.675, 12.123]\n",
    "\n",
    "l1_round = list(map(round, l1))\n",
    "\n",
    "l1_round"
   ]
  },
  {
   "cell_type": "markdown",
   "id": "b4a4074d-71a2-4b75-bc85-06f9b18596d1",
   "metadata": {},
   "source": [
    "### Reduce"
   ]
  },
  {
   "cell_type": "code",
   "execution_count": 4,
   "id": "7e23146b-d98f-435f-b84b-62cef7eab4b9",
   "metadata": {},
   "outputs": [
    {
     "data": {
      "text/plain": [
       "15"
      ]
     },
     "execution_count": 4,
     "metadata": {},
     "output_type": "execute_result"
    }
   ],
   "source": [
    "# 1. What is the `reduce()` function in Python, and what module should you import to use it? Provide an example of its basic usage.\n",
    "\n",
    "'''Ans. reduce function is used to apply a particular function passed in its argument to all of the list\n",
    "elements mentioned in the sequence passed along.\n",
    "In order to use the reduce function we have to import 'functools' module.\n",
    "E.g. is given below which gives the sum of elements of list'''\n",
    "\n",
    "from functools import reduce\n",
    "\n",
    "l1 = [1,2,3,4,5]\n",
    "\n",
    "reduce(lambda a,b: a+b, l1)"
   ]
  },
  {
   "cell_type": "code",
   "execution_count": 5,
   "id": "f98e735b-c040-4081-b1d2-196def8959dd",
   "metadata": {},
   "outputs": [
    {
     "data": {
      "text/plain": [
       "120"
      ]
     },
     "execution_count": 5,
     "metadata": {},
     "output_type": "execute_result"
    }
   ],
   "source": [
    "# 2. Write a Python program that uses the `reduce()` function to find the product of all elements in a list.\n",
    "\n",
    "l1 = [1,2,3,4,5]\n",
    "\n",
    "reduce(lambda a,b: a*b, l1)"
   ]
  },
  {
   "cell_type": "code",
   "execution_count": 6,
   "id": "126fae51-a541-4306-973e-eddf59b8f1ab",
   "metadata": {},
   "outputs": [
    {
     "data": {
      "text/plain": [
       "7"
      ]
     },
     "execution_count": 6,
     "metadata": {},
     "output_type": "execute_result"
    }
   ],
   "source": [
    "# 3. Create a Python program that uses `reduce()` to find the maximum element in a list of numbers.\n",
    "\n",
    "l1 = [1,2,3,5,7]\n",
    "\n",
    "reduce(lambda a,b: a if a>b else b, l1)"
   ]
  },
  {
   "cell_type": "code",
   "execution_count": 7,
   "id": "d9645d23-8918-4e4c-9d7d-d7a7e84564e2",
   "metadata": {},
   "outputs": [
    {
     "data": {
      "text/plain": [
       "'How are you'"
      ]
     },
     "execution_count": 7,
     "metadata": {},
     "output_type": "execute_result"
    }
   ],
   "source": [
    "# 4. How can you use the `reduce()` function to concatenate a list of strings into a single string?\n",
    "\n",
    "l1 = ['How', 'are', 'you']\n",
    "\n",
    "reduce(lambda a,b: a+' '+b, l1)"
   ]
  },
  {
   "cell_type": "code",
   "execution_count": 9,
   "id": "0c52d5d2-1042-40f9-8277-eafa04402bf8",
   "metadata": {},
   "outputs": [
    {
     "name": "stdin",
     "output_type": "stream",
     "text": [
      " 5\n"
     ]
    },
    {
     "name": "stdout",
     "output_type": "stream",
     "text": [
      "Factorial of 5 = 120\n"
     ]
    }
   ],
   "source": [
    "# 5. Write a Python program that calculates the factorial of a number using the `reduce()` function.\n",
    "\n",
    "n = int(input())\n",
    "\n",
    "l1 = [i for i in range(1,n+1)]\n",
    "\n",
    "print(f'Factorial of {n} =', reduce(lambda a,b:a*b, l1))"
   ]
  },
  {
   "cell_type": "code",
   "execution_count": 10,
   "id": "4d7a80bd-8de2-4b78-8a2f-abd37e5d6672",
   "metadata": {},
   "outputs": [
    {
     "data": {
      "text/plain": [
       "3"
      ]
     },
     "execution_count": 10,
     "metadata": {},
     "output_type": "execute_result"
    }
   ],
   "source": [
    "# 6. Create a Python program that uses `reduce()` to find the GCD (Greatest Common Divisor) of a list of numbers.\n",
    "\n",
    "import math\n",
    "\n",
    "l1 = [3,6,9,12]\n",
    "\n",
    "reduce(math.gcd, l1)"
   ]
  },
  {
   "cell_type": "code",
   "execution_count": 13,
   "id": "34670e04-33a5-43c7-ab62-f0d67bae300a",
   "metadata": {},
   "outputs": [
    {
     "name": "stdin",
     "output_type": "stream",
     "text": [
      " 123\n"
     ]
    },
    {
     "name": "stdout",
     "output_type": "stream",
     "text": [
      "Sum of digits of 123 =  6\n"
     ]
    }
   ],
   "source": [
    "# 7. Write a Python program that uses the `reduce()` function to find the sum of the digits of a given number.\n",
    "\n",
    "n = input()\n",
    "\n",
    "print(f'Sum of digits of {n} = ',reduce(lambda a,b: int(a)+int(b), n))"
   ]
  },
  {
   "cell_type": "markdown",
   "id": "9d51fe15-8a15-4768-b2e0-9d01fd0986a9",
   "metadata": {},
   "source": [
    "### Filter"
   ]
  },
  {
   "cell_type": "code",
   "execution_count": 14,
   "id": "73e21bee-4b18-4bff-ac4b-4543027fd3ce",
   "metadata": {},
   "outputs": [
    {
     "data": {
      "text/plain": [
       "[2, 6, 78]"
      ]
     },
     "execution_count": 14,
     "metadata": {},
     "output_type": "execute_result"
    }
   ],
   "source": [
    "# 1. Explain the purpose of the `filter()` function in Python and provide an example of how it can be used to filter elements from an iterable.\n",
    "\n",
    "'''Ans. filter function is used to filter out the element of the iterator on the basis of \n",
    "function provided as argument to the function. \n",
    "The e.g. for filtering even number from list of numbers.'''\n",
    "\n",
    "l1 = [2,45,6,78,77,23]\n",
    "\n",
    "list(filter(lambda x: x%2==0, l1))"
   ]
  },
  {
   "cell_type": "code",
   "execution_count": 96,
   "id": "f448390b-2c01-4bff-a324-632e89d93032",
   "metadata": {},
   "outputs": [
    {
     "name": "stdout",
     "output_type": "stream",
     "text": [
      "[2, 4, 6, 8, 10, 12, 14, 16, 18, 20, 22, 24]\n"
     ]
    }
   ],
   "source": [
    "# 2. Write a Python program that uses the `filter()` function to select even numbers from a list of integers.\n",
    "\n",
    "l1 = [i for i in range(1,26)]\n",
    "\n",
    "print(list(filter(lambda x:x%2==0, l1)))"
   ]
  },
  {
   "cell_type": "code",
   "execution_count": 18,
   "id": "e6b7c531-86e3-46cb-9e95-ddc9a1dd4990",
   "metadata": {},
   "outputs": [
    {
     "data": {
      "text/plain": [
       "['Shivam', 'Sheenu']"
      ]
     },
     "execution_count": 18,
     "metadata": {},
     "output_type": "execute_result"
    }
   ],
   "source": [
    "# 3. Create a Python program that uses the `filter()` function to select names that start with a specific letter from a list of strings.\n",
    "\n",
    "l1 = ['Shivam', 'Aayush', 'Daksh', 'Sheenu']\n",
    "\n",
    "list(filter(lambda x: x.startswith('S'), l1))"
   ]
  },
  {
   "cell_type": "code",
   "execution_count": 19,
   "id": "be75b8d3-6894-4dcd-aa57-fcf52e7b818c",
   "metadata": {},
   "outputs": [
    {
     "data": {
      "text/plain": [
       "[2, 5, 7, 23]"
      ]
     },
     "execution_count": 19,
     "metadata": {},
     "output_type": "execute_result"
    }
   ],
   "source": [
    "# 4. Write a Python program that uses the `filter()` function to select prime numbers from a list of integers.\n",
    "\n",
    "def prime(n):\n",
    "    prime  = True\n",
    "\n",
    "    if n == 1:\n",
    "        return False\n",
    "\n",
    "    elif n == 2:\n",
    "        return True\n",
    "    \n",
    "    else:\n",
    "        for i in range(3,n):\n",
    "            if n%i ==0:\n",
    "                return False\n",
    "        return True\n",
    "\n",
    "l1 = [1,2,5,6,7,95,23,21,56]\n",
    "\n",
    "list(filter(prime, l1))"
   ]
  },
  {
   "cell_type": "code",
   "execution_count": 20,
   "id": "a60132f4-1c64-48fe-9862-575bb308a497",
   "metadata": {},
   "outputs": [
    {
     "data": {
      "text/plain": [
       "['Hi', 'Hello', 'Welcome']"
      ]
     },
     "execution_count": 20,
     "metadata": {},
     "output_type": "execute_result"
    }
   ],
   "source": [
    "# 5. How can you use the `filter()` function to remove None values from a list in Python?\n",
    "\n",
    "l1 = ['Hi', None, 'Hello', 'Welcome']\n",
    "\n",
    "list(filter(lambda x : x!=None, l1))"
   ]
  },
  {
   "cell_type": "code",
   "execution_count": 21,
   "id": "373050b4-65d3-4ce2-9daf-58cc4bd688a9",
   "metadata": {},
   "outputs": [
    {
     "data": {
      "text/plain": [
       "['Shivam', 'Hello', 'Welcome']"
      ]
     },
     "execution_count": 21,
     "metadata": {},
     "output_type": "execute_result"
    }
   ],
   "source": [
    "# 6. Create a Python program that uses `filter()` to select words longer than a certain length from a list of strings.\n",
    "\n",
    "l1 = ['Hi', 'Shivam', 'Hello', 'Welcome', 'How']\n",
    "\n",
    "list(filter(lambda x: len(x)>3, l1))"
   ]
  },
  {
   "cell_type": "code",
   "execution_count": 22,
   "id": "e4e726be-aa70-43eb-9323-abcac27bb3aa",
   "metadata": {},
   "outputs": [
    {
     "data": {
      "text/plain": [
       "[23, 56, 12, 11]"
      ]
     },
     "execution_count": 22,
     "metadata": {},
     "output_type": "execute_result"
    }
   ],
   "source": [
    "# 7. Write a Python program that uses the `filter()` function to select elements greater than a specified threshold from a list of values.\n",
    "\n",
    "l1 = [23,56,12,11,7,9,2,3,5]\n",
    "\n",
    "list(filter(lambda x: x>10, l1))"
   ]
  },
  {
   "cell_type": "markdown",
   "id": "c046427b-65d2-48d3-9cc0-6bdea641305e",
   "metadata": {},
   "source": [
    "### Recursion"
   ]
  },
  {
   "cell_type": "code",
   "execution_count": 23,
   "id": "1db7639d-350a-4438-942c-463748bc8a8c",
   "metadata": {},
   "outputs": [
    {
     "data": {
      "text/plain": [
       "'Ans. Recursion is the concept where the function calls itself directly or indirectly\\nIteration is when a loop repeatedly executes the set of instruction mentioned in loops.'"
      ]
     },
     "execution_count": 23,
     "metadata": {},
     "output_type": "execute_result"
    }
   ],
   "source": [
    "# 1. Explain the concept of recursion in Python. How does it differ from iteration?\n",
    "\n",
    "'''Ans. Recursion is the concept where the function calls itself directly or indirectly\n",
    "Iteration is when a loop repeatedly executes the set of instruction mentioned in loops.'''\n"
   ]
  },
  {
   "cell_type": "code",
   "execution_count": 26,
   "id": "bf88c0d0-8d35-4e51-b4a2-a3e04e193aed",
   "metadata": {},
   "outputs": [
    {
     "data": {
      "text/plain": [
       "6"
      ]
     },
     "execution_count": 26,
     "metadata": {},
     "output_type": "execute_result"
    }
   ],
   "source": [
    "# 2. Write a Python program to calculate the factorial of a number using recursion.\n",
    "\n",
    "def fact(n):\n",
    "    if n==0 or n==1:\n",
    "        return 1\n",
    "    else:\n",
    "        return n*fact(n-1)\n",
    "        \n",
    "fact(3)"
   ]
  },
  {
   "cell_type": "code",
   "execution_count": 30,
   "id": "1d400df8-3a99-497c-ada7-6b6b4bcac0b5",
   "metadata": {},
   "outputs": [
    {
     "data": {
      "text/plain": [
       "34"
      ]
     },
     "execution_count": 30,
     "metadata": {},
     "output_type": "execute_result"
    }
   ],
   "source": [
    "# 3. Create a recursive Python function to find the nth Fibonacci number.\n",
    "\n",
    "def fib(n):\n",
    "    \n",
    "    if n<=1:\n",
    "        return n\n",
    "    \n",
    "    else:\n",
    "        return fib(n-1)+ fib(n-2)\n",
    "\n",
    "fib(9)"
   ]
  },
  {
   "cell_type": "code",
   "execution_count": 32,
   "id": "decfe1a3-403e-47db-b44a-cb176885db5b",
   "metadata": {},
   "outputs": [
    {
     "data": {
      "text/plain": [
       "30"
      ]
     },
     "execution_count": 32,
     "metadata": {},
     "output_type": "execute_result"
    }
   ],
   "source": [
    "# 4. Write a recursive Python function to calculate the sum of all elements in a list.\n",
    "\n",
    "l1 = [1,2,3,4,5,7,8]\n",
    "n = len(l1)\n",
    "\n",
    "def sum(l1, n):\n",
    "    if n<=0:\n",
    "        return 0\n",
    "    else:\n",
    "        return sum(l1,n-1)+ l1[n-1]\n",
    "\n",
    "sum(l1,n)\n",
    "    "
   ]
  },
  {
   "cell_type": "code",
   "execution_count": 33,
   "id": "f3a5dcd4-43a6-4128-88fe-06b1d35988e9",
   "metadata": {},
   "outputs": [
    {
     "data": {
      "text/plain": [
       "' Ans. We can prevent a recursive function from running indefinitely by mentioning the \\ncondition to stop using if else statements.'"
      ]
     },
     "execution_count": 33,
     "metadata": {},
     "output_type": "execute_result"
    }
   ],
   "source": [
    "# 5. How can you prevent a recursive function from running indefinitely, causing a stack overflow error?\n",
    "\n",
    "''' Ans. We can prevent a recursive function from running indefinitely by mentioning the \n",
    "condition to stop using if else statements.'''"
   ]
  },
  {
   "cell_type": "code",
   "execution_count": 34,
   "id": "fd3e5305-1247-4964-a3cc-9d05eeb61148",
   "metadata": {},
   "outputs": [
    {
     "data": {
      "text/plain": [
       "15"
      ]
     },
     "execution_count": 34,
     "metadata": {},
     "output_type": "execute_result"
    }
   ],
   "source": [
    "# 6. Create a recursive Python function to find the greatest common divisor (GCD) of two numbers using the Euclidean algorithm.\n",
    "\n",
    "a = 45\n",
    "b = 30\n",
    "\n",
    "def gcd(a,b):\n",
    "    if a==0:\n",
    "        return b\n",
    "\n",
    "    if b == 0:\n",
    "        return a\n",
    "\n",
    "    if a == b:\n",
    "        return a\n",
    "\n",
    "    if a>b:\n",
    "        return gcd(a-b, b)\n",
    "    return gcd(a, b-a)\n",
    "\n",
    "gcd(a,b)"
   ]
  },
  {
   "cell_type": "code",
   "execution_count": 36,
   "id": "8f373a10-2453-4436-9f76-c962bed86311",
   "metadata": {},
   "outputs": [
    {
     "name": "stdout",
     "output_type": "stream",
     "text": [
      "yppaH"
     ]
    }
   ],
   "source": [
    "# 7. Write a recursive Python function to reverse a string.\n",
    "\n",
    "str1 = 'Happy'\n",
    "\n",
    "def reverse(str1):\n",
    "    if len(str1)==0:\n",
    "        return 0\n",
    "\n",
    "    temp = str1[0]\n",
    "    reverse(str1[1:])\n",
    "    print(temp, end='')\n",
    "\n",
    "reverse(str1)"
   ]
  },
  {
   "cell_type": "code",
   "execution_count": 37,
   "id": "6a52f6f4-ea2f-47d5-8888-0de6e0322fe7",
   "metadata": {},
   "outputs": [
    {
     "data": {
      "text/plain": [
       "512"
      ]
     },
     "execution_count": 37,
     "metadata": {},
     "output_type": "execute_result"
    }
   ],
   "source": [
    "# 8. Create a recursive Python function to calculate the power of a number (x^n).\n",
    "\n",
    "x = 8\n",
    "n = 3\n",
    "\n",
    "def pow(x,n):\n",
    "    if n==0:\n",
    "        return 1\n",
    "\n",
    "    return x*pow(x, n-1)\n",
    "\n",
    "pow(x,n)"
   ]
  },
  {
   "cell_type": "code",
   "execution_count": 99,
   "id": "117bb3eb-e920-4661-a31c-310af0043284",
   "metadata": {},
   "outputs": [
    {
     "name": "stdout",
     "output_type": "stream",
     "text": [
      "hi\n",
      "ih\n"
     ]
    }
   ],
   "source": [
    "# 9. Write a recursive Python function to find all permutations of a given string.\n",
    "\n",
    "def permutations(string, i=0):\n",
    " \n",
    "    if i == len(string):\n",
    "        print(''.join(string))\n",
    " \n",
    "    for j in range(i, len(string)):\n",
    "        words = [c for c in string]\n",
    "        words[i], words[j] = words[j], words[i]\n",
    "        permutations(words, i+1)\n",
    "\n",
    "permutations(('hi'))"
   ]
  },
  {
   "cell_type": "code",
   "execution_count": 54,
   "id": "fa11725b-d0c5-4597-afbb-fd3cbc7d9b96",
   "metadata": {},
   "outputs": [
    {
     "data": {
      "text/plain": [
       "'Palindrome'"
      ]
     },
     "execution_count": 54,
     "metadata": {},
     "output_type": "execute_result"
    }
   ],
   "source": [
    "# 10. Write a recursive Python function to check if a string is a palindrome.\n",
    "a = []\n",
    "def palin(str1):\n",
    "    if len(str1)==0:\n",
    "        return 0\n",
    "\n",
    "    a.insert(0,str1[0])\n",
    "    reverse(str1[1:])\n",
    "\n",
    "    if a == list(str1):\n",
    "        return 'Palindrome'\n",
    "\n",
    "    else:\n",
    "        return 'Not Palindrome'\n",
    "\n",
    "\n",
    "palin('atta')"
   ]
  },
  {
   "cell_type": "code",
   "execution_count": 103,
   "id": "ae320d15-1436-48f1-ba4c-a8fdbfb93c18",
   "metadata": {},
   "outputs": [
    {
     "data": {
      "text/plain": [
       "[[1, 2], [1, 3], [1, 4], [2, 3], [2, 4], [3, 4]]"
      ]
     },
     "execution_count": 103,
     "metadata": {},
     "output_type": "execute_result"
    }
   ],
   "source": [
    "# 11. Create a recursive Python function to generate all possible combinations of a list of elements.\n",
    "\n",
    "l1 = [1,2,3,4]\n",
    "\n",
    "def combine(l,k):\n",
    "    ans = []\n",
    "    n = len(l)\n",
    "    backtrack(l,0,k,[],ans,n)\n",
    "    return ans\n",
    "\n",
    "def backtrack(l, i, k, path, ans, n):\n",
    "    if i == n:\n",
    "        if len(path)==k:\n",
    "            ans.append(path[:])\n",
    "        return \n",
    "    path.append(l[i])\n",
    "\n",
    "    backtrack(l, i+1, k, path, ans, n)\n",
    "    path.pop()\n",
    "    backtrack(l, i+1, k, path, ans, n)\n",
    "\n",
    "combine(l1, 2)\n",
    "    "
   ]
  },
  {
   "cell_type": "markdown",
   "id": "303268dc-c5aa-44b1-a1df-a2c3873bb5e2",
   "metadata": {},
   "source": [
    "### Basics of functions"
   ]
  },
  {
   "cell_type": "code",
   "execution_count": null,
   "id": "d364f2f0-13a3-4910-bd62-300e9ceb72e0",
   "metadata": {},
   "outputs": [],
   "source": [
    "# 1. What is a function in Python, and why is it used?\n",
    "\n",
    "'''Ans. Function is a block of code written once to use the functionality for which it is\n",
    "coded multiple times. Hence it follows the concept of write once and use. It enhances the\n",
    "code reusability'''"
   ]
  },
  {
   "cell_type": "code",
   "execution_count": 55,
   "id": "f3ca9767-8c37-4d33-88e7-51e7d0e3a3c0",
   "metadata": {},
   "outputs": [],
   "source": [
    "# 2. How do you define a function in Python? Provide an example.\n",
    "\n",
    "'''Ans. A function is defined using 'def' keyword. The e.g. of the same is shown below:'''\n",
    "\n",
    "def func():\n",
    "    pass"
   ]
  },
  {
   "cell_type": "code",
   "execution_count": null,
   "id": "524a414f-c6fc-4ef1-8572-eeb264dd4570",
   "metadata": {},
   "outputs": [],
   "source": [
    "# 3. Explain the difference between a function definition and a function call.\n",
    "\n",
    "'''Ans. A function is defined along with its attributes and block of code is written\n",
    "for the purpose for which function is defined.\n",
    "However when the function is called by entering its parameters it is called function call\n",
    "'''"
   ]
  },
  {
   "cell_type": "code",
   "execution_count": 56,
   "id": "8c537d91-081f-44ed-8a4d-51aec83cf15f",
   "metadata": {},
   "outputs": [
    {
     "data": {
      "text/plain": [
       "9"
      ]
     },
     "execution_count": 56,
     "metadata": {},
     "output_type": "execute_result"
    }
   ],
   "source": [
    "# 4. Write a Python program that defines a function to calculate the sum of two numbers and then calls the function.\n",
    "\n",
    "def sum(a,b):\n",
    "    return a+b\n",
    "\n",
    "sum(4,5)"
   ]
  },
  {
   "cell_type": "code",
   "execution_count": null,
   "id": "335d4d02-e38c-4fa8-b80c-989694814215",
   "metadata": {},
   "outputs": [],
   "source": [
    "# 5. What is a function signature, and what information does it typically include?\n",
    "\n",
    "'''Ans. A function signature includes the function name and its arguments'''"
   ]
  },
  {
   "cell_type": "code",
   "execution_count": 57,
   "id": "110f8da3-e081-4463-b2c6-2a2637e2be84",
   "metadata": {},
   "outputs": [
    {
     "data": {
      "text/plain": [
       "15"
      ]
     },
     "execution_count": 57,
     "metadata": {},
     "output_type": "execute_result"
    }
   ],
   "source": [
    "# 6. Create a Python function that takes two arguments and returns their product.\n",
    "\n",
    "def product(a,b):\n",
    "    return a*b\n",
    "\n",
    "product(5,3)"
   ]
  },
  {
   "cell_type": "markdown",
   "id": "96f41243-6317-4f6a-8ca4-608834151832",
   "metadata": {},
   "source": [
    "### Function Parameters and Arguments"
   ]
  },
  {
   "cell_type": "code",
   "execution_count": null,
   "id": "d25c3c66-8c39-42ee-b5c8-7093b21dc929",
   "metadata": {},
   "outputs": [],
   "source": [
    "# 1. Explain the concepts of formal parameters and actual arguments in Python functions.\n",
    "\n",
    "'''Ans. Formal parameters of the function are specified during the definition of the function.\n",
    "\n",
    "Actual arguments are specified during the function call.\n",
    "\n",
    "Actual parameters are of four types:\n",
    "1. Positional Parameters: It is passed in the function in the correct order i.e. the order in which\n",
    "                it was declared as formal parameters.\n",
    "2. Keyword Parameters: It is passed with formal parameters as keywords separated with '=' sign.\n",
    "\n",
    "3. Default parameters: During the function definition some default value is given to formal\n",
    "                parameters. Suppose no actual parameters is passed, the default value is used\n",
    "                for function call.\n",
    "\n",
    "4. Variable length parameters: Suppose we have no idea about how many parameters are going to\n",
    "                be passed inside a function during function call. Then we can declare '*args'\n",
    "                and '**kwargs' as formal parameters. '*args' stores parameters as tuple and \n",
    "                '**kwargs' stores parameters as dictionary.\n",
    "'''"
   ]
  },
  {
   "cell_type": "code",
   "execution_count": 61,
   "id": "8216f1d3-2191-4474-9a2c-50ae0ee2f106",
   "metadata": {},
   "outputs": [
    {
     "name": "stdout",
     "output_type": "stream",
     "text": [
      "With Default value 54\n",
      "With actual parameters 14\n"
     ]
    }
   ],
   "source": [
    "# 2. Write a Python program that defines a function with default argument values.\n",
    "\n",
    "def sum(a, b=50):\n",
    "    return a+b\n",
    "\n",
    "print('With Default value', sum(4))\n",
    "\n",
    "print('With actual parameters', sum(4,10))"
   ]
  },
  {
   "cell_type": "code",
   "execution_count": 62,
   "id": "8ee20bbf-7ed6-4ee2-8301-c0466b5732eb",
   "metadata": {},
   "outputs": [
    {
     "name": "stdout",
     "output_type": "stream",
     "text": [
      "Without keyword argument =  Sharma Shivam\n",
      "With keyword argument =  Shivam Sharma\n"
     ]
    }
   ],
   "source": [
    "# 3. How do you use keyword arguments in Python function calls? Provide an example.\n",
    "\n",
    "def fullname(firstname, lastname):\n",
    "    return firstname + ' ' + lastname\n",
    "\n",
    "print('Without keyword argument = ', fullname('Sharma', 'Shivam'))\n",
    "print('With keyword argument = ', fullname(lastname = 'Sharma', firstname='Shivam'))"
   ]
  },
  {
   "cell_type": "code",
   "execution_count": 63,
   "id": "fc9b1372-125e-4b23-a81e-47c6f0882cb2",
   "metadata": {},
   "outputs": [
    {
     "name": "stdout",
     "output_type": "stream",
     "text": [
      "6\n",
      "58\n"
     ]
    }
   ],
   "source": [
    "# 4. Create a Python function that accepts a variable number of arguments and calculates their sum.\n",
    "\n",
    "def sum(*args):\n",
    "    sum = 0\n",
    "    for i in args:\n",
    "        sum+=i\n",
    "\n",
    "    return sum\n",
    "\n",
    "print(sum(1,2,3))\n",
    "print(sum(5,10,20,12,11))"
   ]
  },
  {
   "cell_type": "code",
   "execution_count": null,
   "id": "87945d2c-f1d0-4f49-b428-fd3aa4eea5a9",
   "metadata": {},
   "outputs": [],
   "source": [
    "# 5. What is the purpose of the `*args` and `**kwargs` syntax in function parameter lists?\n",
    "\n",
    "'''Ans. Suppose we have no idea about how many parameters are going to be passed inside \n",
    "        a function during function call. Then we can declare '*args' and '**kwargs' as \n",
    "        formal parameters. '*args' stores parameters as tuple and '**kwargs' stores \n",
    "        parameters as dictionary. '**kwargs' is used when parameters are declared as key\n",
    "        value pair.\n",
    "\n",
    "'''"
   ]
  },
  {
   "cell_type": "markdown",
   "id": "28d5f4fd-2391-45cd-96fd-c2b44a256804",
   "metadata": {},
   "source": [
    "### Return values and scoping"
   ]
  },
  {
   "cell_type": "code",
   "execution_count": 65,
   "id": "309ea8d3-d975-409b-a62b-b949a30914e1",
   "metadata": {},
   "outputs": [
    {
     "data": {
      "text/plain": [
       "7"
      ]
     },
     "execution_count": 65,
     "metadata": {},
     "output_type": "execute_result"
    }
   ],
   "source": [
    "# 1. Describe the role of the `return` statement in Python functions and provide examples.\n",
    "\n",
    "'''Ans. return statement is used in the python function to specify the output of the function.\n",
    "when the function is called the statements written after return keyword is output of the \n",
    "function.'''\n",
    "\n",
    "def sum(a,b):\n",
    "    return a+b\n",
    "\n",
    "# here the sum of argument will be output of function which is written  after return keyword.\n",
    "\n",
    "sum(3,4)"
   ]
  },
  {
   "cell_type": "code",
   "execution_count": null,
   "id": "ad2bc94f-256a-452c-9902-c79633c95a5e",
   "metadata": {},
   "outputs": [],
   "source": [
    "# 2. Explain the concept of variable scope in Python, including local and global variables.\n",
    "\n",
    "'''Ans. variable declared inside a function has local scope means it is not accessable\n",
    "outside the function.\n",
    "However the variable declared outside the function has global scope. It means that the \n",
    "variable can be accessed both inside the function as well outside the function.\n",
    "'''"
   ]
  },
  {
   "cell_type": "code",
   "execution_count": 66,
   "id": "73700fc6-5157-447e-8f7d-55db937c1dfb",
   "metadata": {},
   "outputs": [
    {
     "data": {
      "text/plain": [
       "'Palindrome'"
      ]
     },
     "execution_count": 66,
     "metadata": {},
     "output_type": "execute_result"
    }
   ],
   "source": [
    "# 3. Write a Python program that demonstrates the use of global variables within functions.\n",
    "\n",
    "a = []  # here a is global variable\n",
    "\n",
    "def palin(str1):\n",
    "    if len(str1)==0:\n",
    "        return 0\n",
    "\n",
    "    a.insert(0,str1[0])\n",
    "    reverse(str1[1:])\n",
    "\n",
    "    if a == list(str1):\n",
    "        return 'Palindrome'\n",
    "\n",
    "    else:\n",
    "        return 'Not Palindrome'\n",
    "\n",
    "\n",
    "palin('atta')"
   ]
  },
  {
   "cell_type": "code",
   "execution_count": 68,
   "id": "73c33a64-9e74-4d13-988f-6d79caf1ecea",
   "metadata": {},
   "outputs": [
    {
     "data": {
      "text/plain": [
       "24"
      ]
     },
     "execution_count": 68,
     "metadata": {},
     "output_type": "execute_result"
    }
   ],
   "source": [
    "# 4. Create a Python function that calculates the factorial of a number and returns it.\n",
    "\n",
    "def factorial(num):\n",
    "    if num==0 or num == 1:\n",
    "        return 1\n",
    "    else:\n",
    "        return num*factorial(num-1)\n",
    "\n",
    "factorial(4)"
   ]
  },
  {
   "cell_type": "code",
   "execution_count": 78,
   "id": "ad93ae5d-6e4b-4a86-a5b1-8be24dab3b1a",
   "metadata": {},
   "outputs": [
    {
     "name": "stdout",
     "output_type": "stream",
     "text": [
      "Python is fantastic\n"
     ]
    }
   ],
   "source": [
    "# 5. How can you access variables defined outside a function from within the function?\n",
    "\n",
    "'''Ans. To use variable declared inside the function, outside the function too, we use \n",
    "global keyword. The example is shown below:'''\n",
    "\n",
    "def myfunc():\n",
    "  global x\n",
    "  x = \"fantastic\"\n",
    "\n",
    "myfunc()\n",
    "\n",
    "print(\"Python is \" + x)"
   ]
  },
  {
   "cell_type": "markdown",
   "id": "666a4b2a-8916-4cf9-8784-6201372a59c0",
   "metadata": {},
   "source": [
    "### Lambda Functions and Higher Order Functions:"
   ]
  },
  {
   "cell_type": "code",
   "execution_count": null,
   "id": "54ddc358-001e-4780-80a2-c9b3efc0df0c",
   "metadata": {},
   "outputs": [],
   "source": [
    "# 1. What are lambda functions in Python, and when are they typically used?\n",
    "\n",
    "'''Ans. Lambda functions are called anonymous function which are generally used when\n",
    "the function is not going to be used repeatedly. It is declared only for a particular\n",
    "task and once it is completed it is never going to be used again.\n",
    "\n",
    "Typically used with map, reduce and filter functions'''"
   ]
  },
  {
   "cell_type": "code",
   "execution_count": 80,
   "id": "a82c513b-4251-4d21-8461-9cda0a3c0246",
   "metadata": {},
   "outputs": [
    {
     "data": {
      "text/plain": [
       "[(2, 10, 12), (1, 12, 3), (3, 14, 43)]"
      ]
     },
     "execution_count": 80,
     "metadata": {},
     "output_type": "execute_result"
    }
   ],
   "source": [
    "# 2. Write a Python program that uses lambda functions to sort a list of tuples based on the second element.\n",
    "\n",
    "l1 = [(1,12,3), (2,10,12), (3,14,43)]\n",
    "\n",
    "l1.sort(key = lambda x:x[1])\n",
    "\n",
    "l1"
   ]
  },
  {
   "cell_type": "code",
   "execution_count": 86,
   "id": "8a500647-0ffa-4e89-aa25-2c056777a0ac",
   "metadata": {},
   "outputs": [
    {
     "name": "stdout",
     "output_type": "stream",
     "text": [
      "Using <function recur_fact at 0x10768f420> function =  24\n",
      "Using <function loop_fact at 0x10768e480> function =  24\n"
     ]
    }
   ],
   "source": [
    "# 3. Explain the concept of higher-order functions in Python, and provide an example.\n",
    "\n",
    "'''Ans. A function is called a higher order function if it contains other function as a \n",
    "parameter or returns a function as output.'''\n",
    "\n",
    "# E.g. \n",
    "\n",
    "def recur_fact(n):\n",
    "    if n==0 or n==1:\n",
    "        return 1\n",
    "    else:\n",
    "        return n*recur_fact(n-1)\n",
    "\n",
    "def loop_fact(n):\n",
    "    prod = 1\n",
    "    for i in range(1,n+1):\n",
    "        prod*=i\n",
    "    return prod\n",
    "\n",
    "def ans(func):\n",
    "    fact = func(4)\n",
    "    print(f'Using {func} function = ', fact)\n",
    "\n",
    "ans(recur_fact)\n",
    "ans(loop_fact)"
   ]
  },
  {
   "cell_type": "code",
   "execution_count": 88,
   "id": "85819247-0d32-4d60-b3c7-5a02211e9a6e",
   "metadata": {},
   "outputs": [
    {
     "name": "stdout",
     "output_type": "stream",
     "text": [
      "['1', '2', '3']\n",
      "\n",
      "\n",
      "[1, 2, 3]\n"
     ]
    }
   ],
   "source": [
    "# 4. Create a Python function that takes a list of numbers and a function as arguments, applying the function to each element in the list.\n",
    "\n",
    "def list_int(func, l):\n",
    "    for i in range(len(l)):\n",
    "        l[i] = func(l[i])\n",
    "    return l\n",
    "\n",
    "l1 = ['1','2','3']\n",
    "print(l1)\n",
    "print('\\n')\n",
    "print(list_int(int, l1))"
   ]
  },
  {
   "cell_type": "markdown",
   "id": "41dc6760-c2a5-45ef-8ed5-96da49b0532c",
   "metadata": {},
   "source": [
    "### Built in Function"
   ]
  },
  {
   "cell_type": "code",
   "execution_count": null,
   "id": "b5d9345a-80ef-43fc-a6f4-4fd3d21179e7",
   "metadata": {},
   "outputs": [],
   "source": [
    "# 1. Describe the role of built-in functions like `len()`, `max()`, and `min()` in Python.\n",
    "\n",
    "'''Ans. len() function returns the length of iterables like string, list, etc.\n",
    "        max() function returns the maximum value from list, tuples, etc.\n",
    "        min() function returns the minimum value from list, tuples, etc.\n",
    "'''"
   ]
  },
  {
   "cell_type": "code",
   "execution_count": 89,
   "id": "471b9583-4067-495a-b545-f65115639310",
   "metadata": {},
   "outputs": [
    {
     "data": {
      "text/plain": [
       "[1, 2, 3]"
      ]
     },
     "execution_count": 89,
     "metadata": {},
     "output_type": "execute_result"
    }
   ],
   "source": [
    "# 2. Write a Python program that uses the `map()` function to apply a function to each element of a list.\n",
    "\n",
    "l1 = ['1', '2', '3']\n",
    "\n",
    "list(map(lambda x: int(x), l1))"
   ]
  },
  {
   "cell_type": "code",
   "execution_count": 91,
   "id": "6854a0bf-98ef-4779-8db5-eea3c8397e50",
   "metadata": {},
   "outputs": [
    {
     "data": {
      "text/plain": [
       "[123, 435, 23]"
      ]
     },
     "execution_count": 91,
     "metadata": {},
     "output_type": "execute_result"
    }
   ],
   "source": [
    "# 3. How does the `filter()` function work in Python, and when would you use it?\n",
    "\n",
    "'''Ans. Filter function is used in python to filter elements from the iterables on the \n",
    "basis of certain condition declared as argument of filter function.'''\n",
    "\n",
    "l1 = [10,12,123,435,23]\n",
    "\n",
    "list(filter(lambda x: x>12, l1))"
   ]
  },
  {
   "cell_type": "code",
   "execution_count": 92,
   "id": "23dbc945-cff5-43fc-ace6-8f94d0fd5ed1",
   "metadata": {},
   "outputs": [
    {
     "data": {
      "text/plain": [
       "2680"
      ]
     },
     "execution_count": 92,
     "metadata": {},
     "output_type": "execute_result"
    }
   ],
   "source": [
    "# 4. Create a Python program that uses the `reduce()` function to find the product of all elements in a list.\n",
    "\n",
    "l1 = [5,67,8]\n",
    "\n",
    "reduce(lambda a,b: a*b, l1)"
   ]
  },
  {
   "cell_type": "markdown",
   "id": "309c729a-572f-4466-95aa-254d89928251",
   "metadata": {},
   "source": [
    "### Function documentation and best practices"
   ]
  },
  {
   "cell_type": "code",
   "execution_count": null,
   "id": "1eabb1bd-614d-4ca3-84f9-b43d5d8fde97",
   "metadata": {},
   "outputs": [],
   "source": [
    "# 1. Explain the purpose of docstrings in Python functions and how to write them.\n",
    "\n",
    "'''Ans. The doc string is used in python functions to explain the purpose for which the \n",
    "function is defined. It is written between triple quotes as this answer is written'''"
   ]
  },
  {
   "cell_type": "code",
   "execution_count": null,
   "id": "44dbcd87-262c-47df-b915-f79ac88b8f56",
   "metadata": {},
   "outputs": [],
   "source": [
    "# 2. Describe some best practices for naming functions and variables in Python, including naming conventions and guidelines.\n",
    "\n",
    "'''Ans. Function: name should not be of any built in function, name should clearly explain\n",
    "the purpose of the function and should be of reasonable length, it should contain no spaces\n",
    "\n",
    "Variable: name should not start with digits, name should be relevant for the values to be\n",
    "assigned, Only allowed special character is '_', it should not have spaces. \n",
    "'''"
   ]
  }
 ],
 "metadata": {
  "kernelspec": {
   "display_name": "Python 3 (ipykernel)",
   "language": "python",
   "name": "python3"
  },
  "language_info": {
   "codemirror_mode": {
    "name": "ipython",
    "version": 3
   },
   "file_extension": ".py",
   "mimetype": "text/x-python",
   "name": "python",
   "nbconvert_exporter": "python",
   "pygments_lexer": "ipython3",
   "version": "3.11.4"
  }
 },
 "nbformat": 4,
 "nbformat_minor": 5
}
